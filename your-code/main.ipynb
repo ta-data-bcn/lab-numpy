{
 "cells": [
  {
   "cell_type": "markdown",
   "metadata": {},
   "source": [
    "# Intrduction to NumPy\n",
    "\n",
    "\n",
    "#### 1. Import NumPy under the name np."
   ]
  },
  {
   "cell_type": "code",
   "execution_count": 1,
   "metadata": {},
   "outputs": [],
   "source": [
    "# your code here\n",
    "import numpy as np"
   ]
  },
  {
   "cell_type": "markdown",
   "metadata": {},
   "source": [
    "#### 2. Print your NumPy version."
   ]
  },
  {
   "cell_type": "code",
   "execution_count": 2,
   "metadata": {},
   "outputs": [
    {
     "name": "stdout",
     "output_type": "stream",
     "text": [
      "1.18.1\n"
     ]
    }
   ],
   "source": [
    "# your code here\n",
    "print(np.__version__)"
   ]
  },
  {
   "cell_type": "markdown",
   "metadata": {},
   "source": [
    "#### 3. Generate a 2x3x5 3-dimensional array with random values. Assign the array to variable *a*.\n",
    "**Challenge**: there are at least three easy ways that use numpy to generate random arrays. How many ways can you find?"
   ]
  },
  {
   "cell_type": "code",
   "execution_count": 3,
   "metadata": {},
   "outputs": [
    {
     "data": {
      "text/plain": [
       "array([[[0.01220939, 0.62529012, 0.72378886, 0.5944553 , 0.50575717],\n",
       "        [0.03058006, 0.1966099 , 0.30382159, 0.85705019, 0.98497521],\n",
       "        [0.01203901, 0.57416368, 0.21630899, 0.93958719, 0.58787019]],\n",
       "\n",
       "       [[0.82740636, 0.88081538, 0.0076645 , 0.0503888 , 0.04757553],\n",
       "        [0.15650297, 0.94398332, 0.58457539, 0.08570187, 0.56390995],\n",
       "        [0.2688942 , 0.54505244, 0.98427693, 0.71334296, 0.09273993]]])"
      ]
     },
     "execution_count": 3,
     "metadata": {},
     "output_type": "execute_result"
    }
   ],
   "source": [
    "# Method 1\n",
    "a = np.random.random((2,3,5))\n",
    "a"
   ]
  },
  {
   "cell_type": "code",
   "execution_count": 4,
   "metadata": {},
   "outputs": [
    {
     "data": {
      "text/plain": [
       "array([[[ 0,  1,  2,  3,  4],\n",
       "        [ 5,  6,  7,  8,  9],\n",
       "        [10, 11, 12, 13, 14]],\n",
       "\n",
       "       [[15, 16, 17, 18, 19],\n",
       "        [20, 21, 22, 23, 24],\n",
       "        [25, 26, 27, 28, 29]]])"
      ]
     },
     "execution_count": 4,
     "metadata": {},
     "output_type": "execute_result"
    }
   ],
   "source": [
    "# Method 2\n",
    "a = np.arange(30).reshape(2,3,5)\n",
    "a"
   ]
  },
  {
   "cell_type": "code",
   "execution_count": 5,
   "metadata": {},
   "outputs": [
    {
     "data": {
      "text/plain": [
       "array([[[0.01220939, 0.62529012, 0.72378886, 0.5944553 , 0.50575717],\n",
       "        [0.03058006, 0.1966099 , 0.30382159, 0.85705019, 0.98497521],\n",
       "        [0.01203901, 0.57416368, 0.21630899, 0.93958719, 0.58787019]],\n",
       "\n",
       "       [[0.82740636, 0.88081538, 0.0076645 , 0.0503888 , 0.04757553],\n",
       "        [0.15650297, 0.94398332, 0.58457539, 0.08570187, 0.56390995],\n",
       "        [0.2688942 , 0.54505244, 0.98427693, 0.71334296, 0.09273993]]])"
      ]
     },
     "execution_count": 5,
     "metadata": {},
     "output_type": "execute_result"
    }
   ],
   "source": [
    "# Method 3\n",
    "a = np.empty((2,3,5))\n",
    "a"
   ]
  },
  {
   "cell_type": "markdown",
   "metadata": {},
   "source": [
    "#### 4. Print *a*.\n"
   ]
  },
  {
   "cell_type": "code",
   "execution_count": 6,
   "metadata": {},
   "outputs": [
    {
     "data": {
      "text/plain": [
       "array([[[0.01220939, 0.62529012, 0.72378886, 0.5944553 , 0.50575717],\n",
       "        [0.03058006, 0.1966099 , 0.30382159, 0.85705019, 0.98497521],\n",
       "        [0.01203901, 0.57416368, 0.21630899, 0.93958719, 0.58787019]],\n",
       "\n",
       "       [[0.82740636, 0.88081538, 0.0076645 , 0.0503888 , 0.04757553],\n",
       "        [0.15650297, 0.94398332, 0.58457539, 0.08570187, 0.56390995],\n",
       "        [0.2688942 , 0.54505244, 0.98427693, 0.71334296, 0.09273993]]])"
      ]
     },
     "execution_count": 6,
     "metadata": {},
     "output_type": "execute_result"
    }
   ],
   "source": [
    "# your code here\n",
    "a"
   ]
  },
  {
   "cell_type": "markdown",
   "metadata": {},
   "source": [
    "#### 5. Create a 5x2x3 3-dimensional array with all values equaling 1. Assign the array to variable *b*."
   ]
  },
  {
   "cell_type": "code",
   "execution_count": 7,
   "metadata": {},
   "outputs": [],
   "source": [
    "# your code here\n",
    "\n",
    "b = np.full((5,2,3),1)"
   ]
  },
  {
   "cell_type": "markdown",
   "metadata": {},
   "source": [
    "#### 6. Print *b*.\n"
   ]
  },
  {
   "cell_type": "code",
   "execution_count": 8,
   "metadata": {},
   "outputs": [
    {
     "data": {
      "text/plain": [
       "array([[[1, 1, 1],\n",
       "        [1, 1, 1]],\n",
       "\n",
       "       [[1, 1, 1],\n",
       "        [1, 1, 1]],\n",
       "\n",
       "       [[1, 1, 1],\n",
       "        [1, 1, 1]],\n",
       "\n",
       "       [[1, 1, 1],\n",
       "        [1, 1, 1]],\n",
       "\n",
       "       [[1, 1, 1],\n",
       "        [1, 1, 1]]])"
      ]
     },
     "execution_count": 8,
     "metadata": {},
     "output_type": "execute_result"
    }
   ],
   "source": [
    "# your code here\n",
    "b"
   ]
  },
  {
   "cell_type": "markdown",
   "metadata": {},
   "source": [
    "#### 7. Do *a* and *b* have the same size? How do you prove that in Python code?"
   ]
  },
  {
   "cell_type": "code",
   "execution_count": 9,
   "metadata": {},
   "outputs": [
    {
     "data": {
      "text/plain": [
       "True"
      ]
     },
     "execution_count": 9,
     "metadata": {},
     "output_type": "execute_result"
    }
   ],
   "source": [
    "# your code here\n",
    "a.size == b.size"
   ]
  },
  {
   "cell_type": "markdown",
   "metadata": {},
   "source": [
    "#### 8. Are you able to add *a* and *b*? Why or why not?\n"
   ]
  },
  {
   "cell_type": "code",
   "execution_count": 10,
   "metadata": {},
   "outputs": [],
   "source": [
    "# your answer here\n",
    "\n",
    "# You cannot add differently shaped arrays (even if they have the same size)"
   ]
  },
  {
   "cell_type": "markdown",
   "metadata": {},
   "source": [
    "#### 9. Transpose *b* so that it has the same structure of *a* (i.e. become a 2x3x5 array). Assign the transposed array to variable *c*."
   ]
  },
  {
   "cell_type": "code",
   "execution_count": 11,
   "metadata": {},
   "outputs": [
    {
     "data": {
      "text/plain": [
       "array([[[1, 1, 1, 1, 1],\n",
       "        [1, 1, 1, 1, 1],\n",
       "        [1, 1, 1, 1, 1]],\n",
       "\n",
       "       [[1, 1, 1, 1, 1],\n",
       "        [1, 1, 1, 1, 1],\n",
       "        [1, 1, 1, 1, 1]]])"
      ]
     },
     "execution_count": 11,
     "metadata": {},
     "output_type": "execute_result"
    }
   ],
   "source": [
    "# your code here\n",
    "\n",
    "c = b.transpose().reshape(2,3,5)\n",
    "c"
   ]
  },
  {
   "cell_type": "markdown",
   "metadata": {},
   "source": [
    "#### 10. Try to add *a* and *c*. Now it should work. Assign the sum to variable *d*. But why does it work now?"
   ]
  },
  {
   "cell_type": "code",
   "execution_count": 12,
   "metadata": {},
   "outputs": [
    {
     "data": {
      "text/plain": [
       "array([[[1.01220939, 1.62529012, 1.72378886, 1.5944553 , 1.50575717],\n",
       "        [1.03058006, 1.1966099 , 1.30382159, 1.85705019, 1.98497521],\n",
       "        [1.01203901, 1.57416368, 1.21630899, 1.93958719, 1.58787019]],\n",
       "\n",
       "       [[1.82740636, 1.88081538, 1.0076645 , 1.0503888 , 1.04757553],\n",
       "        [1.15650297, 1.94398332, 1.58457539, 1.08570187, 1.56390995],\n",
       "        [1.2688942 , 1.54505244, 1.98427693, 1.71334296, 1.09273993]]])"
      ]
     },
     "execution_count": 12,
     "metadata": {},
     "output_type": "execute_result"
    }
   ],
   "source": [
    "# your code/answer here\n",
    "d = a + c\n",
    "d"
   ]
  },
  {
   "cell_type": "markdown",
   "metadata": {},
   "source": [
    "#### 11. Print *a* and *d*. Notice the difference and relation of the two array in terms of the values? Explain."
   ]
  },
  {
   "cell_type": "code",
   "execution_count": 13,
   "metadata": {},
   "outputs": [
    {
     "name": "stdout",
     "output_type": "stream",
     "text": [
      "This is arraye 'a':\n",
      " [[[0.01220939 0.62529012 0.72378886 0.5944553  0.50575717]\n",
      "  [0.03058006 0.1966099  0.30382159 0.85705019 0.98497521]\n",
      "  [0.01203901 0.57416368 0.21630899 0.93958719 0.58787019]]\n",
      "\n",
      " [[0.82740636 0.88081538 0.0076645  0.0503888  0.04757553]\n",
      "  [0.15650297 0.94398332 0.58457539 0.08570187 0.56390995]\n",
      "  [0.2688942  0.54505244 0.98427693 0.71334296 0.09273993]]]\n",
      "This is arraye 'd':\n",
      " [[[1.01220939 1.62529012 1.72378886 1.5944553  1.50575717]\n",
      "  [1.03058006 1.1966099  1.30382159 1.85705019 1.98497521]\n",
      "  [1.01203901 1.57416368 1.21630899 1.93958719 1.58787019]]\n",
      "\n",
      " [[1.82740636 1.88081538 1.0076645  1.0503888  1.04757553]\n",
      "  [1.15650297 1.94398332 1.58457539 1.08570187 1.56390995]\n",
      "  [1.2688942  1.54505244 1.98427693 1.71334296 1.09273993]]]\n"
     ]
    }
   ],
   "source": [
    "# your code/answer here\n",
    "print(\"This is arraye 'a':\\n\", a)\n",
    "print(\"This is arraye 'd':\\n\", d)\n",
    "\n",
    "# The difference is array c where each element in the two arrays has a difference of 1"
   ]
  },
  {
   "cell_type": "markdown",
   "metadata": {},
   "source": [
    "#### 12. Multiply *a* and *c*. Assign the result to *e*."
   ]
  },
  {
   "cell_type": "code",
   "execution_count": 14,
   "metadata": {},
   "outputs": [
    {
     "data": {
      "text/plain": [
       "array([[[0.01220939, 0.62529012, 0.72378886, 0.5944553 , 0.50575717],\n",
       "        [0.03058006, 0.1966099 , 0.30382159, 0.85705019, 0.98497521],\n",
       "        [0.01203901, 0.57416368, 0.21630899, 0.93958719, 0.58787019]],\n",
       "\n",
       "       [[0.82740636, 0.88081538, 0.0076645 , 0.0503888 , 0.04757553],\n",
       "        [0.15650297, 0.94398332, 0.58457539, 0.08570187, 0.56390995],\n",
       "        [0.2688942 , 0.54505244, 0.98427693, 0.71334296, 0.09273993]]])"
      ]
     },
     "execution_count": 14,
     "metadata": {},
     "output_type": "execute_result"
    }
   ],
   "source": [
    "# your code here\n",
    "\n",
    "e = a * c\n",
    "e"
   ]
  },
  {
   "cell_type": "markdown",
   "metadata": {},
   "source": [
    "#### 13. Does *e* equal to *a*? Why or why not?\n"
   ]
  },
  {
   "cell_type": "code",
   "execution_count": 15,
   "metadata": {},
   "outputs": [],
   "source": [
    "# your code/answer here\n",
    "\n",
    "# Yes. e equals to a because we took each element in a and multiplied it by 1 (each element in c)"
   ]
  },
  {
   "cell_type": "markdown",
   "metadata": {},
   "source": [
    "#### 14. Identify the max, min, and mean values in *d*. Assign those values to variables *d_max*, *d_min* and *d_mean*."
   ]
  },
  {
   "cell_type": "code",
   "execution_count": 16,
   "metadata": {},
   "outputs": [
    {
     "name": "stdout",
     "output_type": "stream",
     "text": [
      "1.9849752102264095\n",
      "1.0076644994521993\n",
      "1.4639112456498997\n"
     ]
    }
   ],
   "source": [
    "# your code here\n",
    "d_max = np.amax(d)\n",
    "d_min = np.amin(d)\n",
    "d_mean = np.mean(d)\n",
    "\n",
    "print(d_max)\n",
    "print(d_min)\n",
    "print(d_mean)"
   ]
  },
  {
   "cell_type": "markdown",
   "metadata": {},
   "source": [
    "#### 15. Now we want to label the values in *d*. First create an empty array *f* with the same shape (i.e. 2x3x5) as *d* using `np.empty`.\n"
   ]
  },
  {
   "cell_type": "code",
   "execution_count": 17,
   "metadata": {},
   "outputs": [
    {
     "data": {
      "text/plain": [
       "array([[[0.01220939, 0.62529012, 0.72378886, 0.5944553 , 0.50575717],\n",
       "        [0.03058006, 0.1966099 , 0.30382159, 0.85705019, 0.98497521],\n",
       "        [0.01203901, 0.57416368, 0.21630899, 0.93958719, 0.58787019]],\n",
       "\n",
       "       [[0.82740636, 0.88081538, 0.0076645 , 0.0503888 , 0.04757553],\n",
       "        [0.15650297, 0.94398332, 0.58457539, 0.08570187, 0.56390995],\n",
       "        [0.2688942 , 0.54505244, 0.98427693, 0.71334296, 0.09273993]]])"
      ]
     },
     "execution_count": 17,
     "metadata": {},
     "output_type": "execute_result"
    }
   ],
   "source": [
    "# your code here\n",
    "\n",
    "f = np.empty((2,3,5))\n",
    "f"
   ]
  },
  {
   "cell_type": "markdown",
   "metadata": {},
   "source": [
    "#### 16. Populate the values in *f*. \n",
    "\n",
    "For each value in *d*, if it's larger than *d_min* but smaller than *d_mean*, assign 25 to the corresponding value in *f*. If a value in *d* is larger than *d_mean* but smaller than *d_max*, assign 75 to the corresponding value in *f*. If a value equals to *d_mean*, assign 50 to the corresponding value in *f*. Assign 0 to the corresponding value(s) in *f* for *d_min* in *d*. Assign 100 to the corresponding value(s) in *f* for *d_max* in *d*. In the end, f should have only the following values: 0, 25, 50, 75, and 100.\n",
    "\n",
    "**Note**: you don't have to use Numpy in this question."
   ]
  },
  {
   "cell_type": "code",
   "execution_count": 18,
   "metadata": {},
   "outputs": [
    {
     "data": {
      "text/plain": [
       "array([[[ 25,  75,  75,  75,  75],\n",
       "        [ 25,  25,  25,  75, 100],\n",
       "        [ 25,  75,  25,  75,  75]],\n",
       "\n",
       "       [[ 75,  75,   0,  25,  25],\n",
       "        [ 25,  75,  75,  25,  75],\n",
       "        [ 25,  75,  75,  75,  25]]])"
      ]
     },
     "execution_count": 18,
     "metadata": {},
     "output_type": "execute_result"
    }
   ],
   "source": [
    "# your code here\n",
    "\n",
    "# np.where((d > d_min) & (d < d_mean) ,25,d)\n",
    "# np.where((d > d_mean) & (d < d_max) ,75,d)\n",
    "# np.where(d == d_mean ,50,d)\n",
    "\n",
    "# I need to understand this better. \n",
    "f = [[[25 if d_mean>z>d_min else 75 if d_max>z>d_mean else 0 if z == d_min else 100 for z in y] for y in x]for x in d]\n",
    "np.array(f)"
   ]
  },
  {
   "cell_type": "markdown",
   "metadata": {},
   "source": [
    "#### 17. Print *d* and *f*. Do you have your expected *f*?\n",
    "For instance, if your *d* is:\n",
    "```python\n",
    "[[[1.85836099, 1.67064465, 1.62576044, 1.40243961, 1.88454931],\n",
    "[1.75354326, 1.69403643, 1.36729252, 1.61415071, 1.12104981],\n",
    "[1.72201435, 1.1862918 , 1.87078449, 1.7726778 , 1.88180042]],\n",
    "[[1.44747908, 1.31673383, 1.02000951, 1.52218947, 1.97066381],\n",
    "[1.79129243, 1.74983003, 1.96028037, 1.85166831, 1.65450881],\n",
    "[1.18068344, 1.9587381 , 1.00656599, 1.93402165, 1.73514584]]]\n",
    "```\n",
    "Your *f* should be:\n",
    "```python\n",
    "[[[ 75.,  75.,  75.,  25.,  75.],\n",
    "[ 75.,  75.,  25.,  25.,  25.],\n",
    "[ 75.,  25.,  75.,  75.,  75.]],\n",
    "[[ 25.,  25.,  25.,  25., 100.],\n",
    "[ 75.,  75.,  75.,  75.,  75.],\n",
    "[ 25.,  75.,   0.,  75.,  75.]]]\n",
    "```"
   ]
  },
  {
   "cell_type": "code",
   "execution_count": 19,
   "metadata": {},
   "outputs": [
    {
     "name": "stdout",
     "output_type": "stream",
     "text": [
      "[[[1.01220939 1.62529012 1.72378886 1.5944553  1.50575717]\n",
      "  [1.03058006 1.1966099  1.30382159 1.85705019 1.98497521]\n",
      "  [1.01203901 1.57416368 1.21630899 1.93958719 1.58787019]]\n",
      "\n",
      " [[1.82740636 1.88081538 1.0076645  1.0503888  1.04757553]\n",
      "  [1.15650297 1.94398332 1.58457539 1.08570187 1.56390995]\n",
      "  [1.2688942  1.54505244 1.98427693 1.71334296 1.09273993]]]\n"
     ]
    },
    {
     "data": {
      "text/plain": [
       "array([[[ 25,  75,  75,  75,  75],\n",
       "        [ 25,  25,  25,  75, 100],\n",
       "        [ 25,  75,  25,  75,  75]],\n",
       "\n",
       "       [[ 75,  75,   0,  25,  25],\n",
       "        [ 25,  75,  75,  25,  75],\n",
       "        [ 25,  75,  75,  75,  25]]])"
      ]
     },
     "execution_count": 19,
     "metadata": {},
     "output_type": "execute_result"
    }
   ],
   "source": [
    "# your code here\n",
    "print(d)\n",
    "np.array(f)"
   ]
  },
  {
   "cell_type": "markdown",
   "metadata": {},
   "source": [
    "#### 18. Bonus question: instead of using numbers (i.e. 0, 25, 50, 75, and 100), use string values  (\"A\", \"B\", \"C\", \"D\", and \"E\") to label the array elements. For the example above, the expected result is:\n",
    "\n",
    "```python\n",
    "[[[ 'D',  'D',  'D',  'B',  'D'],\n",
    "[ 'D',  'D',  'B',  'B',  'B'],\n",
    "[ 'D',  'B',  'D',  'D',  'D']],\n",
    "[[ 'B',  'B',  'B',  'B',  'E'],\n",
    "[ 'D',  'D',  'D',  'D',  'D'],\n",
    "[ 'B',  'D',   'A',  'D', 'D']]]\n",
    "```\n",
    "**Note**: you don't have to use Numpy in this question."
   ]
  },
  {
   "cell_type": "code",
   "execution_count": 20,
   "metadata": {},
   "outputs": [
    {
     "data": {
      "text/plain": [
       "array([[['A', 'B', 'B', 'B', 'B'],\n",
       "        ['A', 'A', 'A', 'B', 'D'],\n",
       "        ['A', 'B', 'A', 'B', 'B']],\n",
       "\n",
       "       [['B', 'B', 'C', 'A', 'A'],\n",
       "        ['A', 'B', 'B', 'A', 'B'],\n",
       "        ['A', 'B', 'B', 'B', 'A']]], dtype='<U1')"
      ]
     },
     "execution_count": 20,
     "metadata": {},
     "output_type": "execute_result"
    }
   ],
   "source": [
    "# your code here\n",
    "\n",
    "f = [[['A' if d_mean>z>d_min else 'B' if d_max>z>d_mean else 'C' if z == d_min else 'D' for z in y] for y in x]for x in d]\n",
    "np.array(f)"
   ]
  }
 ],
 "metadata": {
  "kernelspec": {
   "display_name": "Python 3",
   "language": "python",
   "name": "python3"
  },
  "language_info": {
   "codemirror_mode": {
    "name": "ipython",
    "version": 3
   },
   "file_extension": ".py",
   "mimetype": "text/x-python",
   "name": "python",
   "nbconvert_exporter": "python",
   "pygments_lexer": "ipython3",
   "version": "3.7.5"
  }
 },
 "nbformat": 4,
 "nbformat_minor": 2
}
