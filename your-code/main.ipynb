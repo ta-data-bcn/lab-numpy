{
 "cells": [
  {
   "cell_type": "markdown",
   "metadata": {},
   "source": [
    "# Intrduction to NumPy\n",
    "\n",
    "\n",
    "#### 1. Import NumPy under the name np."
   ]
  },
  {
   "cell_type": "code",
   "execution_count": 1,
   "metadata": {},
   "outputs": [],
   "source": [
    "import numpy as np"
   ]
  },
  {
   "cell_type": "markdown",
   "metadata": {},
   "source": [
    "#### 2. Print your NumPy version."
   ]
  },
  {
   "cell_type": "code",
   "execution_count": 2,
   "metadata": {},
   "outputs": [
    {
     "name": "stdout",
     "output_type": "stream",
     "text": [
      "1.18.1\n"
     ]
    }
   ],
   "source": [
    "print(np.__version__)"
   ]
  },
  {
   "cell_type": "markdown",
   "metadata": {},
   "source": [
    "#### 3. Generate a 2x3x5 3-dimensional array with random values. Assign the array to variable *a*.\n",
    "**Challenge**: there are at least three easy ways that use numpy to generate random arrays. How many ways can you find?"
   ]
  },
  {
   "cell_type": "code",
   "execution_count": 3,
   "metadata": {},
   "outputs": [],
   "source": [
    "#this one presnts the random sample created in numpy.random in a shape we define in rand\n",
    "a1 = np.random.rand(2,3,5)"
   ]
  },
  {
   "cell_type": "code",
   "execution_count": 4,
   "metadata": {},
   "outputs": [],
   "source": [
    "#okay it might seems stupid to use a method to show another method, but I only did it to comply with the dimension and randomness required.\n",
    "#this is more useful when you have a regular list or matrix and want to convert it to array to access the properties of this object.\n",
    "a=list(np.random.rand(2,3,5))\n",
    "a2 =np.array(a)\n",
    "\n",
    "\n"
   ]
  },
  {
   "cell_type": "code",
   "execution_count": 5,
   "metadata": {},
   "outputs": [],
   "source": [
    "#this one brings random integers between the first argument and the second in the form you determine in size\n",
    "a3 = np.random.randint(0,100,size=(2,3,5))"
   ]
  },
  {
   "cell_type": "markdown",
   "metadata": {},
   "source": [
    "#### 4. Print *a*.\n"
   ]
  },
  {
   "cell_type": "code",
   "execution_count": 6,
   "metadata": {},
   "outputs": [
    {
     "name": "stdout",
     "output_type": "stream",
     "text": [
      "[[[0.44386255 0.59280075 0.95177679 0.01659936 0.24450516]\n",
      "  [0.07547363 0.66603351 0.36397813 0.98952707 0.33681922]\n",
      "  [0.3976033  0.79763256 0.00508258 0.24220598 0.68601068]]\n",
      "\n",
      " [[0.0967911  0.99555664 0.97728043 0.06023924 0.43262347]\n",
      "  [0.23064803 0.03865229 0.2064927  0.63170967 0.94355492]\n",
      "  [0.4068735  0.14831318 0.69006861 0.20229258 0.04152234]]]\n",
      "[[[0.53425356 0.84716478 0.17145496 0.36943914 0.8293693 ]\n",
      "  [0.87160002 0.92005295 0.48181025 0.32345802 0.40986072]\n",
      "  [0.42274218 0.29874249 0.34355545 0.29908574 0.14455576]]\n",
      "\n",
      " [[0.94011348 0.51222757 0.5555766  0.23680441 0.93451375]\n",
      "  [0.00467996 0.49284263 0.72202636 0.83667933 0.10444459]\n",
      "  [0.19483058 0.59623414 0.98719222 0.85142693 0.27767307]]]\n",
      "[[[72 81  6 45  1]\n",
      "  [63 76 72 98 72]\n",
      "  [57 95  0 26 80]]\n",
      "\n",
      " [[64 73 89 24 80]\n",
      "  [53 41 53 38 99]\n",
      "  [59 88 93 38 29]]]\n"
     ]
    }
   ],
   "source": [
    "print(a1)\n",
    "\n",
    "print(a2)\n",
    "\n",
    "print(a3)"
   ]
  },
  {
   "cell_type": "markdown",
   "metadata": {},
   "source": [
    "#### 5. Create a 5x2x3 3-dimensional array with all values equaling 1. Assign the array to variable *b*."
   ]
  },
  {
   "cell_type": "code",
   "execution_count": 7,
   "metadata": {},
   "outputs": [],
   "source": [
    "b = np.ones((5,3,2))"
   ]
  },
  {
   "cell_type": "markdown",
   "metadata": {},
   "source": [
    "#### 6. Print *b*.\n"
   ]
  },
  {
   "cell_type": "code",
   "execution_count": 8,
   "metadata": {},
   "outputs": [
    {
     "name": "stdout",
     "output_type": "stream",
     "text": [
      "[[[1. 1.]\n",
      "  [1. 1.]\n",
      "  [1. 1.]]\n",
      "\n",
      " [[1. 1.]\n",
      "  [1. 1.]\n",
      "  [1. 1.]]\n",
      "\n",
      " [[1. 1.]\n",
      "  [1. 1.]\n",
      "  [1. 1.]]\n",
      "\n",
      " [[1. 1.]\n",
      "  [1. 1.]\n",
      "  [1. 1.]]\n",
      "\n",
      " [[1. 1.]\n",
      "  [1. 1.]\n",
      "  [1. 1.]]]\n"
     ]
    }
   ],
   "source": [
    "print(b)"
   ]
  },
  {
   "cell_type": "markdown",
   "metadata": {},
   "source": [
    "#### 7. Do *a* and *b* have the same size? How do you prove that in Python code?"
   ]
  },
  {
   "cell_type": "code",
   "execution_count": 9,
   "metadata": {},
   "outputs": [
    {
     "name": "stdout",
     "output_type": "stream",
     "text": [
      "30\n",
      "30\n"
     ]
    }
   ],
   "source": [
    "print(np.size(a1))\n",
    "print(np.size(b))"
   ]
  },
  {
   "cell_type": "markdown",
   "metadata": {},
   "source": [
    "#### 8. Are you able to add *a* and *b*? Why or why not?\n"
   ]
  },
  {
   "cell_type": "markdown",
   "metadata": {},
   "source": [
    "No, because the broadcast rules do not allow for different shapes to operate toghether"
   ]
  },
  {
   "cell_type": "code",
   "execution_count": 10,
   "metadata": {},
   "outputs": [
    {
     "data": {
      "text/plain": [
       "'operands could not be broadcast together with shapes (2,3,5) (5,2,3) '"
      ]
     },
     "execution_count": 10,
     "metadata": {},
     "output_type": "execute_result"
    }
   ],
   "source": [
    "#c=a1+b\n",
    "#print(c)\n",
    "'''operands could not be broadcast together with shapes (2,3,5) (5,2,3) '''\n",
    "\n"
   ]
  },
  {
   "cell_type": "markdown",
   "metadata": {},
   "source": [
    "#### 9. Transpose *b* so that it has the same structure of *a* (i.e. become a 2x3x5 array). Assign the transposed array to variable *c*."
   ]
  },
  {
   "cell_type": "code",
   "execution_count": 11,
   "metadata": {},
   "outputs": [
    {
     "name": "stdout",
     "output_type": "stream",
     "text": [
      "[[[1. 1. 1. 1. 1.]\n",
      "  [1. 1. 1. 1. 1.]\n",
      "  [1. 1. 1. 1. 1.]]\n",
      "\n",
      " [[1. 1. 1. 1. 1.]\n",
      "  [1. 1. 1. 1. 1.]\n",
      "  [1. 1. 1. 1. 1.]]]\n"
     ]
    }
   ],
   "source": [
    "c=np.transpose(b)\n",
    "print(c)"
   ]
  },
  {
   "cell_type": "markdown",
   "metadata": {},
   "source": [
    "#### 10. Try to add *a* and *c*. Now it should work. Assign the sum to variable *d*. But why does it work now?"
   ]
  },
  {
   "cell_type": "markdown",
   "metadata": {},
   "source": [
    "It works now because they have the same dimensions(shape)."
   ]
  },
  {
   "cell_type": "code",
   "execution_count": 12,
   "metadata": {},
   "outputs": [
    {
     "name": "stdout",
     "output_type": "stream",
     "text": [
      "[[[1.44386255 1.59280075 1.95177679 1.01659936 1.24450516]\n",
      "  [1.07547363 1.66603351 1.36397813 1.98952707 1.33681922]\n",
      "  [1.3976033  1.79763256 1.00508258 1.24220598 1.68601068]]\n",
      "\n",
      " [[1.0967911  1.99555664 1.97728043 1.06023924 1.43262347]\n",
      "  [1.23064803 1.03865229 1.2064927  1.63170967 1.94355492]\n",
      "  [1.4068735  1.14831318 1.69006861 1.20229258 1.04152234]]]\n"
     ]
    }
   ],
   "source": [
    "d = a1+c\n",
    "print(d)"
   ]
  },
  {
   "cell_type": "markdown",
   "metadata": {},
   "source": [
    "#### 11. Print *a* and *d*. Notice the difference and relation of the two array in terms of the values? Explain."
   ]
  },
  {
   "cell_type": "markdown",
   "metadata": {},
   "source": [
    "The only diference is that d  >  a in exactly 1 number wich is the matrix c addition"
   ]
  },
  {
   "cell_type": "code",
   "execution_count": 13,
   "metadata": {},
   "outputs": [
    {
     "name": "stdout",
     "output_type": "stream",
     "text": [
      "[[[0.44386255 0.59280075 0.95177679 0.01659936 0.24450516]\n",
      "  [0.07547363 0.66603351 0.36397813 0.98952707 0.33681922]\n",
      "  [0.3976033  0.79763256 0.00508258 0.24220598 0.68601068]]\n",
      "\n",
      " [[0.0967911  0.99555664 0.97728043 0.06023924 0.43262347]\n",
      "  [0.23064803 0.03865229 0.2064927  0.63170967 0.94355492]\n",
      "  [0.4068735  0.14831318 0.69006861 0.20229258 0.04152234]]]\n",
      "[[[1.44386255 1.59280075 1.95177679 1.01659936 1.24450516]\n",
      "  [1.07547363 1.66603351 1.36397813 1.98952707 1.33681922]\n",
      "  [1.3976033  1.79763256 1.00508258 1.24220598 1.68601068]]\n",
      "\n",
      " [[1.0967911  1.99555664 1.97728043 1.06023924 1.43262347]\n",
      "  [1.23064803 1.03865229 1.2064927  1.63170967 1.94355492]\n",
      "  [1.4068735  1.14831318 1.69006861 1.20229258 1.04152234]]]\n"
     ]
    }
   ],
   "source": [
    "print(a1)\n",
    "print(d)"
   ]
  },
  {
   "cell_type": "markdown",
   "metadata": {},
   "source": [
    "#### 12. Multiply *a* and *c*. Assign the result to *e*."
   ]
  },
  {
   "cell_type": "code",
   "execution_count": 14,
   "metadata": {},
   "outputs": [],
   "source": [
    "e = a1*c"
   ]
  },
  {
   "cell_type": "markdown",
   "metadata": {},
   "source": [
    "#### 13. Does *e* equal to *a*? Why or why not?\n"
   ]
  },
  {
   "cell_type": "markdown",
   "metadata": {},
   "source": [
    "It is exactly the same because a matrix multiplied by the matrix of 1s will always be equal to itself."
   ]
  },
  {
   "cell_type": "code",
   "execution_count": 15,
   "metadata": {},
   "outputs": [
    {
     "name": "stdout",
     "output_type": "stream",
     "text": [
      "[[[0.44386255 0.59280075 0.95177679 0.01659936 0.24450516]\n",
      "  [0.07547363 0.66603351 0.36397813 0.98952707 0.33681922]\n",
      "  [0.3976033  0.79763256 0.00508258 0.24220598 0.68601068]]\n",
      "\n",
      " [[0.0967911  0.99555664 0.97728043 0.06023924 0.43262347]\n",
      "  [0.23064803 0.03865229 0.2064927  0.63170967 0.94355492]\n",
      "  [0.4068735  0.14831318 0.69006861 0.20229258 0.04152234]]]\n"
     ]
    }
   ],
   "source": [
    "print(e)"
   ]
  },
  {
   "cell_type": "markdown",
   "metadata": {},
   "source": [
    "#### 14. Identify the max, min, and mean values in *d*. Assign those values to variables *d_max*, *d_min* and *d_mean*."
   ]
  },
  {
   "cell_type": "code",
   "execution_count": 16,
   "metadata": {},
   "outputs": [
    {
     "name": "stdout",
     "output_type": "stream",
     "text": [
      "1.9955566392779727\n",
      "1.005082575181052\n",
      "1.4304176655079714\n"
     ]
    }
   ],
   "source": [
    "d_max = np.amax(d)\n",
    "d_min = np.amin(d)\n",
    "d_mean = np.average(d)\n",
    "print(d_max)\n",
    "print(d_min)\n",
    "print(d_mean)"
   ]
  },
  {
   "cell_type": "markdown",
   "metadata": {},
   "source": [
    "#### 15. Now we want to label the values in *d*. First create an empty array *f* with the same shape (i.e. 2x3x5) as *d* using `np.empty`.\n"
   ]
  },
  {
   "cell_type": "code",
   "execution_count": 40,
   "metadata": {},
   "outputs": [],
   "source": [
    "empty_array=np.empty((2,3,5))\n"
   ]
  },
  {
   "cell_type": "markdown",
   "metadata": {},
   "source": [
    "#### 16. Populate the values in *f*. \n",
    "\n",
    "For each value in *d*, if it's larger than *d_min* but smaller than *d_mean*, assign 25 to the corresponding value in *f*. If a value in *d* is larger than *d_mean* but smaller than *d_max*, assign 75 to the corresponding value in *f*. If a value equals to *d_mean*, assign 50 to the corresponding value in *f*. Assign 0 to the corresponding value(s) in *f* for *d_min* in *d*. Assign 100 to the corresponding value(s) in *f* for *d_max* in *d*. In the end, f should have only the following values: 0, 25, 50, 75, and 100.\n",
    "\n",
    "**Note**: you don't have to use Numpy in this question."
   ]
  },
  {
   "cell_type": "code",
   "execution_count": 52,
   "metadata": {},
   "outputs": [
    {
     "name": "stdout",
     "output_type": "stream",
     "text": [
      "[[[75, 75, 75, 25, 25], [25, 75, 25, 75, 25], [25, 75, 0, 25, 75]], [[25, 100, 75, 25, 75], [25, 25, 25, 75, 75], [25, 25, 75, 25, 25]]]\n"
     ]
    }
   ],
   "source": [
    "f=[[[0,0,0,0,0],\n",
    "    [0,0,0,0,0],\n",
    "    [0,0,0,0,0]],\n",
    "   [[0,0,0,0,0],\n",
    "    [0,0,0,0,0],\n",
    "    [0,0,0,0,0]]]\n",
    "\n",
    "for index,matrix in enumerate(d):\n",
    "    for subindex,lst in  enumerate(matrix):\n",
    "        for metaindex,n in enumerate(lst):\n",
    "            num1 = d[index][subindex][metaindex]\n",
    "            if  d_min < num1 < d_mean:\n",
    "                f[index][subindex][metaindex] = 25\n",
    "            elif  d_mean < num1 < d_max:\n",
    "                f[index][subindex][metaindex] = 75\n",
    "            elif  num1 == d_mean:\n",
    "                f[index][subindex][metaindex] = 50\n",
    "            elif  num1 == d_min:\n",
    "                f[index][subindex][metaindex] = 0\n",
    "            else:\n",
    "                f[index][subindex][metaindex] = 100\n",
    "np.array(f)\n",
    "print(f)\n",
    "            \n",
    "            \n",
    "        \n",
    "    "
   ]
  },
  {
   "cell_type": "markdown",
   "metadata": {},
   "source": [
    "#### 17. Print *d* and *f*. Do you have your expected *f*?\n",
    "For instance, if your *d* is:\n",
    "```python\n",
    "[[[1.85836099, 1.67064465, 1.62576044, 1.40243961, 1.88454931],\n",
    "[1.75354326, 1.69403643, 1.36729252, 1.61415071, 1.12104981],\n",
    "[1.72201435, 1.1862918 , 1.87078449, 1.7726778 , 1.88180042]],\n",
    "[[1.44747908, 1.31673383, 1.02000951, 1.52218947, 1.97066381],\n",
    "[1.79129243, 1.74983003, 1.96028037, 1.85166831, 1.65450881],\n",
    "[1.18068344, 1.9587381 , 1.00656599, 1.93402165, 1.73514584]]]\n",
    "```\n",
    "Your *f* should be:\n",
    "```python\n",
    "[[[ 75.,  75.,  75.,  25.,  75.],\n",
    "[ 75.,  75.,  25.,  25.,  25.],\n",
    "[ 75.,  25.,  75.,  75.,  75.]],\n",
    "[[ 25.,  25.,  25.,  25., 100.],\n",
    "[ 75.,  75.,  75.,  75.,  75.],\n",
    "[ 25.,  75.,   0.,  75.,  75.]]]\n",
    "```"
   ]
  },
  {
   "cell_type": "code",
   "execution_count": 50,
   "metadata": {},
   "outputs": [
    {
     "name": "stdout",
     "output_type": "stream",
     "text": [
      "[[[1.44386255 1.59280075 1.95177679 1.01659936 1.24450516]\n",
      "  [1.07547363 1.66603351 1.36397813 1.98952707 1.33681922]\n",
      "  [1.3976033  1.79763256 1.00508258 1.24220598 1.68601068]]\n",
      "\n",
      " [[1.0967911  1.99555664 1.97728043 1.06023924 1.43262347]\n",
      "  [1.23064803 1.03865229 1.2064927  1.63170967 1.94355492]\n",
      "  [1.4068735  1.14831318 1.69006861 1.20229258 1.04152234]]]\n",
      "[[[75, 75, 75, 25, 25], [25, 75, 25, 75, 25], [25, 75, 0, 25, 75]], [[25, 100, 75, 25, 75], [25, 25, 25, 75, 75], [25, 25, 75, 25, 25]]]\n"
     ]
    }
   ],
   "source": [
    "print(d)\n",
    "\n",
    "# Let's hope it makes sense\n",
    "\n",
    "print(f)"
   ]
  },
  {
   "cell_type": "markdown",
   "metadata": {},
   "source": [
    "#### 18. Bonus question: instead of using numbers (i.e. 0, 25, 50, 75, and 100), use string values  (\"A\", \"B\", \"C\", \"D\", and \"E\") to label the array elements. For the example above, the expected result is:\n",
    "\n",
    "```python\n",
    "[[[ 'D',  'D',  'D',  'B',  'D'],\n",
    "[ 'D',  'D',  'B',  'B',  'B'],\n",
    "[ 'D',  'B',  'D',  'D',  'D']],\n",
    "[[ 'B',  'B',  'B',  'B',  'E'],\n",
    "[ 'D',  'D',  'D',  'D',  'D'],\n",
    "[ 'B',  'D',   'A',  'D', 'D']]]\n",
    "```\n",
    "**Note**: you don't have to use Numpy in this question."
   ]
  },
  {
   "cell_type": "code",
   "execution_count": 53,
   "metadata": {},
   "outputs": [
    {
     "name": "stdout",
     "output_type": "stream",
     "text": [
      "[[['B', 'B', 'B', 'A', 'A'], ['A', 'B', 'A', 'B', 'A'], ['A', 'B', 'D', 'A', 'B']], [['A', 'E', 'B', 'A', 'B'], ['A', 'A', 'A', 'B', 'B'], ['A', 'A', 'B', 'A', 'A']]]\n"
     ]
    }
   ],
   "source": [
    "j=[[[0,0,0,0,0],\n",
    "    [0,0,0,0,0],\n",
    "    [0,0,0,0,0]],\n",
    "   [[0,0,0,0,0],\n",
    "    [0,0,0,0,0],\n",
    "    [0,0,0,0,0]]]\n",
    "\n",
    "for index,matrix in enumerate(d):\n",
    "    for subindex,lst in  enumerate(matrix):\n",
    "        for metaindex,n in enumerate(lst):\n",
    "            num1 = d[index][subindex][metaindex]\n",
    "            if  d_min < num1 < d_mean:\n",
    "                j[index][subindex][metaindex] = 'A'\n",
    "            elif  d_mean < num1 < d_max:\n",
    "                j[index][subindex][metaindex] = 'B'\n",
    "            elif  num1 == d_mean:\n",
    "                j[index][subindex][metaindex] = 'C'\n",
    "            elif  num1 == d_min:\n",
    "                j[index][subindex][metaindex] = 'D'\n",
    "            else:\n",
    "                j[index][subindex][metaindex] = 'E'\n",
    "np.array(j)\n",
    "print(j)"
   ]
  }
 ],
 "metadata": {
  "kernelspec": {
   "display_name": "Python 3",
   "language": "python",
   "name": "python3"
  },
  "language_info": {
   "codemirror_mode": {
    "name": "ipython",
    "version": 3
   },
   "file_extension": ".py",
   "mimetype": "text/x-python",
   "name": "python",
   "nbconvert_exporter": "python",
   "pygments_lexer": "ipython3",
   "version": "3.7.6"
  }
 },
 "nbformat": 4,
 "nbformat_minor": 2
}
