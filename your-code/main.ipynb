{
 "cells": [
  {
   "cell_type": "markdown",
   "metadata": {},
   "source": [
    "# Intrduction to NumPy\n",
    "\n",
    "\n",
    "#### 1. Import NumPy under the name np."
   ]
  },
  {
   "cell_type": "code",
   "execution_count": 1,
   "metadata": {},
   "outputs": [],
   "source": [
    "# your code here\n",
    "import numpy as np\n"
   ]
  },
  {
   "cell_type": "markdown",
   "metadata": {},
   "source": [
    "#### 2. Print your NumPy version."
   ]
  },
  {
   "cell_type": "code",
   "execution_count": 2,
   "metadata": {},
   "outputs": [
    {
     "data": {
      "text/plain": [
       "'1.19.2'"
      ]
     },
     "execution_count": 2,
     "metadata": {},
     "output_type": "execute_result"
    }
   ],
   "source": [
    "# your code here\n",
    "np.__version__"
   ]
  },
  {
   "cell_type": "markdown",
   "metadata": {},
   "source": [
    "#### 3. Generate a 2x3x5 3-dimensional array with random values. Assign the array to variable *a*.\n",
    "**Challenge**: there are at least three easy ways that use numpy to generate random arrays. How many ways can you find?\n",
    "**Hint**: look for `np.random` and search for functions you want to use.\n",
    "\n",
    "The outcomes should look like:\n",
    "```python\n",
    "array([[[ 0.00453782,  0.47251152,  0.65513617,  0.89370211,  0.91464052],\n",
    "        [ 0.35606786,  0.68149792,  0.37211451,  0.2493357 ,  0.66608051],\n",
    "        [ 0.71459267,  0.68722356,  0.20916865,  0.98338451,  0.28154909]],\n",
    "\n",
    "       [[ 0.83752622,  0.12378486,  0.77380373,  0.43270332,  0.26392168],\n",
    "        [ 0.02528723,  0.5352501 ,  0.35521185,  0.05175587,  0.64898055],\n",
    "        [ 0.52616383,  0.94453068,  0.17055731,  0.15094225,  0.63495276]]])\n",
    "```\n",
    "*The values do not need to be the same. Remember that you are creating random numbers.*"
   ]
  },
  {
   "cell_type": "code",
   "execution_count": 30,
   "metadata": {},
   "outputs": [
    {
     "data": {
      "text/plain": [
       "array([[[0.82695478, 0.86534605, 0.59689919, 0.95075088, 0.53434247],\n",
       "        [0.68055634, 0.11847302, 0.52311489, 0.79637038, 0.92158473],\n",
       "        [0.97061576, 0.87209177, 0.66917487, 0.66466117, 0.99860922]],\n",
       "\n",
       "       [[0.51714911, 0.05162583, 0.20852069, 0.77498067, 0.51555909],\n",
       "        [0.25960424, 0.6361876 , 0.78846388, 0.57277119, 0.23322988],\n",
       "        [0.52042351, 0.2877553 , 0.15272853, 0.28861159, 0.78563401]]])"
      ]
     },
     "execution_count": 30,
     "metadata": {},
     "output_type": "execute_result"
    }
   ],
   "source": [
    "# Method 1\n",
    "np.random.seed=123\n",
    "\n",
    "a=np.random.random(size=(2,3,5))\n",
    "a"
   ]
  },
  {
   "cell_type": "code",
   "execution_count": 4,
   "metadata": {},
   "outputs": [
    {
     "data": {
      "text/plain": [
       "array([[[0.7265026 , 0.37996849, 0.63467292, 0.76813128, 0.79810029],\n",
       "        [0.05147285, 0.35663879, 0.29875776, 0.71582846, 0.56269381],\n",
       "        [0.24714222, 0.17103818, 0.63288374, 0.50887264, 0.78574185]],\n",
       "\n",
       "       [[0.5024747 , 0.15831399, 0.81030545, 0.82534321, 0.6610081 ],\n",
       "        [0.86793438, 0.81552197, 0.02439827, 0.72029599, 0.09375104],\n",
       "        [0.47549499, 0.62764443, 0.26609508, 0.08793836, 0.98415157]]])"
      ]
     },
     "execution_count": 4,
     "metadata": {},
     "output_type": "execute_result"
    }
   ],
   "source": [
    "# Method 2\n",
    "np.random.seed=123\n",
    "# Method 1\n",
    "b=np.random.rand(2,3,5)\n",
    "#c=np.random.random(2)\n",
    "#z=b+c\n",
    "#a=np.random.rand(size=())\n",
    "b"
   ]
  },
  {
   "cell_type": "code",
   "execution_count": 5,
   "metadata": {},
   "outputs": [
    {
     "data": {
      "text/plain": [
       "array([[0, 1, 0, 1, 0],\n",
       "       [0, 0, 0, 1, 1],\n",
       "       [1, 0, 0, 0, 0]])"
      ]
     },
     "execution_count": 5,
     "metadata": {},
     "output_type": "execute_result"
    }
   ],
   "source": []
  },
  {
   "cell_type": "code",
   "execution_count": 33,
   "metadata": {},
   "outputs": [
    {
     "name": "stdout",
     "output_type": "stream",
     "text": [
      "[[1 0 0 0 1]\n",
      " [0 0 0 1 1]\n",
      " [1 0 0 0 0]]\n",
      "[26 18  7 14 27]\n"
     ]
    }
   ],
   "source": [
    "#this does not make what the ex asks for:\n",
    "#bc it is not exactly a different method\n",
    "#np.random.randint(1,31).reshape(2,3,5)\n",
    "#np.random.randint(1,31).reshape(2,3,5)\n",
    "\n",
    "#example of randint 1: \n",
    "#np.random.randint(randint(low, high=None, size=None, dtype=int))\n",
    "exa_c=np.random.randint(2, size = (3, 5)) \n",
    "#example of randit 2: From 2 to 30, five values\n",
    "exa_c_two=np.random.randint(2,30,5)\n",
    "print(exa_c)\n",
    "print(exa_c_two)"
   ]
  },
  {
   "cell_type": "code",
   "execution_count": 34,
   "metadata": {},
   "outputs": [
    {
     "data": {
      "text/plain": [
       "array([[[74, 60, 94, 18, 95],\n",
       "        [77, 49,  1, 27, 15],\n",
       "        [ 6, 78, 60, 84, 51]],\n",
       "\n",
       "       [[38, 55, 18, 32, 47],\n",
       "        [93, 98, 81, 88, 55],\n",
       "        [48, 75, 59, 96, 33]]])"
      ]
     },
     "execution_count": 34,
     "metadata": {},
     "output_type": "execute_result"
    }
   ],
   "source": [
    "# Method 3\n",
    "c=np.random.randint(1,100, size=(2,3,5))\n",
    "c"
   ]
  },
  {
   "cell_type": "code",
   "execution_count": 35,
   "metadata": {},
   "outputs": [
    {
     "data": {
      "text/plain": [
       "array([[[ 1,  2,  3,  4,  5],\n",
       "        [ 6,  7,  8,  9, 10],\n",
       "        [11, 12, 13, 14, 15]],\n",
       "\n",
       "       [[16, 17, 18, 19, 20],\n",
       "        [21, 22, 23, 24, 25],\n",
       "        [26, 27, 28, 29, 30]]])"
      ]
     },
     "execution_count": 35,
     "metadata": {},
     "output_type": "execute_result"
    }
   ],
   "source": [
    "#different thing:\n",
    "d=np.arange(1,31).reshape(2,3,5)\n",
    "d"
   ]
  },
  {
   "cell_type": "markdown",
   "metadata": {},
   "source": [
    "#### 4. Print *a*.\n"
   ]
  },
  {
   "cell_type": "code",
   "execution_count": 40,
   "metadata": {},
   "outputs": [
    {
     "name": "stdout",
     "output_type": "stream",
     "text": [
      "[[[0.96805833 0.80951183 0.32195225 0.96488408 0.75286687]\n",
      "  [0.16228005 0.22436844 0.41020014 0.63546916 0.06597468]\n",
      "  [0.27986688 0.84078566 0.4869353  0.027745   0.34006973]]\n",
      "\n",
      " [[0.81455218 0.92736488 0.54801002 0.73273392 0.40391896]\n",
      "  [0.81308921 0.11380913 0.277929   0.48625044 0.26215911]\n",
      "  [0.56542432 0.36875674 0.49283689 0.21994828 0.78047249]]]\n"
     ]
    }
   ],
   "source": [
    "# your code here\n",
    "a=np.random.random(size=(2,3,5))\n",
    "\n",
    "print(a)"
   ]
  },
  {
   "cell_type": "markdown",
   "metadata": {},
   "source": [
    "#### 5. Create a 5x2x3 3-dimensional array with all values equaling 1. Assign the array to variable *b*.\n",
    "\n",
    "The outcome should look like:\n",
    "```python\n",
    "[[[ 1.  1.  1.]\n",
    "  [ 1.  1.  1.]]\n",
    "\n",
    " [[ 1.  1.  1.]\n",
    "  [ 1.  1.  1.]]\n",
    "\n",
    " [[ 1.  1.  1.]\n",
    "  [ 1.  1.  1.]]\n",
    "\n",
    " [[ 1.  1.  1.]\n",
    "  [ 1.  1.  1.]]\n",
    "\n",
    " [[ 1.  1.  1.]\n",
    "  [ 1.  1.  1.]]]\n",
    "```"
   ]
  },
  {
   "cell_type": "code",
   "execution_count": 41,
   "metadata": {},
   "outputs": [],
   "source": [
    "# your code here\n",
    "b=np.random.randint(1,2, size=(5,2,3))\n",
    "\n",
    "#print(b)"
   ]
  },
  {
   "cell_type": "markdown",
   "metadata": {},
   "source": [
    "#### 6. Print *b*.\n"
   ]
  },
  {
   "cell_type": "code",
   "execution_count": 42,
   "metadata": {},
   "outputs": [
    {
     "name": "stdout",
     "output_type": "stream",
     "text": [
      "[[[1 1 1]\n",
      "  [1 1 1]]\n",
      "\n",
      " [[1 1 1]\n",
      "  [1 1 1]]\n",
      "\n",
      " [[1 1 1]\n",
      "  [1 1 1]]\n",
      "\n",
      " [[1 1 1]\n",
      "  [1 1 1]]\n",
      "\n",
      " [[1 1 1]\n",
      "  [1 1 1]]]\n"
     ]
    }
   ],
   "source": [
    "# your code here\n",
    "print(b)"
   ]
  },
  {
   "cell_type": "markdown",
   "metadata": {},
   "source": [
    "#### 7. Do *a* and *b* have the same size? How do you prove that in Python code?"
   ]
  },
  {
   "cell_type": "code",
   "execution_count": 43,
   "metadata": {},
   "outputs": [
    {
     "data": {
      "text/plain": [
       "30"
      ]
     },
     "execution_count": 43,
     "metadata": {},
     "output_type": "execute_result"
    }
   ],
   "source": [
    "# your code here\n",
    "a.size"
   ]
  },
  {
   "cell_type": "code",
   "execution_count": 44,
   "metadata": {},
   "outputs": [
    {
     "data": {
      "text/plain": [
       "30"
      ]
     },
     "execution_count": 44,
     "metadata": {},
     "output_type": "execute_result"
    }
   ],
   "source": [
    "b.size"
   ]
  },
  {
   "cell_type": "code",
   "execution_count": 45,
   "metadata": {},
   "outputs": [
    {
     "name": "stdout",
     "output_type": "stream",
     "text": [
      "same size: 30\n"
     ]
    }
   ],
   "source": [
    "if a.size==b.size:\n",
    "    print(\"same size:\", a.size)\n",
    "else:\n",
    "    print(\"diferent sizes\")"
   ]
  },
  {
   "cell_type": "markdown",
   "metadata": {},
   "source": [
    "#### 8. Are you able to add *a* and *b*? Why or why not?\n"
   ]
  },
  {
   "cell_type": "code",
   "execution_count": 46,
   "metadata": {},
   "outputs": [
    {
     "ename": "ValueError",
     "evalue": "operands could not be broadcast together with shapes (2,3,5) (5,2,3) ",
     "output_type": "error",
     "traceback": [
      "\u001b[0;31m---------------------------------------------------------------------------\u001b[0m",
      "\u001b[0;31mValueError\u001b[0m                                Traceback (most recent call last)",
      "\u001b[0;32m<ipython-input-46-d6537e4cb381>\u001b[0m in \u001b[0;36m<module>\u001b[0;34m\u001b[0m\n\u001b[1;32m      1\u001b[0m \u001b[0;31m# your answer here\u001b[0m\u001b[0;34m\u001b[0m\u001b[0;34m\u001b[0m\u001b[0;34m\u001b[0m\u001b[0m\n\u001b[0;32m----> 2\u001b[0;31m \u001b[0ma\u001b[0m\u001b[0;34m+\u001b[0m\u001b[0mb\u001b[0m\u001b[0;34m\u001b[0m\u001b[0;34m\u001b[0m\u001b[0m\n\u001b[0m\u001b[1;32m      3\u001b[0m \u001b[0;31m# operands could not be broadcast together with shapes (2,3,5) (5,2,3)\u001b[0m\u001b[0;34m\u001b[0m\u001b[0;34m\u001b[0m\u001b[0;34m\u001b[0m\u001b[0m\n",
      "\u001b[0;31mValueError\u001b[0m: operands could not be broadcast together with shapes (2,3,5) (5,2,3) "
     ]
    }
   ],
   "source": [
    "# your answer here\n",
    "a+b\n",
    "# operands could not be broadcast together with shapes (2,3,5) (5,2,3)"
   ]
  },
  {
   "cell_type": "markdown",
   "metadata": {},
   "source": [
    "#### 9. Transpose *b* so that it has the same structure of *a* (i.e. become a 2x3x5 array). Assign the transposed array to variable *c*.\n",
    "\n",
    "**Hint**: search for `np.transpose`"
   ]
  },
  {
   "cell_type": "code",
   "execution_count": 47,
   "metadata": {},
   "outputs": [
    {
     "data": {
      "text/plain": [
       "array([[[1, 1],\n",
       "        [1, 1],\n",
       "        [1, 1]],\n",
       "\n",
       "       [[1, 1],\n",
       "        [1, 1],\n",
       "        [1, 1]],\n",
       "\n",
       "       [[1, 1],\n",
       "        [1, 1],\n",
       "        [1, 1]],\n",
       "\n",
       "       [[1, 1],\n",
       "        [1, 1],\n",
       "        [1, 1]],\n",
       "\n",
       "       [[1, 1],\n",
       "        [1, 1],\n",
       "        [1, 1]]])"
      ]
     },
     "execution_count": 47,
     "metadata": {},
     "output_type": "execute_result"
    }
   ],
   "source": [
    "# your code here\n",
    "#Change b bc as it was defined it could not be transpose and be the same as a:\n",
    "b=np.random.randint(1,2, size=(5,3,2)) \n",
    "b"
   ]
  },
  {
   "cell_type": "code",
   "execution_count": 48,
   "metadata": {},
   "outputs": [
    {
     "data": {
      "text/plain": [
       "array([[[1, 1, 1, 1, 1],\n",
       "        [1, 1, 1, 1, 1],\n",
       "        [1, 1, 1, 1, 1]],\n",
       "\n",
       "       [[1, 1, 1, 1, 1],\n",
       "        [1, 1, 1, 1, 1],\n",
       "        [1, 1, 1, 1, 1]]])"
      ]
     },
     "execution_count": 48,
     "metadata": {},
     "output_type": "execute_result"
    }
   ],
   "source": [
    "c=b.T\n",
    "c"
   ]
  },
  {
   "cell_type": "markdown",
   "metadata": {},
   "source": [
    "#### 10. Try to add *a* and *c*. Now it should work. Assign the sum to variable *d*. But why does it work now?"
   ]
  },
  {
   "cell_type": "code",
   "execution_count": 49,
   "metadata": {},
   "outputs": [
    {
     "data": {
      "text/plain": [
       "array([[[1.96805833, 1.80951183, 1.32195225, 1.96488408, 1.75286687],\n",
       "        [1.16228005, 1.22436844, 1.41020014, 1.63546916, 1.06597468],\n",
       "        [1.27986688, 1.84078566, 1.4869353 , 1.027745  , 1.34006973]],\n",
       "\n",
       "       [[1.81455218, 1.92736488, 1.54801002, 1.73273392, 1.40391896],\n",
       "        [1.81308921, 1.11380913, 1.277929  , 1.48625044, 1.26215911],\n",
       "        [1.56542432, 1.36875674, 1.49283689, 1.21994828, 1.78047249]]])"
      ]
     },
     "execution_count": 49,
     "metadata": {},
     "output_type": "execute_result"
    }
   ],
   "source": [
    "# your code/answer here \n",
    "#because a and c have the same diemnsions\n",
    "d=a+c\n",
    "d"
   ]
  },
  {
   "cell_type": "markdown",
   "metadata": {},
   "source": [
    "#### 11. Print *a* and *d*. Notice the difference and relation of the two array in terms of the values? Explain."
   ]
  },
  {
   "cell_type": "code",
   "execution_count": 50,
   "metadata": {},
   "outputs": [
    {
     "name": "stdout",
     "output_type": "stream",
     "text": [
      "[[[0.96805833 0.80951183 0.32195225 0.96488408 0.75286687]\n",
      "  [0.16228005 0.22436844 0.41020014 0.63546916 0.06597468]\n",
      "  [0.27986688 0.84078566 0.4869353  0.027745   0.34006973]]\n",
      "\n",
      " [[0.81455218 0.92736488 0.54801002 0.73273392 0.40391896]\n",
      "  [0.81308921 0.11380913 0.277929   0.48625044 0.26215911]\n",
      "  [0.56542432 0.36875674 0.49283689 0.21994828 0.78047249]]]\n",
      "[[[1.96805833 1.80951183 1.32195225 1.96488408 1.75286687]\n",
      "  [1.16228005 1.22436844 1.41020014 1.63546916 1.06597468]\n",
      "  [1.27986688 1.84078566 1.4869353  1.027745   1.34006973]]\n",
      "\n",
      " [[1.81455218 1.92736488 1.54801002 1.73273392 1.40391896]\n",
      "  [1.81308921 1.11380913 1.277929   1.48625044 1.26215911]\n",
      "  [1.56542432 1.36875674 1.49283689 1.21994828 1.78047249]]]\n"
     ]
    }
   ],
   "source": [
    "# your code/answer here\n",
    "print(a)\n",
    "\n",
    "print(d)\n",
    "\n",
    "# d=(a)+1"
   ]
  },
  {
   "cell_type": "markdown",
   "metadata": {},
   "source": [
    "#### 12. Multiply *a* and *c*. Assign the result to *e*."
   ]
  },
  {
   "cell_type": "code",
   "execution_count": 51,
   "metadata": {},
   "outputs": [
    {
     "data": {
      "text/plain": [
       "array([[[0.96805833, 0.80951183, 0.32195225, 0.96488408, 0.75286687],\n",
       "        [0.16228005, 0.22436844, 0.41020014, 0.63546916, 0.06597468],\n",
       "        [0.27986688, 0.84078566, 0.4869353 , 0.027745  , 0.34006973]],\n",
       "\n",
       "       [[0.81455218, 0.92736488, 0.54801002, 0.73273392, 0.40391896],\n",
       "        [0.81308921, 0.11380913, 0.277929  , 0.48625044, 0.26215911],\n",
       "        [0.56542432, 0.36875674, 0.49283689, 0.21994828, 0.78047249]]])"
      ]
     },
     "execution_count": 51,
     "metadata": {},
     "output_type": "execute_result"
    }
   ],
   "source": [
    "a"
   ]
  },
  {
   "cell_type": "code",
   "execution_count": 52,
   "metadata": {},
   "outputs": [
    {
     "data": {
      "text/plain": [
       "array([[[1, 1, 1, 1, 1],\n",
       "        [1, 1, 1, 1, 1],\n",
       "        [1, 1, 1, 1, 1]],\n",
       "\n",
       "       [[1, 1, 1, 1, 1],\n",
       "        [1, 1, 1, 1, 1],\n",
       "        [1, 1, 1, 1, 1]]])"
      ]
     },
     "execution_count": 52,
     "metadata": {},
     "output_type": "execute_result"
    }
   ],
   "source": [
    "c"
   ]
  },
  {
   "cell_type": "code",
   "execution_count": 53,
   "metadata": {},
   "outputs": [
    {
     "data": {
      "text/plain": [
       "array([[[0.96805833, 0.80951183, 0.32195225, 0.96488408, 0.75286687],\n",
       "        [0.16228005, 0.22436844, 0.41020014, 0.63546916, 0.06597468],\n",
       "        [0.27986688, 0.84078566, 0.4869353 , 0.027745  , 0.34006973]],\n",
       "\n",
       "       [[0.81455218, 0.92736488, 0.54801002, 0.73273392, 0.40391896],\n",
       "        [0.81308921, 0.11380913, 0.277929  , 0.48625044, 0.26215911],\n",
       "        [0.56542432, 0.36875674, 0.49283689, 0.21994828, 0.78047249]]])"
      ]
     },
     "execution_count": 53,
     "metadata": {},
     "output_type": "execute_result"
    }
   ],
   "source": [
    "# your code here\n",
    "e=a*c\n",
    "e"
   ]
  },
  {
   "cell_type": "markdown",
   "metadata": {},
   "source": [
    "#### 13. Does *e* equal to *a*? Why or why not?\n"
   ]
  },
  {
   "cell_type": "markdown",
   "metadata": {},
   "source": [
    " your code/answer here\n",
    " \n",
    " \n",
    "yes, because multipling a matrix by one, gives you the same matrix"
   ]
  },
  {
   "cell_type": "markdown",
   "metadata": {},
   "source": [
    "#### 14. Identify the max, min, and mean values in *d*. Assign those values to variables *d_max*, *d_min* and *d_mean*."
   ]
  },
  {
   "cell_type": "code",
   "execution_count": 54,
   "metadata": {},
   "outputs": [
    {
     "name": "stdout",
     "output_type": "stream",
     "text": [
      "max: 1.968058325410853 , min: 1.0277449975030042 , mean: 1.5032741312077935\n",
      "[[[1.96805833 1.80951183 1.32195225 1.96488408 1.75286687]\n",
      "  [1.16228005 1.22436844 1.41020014 1.63546916 1.06597468]\n",
      "  [1.27986688 1.84078566 1.4869353  1.027745   1.34006973]]\n",
      "\n",
      " [[1.81455218 1.92736488 1.54801002 1.73273392 1.40391896]\n",
      "  [1.81308921 1.11380913 1.277929   1.48625044 1.26215911]\n",
      "  [1.56542432 1.36875674 1.49283689 1.21994828 1.78047249]]]\n"
     ]
    }
   ],
   "source": [
    "# your code here\n",
    "d_max=np.max(d)\n",
    "d_min=np.min(d)\n",
    "d_mean=np.mean(d)\n",
    "\n",
    "print(\"max:\", d_max, \", min:\", d_min, \", mean:\", d_mean)\n",
    "print(d)"
   ]
  },
  {
   "cell_type": "markdown",
   "metadata": {},
   "source": [
    "#### 15. Now we want to label the values in *d*. First create an empty array *f* with the same shape (i.e. 2x3x5) as *d* using `np.empty`.\n"
   ]
  },
  {
   "cell_type": "code",
   "execution_count": 55,
   "metadata": {},
   "outputs": [
    {
     "data": {
      "text/plain": [
       "array([[[  0.,  25.,  25.,  25.,  25.],\n",
       "        [ 25.,  25.,  25.,  25.,  25.],\n",
       "        [ 25.,  25.,  25.,  25.,  25.]],\n",
       "\n",
       "       [[ 75.,  75.,  75.,  75.,  75.],\n",
       "        [ 75.,  75.,  75.,  75.,  75.],\n",
       "        [ 75.,  75.,  75.,  75., 100.]]])"
      ]
     },
     "execution_count": 55,
     "metadata": {},
     "output_type": "execute_result"
    }
   ],
   "source": [
    "# your code here\n",
    "#here I created an array with 4 uninitialized values (not zeros) as an example.\n",
    "a=np.empty(4)\n",
    "np.seed=2\n",
    "# 30 values arranged in 2,35 shape.\n",
    "f=np.empty(30).reshape(2,3,5)\n",
    "f"
   ]
  },
  {
   "cell_type": "markdown",
   "metadata": {},
   "source": [
    "#### 16. Populate the values in *f*. \n",
    "\n",
    "For each value in *d*, if it's larger than *d_min* but smaller than *d_mean*, assign 25 to the corresponding value in *f*. If a value in *d* is larger than *d_mean* but smaller than *d_max*, assign 75 to the corresponding value in *f*. If a value equals to *d_mean*, assign 50 to the corresponding value in *f*. Assign 0 to the corresponding value(s) in *f* for *d_min* in *d*. Assign 100 to the corresponding value(s) in *f* for *d_max* in *d*. In the end, f should have only the following values: 0, 25, 50, 75, and 100.\n",
    "\n",
    "**Note**: you don't have to use Numpy in this question."
   ]
  },
  {
   "cell_type": "code",
   "execution_count": 56,
   "metadata": {},
   "outputs": [
    {
     "name": "stdout",
     "output_type": "stream",
     "text": [
      "max: 1.968058325410853 , min: 1.0277449975030042 , mean: 1.5032741312077935\n",
      "[[[1.96805833 1.80951183 1.32195225 1.96488408 1.75286687]\n",
      "  [1.16228005 1.22436844 1.41020014 1.63546916 1.06597468]\n",
      "  [1.27986688 1.84078566 1.4869353  1.027745   1.34006973]]\n",
      "\n",
      " [[1.81455218 1.92736488 1.54801002 1.73273392 1.40391896]\n",
      "  [1.81308921 1.11380913 1.277929   1.48625044 1.26215911]\n",
      "  [1.56542432 1.36875674 1.49283689 1.21994828 1.78047249]]]\n"
     ]
    }
   ],
   "source": [
    "# your code here\n",
    "d_max=np.max(d)\n",
    "d_min=np.min(d)\n",
    "d_mean=np.mean(d)\n",
    "print(\"max:\", d_max, \", min:\", d_min, \", mean:\", d_mean)\n",
    "print(d)\n",
    "\n"
   ]
  },
  {
   "cell_type": "code",
   "execution_count": 57,
   "metadata": {},
   "outputs": [],
   "source": [
    "#I don't know how to do it with boolean indexes."
   ]
  },
  {
   "cell_type": "code",
   "execution_count": 58,
   "metadata": {},
   "outputs": [
    {
     "data": {
      "text/plain": [
       "array([[[100.,  75.,  25.,  75.,  75.],\n",
       "        [ 25.,  25.,  25.,  75.,  25.],\n",
       "        [ 25.,  75.,  25.,   0.,  25.]],\n",
       "\n",
       "       [[ 75.,  75.,  75.,  75.,  25.],\n",
       "        [ 75.,  25.,  25.,  25.,  25.],\n",
       "        [ 75.,  25.,  25.,  25.,  75.]]])"
      ]
     },
     "execution_count": 58,
     "metadata": {},
     "output_type": "execute_result"
    }
   ],
   "source": [
    "f[(d>d_min) & (d<d_mean)] = 25\n",
    "f[(d>d_mean) & (d<d_max)] = 75\n",
    "f[d==d_mean] = 50\n",
    "f[d==d_min] = 0\n",
    "f[d==d_max]= 100\n",
    "f"
   ]
  },
  {
   "cell_type": "code",
   "execution_count": 59,
   "metadata": {},
   "outputs": [
    {
     "name": "stdout",
     "output_type": "stream",
     "text": [
      "[[0.42399992 0.17798769 0.50735086]\n",
      " [0.12216266 0.58587608 0.78392948]\n",
      " [0.17661795 0.67042121 0.41180125]\n",
      " [0.30112649 0.35885714 0.34043026]\n",
      " [0.72715956 0.09835008 0.72771316]\n",
      " [0.51887064 0.48738093 0.14670898]]\n"
     ]
    }
   ],
   "source": [
    "#Example from the lecture on booleans: \n",
    "\n",
    "a = np.random.random((6,3))\n",
    "print(a)\n"
   ]
  },
  {
   "cell_type": "code",
   "execution_count": 60,
   "metadata": {},
   "outputs": [
    {
     "data": {
      "text/plain": [
       "array([[False, False, False],\n",
       "       [False, False,  True],\n",
       "       [False, False, False],\n",
       "       [False, False, False],\n",
       "       [ True, False,  True],\n",
       "       [False, False, False]])"
      ]
     },
     "execution_count": 60,
     "metadata": {},
     "output_type": "execute_result"
    }
   ],
   "source": [
    "\n",
    "bool_idx = (a > 0.7)\n",
    "bool_idx"
   ]
  },
  {
   "cell_type": "code",
   "execution_count": 61,
   "metadata": {},
   "outputs": [
    {
     "name": "stdout",
     "output_type": "stream",
     "text": [
      "[0.78392948 0.72715956 0.72771316]\n"
     ]
    }
   ],
   "source": [
    "print(a[bool_idx])"
   ]
  },
  {
   "cell_type": "code",
   "execution_count": 62,
   "metadata": {},
   "outputs": [
    {
     "name": "stdout",
     "output_type": "stream",
     "text": [
      "[0.78392948 0.72715956 0.72771316]\n"
     ]
    }
   ],
   "source": [
    "print(a[a > 0.7]) # in a single expression"
   ]
  },
  {
   "cell_type": "markdown",
   "metadata": {},
   "source": [
    "#### 17. Print *d* and *f*. Do you have your expected *f*?\n",
    "For instance, if your *d* is:\n",
    "```python\n",
    "[[[1.85836099, 1.67064465, 1.62576044, 1.40243961, 1.88454931],\n",
    "[1.75354326, 1.69403643, 1.36729252, 1.61415071, 1.12104981],\n",
    "[1.72201435, 1.1862918 , 1.87078449, 1.7726778 , 1.88180042]],\n",
    "[[1.44747908, 1.31673383, 1.02000951, 1.52218947, 1.97066381],\n",
    "[1.79129243, 1.74983003, 1.96028037, 1.85166831, 1.65450881],\n",
    "[1.18068344, 1.9587381 , 1.00656599, 1.93402165, 1.73514584]]]\n",
    "```\n",
    "Your *f* should be:\n",
    "```python\n",
    "[[[ 75.,  75.,  75.,  25.,  75.],\n",
    "[ 75.,  75.,  25.,  25.,  25.],\n",
    "[ 75.,  25.,  75.,  75.,  75.]],\n",
    "[[ 25.,  25.,  25.,  25., 100.],\n",
    "[ 75.,  75.,  75.,  75.,  75.],\n",
    "[ 25.,  75.,   0.,  75.,  75.]]]\n",
    "```"
   ]
  },
  {
   "cell_type": "code",
   "execution_count": 63,
   "metadata": {},
   "outputs": [
    {
     "name": "stdout",
     "output_type": "stream",
     "text": [
      "[[[1.96805833 1.80951183 1.32195225 1.96488408 1.75286687]\n",
      "  [1.16228005 1.22436844 1.41020014 1.63546916 1.06597468]\n",
      "  [1.27986688 1.84078566 1.4869353  1.027745   1.34006973]]\n",
      "\n",
      " [[1.81455218 1.92736488 1.54801002 1.73273392 1.40391896]\n",
      "  [1.81308921 1.11380913 1.277929   1.48625044 1.26215911]\n",
      "  [1.56542432 1.36875674 1.49283689 1.21994828 1.78047249]]]\n",
      "[[[100.  75.  25.  75.  75.]\n",
      "  [ 25.  25.  25.  75.  25.]\n",
      "  [ 25.  75.  25.   0.  25.]]\n",
      "\n",
      " [[ 75.  75.  75.  75.  25.]\n",
      "  [ 75.  25.  25.  25.  25.]\n",
      "  [ 75.  25.  25.  25.  75.]]]\n"
     ]
    }
   ],
   "source": [
    "# your code here\n",
    "print(d)\n",
    "print(f)"
   ]
  },
  {
   "cell_type": "markdown",
   "metadata": {},
   "source": [
    "#### 18. Bonus question: instead of using numbers (i.e. 0, 25, 50, 75, and 100), use string values  (\"A\", \"B\", \"C\", \"D\", and \"E\") to label the array elements. For the example above, the expected result is:\n",
    "\n",
    "```python\n",
    "[[[ 'D',  'D',  'D',  'B',  'D'],\n",
    "[ 'D',  'D',  'B',  'B',  'B'],\n",
    "[ 'D',  'B',  'D',  'D',  'D']],\n",
    "[[ 'B',  'B',  'B',  'B',  'E'],\n",
    "[ 'D',  'D',  'D',  'D',  'D'],\n",
    "[ 'B',  'D',   'A',  'D', 'D']]]\n",
    "```\n",
    "**Note**: you don't have to use Numpy in this question."
   ]
  },
  {
   "cell_type": "code",
   "execution_count": 64,
   "metadata": {},
   "outputs": [],
   "source": [
    "# your code here"
   ]
  },
  {
   "cell_type": "code",
   "execution_count": null,
   "metadata": {},
   "outputs": [],
   "source": []
  }
 ],
 "metadata": {
  "kernelspec": {
   "display_name": "Python 3",
   "language": "python",
   "name": "python3"
  },
  "language_info": {
   "codemirror_mode": {
    "name": "ipython",
    "version": 3
   },
   "file_extension": ".py",
   "mimetype": "text/x-python",
   "name": "python",
   "nbconvert_exporter": "python",
   "pygments_lexer": "ipython3",
   "version": "3.8.5"
  },
  "toc": {
   "base_numbering": 1,
   "nav_menu": {},
   "number_sections": true,
   "sideBar": true,
   "skip_h1_title": false,
   "title_cell": "Table of Contents",
   "title_sidebar": "Contents",
   "toc_cell": false,
   "toc_position": {},
   "toc_section_display": true,
   "toc_window_display": false
  },
  "varInspector": {
   "cols": {
    "lenName": 16,
    "lenType": 16,
    "lenVar": 40
   },
   "kernels_config": {
    "python": {
     "delete_cmd_postfix": "",
     "delete_cmd_prefix": "del ",
     "library": "var_list.py",
     "varRefreshCmd": "print(var_dic_list())"
    },
    "r": {
     "delete_cmd_postfix": ") ",
     "delete_cmd_prefix": "rm(",
     "library": "var_list.r",
     "varRefreshCmd": "cat(var_dic_list()) "
    }
   },
   "types_to_exclude": [
    "module",
    "function",
    "builtin_function_or_method",
    "instance",
    "_Feature"
   ],
   "window_display": false
  }
 },
 "nbformat": 4,
 "nbformat_minor": 2
}
