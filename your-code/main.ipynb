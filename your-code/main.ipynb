{
 "cells": [
  {
   "cell_type": "markdown",
   "metadata": {},
   "source": [
    "# Intrduction to NumPy\n",
    "\n",
    "\n",
    "#### 1. Import NumPy under the name np."
   ]
  },
  {
   "cell_type": "code",
   "execution_count": 1,
   "metadata": {},
   "outputs": [],
   "source": [
    "# your code here\n",
    "import numpy as np"
   ]
  },
  {
   "cell_type": "markdown",
   "metadata": {},
   "source": [
    "#### 2. Print your NumPy version."
   ]
  },
  {
   "cell_type": "code",
   "execution_count": 32,
   "metadata": {},
   "outputs": [
    {
     "data": {
      "text/plain": [
       "'1.16.4'"
      ]
     },
     "execution_count": 32,
     "metadata": {},
     "output_type": "execute_result"
    }
   ],
   "source": [
    "# your code here\n",
    "np.version.version"
   ]
  },
  {
   "cell_type": "raw",
   "metadata": {},
   "source": [
    "#### 3. Generate a 2x3x5 3-dimensional array with random values. Assign the array to variable *a*.\n",
    "**Challenge**: there are at least three easy ways that use numpy to generate random arrays. How many ways can you find?"
   ]
  },
  {
   "cell_type": "code",
   "execution_count": 15,
   "metadata": {},
   "outputs": [
    {
     "name": "stdout",
     "output_type": "stream",
     "text": [
      "[[[0.66333698 0.67565904 0.49246418 0.3495765  0.58132102]\n",
      "  [0.89319682 0.73385809 0.35378856 0.1080758  0.12849667]\n",
      "  [0.97841604 0.44845691 0.01808148 0.2559586  0.78102942]]\n",
      "\n",
      " [[0.74868337 0.38205939 0.97995845 0.29848903 0.50607182]\n",
      "  [0.70978247 0.94195596 0.15467534 0.13295841 0.27600887]\n",
      "  [0.70575649 0.09873131 0.27874489 0.72358274 0.37265016]]]\n"
     ]
    }
   ],
   "source": [
    "# Method 1\n",
    "a = np.random.rand(2,3,5)\n",
    "print(x)"
   ]
  },
  {
   "cell_type": "code",
   "execution_count": 16,
   "metadata": {},
   "outputs": [
    {
     "name": "stdout",
     "output_type": "stream",
     "text": [
      "[[[0.66333698 0.67565904 0.49246418 0.3495765  0.58132102]\n",
      "  [0.89319682 0.73385809 0.35378856 0.1080758  0.12849667]\n",
      "  [0.97841604 0.44845691 0.01808148 0.2559586  0.78102942]]\n",
      "\n",
      " [[0.74868337 0.38205939 0.97995845 0.29848903 0.50607182]\n",
      "  [0.70978247 0.94195596 0.15467534 0.13295841 0.27600887]\n",
      "  [0.70575649 0.09873131 0.27874489 0.72358274 0.37265016]]]\n"
     ]
    }
   ],
   "source": [
    "# Method 2\n",
    "a = np.random.randint(10, size = (2,3,5))\n",
    "print(x)"
   ]
  },
  {
   "cell_type": "code",
   "execution_count": 13,
   "metadata": {},
   "outputs": [
    {
     "name": "stdout",
     "output_type": "stream",
     "text": [
      "[[[0.66333698 0.67565904 0.49246418 0.3495765  0.58132102]\n",
      "  [0.89319682 0.73385809 0.35378856 0.1080758  0.12849667]\n",
      "  [0.97841604 0.44845691 0.01808148 0.2559586  0.78102942]]\n",
      "\n",
      " [[0.74868337 0.38205939 0.97995845 0.29848903 0.50607182]\n",
      "  [0.70978247 0.94195596 0.15467534 0.13295841 0.27600887]\n",
      "  [0.70575649 0.09873131 0.27874489 0.72358274 0.37265016]]]\n"
     ]
    }
   ],
   "source": [
    "# Method 3\n",
    "a = np.random.random_sample((2,3,5))\n",
    "print(x)"
   ]
  },
  {
   "cell_type": "markdown",
   "metadata": {},
   "source": [
    "#### 4. Print *a*.\n"
   ]
  },
  {
   "cell_type": "code",
   "execution_count": 14,
   "metadata": {},
   "outputs": [
    {
     "name": "stdout",
     "output_type": "stream",
     "text": [
      "[[[0.20761347 0.67620321 0.06790935 0.42973095 0.63803763]\n",
      "  [0.34692931 0.41494967 0.83025716 0.6758262  0.10337289]\n",
      "  [0.70074273 0.06933368 0.29833143 0.32246804 0.24935728]]\n",
      "\n",
      " [[0.28956439 0.39995898 0.9697649  0.16190048 0.12915031]\n",
      "  [0.77728224 0.58303624 0.45836571 0.96978975 0.529001  ]\n",
      "  [0.32537796 0.43558454 0.85980002 0.88094125 0.15480631]]]\n"
     ]
    }
   ],
   "source": [
    "# your code here\n",
    "print(a)"
   ]
  },
  {
   "cell_type": "markdown",
   "metadata": {},
   "source": [
    "#### 5. Create a 5x2x3 3-dimensional array with all values equaling 1. Assign the array to variable *b*."
   ]
  },
  {
   "cell_type": "code",
   "execution_count": 17,
   "metadata": {},
   "outputs": [
    {
     "name": "stdout",
     "output_type": "stream",
     "text": [
      "[[[0.66333698 0.67565904 0.49246418 0.3495765  0.58132102]\n",
      "  [0.89319682 0.73385809 0.35378856 0.1080758  0.12849667]\n",
      "  [0.97841604 0.44845691 0.01808148 0.2559586  0.78102942]]\n",
      "\n",
      " [[0.74868337 0.38205939 0.97995845 0.29848903 0.50607182]\n",
      "  [0.70978247 0.94195596 0.15467534 0.13295841 0.27600887]\n",
      "  [0.70575649 0.09873131 0.27874489 0.72358274 0.37265016]]]\n"
     ]
    }
   ],
   "source": [
    "# your code here\n",
    "b = np.ones((5,2,3))\n",
    "print(x)"
   ]
  },
  {
   "cell_type": "markdown",
   "metadata": {},
   "source": [
    "#### 6. Print *b*.\n"
   ]
  },
  {
   "cell_type": "code",
   "execution_count": 18,
   "metadata": {},
   "outputs": [
    {
     "name": "stdout",
     "output_type": "stream",
     "text": [
      "[[[1. 1. 1.]\n",
      "  [1. 1. 1.]]\n",
      "\n",
      " [[1. 1. 1.]\n",
      "  [1. 1. 1.]]\n",
      "\n",
      " [[1. 1. 1.]\n",
      "  [1. 1. 1.]]\n",
      "\n",
      " [[1. 1. 1.]\n",
      "  [1. 1. 1.]]\n",
      "\n",
      " [[1. 1. 1.]\n",
      "  [1. 1. 1.]]]\n"
     ]
    }
   ],
   "source": [
    "# your code here\n",
    "print(b)"
   ]
  },
  {
   "cell_type": "markdown",
   "metadata": {},
   "source": [
    "#### 7. Do *a* and *b* have the same size? How do you prove that in Python code?"
   ]
  },
  {
   "cell_type": "code",
   "execution_count": 44,
   "metadata": {},
   "outputs": [
    {
     "name": "stdout",
     "output_type": "stream",
     "text": [
      "((2, 3, 5), (5, 2, 3))\n"
     ]
    }
   ],
   "source": [
    "# your code here\n",
    "size_a = a.shape\n",
    "size_b = b.shape\n",
    "print(size_a,size_b)"
   ]
  },
  {
   "cell_type": "markdown",
   "metadata": {},
   "source": [
    "#### 8. Are you able to add *a* and *b*? Why or why not?\n"
   ]
  },
  {
   "cell_type": "code",
   "execution_count": 45,
   "metadata": {},
   "outputs": [],
   "source": [
    "# your answer here\n",
    "# you cannot add a+b because have different shapes"
   ]
  },
  {
   "cell_type": "markdown",
   "metadata": {},
   "source": [
    "#### 9. Transpose *b* so that it has the same structure of *a* (i.e. become a 2x3x5 array). Assign the transposed array to variable *c*."
   ]
  },
  {
   "cell_type": "code",
   "execution_count": 49,
   "metadata": {},
   "outputs": [
    {
     "name": "stdout",
     "output_type": "stream",
     "text": [
      "[[[1. 1. 1. 1. 1.]\n",
      "  [1. 1. 1. 1. 1.]\n",
      "  [1. 1. 1. 1. 1.]]\n",
      "\n",
      " [[1. 1. 1. 1. 1.]\n",
      "  [1. 1. 1. 1. 1.]\n",
      "  [1. 1. 1. 1. 1.]]]\n",
      "(2, 3, 5)\n"
     ]
    }
   ],
   "source": [
    "# your code here\n",
    "c = np.transpose(b, (1,2,0))\n",
    "print(c)\n",
    "print(c.shape)"
   ]
  },
  {
   "cell_type": "markdown",
   "metadata": {},
   "source": [
    "#### 10. Try to add *a* and *c*. Now it should work. Assign the sum to variable *d*. But why does it work now?"
   ]
  },
  {
   "cell_type": "code",
   "execution_count": 51,
   "metadata": {},
   "outputs": [
    {
     "name": "stdout",
     "output_type": "stream",
     "text": [
      "[[[ 7.  1.  2.  2. 10.]\n",
      "  [ 8.  4.  3.  4.  2.]\n",
      "  [ 7.  3.  1.  1. 10.]]\n",
      "\n",
      " [[ 6.  3.  5.  1. 10.]\n",
      "  [ 5.  7.  1.  5.  3.]\n",
      "  [ 9.  3.  9.  7.  2.]]]\n"
     ]
    }
   ],
   "source": [
    "# your code/answer here\n",
    "d = a+c\n",
    "print(d)"
   ]
  },
  {
   "cell_type": "markdown",
   "metadata": {},
   "source": [
    "#### 11. Print *a* and *d*. Notice the difference and relation of the two array in terms of the values? Explain."
   ]
  },
  {
   "cell_type": "code",
   "execution_count": 52,
   "metadata": {},
   "outputs": [
    {
     "name": "stdout",
     "output_type": "stream",
     "text": [
      "[[[6 0 1 1 9]\n",
      "  [7 3 2 3 1]\n",
      "  [6 2 0 0 9]]\n",
      "\n",
      " [[5 2 4 0 9]\n",
      "  [4 6 0 4 2]\n",
      "  [8 2 8 6 1]]]\n",
      "[[[ 7.  1.  2.  2. 10.]\n",
      "  [ 8.  4.  3.  4.  2.]\n",
      "  [ 7.  3.  1.  1. 10.]]\n",
      "\n",
      " [[ 6.  3.  5.  1. 10.]\n",
      "  [ 5.  7.  1.  5.  3.]\n",
      "  [ 9.  3.  9.  7.  2.]]]\n"
     ]
    }
   ],
   "source": [
    "# your code/answer here\n",
    "print(a)\n",
    "print(d)"
   ]
  },
  {
   "cell_type": "markdown",
   "metadata": {},
   "source": [
    "#### 12. Multiply *a* and *c*. Assign the result to *e*."
   ]
  },
  {
   "cell_type": "code",
   "execution_count": 54,
   "metadata": {},
   "outputs": [
    {
     "name": "stdout",
     "output_type": "stream",
     "text": [
      "[[[6. 0. 1. 1. 9.]\n",
      "  [7. 3. 2. 3. 1.]\n",
      "  [6. 2. 0. 0. 9.]]\n",
      "\n",
      " [[5. 2. 4. 0. 9.]\n",
      "  [4. 6. 0. 4. 2.]\n",
      "  [8. 2. 8. 6. 1.]]]\n"
     ]
    }
   ],
   "source": [
    "# your code here\n",
    "e = a*c\n",
    "print(e)"
   ]
  },
  {
   "cell_type": "markdown",
   "metadata": {},
   "source": [
    "#### 13. Does *e* equal to *a*? Why or why not?\n"
   ]
  },
  {
   "cell_type": "code",
   "execution_count": 58,
   "metadata": {},
   "outputs": [
    {
     "name": "stdout",
     "output_type": "stream",
     "text": [
      "[[[ True  True  True  True  True]\n",
      "  [ True  True  True  True  True]\n",
      "  [ True  True  True  True  True]]\n",
      "\n",
      " [[ True  True  True  True  True]\n",
      "  [ True  True  True  True  True]\n",
      "  [ True  True  True  True  True]]]\n",
      "[[[6. 0. 1. 1. 9.]\n",
      "  [7. 3. 2. 3. 1.]\n",
      "  [6. 2. 0. 0. 9.]]\n",
      "\n",
      " [[5. 2. 4. 0. 9.]\n",
      "  [4. 6. 0. 4. 2.]\n",
      "  [8. 2. 8. 6. 1.]]]\n",
      "[[[6 0 1 1 9]\n",
      "  [7 3 2 3 1]\n",
      "  [6 2 0 0 9]]\n",
      "\n",
      " [[5 2 4 0 9]\n",
      "  [4 6 0 4 2]\n",
      "  [8 2 8 6 1]]]\n"
     ]
    }
   ],
   "source": [
    "# your code/answer here\n",
    "print(e==a)\n",
    "print(e)\n",
    "print(a)\n",
    "#because"
   ]
  },
  {
   "cell_type": "markdown",
   "metadata": {},
   "source": [
    "#### 14. Identify the max, min, and mean values in *d*. Assign those values to variables *d_max*, *d_min* and *d_mean*."
   ]
  },
  {
   "cell_type": "code",
   "execution_count": 69,
   "metadata": {},
   "outputs": [
    {
     "name": "stdout",
     "output_type": "stream",
     "text": [
      "(10.0, 1.0, 4.7)\n"
     ]
    }
   ],
   "source": [
    "# your code here\n",
    "d_max = np.amax(d)\n",
    "d_min = np.amin(d)\n",
    "d_mean = np.mean(d)\n",
    "\n",
    "print(d_max,d_min,d_mean)"
   ]
  },
  {
   "cell_type": "markdown",
   "metadata": {},
   "source": [
    "#### 15. Now we want to label the values in *d*. First create an empty array *f* with the same shape (i.e. 2x3x5) as *d* using `np.empty`.\n"
   ]
  },
  {
   "cell_type": "code",
   "execution_count": 74,
   "metadata": {},
   "outputs": [
    {
     "name": "stdout",
     "output_type": "stream",
     "text": [
      "[[[ 7.  1.  2.  2. 10.]\n",
      "  [ 8.  4.  3.  4.  2.]\n",
      "  [ 7.  3.  1.  1. 10.]]\n",
      "\n",
      " [[ 6.  3.  5.  1. 10.]\n",
      "  [ 5.  7.  1.  5.  3.]\n",
      "  [ 9.  3.  9.  7.  2.]]]\n"
     ]
    }
   ],
   "source": [
    "# your code here\n",
    "wol = np.empty((2,3,5))\n",
    "print(wol)"
   ]
  },
  {
   "cell_type": "markdown",
   "metadata": {},
   "source": [
    "#### 16. Populate the values in *f*. \n",
    "\n",
    "For each value in *d*, if it's larger than *d_min* but smaller than *d_mean*, assign 25 to the corresponding value in *f*. If a value in *d* is larger than *d_mean* but smaller than *d_max*, assign 75 to the corresponding value in *f*. If a value equals to *d_mean*, assign 50 to the corresponding value in *f*. Assign 0 to the corresponding value(s) in *f* for *d_min* in *d*. Assign 100 to the corresponding value(s) in *f* for *d_max* in *d*. In the end, f should have only the following values: 0, 25, 50, 75, and 100.\n",
    "\n",
    "**Note**: you don't have to use Numpy in this question."
   ]
  },
  {
   "cell_type": "code",
   "execution_count": 80,
   "metadata": {},
   "outputs": [],
   "source": [
    "# your code here\n",
    "for i in range(1):\n",
    "    for j in range(2):\n",
    "        for k in range(4):\n",
    "            if d[i][j][k] > d_min and d[i][j][k] < d_mean:\n",
    "                wol[i][j][k] = 25\n",
    "            if d[i][j][k] > d_mean and d[i][j][k] < d_max:\n",
    "                wol[i][j][k] = 75\n",
    "            if d[i][j][k] == d_mean:\n",
    "                wol[i][j][k] = 50\n",
    "            if d[i][j][k] == d_min:\n",
    "                wol[i][j][k] = 0\n",
    "            if d[i][j][k] == d_max:\n",
    "                wol[i][j][k] = 100\n",
    "            "
   ]
  },
  {
   "cell_type": "markdown",
   "metadata": {},
   "source": [
    "#### 17. Print *d* and *f*. Do you have your expected *f*?\n",
    "For instance, if your *d* is:\n",
    "```python\n",
    "[[[1.85836099, 1.67064465, 1.62576044, 1.40243961, 1.88454931],\n",
    "[1.75354326, 1.69403643, 1.36729252, 1.61415071, 1.12104981],\n",
    "[1.72201435, 1.1862918 , 1.87078449, 1.7726778 , 1.88180042]],\n",
    "[[1.44747908, 1.31673383, 1.02000951, 1.52218947, 1.97066381],\n",
    "[1.79129243, 1.74983003, 1.96028037, 1.85166831, 1.65450881],\n",
    "[1.18068344, 1.9587381 , 1.00656599, 1.93402165, 1.73514584]]]\n",
    "```\n",
    "Your *f* should be:\n",
    "```python\n",
    "[[[ 75.,  75.,  75.,  25.,  75.],\n",
    "[ 75.,  75.,  25.,  25.,  25.],\n",
    "[ 75.,  25.,  75.,  75.,  75.]],\n",
    "[[ 25.,  25.,  25.,  25., 100.],\n",
    "[ 75.,  75.,  75.,  75.,  75.],\n",
    "[ 25.,  75.,   0.,  75.,  75.]]]\n",
    "```"
   ]
  },
  {
   "cell_type": "code",
   "execution_count": null,
   "metadata": {},
   "outputs": [],
   "source": [
    "# your code here"
   ]
  },
  {
   "cell_type": "markdown",
   "metadata": {},
   "source": [
    "#### 18. Bonus question: instead of using numbers (i.e. 0, 25, 50, 75, and 100), use string values  (\"A\", \"B\", \"C\", \"D\", and \"E\") to label the array elements. For the example above, the expected result is:\n",
    "\n",
    "```python\n",
    "[[[ 'D',  'D',  'D',  'B',  'D'],\n",
    "[ 'D',  'D',  'B',  'B',  'B'],\n",
    "[ 'D',  'B',  'D',  'D',  'D']],\n",
    "[[ 'B',  'B',  'B',  'B',  'E'],\n",
    "[ 'D',  'D',  'D',  'D',  'D'],\n",
    "[ 'B',  'D',   'A',  'D', 'D']]]\n",
    "```\n",
    "**Note**: you don't have to use Numpy in this question."
   ]
  },
  {
   "cell_type": "code",
   "execution_count": null,
   "metadata": {},
   "outputs": [],
   "source": [
    "# your code here\n"
   ]
  }
 ],
 "metadata": {
  "kernelspec": {
   "display_name": "Python 3",
   "language": "python",
   "name": "python3"
  },
  "language_info": {
   "codemirror_mode": {
    "name": "ipython",
    "version": 2
   },
   "file_extension": ".py",
   "mimetype": "text/x-python",
   "name": "python",
   "nbconvert_exporter": "python",
   "pygments_lexer": "ipython2",
   "version": "2.7.15+"
  }
 },
 "nbformat": 4,
 "nbformat_minor": 2
}
