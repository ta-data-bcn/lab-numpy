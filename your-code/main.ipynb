{
 "cells": [
  {
   "cell_type": "markdown",
   "metadata": {},
   "source": [
    "# Intrduction to NumPy\n",
    "\n",
    "\n",
    "#### 1. Import NumPy under the name np."
   ]
  },
  {
   "cell_type": "code",
   "execution_count": 1,
   "metadata": {},
   "outputs": [],
   "source": [
    "import numpy as np"
   ]
  },
  {
   "cell_type": "markdown",
   "metadata": {},
   "source": [
    "#### 2. Print your NumPy version."
   ]
  },
  {
   "cell_type": "code",
   "execution_count": 2,
   "metadata": {},
   "outputs": [
    {
     "name": "stdout",
     "output_type": "stream",
     "text": [
      "1.19.0\n"
     ]
    }
   ],
   "source": [
    "print(np.__version__)"
   ]
  },
  {
   "cell_type": "markdown",
   "metadata": {},
   "source": [
    "#### 3. Generate a 2x3x5 3-dimensional array with random values. Assign the array to variable *a*.\n",
    "**Challenge**: there are at least three easy ways that use numpy to generate random arrays. How many ways can you find?"
   ]
  },
  {
   "cell_type": "code",
   "execution_count": 3,
   "metadata": {},
   "outputs": [
    {
     "name": "stdout",
     "output_type": "stream",
     "text": [
      "[[[0.36704745 0.24428411 0.47029972 0.58249617 0.09658212]\n",
      "  [0.7808899  0.50439071 0.91697203 0.2419652  0.1567412 ]\n",
      "  [0.70298601 0.95177969 0.85124554 0.10414323 0.14751423]]\n",
      "\n",
      " [[0.21757986 0.00488311 0.24123398 0.07155413 0.96938402]\n",
      "  [0.8720248  0.43172407 0.55823346 0.79822439 0.20799196]\n",
      "  [0.65907921 0.58717602 0.05309138 0.1010592  0.94231373]]]\n"
     ]
    }
   ],
   "source": [
    "# Method 1: creates random list directly\n",
    "a=np.random.random((2,3,5))\n",
    "print(a)"
   ]
  },
  {
   "cell_type": "code",
   "execution_count": 4,
   "metadata": {},
   "outputs": [
    {
     "name": "stdout",
     "output_type": "stream",
     "text": [
      "[[[0.62340248 0.90504154 0.81110712 0.21753143 0.41462886]\n",
      "  [0.66410682 0.18940565 0.75835476 0.71683447 0.13332715]\n",
      "  [0.11621605 0.71921457 0.56135774 0.16528541 0.82766719]]\n",
      "\n",
      " [[0.45422522 0.06973413 0.31655746 0.34750384 0.88644479]\n",
      "  [0.91563821 0.63870142 0.78565447 0.6852313  0.25845043]\n",
      "  [0.87144026 0.43986854 0.10828717 0.65072006 0.95835724]]]\n"
     ]
    }
   ],
   "source": [
    "# Method 2: creates random matrix and then shapes it\n",
    "a=np.random.rand(30).reshape(2,3,5)\n",
    "print(a)"
   ]
  },
  {
   "cell_type": "code",
   "execution_count": 5,
   "metadata": {},
   "outputs": [
    {
     "name": "stdout",
     "output_type": "stream",
     "text": [
      "[[[93 84 94 54 86]\n",
      "  [44 16 30  3 83]\n",
      "  [87 78 67 50 64]]\n",
      "\n",
      " [[ 7 81 54 20 34]\n",
      "  [65 41 63  3 57]\n",
      "  [45 18 36 88 17]]]\n"
     ]
    }
   ],
   "source": [
    "# Method 3: select random number between two integers and then shape it\n",
    "a=np.random.randint(1,101,(2,3,5))\n",
    "print(a)"
   ]
  },
  {
   "cell_type": "markdown",
   "metadata": {},
   "source": [
    "#### 4. Print *a*.\n"
   ]
  },
  {
   "cell_type": "code",
   "execution_count": 6,
   "metadata": {},
   "outputs": [
    {
     "name": "stdout",
     "output_type": "stream",
     "text": [
      "[[[93 84 94 54 86]\n",
      "  [44 16 30  3 83]\n",
      "  [87 78 67 50 64]]\n",
      "\n",
      " [[ 7 81 54 20 34]\n",
      "  [65 41 63  3 57]\n",
      "  [45 18 36 88 17]]]\n"
     ]
    }
   ],
   "source": [
    "print(a)"
   ]
  },
  {
   "cell_type": "markdown",
   "metadata": {},
   "source": [
    "#### 5. Create a 5x2x3 3-dimensional array with all values equaling 1. Assign the array to variable *b*."
   ]
  },
  {
   "cell_type": "code",
   "execution_count": 7,
   "metadata": {},
   "outputs": [],
   "source": [
    "b=np.ones((5,2,3)) #Floating point numbers\n",
    "b=np.full((5,2,3),(1)) #Integers"
   ]
  },
  {
   "cell_type": "markdown",
   "metadata": {},
   "source": [
    "#### 6. Print *b*.\n"
   ]
  },
  {
   "cell_type": "code",
   "execution_count": 8,
   "metadata": {},
   "outputs": [
    {
     "name": "stdout",
     "output_type": "stream",
     "text": [
      "[[[1 1 1]\n",
      "  [1 1 1]]\n",
      "\n",
      " [[1 1 1]\n",
      "  [1 1 1]]\n",
      "\n",
      " [[1 1 1]\n",
      "  [1 1 1]]\n",
      "\n",
      " [[1 1 1]\n",
      "  [1 1 1]]\n",
      "\n",
      " [[1 1 1]\n",
      "  [1 1 1]]]\n"
     ]
    }
   ],
   "source": [
    "print(b)"
   ]
  },
  {
   "cell_type": "markdown",
   "metadata": {},
   "source": [
    "#### 7. Do *a* and *b* have the same size? How do you prove that in Python code?"
   ]
  },
  {
   "cell_type": "code",
   "execution_count": 9,
   "metadata": {},
   "outputs": [
    {
     "name": "stdout",
     "output_type": "stream",
     "text": [
      "30\n",
      "30\n"
     ]
    }
   ],
   "source": [
    "#Yes, a and b have the same size\n",
    "print(np.size(a))\n",
    "print(np.size(b))"
   ]
  },
  {
   "cell_type": "markdown",
   "metadata": {},
   "source": [
    "#### 8. Are you able to add *a* and *b*? Why or why not?\n"
   ]
  },
  {
   "cell_type": "code",
   "execution_count": 10,
   "metadata": {},
   "outputs": [
    {
     "name": "stdout",
     "output_type": "stream",
     "text": [
      "Shape a:  (2, 3, 5)\n",
      "Shape b:  (5, 2, 3)\n"
     ]
    },
    {
     "ename": "ValueError",
     "evalue": "operands could not be broadcast together with shapes (2,3,5) (5,2,3) ",
     "output_type": "error",
     "traceback": [
      "\u001b[0;31m---------------------------------------------------------------------------\u001b[0m",
      "\u001b[0;31mValueError\u001b[0m                                Traceback (most recent call last)",
      "\u001b[0;32m<ipython-input-10-a912c162b548>\u001b[0m in \u001b[0;36m<module>\u001b[0;34m\u001b[0m\n\u001b[1;32m      1\u001b[0m \u001b[0mprint\u001b[0m\u001b[0;34m(\u001b[0m\u001b[0;34m\"Shape a: \"\u001b[0m\u001b[0;34m,\u001b[0m \u001b[0mnp\u001b[0m\u001b[0;34m.\u001b[0m\u001b[0mshape\u001b[0m\u001b[0;34m(\u001b[0m\u001b[0ma\u001b[0m\u001b[0;34m)\u001b[0m\u001b[0;34m)\u001b[0m\u001b[0;34m\u001b[0m\u001b[0;34m\u001b[0m\u001b[0m\n\u001b[1;32m      2\u001b[0m \u001b[0mprint\u001b[0m\u001b[0;34m(\u001b[0m\u001b[0;34m\"Shape b: \"\u001b[0m\u001b[0;34m,\u001b[0m \u001b[0mnp\u001b[0m\u001b[0;34m.\u001b[0m\u001b[0mshape\u001b[0m\u001b[0;34m(\u001b[0m\u001b[0mb\u001b[0m\u001b[0;34m)\u001b[0m\u001b[0;34m)\u001b[0m\u001b[0;34m\u001b[0m\u001b[0;34m\u001b[0m\u001b[0m\n\u001b[0;32m----> 3\u001b[0;31m \u001b[0mprint\u001b[0m\u001b[0;34m(\u001b[0m\u001b[0mnp\u001b[0m\u001b[0;34m.\u001b[0m\u001b[0madd\u001b[0m\u001b[0;34m(\u001b[0m\u001b[0ma\u001b[0m\u001b[0;34m,\u001b[0m\u001b[0mb\u001b[0m\u001b[0;34m)\u001b[0m\u001b[0;34m)\u001b[0m\u001b[0;34m\u001b[0m\u001b[0;34m\u001b[0m\u001b[0m\n\u001b[0m\u001b[1;32m      4\u001b[0m \u001b[0;31m#We cannot add a and b because they have different shapes\u001b[0m\u001b[0;34m\u001b[0m\u001b[0;34m\u001b[0m\u001b[0;34m\u001b[0m\u001b[0m\n",
      "\u001b[0;31mValueError\u001b[0m: operands could not be broadcast together with shapes (2,3,5) (5,2,3) "
     ]
    }
   ],
   "source": [
    "print(\"Shape a: \", np.shape(a))\n",
    "print(\"Shape b: \", np.shape(b))\n",
    "print(np.add(a,b))\n",
    "#We cannot add a and b because they have different shapes\n"
   ]
  },
  {
   "cell_type": "markdown",
   "metadata": {},
   "source": [
    "#### 9. Transpose *b* so that it has the same structure of *a* (i.e. become a 2x3x5 array). Assign the transposed array to variable *c*."
   ]
  },
  {
   "cell_type": "code",
   "execution_count": 11,
   "metadata": {},
   "outputs": [
    {
     "name": "stdout",
     "output_type": "stream",
     "text": [
      "[[[1 1 1 1 1]\n",
      "  [1 1 1 1 1]\n",
      "  [1 1 1 1 1]]\n",
      "\n",
      " [[1 1 1 1 1]\n",
      "  [1 1 1 1 1]\n",
      "  [1 1 1 1 1]]]\n"
     ]
    }
   ],
   "source": [
    "c=b.reshape((2,3,5))\n",
    "print(c)"
   ]
  },
  {
   "cell_type": "markdown",
   "metadata": {},
   "source": [
    "#### 10. Try to add *a* and *c*. Now it should work. Assign the sum to variable *d*. But why does it work now?"
   ]
  },
  {
   "cell_type": "code",
   "execution_count": 12,
   "metadata": {},
   "outputs": [
    {
     "name": "stdout",
     "output_type": "stream",
     "text": [
      "[[[94 85 95 55 87]\n",
      "  [45 17 31  4 84]\n",
      "  [88 79 68 51 65]]\n",
      "\n",
      " [[ 8 82 55 21 35]\n",
      "  [66 42 64  4 58]\n",
      "  [46 19 37 89 18]]]\n"
     ]
    }
   ],
   "source": [
    "#Now we can add a and b because they have the same shape\n",
    "d=np.add(a,c)\n",
    "print(d)"
   ]
  },
  {
   "cell_type": "markdown",
   "metadata": {},
   "source": [
    "#### 11. Print *a* and *d*. Notice the difference and relation of the two array in terms of the values? Explain."
   ]
  },
  {
   "cell_type": "code",
   "execution_count": 13,
   "metadata": {},
   "outputs": [
    {
     "name": "stdout",
     "output_type": "stream",
     "text": [
      "Array a: \n",
      " [[[93 84 94 54 86]\n",
      "  [44 16 30  3 83]\n",
      "  [87 78 67 50 64]]\n",
      "\n",
      " [[ 7 81 54 20 34]\n",
      "  [65 41 63  3 57]\n",
      "  [45 18 36 88 17]]]\n",
      "\n",
      "Array d: \n",
      " [[[94 85 95 55 87]\n",
      "  [45 17 31  4 84]\n",
      "  [88 79 68 51 65]]\n",
      "\n",
      " [[ 8 82 55 21 35]\n",
      "  [66 42 64  4 58]\n",
      "  [46 19 37 89 18]]]\n"
     ]
    }
   ],
   "source": [
    "print(\"Array a: \\n\", a)\n",
    "print(\"\\nArray d: \\n\", d)\n",
    "#For each of the values in the same position of the two matrix, d=a+1, where 1 comes from variable c. Thus d=a+c"
   ]
  },
  {
   "cell_type": "markdown",
   "metadata": {},
   "source": [
    "#### 12. Multiply *a* and *c*. Assign the result to *e*."
   ]
  },
  {
   "cell_type": "code",
   "execution_count": 14,
   "metadata": {},
   "outputs": [
    {
     "name": "stdout",
     "output_type": "stream",
     "text": [
      "[[[93 84 94 54 86]\n",
      "  [44 16 30  3 83]\n",
      "  [87 78 67 50 64]]\n",
      "\n",
      " [[ 7 81 54 20 34]\n",
      "  [65 41 63  3 57]\n",
      "  [45 18 36 88 17]]]\n"
     ]
    }
   ],
   "source": [
    "e=np.multiply(a,c)\n",
    "print(e)"
   ]
  },
  {
   "cell_type": "markdown",
   "metadata": {},
   "source": [
    "#### 13. Does *e* equal to *a*? Why or why not?\n"
   ]
  },
  {
   "cell_type": "code",
   "execution_count": 15,
   "metadata": {},
   "outputs": [
    {
     "name": "stdout",
     "output_type": "stream",
     "text": [
      "[[[ True  True  True  True  True]\n",
      "  [ True  True  True  True  True]\n",
      "  [ True  True  True  True  True]]\n",
      "\n",
      " [[ True  True  True  True  True]\n",
      "  [ True  True  True  True  True]\n",
      "  [ True  True  True  True  True]]]\n"
     ]
    }
   ],
   "source": [
    "print(e==a)\n",
    "#Yes, since array c is filled with 1s. By multiplying a*c (a*1 for every element in a), the new array e is equal to a"
   ]
  },
  {
   "cell_type": "markdown",
   "metadata": {},
   "source": [
    "#### 14. Identify the max, min, and mean values in *d*. Assign those values to variables *d_max*, *d_min* and *d_mean*."
   ]
  },
  {
   "cell_type": "code",
   "execution_count": 16,
   "metadata": {},
   "outputs": [
    {
     "name": "stdout",
     "output_type": "stream",
     "text": [
      "Max: 95 \n",
      "Min: 4 \n",
      "Mean: 53.06666666666667\n"
     ]
    }
   ],
   "source": [
    "d_max=d.max()\n",
    "d_min=d.min()\n",
    "d_mean=d.mean()\n",
    "\n",
    "print(\"Max:\", d_max, \"\\nMin:\", d_min, \"\\nMean:\", d_mean)"
   ]
  },
  {
   "cell_type": "markdown",
   "metadata": {},
   "source": [
    "#### 15. Now we want to label the values in *d*. First create an empty array *f* with the same shape (i.e. 2x3x5) as *d* using `np.empty`.\n"
   ]
  },
  {
   "cell_type": "code",
   "execution_count": 18,
   "metadata": {},
   "outputs": [
    {
     "name": "stdout",
     "output_type": "stream",
     "text": [
      "[[[1.28822975e-231 1.28822975e-231 8.89318163e-323 0.00000000e+000\n",
      "   2.12199579e-314]\n",
      "  [5.02034658e+175 7.78644017e-071 2.58392330e-057 9.42605784e-047\n",
      "   1.48971707e+161]\n",
      "  [1.47763641e+248 1.16096346e-028 7.69165785e+218 1.35617292e+248\n",
      "   2.56366495e+184]]\n",
      "\n",
      " [[1.18833574e-075 5.24958638e+170 1.79584055e-052 4.30347687e-096\n",
      "   6.32299154e+233]\n",
      "  [6.48224638e+170 5.22411352e+257 5.74020278e+180 8.37174974e-144\n",
      "   1.41529402e+161]\n",
      "  [6.00736899e-067 5.16823474e+097 2.11183481e-052 3.08130896e+126\n",
      "   2.28510507e-314]]]\n"
     ]
    }
   ],
   "source": [
    "f=np.empty((2,3,5))\n",
    "print(f)"
   ]
  },
  {
   "cell_type": "markdown",
   "metadata": {},
   "source": [
    "#### 16. Populate the values in *f*. \n",
    "\n",
    "For each value in *d*, if it's larger than *d_min* but smaller than *d_mean*, assign 25 to the corresponding value in *f*. If a value in *d* is larger than *d_mean* but smaller than *d_max*, assign 75 to the corresponding value in *f*. If a value equals to *d_mean*, assign 50 to the corresponding value in *f*. Assign 0 to the corresponding value(s) in *f* for *d_min* in *d*. Assign 100 to the corresponding value(s) in *f* for *d_max* in *d*. In the end, f should have only the following values: 0, 25, 50, 75, and 100.\n",
    "\n",
    "**Note**: you don't have to use Numpy in this question."
   ]
  },
  {
   "cell_type": "code",
   "execution_count": 37,
   "metadata": {},
   "outputs": [
    {
     "name": "stdout",
     "output_type": "stream",
     "text": [
      "[[[ 75.  75. 100.  75.  75.]\n",
      "  [ 25.  25.  25.   0.  75.]\n",
      "  [ 75.  75.  75.  25.  75.]]\n",
      "\n",
      " [[ 25.  75.  75.  25.  25.]\n",
      "  [ 75.  25.  75.   0.  75.]\n",
      "  [ 25.  25.  25.  75.  25.]]]\n"
     ]
    }
   ],
   "source": [
    "# numpy.where(condition[, x, y])\n",
    "# numpy.where(condiction, value if condition is met, value if not)\n",
    "f = np.where((d > d_min) & (d < d_mean), 25, f)\n",
    "f = np.where((d > d_mean) & (d < d_max), 75, f)\n",
    "f = np.where((d == d_mean), 50, f)\n",
    "f = np.where((d == d_min), 0, f)\n",
    "f = np.where((d == d_max), 100, f)\n",
    "print(f)"
   ]
  },
  {
   "cell_type": "markdown",
   "metadata": {},
   "source": [
    "#### 17. Print *d* and *f*. Do you have your expected *f*?\n",
    "For instance, if your *d* is:\n",
    "```python\n",
    "[[[1.85836099, 1.67064465, 1.62576044, 1.40243961, 1.88454931],\n",
    "[1.75354326, 1.69403643, 1.36729252, 1.61415071, 1.12104981],\n",
    "[1.72201435, 1.1862918 , 1.87078449, 1.7726778 , 1.88180042]],\n",
    "[[1.44747908, 1.31673383, 1.02000951, 1.52218947, 1.97066381],\n",
    "[1.79129243, 1.74983003, 1.96028037, 1.85166831, 1.65450881],\n",
    "[1.18068344, 1.9587381 , 1.00656599, 1.93402165, 1.73514584]]]\n",
    "```\n",
    "Your *f* should be:\n",
    "```python\n",
    "[[[ 75.,  75.,  75.,  25.,  75.],\n",
    "[ 75.,  75.,  25.,  25.,  25.],\n",
    "[ 75.,  25.,  75.,  75.,  75.]],\n",
    "[[ 25.,  25.,  25.,  25., 100.],\n",
    "[ 75.,  75.,  75.,  75.,  75.],\n",
    "[ 25.,  75.,   0.,  75.,  75.]]]\n",
    "```"
   ]
  },
  {
   "cell_type": "code",
   "execution_count": 20,
   "metadata": {},
   "outputs": [
    {
     "name": "stdout",
     "output_type": "stream",
     "text": [
      "Max: 95 \n",
      "Min: 4 \n",
      "Mean: 53.06666666666667\n",
      "array d: \n",
      " [[[94 85 95 55 87]\n",
      "  [45 17 31  4 84]\n",
      "  [88 79 68 51 65]]\n",
      "\n",
      " [[ 8 82 55 21 35]\n",
      "  [66 42 64  4 58]\n",
      "  [46 19 37 89 18]]] \n",
      "array f: \n",
      " [[[ 75.  75. 100.  75.  75.]\n",
      "  [ 25.  25.  25.   0.  75.]\n",
      "  [ 75.  75.  75.  25.  75.]]\n",
      "\n",
      " [[ 25.  75.  75.  25.  25.]\n",
      "  [ 75.  25.  75.   0.  75.]\n",
      "  [ 25.  25.  25.  75.  25.]]]\n"
     ]
    }
   ],
   "source": [
    "print(\"Max:\", d_max, \"\\nMin:\", d_min, \"\\nMean:\", d_mean)\n",
    "print(\"array d: \\n\", d, \"\\narray f: \\n\", f)\n",
    "#Yes, the output is correct"
   ]
  },
  {
   "cell_type": "markdown",
   "metadata": {},
   "source": [
    "#### 18. Bonus question: instead of using numbers (i.e. 0, 25, 50, 75, and 100), use string values  (\"A\", \"B\", \"C\", \"D\", and \"E\") to label the array elements. For the example above, the expected result is:\n",
    "\n",
    "```python\n",
    "[[[ 'D',  'D',  'D',  'B',  'D'],\n",
    "[ 'D',  'D',  'B',  'B',  'B'],\n",
    "[ 'D',  'B',  'D',  'D',  'D']],\n",
    "[[ 'B',  'B',  'B',  'B',  'E'],\n",
    "[ 'D',  'D',  'D',  'D',  'D'],\n",
    "[ 'B',  'D',   'A',  'D', 'D']]]\n",
    "```\n",
    "**Note**: you don't have to use Numpy in this question."
   ]
  },
  {
   "cell_type": "code",
   "execution_count": 26,
   "metadata": {},
   "outputs": [
    {
     "name": "stdout",
     "output_type": "stream",
     "text": [
      "[[[ 75.  75. 100.  75.  75.]\n",
      "  [ 25.  25.  25.   0.  75.]\n",
      "  [ 75.  75.  75.  25.  75.]]\n",
      "\n",
      " [[ 25.  75.  75.  25.  25.]\n",
      "  [ 75.  25.  75.   0.  75.]\n",
      "  [ 25.  25.  25.  75.  25.]]]\n"
     ]
    }
   ],
   "source": [
    "for x in range(2):\n",
    "    for y in range(3):\n",
    "        for z in range(5):\n",
    "            if (d[x,y,z] > d_min) & (d[x,y,z] < d_mean):\n",
    "                f[x,y,z] = 25\n",
    "            elif (d[x,y,z] > d_mean) & (d[x,y,z] < d_max):\n",
    "                f[x,y,z] = 75\n",
    "            elif d[x,y,z] == d_mean:\n",
    "                f[x,y,z] = 50\n",
    "            elif d[x,y,z] == d_min:\n",
    "                f[x,y,z] = 0\n",
    "            else:\n",
    "                f[x,y,z] = 100\n",
    "print(f)"
   ]
  }
 ],
 "metadata": {
  "kernelspec": {
   "display_name": "Python 3",
   "language": "python",
   "name": "python3"
  },
  "language_info": {
   "codemirror_mode": {
    "name": "ipython",
    "version": 3
   },
   "file_extension": ".py",
   "mimetype": "text/x-python",
   "name": "python",
   "nbconvert_exporter": "python",
   "pygments_lexer": "ipython3",
   "version": "3.8.2"
  }
 },
 "nbformat": 4,
 "nbformat_minor": 2
}
