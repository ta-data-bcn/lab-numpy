{
 "cells": [
  {
   "cell_type": "markdown",
   "metadata": {},
   "source": [
    "# Intrduction to NumPy\n",
    "\n",
    "\n",
    "#### 1. Import NumPy under the name np."
   ]
  },
  {
   "cell_type": "code",
   "execution_count": 92,
   "metadata": {},
   "outputs": [],
   "source": [
    "# your code here\n",
    "import numpy as np\n",
    "import random"
   ]
  },
  {
   "cell_type": "markdown",
   "metadata": {},
   "source": [
    "#### 2. Print your NumPy version."
   ]
  },
  {
   "cell_type": "code",
   "execution_count": 10,
   "metadata": {},
   "outputs": [
    {
     "name": "stdout",
     "output_type": "stream",
     "text": [
      "The numpy version is 1.16.4\n"
     ]
    }
   ],
   "source": [
    "# your code here\n",
    "\n",
    "print(f\"The numpy version is {np.version.version}\")"
   ]
  },
  {
   "cell_type": "markdown",
   "metadata": {},
   "source": [
    "#### 3. Generate a 2x3x5 3-dimensional array with random values. Assign the array to variable *a*.\n",
    "**Challenge**: there are at least three easy ways that use numpy to generate random arrays. How many ways can you find?"
   ]
  },
  {
   "cell_type": "code",
   "execution_count": 12,
   "metadata": {},
   "outputs": [
    {
     "name": "stdout",
     "output_type": "stream",
     "text": [
      "[[[0.19448524 0.40321868 0.33451247 0.98605856 0.07839492]\n",
      "  [0.21025257 0.53416957 0.79160611 0.57453667 0.67905504]\n",
      "  [0.09211275 0.81183281 0.35636836 0.62135722 0.72310258]]\n",
      "\n",
      " [[0.26814259 0.6626864  0.56195668 0.80390559 0.13718816]\n",
      "  [0.39911868 0.84774579 0.35507831 0.32171763 0.94472138]\n",
      "  [0.59090716 0.4587232  0.37296129 0.02739155 0.34162113]]]\n",
      "<class 'numpy.ndarray'>\n"
     ]
    }
   ],
   "source": [
    "# Method 1\n",
    "#Random values in a given shape.\n",
    "\n",
    "#Create an array of the given shape and populate it with random samples from a uniform distribution over [0, 1).\n",
    "\n",
    "a = np.random.rand(2,3,5)\n",
    "print(a)\n",
    "print(type(a))"
   ]
  },
  {
   "cell_type": "code",
   "execution_count": 13,
   "metadata": {},
   "outputs": [
    {
     "name": "stdout",
     "output_type": "stream",
     "text": [
      "[[[15 23 30 43 24]\n",
      "  [95  9 44 69 25]\n",
      "  [71 79  1  5 55]]\n",
      "\n",
      " [[55 21 35 88 51]\n",
      "  [56 75 75 22 62]\n",
      "  [38 52 32 99 85]]]\n",
      "<class 'numpy.ndarray'>\n"
     ]
    }
   ],
   "source": [
    "# Method 2\n",
    "\n",
    "#In this case I am using the method called randint that creates random values that are integer and within the range\n",
    "# that we specify (in this case, 100)\n",
    "\n",
    "a= np.random.randint(100, size=(2,3,5))\n",
    "print(a)\n",
    "print(type(a))"
   ]
  },
  {
   "cell_type": "code",
   "execution_count": 16,
   "metadata": {},
   "outputs": [
    {
     "name": "stdout",
     "output_type": "stream",
     "text": [
      "[[[0.34856234 0.61442485 0.4027637  0.11821468 0.31878001]\n",
      "  [0.42582523 0.573911   0.48464956 0.74206982 0.94424309]\n",
      "  [0.87669366 0.8828471  0.43477378 0.231857   0.90437804]]\n",
      "\n",
      " [[0.45239636 0.50302279 0.86504802 0.46037055 0.82653688]\n",
      "  [0.88626029 0.02216827 0.55249528 0.99904508 0.03737492]\n",
      "  [0.9289897  0.44170874 0.71842824 0.44035006 0.8543281 ]]]\n",
      "<class 'numpy.ndarray'>\n"
     ]
    }
   ],
   "source": [
    "# Method 3\n",
    "\n",
    "a = np.random.random_sample((2,3,5))\n",
    "print(a)\n",
    "print(type(a))"
   ]
  },
  {
   "cell_type": "markdown",
   "metadata": {},
   "source": [
    "#### 4. Print *a*.\n"
   ]
  },
  {
   "cell_type": "code",
   "execution_count": 17,
   "metadata": {},
   "outputs": [
    {
     "name": "stdout",
     "output_type": "stream",
     "text": [
      "[[[0.34856234 0.61442485 0.4027637  0.11821468 0.31878001]\n",
      "  [0.42582523 0.573911   0.48464956 0.74206982 0.94424309]\n",
      "  [0.87669366 0.8828471  0.43477378 0.231857   0.90437804]]\n",
      "\n",
      " [[0.45239636 0.50302279 0.86504802 0.46037055 0.82653688]\n",
      "  [0.88626029 0.02216827 0.55249528 0.99904508 0.03737492]\n",
      "  [0.9289897  0.44170874 0.71842824 0.44035006 0.8543281 ]]]\n"
     ]
    }
   ],
   "source": [
    "# your code here\n",
    "print(a)\n"
   ]
  },
  {
   "cell_type": "markdown",
   "metadata": {},
   "source": [
    "#### 5. Create a 5x2x3 3-dimensional array with all values equaling 1. Assign the array to variable *b*."
   ]
  },
  {
   "cell_type": "code",
   "execution_count": 18,
   "metadata": {},
   "outputs": [],
   "source": [
    "# your code here\n",
    "b = np.ones((5,2,3))"
   ]
  },
  {
   "cell_type": "markdown",
   "metadata": {},
   "source": [
    "#### 6. Print *b*.\n"
   ]
  },
  {
   "cell_type": "code",
   "execution_count": 20,
   "metadata": {},
   "outputs": [
    {
     "name": "stdout",
     "output_type": "stream",
     "text": [
      "[[[1. 1. 1.]\n",
      "  [1. 1. 1.]]\n",
      "\n",
      " [[1. 1. 1.]\n",
      "  [1. 1. 1.]]\n",
      "\n",
      " [[1. 1. 1.]\n",
      "  [1. 1. 1.]]\n",
      "\n",
      " [[1. 1. 1.]\n",
      "  [1. 1. 1.]]\n",
      "\n",
      " [[1. 1. 1.]\n",
      "  [1. 1. 1.]]]\n"
     ]
    }
   ],
   "source": [
    "# your code here\n",
    "print(b)"
   ]
  },
  {
   "cell_type": "markdown",
   "metadata": {},
   "source": [
    "#### 7. Do *a* and *b* have the same size? How do you prove that in Python code?"
   ]
  },
  {
   "cell_type": "code",
   "execution_count": 21,
   "metadata": {},
   "outputs": [
    {
     "name": "stdout",
     "output_type": "stream",
     "text": [
      "(2, 3, 5)\n",
      "(5, 2, 3)\n"
     ]
    }
   ],
   "source": [
    "# your code here\n",
    "print(a.shape)\n",
    "print(b.shape)\n",
    "\n",
    "#No, they don't have the same size\n",
    "\n",
    "# Matrix a has 2 x 3 x 5 and matrix b has 5x2x3"
   ]
  },
  {
   "cell_type": "markdown",
   "metadata": {},
   "source": [
    "#### 8. Are you able to add *a* and *b*? Why or why not?\n"
   ]
  },
  {
   "cell_type": "code",
   "execution_count": 23,
   "metadata": {},
   "outputs": [
    {
     "ename": "ValueError",
     "evalue": "operands could not be broadcast together with shapes (2,3,5) (5,2,3) ",
     "output_type": "error",
     "traceback": [
      "\u001b[0;31m---------------------------------------------------------------------------\u001b[0m",
      "\u001b[0;31mValueError\u001b[0m                                Traceback (most recent call last)",
      "\u001b[0;32m<ipython-input-23-49b1396e5831>\u001b[0m in \u001b[0;36m<module>\u001b[0;34m\u001b[0m\n\u001b[1;32m      1\u001b[0m \u001b[0;31m# your answer here\u001b[0m\u001b[0;34m\u001b[0m\u001b[0;34m\u001b[0m\u001b[0;34m\u001b[0m\u001b[0m\n\u001b[1;32m      2\u001b[0m \u001b[0;34m\u001b[0m\u001b[0m\n\u001b[0;32m----> 3\u001b[0;31m \u001b[0mc\u001b[0m\u001b[0;34m=\u001b[0m \u001b[0mnp\u001b[0m\u001b[0;34m.\u001b[0m\u001b[0madd\u001b[0m\u001b[0;34m(\u001b[0m\u001b[0ma\u001b[0m\u001b[0;34m,\u001b[0m\u001b[0mb\u001b[0m\u001b[0;34m)\u001b[0m\u001b[0;34m\u001b[0m\u001b[0;34m\u001b[0m\u001b[0m\n\u001b[0m",
      "\u001b[0;31mValueError\u001b[0m: operands could not be broadcast together with shapes (2,3,5) (5,2,3) "
     ]
    }
   ],
   "source": [
    "# your answer here\n",
    "\n",
    "c= np.add(a,b)\n",
    "\n",
    "#It can't be done due to different shapes of a and b "
   ]
  },
  {
   "cell_type": "markdown",
   "metadata": {},
   "source": [
    "#### 9. Transpose *b* so that it has the same structure of *a* (i.e. become a 2x3x5 array). Assign the transposed array to variable *c*."
   ]
  },
  {
   "cell_type": "code",
   "execution_count": 40,
   "metadata": {},
   "outputs": [
    {
     "name": "stdout",
     "output_type": "stream",
     "text": [
      "(2, 3, 5)\n"
     ]
    }
   ],
   "source": [
    "# your code here\n",
    "\n",
    "c = b.transpose((1,2,0))\n",
    "\n",
    "#print(c)\n",
    "print(np.shape(c))\n",
    "\n",
    "# the axes 0,1,2 are equal to sheets, rows, and columns, meaning as z y x. In this case we have two sheets (z=2),\n",
    "# 3 rows (y=3) and 5 columns (x=5). "
   ]
  },
  {
   "cell_type": "markdown",
   "metadata": {},
   "source": [
    "#### 10. Try to add *a* and *c*. Now it should work. Assign the sum to variable *d*. But why does it work now?"
   ]
  },
  {
   "cell_type": "code",
   "execution_count": 41,
   "metadata": {},
   "outputs": [],
   "source": [
    "# your code/answer here\n",
    "\n",
    "d = np.add(a,c)"
   ]
  },
  {
   "cell_type": "markdown",
   "metadata": {},
   "source": [
    "#### 11. Print *a* and *d*. Notice the difference and relation of the two array in terms of the values? Explain."
   ]
  },
  {
   "cell_type": "code",
   "execution_count": 43,
   "metadata": {},
   "outputs": [
    {
     "name": "stdout",
     "output_type": "stream",
     "text": [
      "[[[0.34856234 0.61442485 0.4027637  0.11821468 0.31878001]\n",
      "  [0.42582523 0.573911   0.48464956 0.74206982 0.94424309]\n",
      "  [0.87669366 0.8828471  0.43477378 0.231857   0.90437804]]\n",
      "\n",
      " [[0.45239636 0.50302279 0.86504802 0.46037055 0.82653688]\n",
      "  [0.88626029 0.02216827 0.55249528 0.99904508 0.03737492]\n",
      "  [0.9289897  0.44170874 0.71842824 0.44035006 0.8543281 ]]]\n",
      "\n",
      "[[[1.34856234 1.61442485 1.4027637  1.11821468 1.31878001]\n",
      "  [1.42582523 1.573911   1.48464956 1.74206982 1.94424309]\n",
      "  [1.87669366 1.8828471  1.43477378 1.231857   1.90437804]]\n",
      "\n",
      " [[1.45239636 1.50302279 1.86504802 1.46037055 1.82653688]\n",
      "  [1.88626029 1.02216827 1.55249528 1.99904508 1.03737492]\n",
      "  [1.9289897  1.44170874 1.71842824 1.44035006 1.8543281 ]]]\n"
     ]
    }
   ],
   "source": [
    "# your code/answer here\n",
    "\n",
    "print(a)\n",
    "print(\"\")\n",
    "print(d)\n",
    "\n",
    "#We have added a to c, and c is a matrix 2x3x5 filled in with ones. That means that when we add the two of them \n",
    "#we are summing the cell 1,1,1 of a (0.34) to the cell 1,1,1 of c that is 1. meaning that the new d cell 1,1,1 will\n",
    "#be equal to 1,34."
   ]
  },
  {
   "cell_type": "markdown",
   "metadata": {},
   "source": [
    "#### 12. Multiply *a* and *c*. Assign the result to *e*."
   ]
  },
  {
   "cell_type": "code",
   "execution_count": 45,
   "metadata": {},
   "outputs": [
    {
     "name": "stdout",
     "output_type": "stream",
     "text": [
      "[[[0.34856234 0.61442485 0.4027637  0.11821468 0.31878001]\n",
      "  [0.42582523 0.573911   0.48464956 0.74206982 0.94424309]\n",
      "  [0.87669366 0.8828471  0.43477378 0.231857   0.90437804]]\n",
      "\n",
      " [[0.45239636 0.50302279 0.86504802 0.46037055 0.82653688]\n",
      "  [0.88626029 0.02216827 0.55249528 0.99904508 0.03737492]\n",
      "  [0.9289897  0.44170874 0.71842824 0.44035006 0.8543281 ]]]\n"
     ]
    }
   ],
   "source": [
    "# your code here\n",
    "e = np.multiply(a,c)\n",
    "print(e)"
   ]
  },
  {
   "cell_type": "markdown",
   "metadata": {},
   "source": [
    "#### 13. Does *e* equal to *a*? Why or why not?\n"
   ]
  },
  {
   "cell_type": "code",
   "execution_count": 47,
   "metadata": {},
   "outputs": [
    {
     "name": "stdout",
     "output_type": "stream",
     "text": [
      "[[[0.34856234 0.61442485 0.4027637  0.11821468 0.31878001]\n",
      "  [0.42582523 0.573911   0.48464956 0.74206982 0.94424309]\n",
      "  [0.87669366 0.8828471  0.43477378 0.231857   0.90437804]]\n",
      "\n",
      " [[0.45239636 0.50302279 0.86504802 0.46037055 0.82653688]\n",
      "  [0.88626029 0.02216827 0.55249528 0.99904508 0.03737492]\n",
      "  [0.9289897  0.44170874 0.71842824 0.44035006 0.8543281 ]]]\n"
     ]
    },
    {
     "data": {
      "text/plain": [
       "True"
      ]
     },
     "execution_count": 47,
     "metadata": {},
     "output_type": "execute_result"
    }
   ],
   "source": [
    "# your code/answer here\n",
    "print(a)\n",
    "np.array_equal(e,a)\n",
    "\n",
    "# Yes, they are equal, because we are multiplying a that is a random matrix of values between 0,1 to c that is a matrix \n",
    "#filled in with ones. In this case, the numpy multiply function multiplies element-wise the two matrixes. \n",
    "# this is why e is equal to a. "
   ]
  },
  {
   "cell_type": "markdown",
   "metadata": {},
   "source": [
    "#### 14. Identify the max, min, and mean values in *d*. Assign those values to variables *d_max*, *d_min* and *d_mean*."
   ]
  },
  {
   "cell_type": "code",
   "execution_count": 53,
   "metadata": {},
   "outputs": [
    {
     "name": "stdout",
     "output_type": "stream",
     "text": [
      "1.999045081395328\n",
      "1.0221682745388168\n",
      "1.5764172380543477\n"
     ]
    }
   ],
   "source": [
    "# your code here\n",
    "\n",
    "d_max= np.max(d)\n",
    "d_min= np.min(d)\n",
    "d_mean= np.mean(d)\n",
    "print(d_max)\n",
    "print(d_min)\n",
    "print(d_mean)"
   ]
  },
  {
   "cell_type": "markdown",
   "metadata": {},
   "source": [
    "#### 15. Now we want to label the values in *d*. First create an empty array *f* with the same shape (i.e. 2x3x5) as *d* using `np.empty`.\n"
   ]
  },
  {
   "cell_type": "code",
   "execution_count": 63,
   "metadata": {},
   "outputs": [
    {
     "name": "stdout",
     "output_type": "stream",
     "text": [
      "[[[0.34856234 0.61442485 0.4027637  0.11821468 0.31878001]\n",
      "  [0.42582523 0.573911   0.48464956 0.74206982 0.94424309]\n",
      "  [0.87669366 0.8828471  0.43477378 0.231857   0.90437804]]\n",
      "\n",
      " [[0.45239636 0.50302279 0.86504802 0.46037055 0.82653688]\n",
      "  [0.88626029 0.02216827 0.55249528 0.99904508 0.03737492]\n",
      "  [0.9289897  0.44170874 0.71842824 0.44035006 0.8543281 ]]]\n"
     ]
    }
   ],
   "source": [
    "# your code here\n",
    "f = np.empty((2,3,5))\n",
    "print(f)"
   ]
  },
  {
   "cell_type": "markdown",
   "metadata": {},
   "source": [
    "#### 16. Populate the values in *f*. \n",
    "\n",
    "For each value in *d*, if it's larger than *d_min* but smaller than *d_mean*, assign 25 to the corresponding value in *f*. If a value in *d* is larger than *d_mean* but smaller than *d_max*, assign 75 to the corresponding value in *f*. If a value equals to *d_mean*, assign 50 to the corresponding value in *f*. Assign 0 to the corresponding value(s) in *f* for *d_min* in *d*. Assign 100 to the corresponding value(s) in *f* for *d_max* in *d*. In the end, f should have only the following values: 0, 25, 50, 75, and 100.\n",
    "\n",
    "**Note**: you don't have to use Numpy in this question."
   ]
  },
  {
   "cell_type": "code",
   "execution_count": 77,
   "metadata": {},
   "outputs": [],
   "source": [
    "# your code here\n",
    "\n",
    "\n",
    "#%timeit list([((i,j,k), X[i,j,k]) for i in range(X.shape[0]) for j in range(X.shape[1]) for k in range(X.shape[2])])\n",
    "for x in range (d.shape[0]):\n",
    "    for y in range (d.shape[1]): \n",
    "        for z in range(d.shape[2]): \n",
    "            if d[x,y,z] > d_min and d[x,y,z] <d_mean: \n",
    "            \n",
    "                f[x,y,z] = 25\n",
    "                \n",
    "            elif d[x,y,z] > d_mean and d[x,y,z] <d_max: \n",
    "                f[x,y,z] = 75\n",
    "            elif d[x,y,z] == d_mean: \n",
    "                f[x,y,z] = 50\n",
    "            elif d[x,y,z] == d_min: \n",
    "                f[x,y,z] = 0\n",
    "            elif d[x,y,z] == d_max:\n",
    "                f[x,y,z] =100\n",
    "\n"
   ]
  },
  {
   "cell_type": "markdown",
   "metadata": {},
   "source": [
    "#### 17. Print *d* and *f*. Do you have your expected *f*?\n",
    "For instance, if your *d* is:\n",
    "```python\n",
    "[[[1.85836099, 1.67064465, 1.62576044, 1.40243961, 1.88454931],\n",
    "[1.75354326, 1.69403643, 1.36729252, 1.61415071, 1.12104981],\n",
    "[1.72201435, 1.1862918 , 1.87078449, 1.7726778 , 1.88180042]],\n",
    "[[1.44747908, 1.31673383, 1.02000951, 1.52218947, 1.97066381],\n",
    "[1.79129243, 1.74983003, 1.96028037, 1.85166831, 1.65450881],\n",
    "[1.18068344, 1.9587381 , 1.00656599, 1.93402165, 1.73514584]]]\n",
    "```\n",
    "Your *f* should be:\n",
    "```python\n",
    "[[[ 75.,  75.,  75.,  25.,  75.],\n",
    "[ 75.,  75.,  25.,  25.,  25.],\n",
    "[ 75.,  25.,  75.,  75.,  75.]],\n",
    "[[ 25.,  25.,  25.,  25., 100.],\n",
    "[ 75.,  75.,  75.,  75.,  75.],\n",
    "[ 25.,  75.,   0.,  75.,  75.]]]\n",
    "```"
   ]
  },
  {
   "cell_type": "code",
   "execution_count": 80,
   "metadata": {},
   "outputs": [
    {
     "name": "stdout",
     "output_type": "stream",
     "text": [
      "[[[ 25.  75.  25.  25.  25.]\n",
      "  [ 25.  25.  25.  75.  75.]\n",
      "  [ 75.  75.  25.  25.  75.]]\n",
      "\n",
      " [[ 25.  25.  75.  25.  75.]\n",
      "  [ 75.   0.  25. 100.  25.]\n",
      "  [ 75.  25.  75.  25.  75.]]]\n",
      "Yes, I have my expected f matrix\n"
     ]
    }
   ],
   "source": [
    "# your code here\n",
    "print(f)\n",
    "\n",
    "print(\"Yes, I have my expected f matrix\")\n",
    "\n",
    "#print(d_min)\n",
    "#print(d_max)\n",
    "#print(d_mean)\n",
    "#print(d)"
   ]
  },
  {
   "cell_type": "markdown",
   "metadata": {},
   "source": [
    "#### 18. Bonus question: instead of using numbers (i.e. 0, 25, 50, 75, and 100), use string values  (\"A\", \"B\", \"C\", \"D\", and \"E\") to label the array elements. For the example above, the expected result is:\n",
    "\n",
    "```python\n",
    "[[[ 'D',  'D',  'D',  'B',  'D'],\n",
    "[ 'D',  'D',  'B',  'B',  'B'],\n",
    "[ 'D',  'B',  'D',  'D',  'D']],\n",
    "[[ 'B',  'B',  'B',  'B',  'E'],\n",
    "[ 'D',  'D',  'D',  'D',  'D'],\n",
    "[ 'B',  'D',   'A',  'D', 'D']]]\n",
    "```\n",
    "**Note**: you don't have to use Numpy in this question."
   ]
  },
  {
   "cell_type": "code",
   "execution_count": 115,
   "metadata": {},
   "outputs": [
    {
     "name": "stdout",
     "output_type": "stream",
     "text": [
      "[[['' '' '' '' '']\n",
      "  ['' '' '' '' '']\n",
      "  ['' '' '' '' '']]\n",
      "\n",
      " [['' '' '' '' '']\n",
      "  ['' '' '' '' '']\n",
      "  ['' '' '' '' '']]]\n",
      "[[[b'B' b'D' b'B' b'B' b'B']\n",
      "  [b'B' b'B' b'B' b'D' b'D']\n",
      "  [b'D' b'D' b'B' b'B' b'D']]\n",
      "\n",
      " [[b'B' b'B' b'D' b'B' b'D']\n",
      "  [b'D' b'A' b'B' b'E' b'B']\n",
      "  [b'D' b'B' b'D' b'B' b'D']]]\n"
     ]
    }
   ],
   "source": [
    "# your code here\n",
    "#f_list=[ [[random.random() for x in range(2) ] for y in range(3)] for z in range(5)]\n",
    "#print(f_list)\n",
    " \n",
    "f_char = np.chararray((2,3,5))\n",
    "f_char[:] = ' '\n",
    "print(f_char)\n",
    "\n",
    "for x in range (d.shape[0]):\n",
    "    for y in range (d.shape[1]): \n",
    "        for z in range(d.shape[2]): \n",
    "            if d[x,y,z] > d_min and d[x,y,z] <d_mean: \n",
    "            \n",
    "                f_char[x,y,z] = 'B'\n",
    "            elif d[x,y,z] > d_mean and d[x,y,z] <d_max: \n",
    "                f_char[x,y,z] = 'D'\n",
    "            elif d[x,y,z] == d_mean: \n",
    "                f_char[x,y,z] = 'C'\n",
    "            elif d[x,y,z] == d_min: \n",
    "                f_char[x,y,z] ='A'\n",
    "            elif d[x,y,z] == d_max:\n",
    "                f_char[x,y,z] ='E'\n",
    "\n",
    "                \"\"\"\n",
    "\n",
    "for x in range (d.shape[0]):\n",
    "    for y in range (d.shape[1]): \n",
    "        for z in range(d.shape[2]): \n",
    "            \n",
    "            if d[x,y,z] > d_min and d[x,y,z] <d_mean: \n",
    "            \n",
    "                f_list[x][y][z] = 'B'\n",
    "                \n",
    "            elif d[x,y,z] > d_mean and d[x,y,z] <d_max: \n",
    "                f_list[x][y][z] = 'D'\n",
    "                \n",
    "            elif d[x,y,z] == d_mean: \n",
    "                f_list[x][y][z] = 'C'\n",
    "                \n",
    "            elif d[x,y,z] == d_min: \n",
    "                f_list[x][y][z] = 'A'\n",
    "                \n",
    "            elif d[x,y,z] == d_max:\n",
    "                f_list[x][y][z] ='E'\n",
    "\"\"\"\n",
    "                \n",
    "print(f_char)"
   ]
  }
 ],
 "metadata": {
  "kernelspec": {
   "display_name": "Python 3",
   "language": "python",
   "name": "python3"
  },
  "language_info": {
   "codemirror_mode": {
    "name": "ipython",
    "version": 3
   },
   "file_extension": ".py",
   "mimetype": "text/x-python",
   "name": "python",
   "nbconvert_exporter": "python",
   "pygments_lexer": "ipython3",
   "version": "3.7.3"
  }
 },
 "nbformat": 4,
 "nbformat_minor": 2
}
