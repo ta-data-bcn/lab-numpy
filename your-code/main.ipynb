{
 "cells": [
  {
   "cell_type": "markdown",
   "metadata": {},
   "source": [
    "# Intrduction to NumPy\n",
    "\n",
    "\n",
    "#### 1. Import NumPy under the name np."
   ]
  },
  {
   "cell_type": "code",
   "execution_count": 1,
   "metadata": {},
   "outputs": [],
   "source": [
    "import numpy as np"
   ]
  },
  {
   "cell_type": "markdown",
   "metadata": {},
   "source": [
    "#### 2. Print your NumPy version."
   ]
  },
  {
   "cell_type": "code",
   "execution_count": 2,
   "metadata": {},
   "outputs": [
    {
     "data": {
      "text/plain": [
       "'1.16.5'"
      ]
     },
     "execution_count": 2,
     "metadata": {},
     "output_type": "execute_result"
    }
   ],
   "source": [
    "np.version.version"
   ]
  },
  {
   "cell_type": "markdown",
   "metadata": {},
   "source": [
    "#### 3. Generate a 2x3x5 3-dimensional array with random values. Assign the array to variable *a*.\n",
    "**Challenge**: there are at least three easy ways that use numpy to generate random arrays. How many ways can you find?"
   ]
  },
  {
   "cell_type": "code",
   "execution_count": 3,
   "metadata": {},
   "outputs": [],
   "source": [
    "a=np.random.random((2,3,5))"
   ]
  },
  {
   "cell_type": "code",
   "execution_count": 4,
   "metadata": {},
   "outputs": [
    {
     "data": {
      "text/plain": [
       "array([[[ 0,  1,  2,  3,  4],\n",
       "        [ 5,  6,  7,  8,  9],\n",
       "        [10, 11, 12, 13, 14]],\n",
       "\n",
       "       [[15, 16, 17, 18, 19],\n",
       "        [20, 21, 22, 23, 24],\n",
       "        [25, 26, 27, 28, 29]]])"
      ]
     },
     "execution_count": 4,
     "metadata": {},
     "output_type": "execute_result"
    }
   ],
   "source": [
    "t= np.arange(30).reshape((2,3,5))\n",
    "t"
   ]
  },
  {
   "cell_type": "code",
   "execution_count": 5,
   "metadata": {},
   "outputs": [],
   "source": [
    "# Method 3"
   ]
  },
  {
   "cell_type": "markdown",
   "metadata": {},
   "source": [
    "#### 4. Print *a*.\n"
   ]
  },
  {
   "cell_type": "code",
   "execution_count": 6,
   "metadata": {},
   "outputs": [
    {
     "name": "stdout",
     "output_type": "stream",
     "text": [
      "[[[0.89705064 0.95962819 0.86147822 0.28821363 0.61567384]\n",
      "  [0.02363598 0.36481754 0.7264544  0.21205495 0.98373533]\n",
      "  [0.34273335 0.27475332 0.93133739 0.4164589  0.22925519]]\n",
      "\n",
      " [[0.03416083 0.91774925 0.55012051 0.95371957 0.17598957]\n",
      "  [0.79905671 0.92124924 0.13947709 0.52733935 0.53726401]\n",
      "  [0.15115026 0.50753328 0.14295311 0.26766097 0.4507198 ]]]\n"
     ]
    }
   ],
   "source": [
    "print(a)"
   ]
  },
  {
   "cell_type": "markdown",
   "metadata": {},
   "source": [
    "#### 5. Create a 5x2x3 3-dimensional array with all values equaling 1. Assign the array to variable *b*."
   ]
  },
  {
   "cell_type": "code",
   "execution_count": 7,
   "metadata": {},
   "outputs": [],
   "source": [
    "b = np.full((5,2,3),1)\n"
   ]
  },
  {
   "cell_type": "markdown",
   "metadata": {},
   "source": [
    "#### 6. Print *b*.\n"
   ]
  },
  {
   "cell_type": "code",
   "execution_count": 8,
   "metadata": {},
   "outputs": [
    {
     "name": "stdout",
     "output_type": "stream",
     "text": [
      "[[[1 1 1]\n",
      "  [1 1 1]]\n",
      "\n",
      " [[1 1 1]\n",
      "  [1 1 1]]\n",
      "\n",
      " [[1 1 1]\n",
      "  [1 1 1]]\n",
      "\n",
      " [[1 1 1]\n",
      "  [1 1 1]]\n",
      "\n",
      " [[1 1 1]\n",
      "  [1 1 1]]]\n"
     ]
    }
   ],
   "source": [
    "print(b)"
   ]
  },
  {
   "cell_type": "markdown",
   "metadata": {},
   "source": [
    "#### 7. Do *a* and *b* have the same size? How do you prove that in Python code?"
   ]
  },
  {
   "cell_type": "code",
   "execution_count": 9,
   "metadata": {},
   "outputs": [
    {
     "name": "stdout",
     "output_type": "stream",
     "text": [
      "Info a\n",
      "30\n",
      "dimensions 3\n",
      "Shape of dimensions (2, 3, 5)\n",
      "Info b\n",
      "dimensions 3\n",
      "Shape of dimensions (5, 2, 3)\n",
      "30\n",
      "True\n"
     ]
    }
   ],
   "source": [
    "# yes they have the same size but not the same dimensions\n",
    "# a + b # does not work (dimensions check)\n",
    "print(\"Info a\")\n",
    "print(a.size)\n",
    "print(\"dimensions\",a.ndim)\n",
    "print(\"Shape of dimensions\", a.shape)\n",
    "print(\"Info b\")\n",
    "print(\"dimensions\", b.ndim)\n",
    "print(\"Shape of dimensions\", b.shape)\n",
    "print(b.size)\n",
    "\n",
    "if b.size == a.size:\n",
    "    print(True)"
   ]
  },
  {
   "cell_type": "markdown",
   "metadata": {},
   "source": [
    "#### 8. Are you able to add *a* and *b*? Why or why not?\n"
   ]
  },
  {
   "cell_type": "code",
   "execution_count": 10,
   "metadata": {},
   "outputs": [],
   "source": [
    "# No because the dimensions are different \n",
    "# a + b # does not work (dimensions check)"
   ]
  },
  {
   "cell_type": "markdown",
   "metadata": {},
   "source": [
    "#### 9. Transpose *b* so that it has the same structure of *a* (i.e. become a 2x3x5 array). Assign the transposed array to variable *c*."
   ]
  },
  {
   "cell_type": "code",
   "execution_count": 18,
   "metadata": {},
   "outputs": [
    {
     "name": "stdout",
     "output_type": "stream",
     "text": [
      "(3, 2, 5)\n"
     ]
    },
    {
     "data": {
      "text/plain": [
       "array([[[1, 1, 1, 1, 1],\n",
       "        [1, 1, 1, 1, 1],\n",
       "        [1, 1, 1, 1, 1]],\n",
       "\n",
       "       [[1, 1, 1, 1, 1],\n",
       "        [1, 1, 1, 1, 1],\n",
       "        [1, 1, 1, 1, 1]]])"
      ]
     },
     "execution_count": 18,
     "metadata": {},
     "output_type": "execute_result"
    }
   ],
   "source": [
    "# 5 2x3 , 2 3x5\n",
    "c= b.T\n",
    "print(c.shape)\n",
    "c.resize((2,3,5))\n",
    "c"
   ]
  },
  {
   "cell_type": "markdown",
   "metadata": {},
   "source": [
    "#### 10. Try to add *a* and *c*. Now it should work. Assign the sum to variable *d*. But why does it work now?"
   ]
  },
  {
   "cell_type": "code",
   "execution_count": 19,
   "metadata": {},
   "outputs": [
    {
     "data": {
      "text/plain": [
       "array([[[1.89705064, 1.95962819, 1.86147822, 1.28821363, 1.61567384],\n",
       "        [1.02363598, 1.36481754, 1.7264544 , 1.21205495, 1.98373533],\n",
       "        [1.34273335, 1.27475332, 1.93133739, 1.4164589 , 1.22925519]],\n",
       "\n",
       "       [[1.03416083, 1.91774925, 1.55012051, 1.95371957, 1.17598957],\n",
       "        [1.79905671, 1.92124924, 1.13947709, 1.52733935, 1.53726401],\n",
       "        [1.15115026, 1.50753328, 1.14295311, 1.26766097, 1.4507198 ]]])"
      ]
     },
     "execution_count": 19,
     "metadata": {},
     "output_type": "execute_result"
    }
   ],
   "source": [
    "\n",
    "d= a+c\n",
    "d\n",
    "# Same dimesnions"
   ]
  },
  {
   "cell_type": "markdown",
   "metadata": {},
   "source": [
    "#### 11. Print *a* and *d*. Notice the difference and relation of the two array in terms of the values? Explain."
   ]
  },
  {
   "cell_type": "code",
   "execution_count": 20,
   "metadata": {},
   "outputs": [
    {
     "name": "stdout",
     "output_type": "stream",
     "text": [
      "[[[0.89705064 0.95962819 0.86147822 0.28821363 0.61567384]\n",
      "  [0.02363598 0.36481754 0.7264544  0.21205495 0.98373533]\n",
      "  [0.34273335 0.27475332 0.93133739 0.4164589  0.22925519]]\n",
      "\n",
      " [[0.03416083 0.91774925 0.55012051 0.95371957 0.17598957]\n",
      "  [0.79905671 0.92124924 0.13947709 0.52733935 0.53726401]\n",
      "  [0.15115026 0.50753328 0.14295311 0.26766097 0.4507198 ]]]\n",
      "[[[1.89705064 1.95962819 1.86147822 1.28821363 1.61567384]\n",
      "  [1.02363598 1.36481754 1.7264544  1.21205495 1.98373533]\n",
      "  [1.34273335 1.27475332 1.93133739 1.4164589  1.22925519]]\n",
      "\n",
      " [[1.03416083 1.91774925 1.55012051 1.95371957 1.17598957]\n",
      "  [1.79905671 1.92124924 1.13947709 1.52733935 1.53726401]\n",
      "  [1.15115026 1.50753328 1.14295311 1.26766097 1.4507198 ]]]\n"
     ]
    }
   ],
   "source": [
    "\n",
    "print(a)\n",
    "print(d)\n",
    "# Difference is 1 for each element"
   ]
  },
  {
   "cell_type": "markdown",
   "metadata": {},
   "source": [
    "#### 12. Multiply *a* and *c*. Assign the result to *e*."
   ]
  },
  {
   "cell_type": "code",
   "execution_count": 21,
   "metadata": {},
   "outputs": [
    {
     "data": {
      "text/plain": [
       "array([[[0.89705064, 0.95962819, 0.86147822, 0.28821363, 0.61567384],\n",
       "        [0.02363598, 0.36481754, 0.7264544 , 0.21205495, 0.98373533],\n",
       "        [0.34273335, 0.27475332, 0.93133739, 0.4164589 , 0.22925519]],\n",
       "\n",
       "       [[0.03416083, 0.91774925, 0.55012051, 0.95371957, 0.17598957],\n",
       "        [0.79905671, 0.92124924, 0.13947709, 0.52733935, 0.53726401],\n",
       "        [0.15115026, 0.50753328, 0.14295311, 0.26766097, 0.4507198 ]]])"
      ]
     },
     "execution_count": 21,
     "metadata": {},
     "output_type": "execute_result"
    }
   ],
   "source": [
    "e= a *c\n",
    "e"
   ]
  },
  {
   "cell_type": "markdown",
   "metadata": {},
   "source": [
    "#### 13. Does *e* equal to *a*? Why or why not?\n"
   ]
  },
  {
   "cell_type": "code",
   "execution_count": 22,
   "metadata": {},
   "outputs": [
    {
     "name": "stdout",
     "output_type": "stream",
     "text": [
      "[[[0.89705064 0.95962819 0.86147822 0.28821363 0.61567384]\n",
      "  [0.02363598 0.36481754 0.7264544  0.21205495 0.98373533]\n",
      "  [0.34273335 0.27475332 0.93133739 0.4164589  0.22925519]]\n",
      "\n",
      " [[0.03416083 0.91774925 0.55012051 0.95371957 0.17598957]\n",
      "  [0.79905671 0.92124924 0.13947709 0.52733935 0.53726401]\n",
      "  [0.15115026 0.50753328 0.14295311 0.26766097 0.4507198 ]]]\n",
      "[[[0.89705064 0.95962819 0.86147822 0.28821363 0.61567384]\n",
      "  [0.02363598 0.36481754 0.7264544  0.21205495 0.98373533]\n",
      "  [0.34273335 0.27475332 0.93133739 0.4164589  0.22925519]]\n",
      "\n",
      " [[0.03416083 0.91774925 0.55012051 0.95371957 0.17598957]\n",
      "  [0.79905671 0.92124924 0.13947709 0.52733935 0.53726401]\n",
      "  [0.15115026 0.50753328 0.14295311 0.26766097 0.4507198 ]]]\n"
     ]
    }
   ],
   "source": [
    "e= a *c\n",
    "e\n",
    "print(a)\n",
    "print(e)\n",
    "#yes because multiplied by 1"
   ]
  },
  {
   "cell_type": "markdown",
   "metadata": {},
   "source": [
    "#### 14. Identify the max, min, and mean values in *d*. Assign those values to variables *d_max*, *d_min* and *d_mean*."
   ]
  },
  {
   "cell_type": "code",
   "execution_count": 23,
   "metadata": {},
   "outputs": [
    {
     "data": {
      "text/plain": [
       "1.506780813750631"
      ]
     },
     "execution_count": 23,
     "metadata": {},
     "output_type": "execute_result"
    }
   ],
   "source": [
    "d_max= d.max()\n",
    "d_min= d.min()\n",
    "d_mean= d.mean()\n",
    "d_mean"
   ]
  },
  {
   "cell_type": "markdown",
   "metadata": {},
   "source": [
    "#### 15. Now we want to label the values in *d*. First create an empty array *f* with the same shape (i.e. 2x3x5) as *d* using `np.empty`.\n"
   ]
  },
  {
   "cell_type": "code",
   "execution_count": 24,
   "metadata": {},
   "outputs": [
    {
     "data": {
      "text/plain": [
       "array([[[0.89705064, 0.95962819, 0.86147822, 0.28821363, 0.61567384],\n",
       "        [0.02363598, 0.36481754, 0.7264544 , 0.21205495, 0.98373533],\n",
       "        [0.34273335, 0.27475332, 0.93133739, 0.4164589 , 0.22925519]],\n",
       "\n",
       "       [[0.03416083, 0.91774925, 0.55012051, 0.95371957, 0.17598957],\n",
       "        [0.79905671, 0.92124924, 0.13947709, 0.52733935, 0.53726401],\n",
       "        [0.15115026, 0.50753328, 0.14295311, 0.26766097, 0.4507198 ]]])"
      ]
     },
     "execution_count": 24,
     "metadata": {},
     "output_type": "execute_result"
    }
   ],
   "source": [
    "f= np.empty([2,3,5])\n",
    "f"
   ]
  },
  {
   "cell_type": "markdown",
   "metadata": {},
   "source": [
    "#### 16. Populate the values in *f*. \n",
    "\n",
    "For each value in *d*, if it's larger than *d_min* but smaller than *d_mean*, assign 25 to the corresponding value in *f*. If a value in *d* is larger than *d_mean* but smaller than *d_max*, assign 75 to the corresponding value in *f*. If a value equals to *d_mean*, assign 50 to the corresponding value in *f*. Assign 0 to the corresponding value(s) in *f* for *d_min* in *d*. Assign 100 to the corresponding value(s) in *f* for *d_max* in *d*. In the end, f should have only the following values: 0, 25, 50, 75, and 100.\n",
    "\n",
    "**Note**: you don't have to use Numpy in this question."
   ]
  },
  {
   "cell_type": "code",
   "execution_count": 25,
   "metadata": {},
   "outputs": [
    {
     "name": "stdout",
     "output_type": "stream",
     "text": [
      "1.9837353329850593 1.0236359846319574 1.506780813750631\n",
      "\n",
      "\n",
      "[[[1.89705064 1.95962819 1.86147822 1.28821363 1.61567384]\n",
      "  [1.02363598 1.36481754 1.7264544  1.21205495 1.98373533]\n",
      "  [1.34273335 1.27475332 1.93133739 1.4164589  1.22925519]]\n",
      "\n",
      " [[1.03416083 1.91774925 1.55012051 1.95371957 1.17598957]\n",
      "  [1.79905671 1.92124924 1.13947709 1.52733935 1.53726401]\n",
      "  [1.15115026 1.50753328 1.14295311 1.26766097 1.4507198 ]]]\n",
      "\n",
      "\n",
      "1.023636\n",
      "[[[25. 25. 25. 25. 25.]\n",
      "  [25. 25. 25. 25. 25.]\n",
      "  [25. 25. 25. 25. 25.]]\n",
      "\n",
      " [[25. 25. 25. 25. 25.]\n",
      "  [25. 25. 25. 25. 25.]\n",
      "  [25. 25. 25. 25. 25.]]]\n"
     ]
    }
   ],
   "source": [
    "# d between min and mean -25, d between ,mean and max -75, mean -50, 0 less than min\n",
    "# 100 for more than max\n",
    "#print(d)\n",
    "#len(d)\n",
    "\n",
    "print(d_max,\n",
    "      d_min,\n",
    "      d_mean)\n",
    "print('\\n')\n",
    "print(d)\n",
    "print('\\n')\n",
    "\n",
    "# trying to round off in order to have a value equal to d_min and d_max\n",
    "\n",
    "d_mean= np.around(d_mean,decimals =7)\n",
    "d_min= np.around(d_min,decimals =7)\n",
    "d_max= np.around(d_max,decimals =7)\n",
    "print(d_min)\n",
    "\n",
    "for i in range(2):\n",
    "    for j in range(3):\n",
    "        for k in range(5):\n",
    "            if (d[i][j][k]> d_min) & (d[i][j][k] < d_mean):\n",
    "                f.fill(25)\n",
    "            elif (d[i][j][k]> d_mean) & (d[i][j][k] < d_max):\n",
    "                f.fill(75)\n",
    "            elif d[i][j][k] == d_mean:\n",
    "                f.fill(50) \n",
    "            elif d[i][j][k] == d_min:\n",
    "                f.fill(0)\n",
    "            elif i == d_max:\n",
    "                f.fill(100)\n",
    "\n",
    "                \n",
    "print(f)\n",
    "\n",
    "    \n",
    "\n",
    "       "
   ]
  },
  {
   "cell_type": "markdown",
   "metadata": {},
   "source": [
    "#### 17. Print *d* and *f*. Do you have your expected *f*?\n",
    "For instance, if your *d* is:\n",
    "```python\n",
    "[[[1.85836099, 1.67064465, 1.62576044, 1.40243961, 1.88454931],\n",
    "[1.75354326, 1.69403643, 1.36729252, 1.61415071, 1.12104981],\n",
    "[1.72201435, 1.1862918 , 1.87078449, 1.7726778 , 1.88180042]],\n",
    "[[1.44747908, 1.31673383, 1.02000951, 1.52218947, 1.97066381],\n",
    "[1.79129243, 1.74983003, 1.96028037, 1.85166831, 1.65450881],\n",
    "[1.18068344, 1.9587381 , 1.00656599, 1.93402165, 1.73514584]]]\n",
    "```\n",
    "Your *f* should be:\n",
    "```python\n",
    "[[[ 75.,  75.,  75.,  25.,  75.],\n",
    "[ 75.,  75.,  25.,  25.,  25.],\n",
    "[ 75.,  25.,  75.,  75.,  75.]],\n",
    "[[ 25.,  25.,  25.,  25., 100.],\n",
    "[ 75.,  75.,  75.,  75.,  75.],\n",
    "[ 25.,  75.,   0.,  75.,  75.]]]\n",
    "```"
   ]
  },
  {
   "cell_type": "code",
   "execution_count": 26,
   "metadata": {},
   "outputs": [
    {
     "name": "stdout",
     "output_type": "stream",
     "text": [
      "[[[1.89705064 1.95962819 1.86147822 1.28821363 1.61567384]\n",
      "  [1.02363598 1.36481754 1.7264544  1.21205495 1.98373533]\n",
      "  [1.34273335 1.27475332 1.93133739 1.4164589  1.22925519]]\n",
      "\n",
      " [[1.03416083 1.91774925 1.55012051 1.95371957 1.17598957]\n",
      "  [1.79905671 1.92124924 1.13947709 1.52733935 1.53726401]\n",
      "  [1.15115026 1.50753328 1.14295311 1.26766097 1.4507198 ]]]\n",
      "[[[25. 25. 25. 25. 25.]\n",
      "  [25. 25. 25. 25. 25.]\n",
      "  [25. 25. 25. 25. 25.]]\n",
      "\n",
      " [[25. 25. 25. 25. 25.]\n",
      "  [25. 25. 25. 25. 25.]\n",
      "  [25. 25. 25. 25. 25.]]]\n"
     ]
    }
   ],
   "source": [
    "print(d)\n",
    "print(f)\n",
    "# No my f is different"
   ]
  },
  {
   "cell_type": "markdown",
   "metadata": {},
   "source": [
    "#### 18. Bonus question: instead of using numbers (i.e. 0, 25, 50, 75, and 100), use string values  (\"A\", \"B\", \"C\", \"D\", and \"E\") to label the array elements. For the example above, the expected result is:\n",
    "\n",
    "```python\n",
    "[[[ 'D',  'D',  'D',  'B',  'D'],\n",
    "[ 'D',  'D',  'B',  'B',  'B'],\n",
    "[ 'D',  'B',  'D',  'D',  'D']],\n",
    "[[ 'B',  'B',  'B',  'B',  'E'],\n",
    "[ 'D',  'D',  'D',  'D',  'D'],\n",
    "[ 'B',  'D',   'A',  'D', 'D']]]\n",
    "```\n",
    "**Note**: you don't have to use Numpy in this question."
   ]
  },
  {
   "cell_type": "code",
   "execution_count": null,
   "metadata": {},
   "outputs": [],
   "source": [
    "# your code here"
   ]
  }
 ],
 "metadata": {
  "kernelspec": {
   "display_name": "Python 3",
   "language": "python",
   "name": "python3"
  },
  "language_info": {
   "codemirror_mode": {
    "name": "ipython",
    "version": 3
   },
   "file_extension": ".py",
   "mimetype": "text/x-python",
   "name": "python",
   "nbconvert_exporter": "python",
   "pygments_lexer": "ipython3",
   "version": "3.7.4"
  }
 },
 "nbformat": 4,
 "nbformat_minor": 2
}
