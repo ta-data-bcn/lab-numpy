{
 "cells": [
  {
   "cell_type": "markdown",
   "metadata": {},
   "source": [
    "# Intrduction to NumPy\n",
    "\n",
    "\n",
    "#### 1. Import NumPy under the name np."
   ]
  },
  {
   "cell_type": "code",
   "execution_count": 2,
   "metadata": {},
   "outputs": [],
   "source": [
    "# your code here\n",
    "import numpy as np"
   ]
  },
  {
   "cell_type": "markdown",
   "metadata": {},
   "source": [
    "#### 2. Print your NumPy version."
   ]
  },
  {
   "cell_type": "code",
   "execution_count": 3,
   "metadata": {},
   "outputs": [
    {
     "data": {
      "text/plain": [
       "'1.18.1'"
      ]
     },
     "execution_count": 3,
     "metadata": {},
     "output_type": "execute_result"
    }
   ],
   "source": [
    "# your code here\n",
    "np.__version__"
   ]
  },
  {
   "cell_type": "markdown",
   "metadata": {},
   "source": [
    "#### 3. Generate a 2x3x5 3-dimensional array with random values. Assign the array to variable *a*.\n",
    "**Challenge**: there are at least three easy ways that use numpy to generate random arrays. How many ways can you find?\n",
    "**Hint**: look for `np.random` and search for functions you want to use.\n",
    "\n",
    "The outcomes should look like:\n",
    "```python\n",
    "array([[[ 0.00453782,  0.47251152,  0.65513617,  0.89370211,  0.91464052],\n",
    "        [ 0.35606786,  0.68149792,  0.37211451,  0.2493357 ,  0.66608051],\n",
    "        [ 0.71459267,  0.68722356,  0.20916865,  0.98338451,  0.28154909]],\n",
    "\n",
    "       [[ 0.83752622,  0.12378486,  0.77380373,  0.43270332,  0.26392168],\n",
    "        [ 0.02528723,  0.5352501 ,  0.35521185,  0.05175587,  0.64898055],\n",
    "        [ 0.52616383,  0.94453068,  0.17055731,  0.15094225,  0.63495276]]])\n",
    "```\n",
    "*The values do not need to be the same. Remember that you are creating random numbers.*"
   ]
  },
  {
   "cell_type": "code",
   "execution_count": 4,
   "metadata": {},
   "outputs": [
    {
     "data": {
      "text/plain": [
       "array([[[0.44027651, 0.62689563, 0.94812463, 0.34501675, 0.29215139],\n",
       "        [0.67488426, 0.52344921, 0.79915081, 0.66381103, 0.17058147],\n",
       "        [0.91525625, 0.40715244, 0.66584358, 0.75073598, 0.64493311]],\n",
       "\n",
       "       [[0.76642708, 0.29197625, 0.40366008, 0.17707065, 0.10537896],\n",
       "        [0.2970882 , 0.10818454, 0.63805817, 0.30393628, 0.77670085],\n",
       "        [0.71874326, 0.46993301, 0.70830538, 0.56930521, 0.25594411]]])"
      ]
     },
     "execution_count": 4,
     "metadata": {},
     "output_type": "execute_result"
    }
   ],
   "source": [
    "# Method 1\n",
    "a = np.random.random((2,3,5))\n",
    "a"
   ]
  },
  {
   "cell_type": "code",
   "execution_count": 5,
   "metadata": {},
   "outputs": [
    {
     "data": {
      "text/plain": [
       "array([[[9, 3, 9, 0, 1],\n",
       "        [7, 5, 8, 5, 6],\n",
       "        [5, 9, 2, 3, 3]],\n",
       "\n",
       "       [[2, 2, 5, 4, 9],\n",
       "        [1, 1, 0, 7, 3],\n",
       "        [3, 2, 1, 0, 8]]])"
      ]
     },
     "execution_count": 5,
     "metadata": {},
     "output_type": "execute_result"
    }
   ],
   "source": [
    "# Method 2\n",
    "\n",
    "a = np.random.randint(10, size = (2,3,5))\n",
    "a"
   ]
  },
  {
   "cell_type": "code",
   "execution_count": 6,
   "metadata": {},
   "outputs": [
    {
     "data": {
      "text/plain": [
       "array([[[0.00648672, 0.23738012, 0.884013  , 0.37938222, 0.22628083],\n",
       "        [0.93660886, 0.63044283, 0.59526737, 0.60455297, 0.62147584],\n",
       "        [0.91939781, 0.46829382, 0.29519685, 0.59067988, 0.1295303 ]],\n",
       "\n",
       "       [[0.39514954, 0.7967983 , 0.82623899, 0.52351351, 0.89254771],\n",
       "        [0.29975802, 0.63836356, 0.81695236, 0.25363552, 0.63773039],\n",
       "        [0.87907918, 0.76498611, 0.61592428, 0.53370926, 0.14088779]]])"
      ]
     },
     "execution_count": 6,
     "metadata": {},
     "output_type": "execute_result"
    }
   ],
   "source": [
    "# Method 3\n",
    "a = np.random.rand(2,3,5)\n",
    "a"
   ]
  },
  {
   "cell_type": "markdown",
   "metadata": {},
   "source": [
    "#### 4. Print *a*.\n"
   ]
  },
  {
   "cell_type": "code",
   "execution_count": 7,
   "metadata": {},
   "outputs": [
    {
     "data": {
      "text/plain": [
       "array([[[0.00648672, 0.23738012, 0.884013  , 0.37938222, 0.22628083],\n",
       "        [0.93660886, 0.63044283, 0.59526737, 0.60455297, 0.62147584],\n",
       "        [0.91939781, 0.46829382, 0.29519685, 0.59067988, 0.1295303 ]],\n",
       "\n",
       "       [[0.39514954, 0.7967983 , 0.82623899, 0.52351351, 0.89254771],\n",
       "        [0.29975802, 0.63836356, 0.81695236, 0.25363552, 0.63773039],\n",
       "        [0.87907918, 0.76498611, 0.61592428, 0.53370926, 0.14088779]]])"
      ]
     },
     "execution_count": 7,
     "metadata": {},
     "output_type": "execute_result"
    }
   ],
   "source": [
    "# your code here\n",
    "a"
   ]
  },
  {
   "cell_type": "markdown",
   "metadata": {},
   "source": [
    "#### 5. Create a 5x2x3 3-dimensional array with all values equaling 1. Assign the array to variable *b*.\n",
    "\n",
    "The outcome should look like:\n",
    "```python\n",
    "[[[ 1.  1.  1.]\n",
    "  [ 1.  1.  1.]]\n",
    "\n",
    " [[ 1.  1.  1.]\n",
    "  [ 1.  1.  1.]]\n",
    "\n",
    " [[ 1.  1.  1.]\n",
    "  [ 1.  1.  1.]]\n",
    "\n",
    " [[ 1.  1.  1.]\n",
    "  [ 1.  1.  1.]]\n",
    "\n",
    " [[ 1.  1.  1.]\n",
    "  [ 1.  1.  1.]]]\n",
    "```"
   ]
  },
  {
   "cell_type": "code",
   "execution_count": 8,
   "metadata": {},
   "outputs": [],
   "source": [
    "# your code here\n",
    "b = np.ones((5,3,2))\n",
    "\n",
    "# There is a typo error above. The dimensions should be 5x3x2."
   ]
  },
  {
   "cell_type": "markdown",
   "metadata": {},
   "source": [
    "#### 6. Print *b*.\n"
   ]
  },
  {
   "cell_type": "code",
   "execution_count": 9,
   "metadata": {},
   "outputs": [
    {
     "data": {
      "text/plain": [
       "array([[[1., 1.],\n",
       "        [1., 1.],\n",
       "        [1., 1.]],\n",
       "\n",
       "       [[1., 1.],\n",
       "        [1., 1.],\n",
       "        [1., 1.]],\n",
       "\n",
       "       [[1., 1.],\n",
       "        [1., 1.],\n",
       "        [1., 1.]],\n",
       "\n",
       "       [[1., 1.],\n",
       "        [1., 1.],\n",
       "        [1., 1.]],\n",
       "\n",
       "       [[1., 1.],\n",
       "        [1., 1.],\n",
       "        [1., 1.]]])"
      ]
     },
     "execution_count": 9,
     "metadata": {},
     "output_type": "execute_result"
    }
   ],
   "source": [
    "# your code here\n",
    "b"
   ]
  },
  {
   "cell_type": "markdown",
   "metadata": {},
   "source": [
    "#### 7. Do *a* and *b* have the same size? How do you prove that in Python code?"
   ]
  },
  {
   "cell_type": "code",
   "execution_count": 10,
   "metadata": {},
   "outputs": [
    {
     "name": "stdout",
     "output_type": "stream",
     "text": [
      "30\n",
      "30\n"
     ]
    }
   ],
   "source": [
    "# your code here\n",
    "print(a.size)\n",
    "print(b.size)"
   ]
  },
  {
   "cell_type": "markdown",
   "metadata": {},
   "source": [
    "#### 8. Are you able to add *a* and *b*? Why or why not?\n"
   ]
  },
  {
   "cell_type": "code",
   "execution_count": 11,
   "metadata": {},
   "outputs": [
    {
     "ename": "ValueError",
     "evalue": "operands could not be broadcast together with shapes (2,3,5) (5,3,2) ",
     "output_type": "error",
     "traceback": [
      "\u001b[0;31m---------------------------------------------------------------------------\u001b[0m",
      "\u001b[0;31mValueError\u001b[0m                                Traceback (most recent call last)",
      "\u001b[0;32m<ipython-input-11-f1d549c8a7da>\u001b[0m in \u001b[0;36m<module>\u001b[0;34m\u001b[0m\n\u001b[1;32m      1\u001b[0m \u001b[0;31m# your answer here\u001b[0m\u001b[0;34m\u001b[0m\u001b[0;34m\u001b[0m\u001b[0;34m\u001b[0m\u001b[0m\n\u001b[0;32m----> 2\u001b[0;31m \u001b[0ma\u001b[0m \u001b[0;34m+\u001b[0m \u001b[0mb\u001b[0m\u001b[0;34m\u001b[0m\u001b[0;34m\u001b[0m\u001b[0m\n\u001b[0m\u001b[1;32m      3\u001b[0m \u001b[0;31m# Does not work because the array dimensions are different.\u001b[0m\u001b[0;34m\u001b[0m\u001b[0;34m\u001b[0m\u001b[0;34m\u001b[0m\u001b[0m\n",
      "\u001b[0;31mValueError\u001b[0m: operands could not be broadcast together with shapes (2,3,5) (5,3,2) "
     ]
    }
   ],
   "source": [
    "# your answer here\n",
    "a + b\n",
    "# Does not work because the array dimensions are different."
   ]
  },
  {
   "cell_type": "markdown",
   "metadata": {},
   "source": [
    "#### 9. Transpose *b* so that it has the same structure of *a* (i.e. become a 2x3x5 array). Assign the transposed array to variable *c*.\n",
    "\n",
    "**Hint**: search for `np.transpose`"
   ]
  },
  {
   "cell_type": "code",
   "execution_count": 12,
   "metadata": {},
   "outputs": [
    {
     "name": "stdout",
     "output_type": "stream",
     "text": [
      "[[[1. 1.]\n",
      "  [1. 1.]\n",
      "  [1. 1.]]\n",
      "\n",
      " [[1. 1.]\n",
      "  [1. 1.]\n",
      "  [1. 1.]]\n",
      "\n",
      " [[1. 1.]\n",
      "  [1. 1.]\n",
      "  [1. 1.]]\n",
      "\n",
      " [[1. 1.]\n",
      "  [1. 1.]\n",
      "  [1. 1.]]\n",
      "\n",
      " [[1. 1.]\n",
      "  [1. 1.]\n",
      "  [1. 1.]]]\n"
     ]
    },
    {
     "data": {
      "text/plain": [
       "array([[[1., 1., 1., 1., 1.],\n",
       "        [1., 1., 1., 1., 1.],\n",
       "        [1., 1., 1., 1., 1.]],\n",
       "\n",
       "       [[1., 1., 1., 1., 1.],\n",
       "        [1., 1., 1., 1., 1.],\n",
       "        [1., 1., 1., 1., 1.]]])"
      ]
     },
     "execution_count": 12,
     "metadata": {},
     "output_type": "execute_result"
    }
   ],
   "source": [
    "# your code here\n",
    "print(b)\n",
    "c = b.transpose()\n",
    "c"
   ]
  },
  {
   "cell_type": "markdown",
   "metadata": {},
   "source": [
    "#### 10. Try to add *a* and *c*. Now it should work. Assign the sum to variable *d*. But why does it work now?"
   ]
  },
  {
   "cell_type": "code",
   "execution_count": 13,
   "metadata": {},
   "outputs": [],
   "source": [
    "# your code/answer here\n",
    "\n",
    "d = a + c"
   ]
  },
  {
   "cell_type": "markdown",
   "metadata": {},
   "source": [
    "#### 11. Print *a* and *d*. Notice the difference and relation of the two array in terms of the values? Explain."
   ]
  },
  {
   "cell_type": "code",
   "execution_count": 14,
   "metadata": {},
   "outputs": [
    {
     "name": "stdout",
     "output_type": "stream",
     "text": [
      "[[[0.00648672 0.23738012 0.884013   0.37938222 0.22628083]\n",
      "  [0.93660886 0.63044283 0.59526737 0.60455297 0.62147584]\n",
      "  [0.91939781 0.46829382 0.29519685 0.59067988 0.1295303 ]]\n",
      "\n",
      " [[0.39514954 0.7967983  0.82623899 0.52351351 0.89254771]\n",
      "  [0.29975802 0.63836356 0.81695236 0.25363552 0.63773039]\n",
      "  [0.87907918 0.76498611 0.61592428 0.53370926 0.14088779]]]\n",
      "[[[1.00648672 1.23738012 1.884013   1.37938222 1.22628083]\n",
      "  [1.93660886 1.63044283 1.59526737 1.60455297 1.62147584]\n",
      "  [1.91939781 1.46829382 1.29519685 1.59067988 1.1295303 ]]\n",
      "\n",
      " [[1.39514954 1.7967983  1.82623899 1.52351351 1.89254771]\n",
      "  [1.29975802 1.63836356 1.81695236 1.25363552 1.63773039]\n",
      "  [1.87907918 1.76498611 1.61592428 1.53370926 1.14088779]]]\n"
     ]
    }
   ],
   "source": [
    "# your code/answer here\n",
    "\n",
    "print(a)\n",
    "print(d)"
   ]
  },
  {
   "cell_type": "markdown",
   "metadata": {},
   "source": [
    "#### 12. Multiply *a* and *c*. Assign the result to *e*."
   ]
  },
  {
   "cell_type": "code",
   "execution_count": 15,
   "metadata": {},
   "outputs": [],
   "source": [
    "# your code here\n",
    "e = a * c"
   ]
  },
  {
   "cell_type": "markdown",
   "metadata": {},
   "source": [
    "#### 13. Does *e* equal to *a*? Why or why not?\n"
   ]
  },
  {
   "cell_type": "code",
   "execution_count": 16,
   "metadata": {},
   "outputs": [
    {
     "data": {
      "text/plain": [
       "array([[[ True,  True,  True,  True,  True],\n",
       "        [ True,  True,  True,  True,  True],\n",
       "        [ True,  True,  True,  True,  True]],\n",
       "\n",
       "       [[ True,  True,  True,  True,  True],\n",
       "        [ True,  True,  True,  True,  True],\n",
       "        [ True,  True,  True,  True,  True]]])"
      ]
     },
     "execution_count": 16,
     "metadata": {},
     "output_type": "execute_result"
    }
   ],
   "source": [
    "# your code/answer here\n",
    "\n",
    "e == a\n",
    "\n",
    "# yes e equals to a. Because we multiplied all the values in a with the 1s in c. and a*1(or c) == a"
   ]
  },
  {
   "cell_type": "markdown",
   "metadata": {},
   "source": [
    "#### 14. Identify the max, min, and mean values in *d*. Assign those values to variables *d_max*, *d_min* and *d_mean*."
   ]
  },
  {
   "cell_type": "code",
   "execution_count": 17,
   "metadata": {},
   "outputs": [
    {
     "name": "stdout",
     "output_type": "stream",
     "text": [
      "1.9366088569532236\n",
      "1.0064867162671338\n",
      "1.5513421316837885\n"
     ]
    }
   ],
   "source": [
    "# your code here\n",
    "\n",
    "print(d.max())\n",
    "print(d.min())\n",
    "print(d.mean())"
   ]
  },
  {
   "cell_type": "markdown",
   "metadata": {},
   "source": [
    "#### 15. Now we want to label the values in *d*. First create an empty array *f* with the same shape (i.e. 2x3x5) as *d* using `np.empty`.\n"
   ]
  },
  {
   "cell_type": "code",
   "execution_count": 18,
   "metadata": {},
   "outputs": [
    {
     "name": "stdout",
     "output_type": "stream",
     "text": [
      "[[[1.00648672 1.23738012 1.884013   1.37938222 1.22628083]\n",
      "  [1.93660886 1.63044283 1.59526737 1.60455297 1.62147584]\n",
      "  [1.91939781 1.46829382 1.29519685 1.59067988 1.1295303 ]]\n",
      "\n",
      " [[1.39514954 1.7967983  1.82623899 1.52351351 1.89254771]\n",
      "  [1.29975802 1.63836356 1.81695236 1.25363552 1.63773039]\n",
      "  [1.87907918 1.76498611 1.61592428 1.53370926 1.14088779]]]\n"
     ]
    }
   ],
   "source": [
    "# your code here\n",
    "\n",
    "f = np.empty(d.shape)\n",
    "print(f)"
   ]
  },
  {
   "cell_type": "code",
   "execution_count": null,
   "metadata": {},
   "outputs": [],
   "source": []
  },
  {
   "cell_type": "markdown",
   "metadata": {},
   "source": [
    "#### 16. Populate the values in *f*. \n",
    "\n",
    "For each value in *d*, if it's larger than *d_min* but smaller than *d_mean*, assign 25 to the corresponding value in *f*. If a value in *d* is larger than *d_mean* but smaller than *d_max*, assign 75 to the corresponding value in *f*. If a value equals to *d_mean*, assign 50 to the corresponding value in *f*. Assign 0 to the corresponding value(s) in *f* for *d_min* in *d*. Assign 100 to the corresponding value(s) in *f* for *d_max* in *d*. In the end, f should have only the following values: 0, 25, 50, 75, and 100.\n",
    "\n",
    "**Note**: you don't have to use Numpy in this question."
   ]
  },
  {
   "cell_type": "code",
   "execution_count": 19,
   "metadata": {},
   "outputs": [],
   "source": [
    "# your code here\n",
    "\n",
    "\n",
    "f[(d>d.min()) & (d<d.mean())] = 25\n",
    "f[(d<d.max()) & (d>d.mean())] = 75\n",
    "f[d == d.mean()] = 50\n",
    "f[d == d.min()] = 0\n",
    "f[d == d.max()] = 100"
   ]
  },
  {
   "cell_type": "markdown",
   "metadata": {},
   "source": [
    "#### 17. Print *d* and *f*. Do you have your expected *f*?\n",
    "For instance, if your *d* is:\n",
    "```python\n",
    "[[[1.85836099, 1.67064465, 1.62576044, 1.40243961, 1.88454931],\n",
    "[1.75354326, 1.69403643, 1.36729252, 1.61415071, 1.12104981],\n",
    "[1.72201435, 1.1862918 , 1.87078449, 1.7726778 , 1.88180042]],\n",
    "[[1.44747908, 1.31673383, 1.02000951, 1.52218947, 1.97066381],\n",
    "[1.79129243, 1.74983003, 1.96028037, 1.85166831, 1.65450881],\n",
    "[1.18068344, 1.9587381 , 1.00656599, 1.93402165, 1.73514584]]]\n",
    "```\n",
    "Your *f* should be:\n",
    "```python\n",
    "[[[ 75.,  75.,  75.,  25.,  75.],\n",
    "[ 75.,  75.,  25.,  25.,  25.],\n",
    "[ 75.,  25.,  75.,  75.,  75.]],\n",
    "[[ 25.,  25.,  25.,  25., 100.],\n",
    "[ 75.,  75.,  75.,  75.,  75.],\n",
    "[ 25.,  75.,   0.,  75.,  75.]]]\n",
    "```"
   ]
  },
  {
   "cell_type": "code",
   "execution_count": 20,
   "metadata": {},
   "outputs": [
    {
     "name": "stdout",
     "output_type": "stream",
     "text": [
      "[[[1.00648672 1.23738012 1.884013   1.37938222 1.22628083]\n",
      "  [1.93660886 1.63044283 1.59526737 1.60455297 1.62147584]\n",
      "  [1.91939781 1.46829382 1.29519685 1.59067988 1.1295303 ]]\n",
      "\n",
      " [[1.39514954 1.7967983  1.82623899 1.52351351 1.89254771]\n",
      "  [1.29975802 1.63836356 1.81695236 1.25363552 1.63773039]\n",
      "  [1.87907918 1.76498611 1.61592428 1.53370926 1.14088779]]] \n",
      "\n",
      "[[[  0.  25.  75.  25.  25.]\n",
      "  [100.  75.  75.  75.  75.]\n",
      "  [ 75.  25.  25.  75.  25.]]\n",
      "\n",
      " [[ 25.  75.  75.  25.  75.]\n",
      "  [ 25.  75.  75.  25.  75.]\n",
      "  [ 75.  75.  75.  25.  25.]]]\n"
     ]
    }
   ],
   "source": [
    "# your code here\n",
    "print(d, \"\\n\")\n",
    "print(f)"
   ]
  },
  {
   "cell_type": "markdown",
   "metadata": {},
   "source": [
    "#### 18. Bonus question: instead of using numbers (i.e. 0, 25, 50, 75, and 100), use string values  (\"A\", \"B\", \"C\", \"D\", and \"E\") to label the array elements. For the example above, the expected result is:\n",
    "\n",
    "```python\n",
    "[[[ 'D',  'D',  'D',  'B',  'D'],\n",
    "[ 'D',  'D',  'B',  'B',  'B'],\n",
    "[ 'D',  'B',  'D',  'D',  'D']],\n",
    "[[ 'B',  'B',  'B',  'B',  'E'],\n",
    "[ 'D',  'D',  'D',  'D',  'D'],\n",
    "[ 'B',  'D',   'A',  'D', 'D']]]\n",
    "```\n",
    "**Note**: you don't have to use Numpy in this question."
   ]
  },
  {
   "cell_type": "code",
   "execution_count": 21,
   "metadata": {},
   "outputs": [
    {
     "data": {
      "text/plain": [
       "[[['A', 'B', 'D', 'B', 'B'],\n",
       "  ['E', 'D', 'D', 'D', 'D'],\n",
       "  ['D', 'B', 'B', 'D', 'B']],\n",
       " [['B', 'D', 'D', 'B', 'D'],\n",
       "  ['B', 'D', 'D', 'B', 'D'],\n",
       "  ['D', 'D', 'D', 'B', 'B']]]"
      ]
     },
     "execution_count": 21,
     "metadata": {},
     "output_type": "execute_result"
    }
   ],
   "source": [
    "# your code here\n",
    "f_labels = {0.:\"A\", 25.:\"B\", 50.:\"C\", 75:\"D\", 100:\"E\"}\n",
    "\n",
    "[[[f_labels[k] for k in f[i,j]] for j in range(3)] for i in range(2)]"
   ]
  }
 ],
 "metadata": {
  "kernelspec": {
   "display_name": "Python 3",
   "language": "python",
   "name": "python3"
  },
  "language_info": {
   "codemirror_mode": {
    "name": "ipython",
    "version": 3
   },
   "file_extension": ".py",
   "mimetype": "text/x-python",
   "name": "python",
   "nbconvert_exporter": "python",
   "pygments_lexer": "ipython3",
   "version": "3.7.6"
  }
 },
 "nbformat": 4,
 "nbformat_minor": 2
}
