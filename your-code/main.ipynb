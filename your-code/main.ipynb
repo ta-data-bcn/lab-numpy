{
 "cells": [
  {
   "cell_type": "markdown",
   "metadata": {},
   "source": [
    "# Intrduction to NumPy\n",
    "\n",
    "\n",
    "#### 1. Import NumPy under the name np."
   ]
  },
  {
   "cell_type": "code",
   "execution_count": 1,
   "metadata": {},
   "outputs": [],
   "source": [
    "# your code here\n",
    "import numpy as np"
   ]
  },
  {
   "cell_type": "markdown",
   "metadata": {},
   "source": [
    "#### 2. Print your NumPy version."
   ]
  },
  {
   "cell_type": "code",
   "execution_count": 3,
   "metadata": {},
   "outputs": [
    {
     "data": {
      "text/plain": [
       "'1.19.2'"
      ]
     },
     "execution_count": 3,
     "metadata": {},
     "output_type": "execute_result"
    }
   ],
   "source": [
    "# your code here\n",
    "np.version.version"
   ]
  },
  {
   "cell_type": "markdown",
   "metadata": {},
   "source": [
    "#### 3. Generate a 2x3x5 3-dimensional array with random values. Assign the array to variable *a*.\n",
    "**Challenge**: there are at least three easy ways that use numpy to generate random arrays. How many ways can you find?\n",
    "**Hint**: look for `np.random` and search for functions you want to use.\n",
    "\n",
    "The outcomes should look like:\n",
    "```python\n",
    "array([[[ 0.00453782,  0.47251152,  0.65513617,  0.89370211,  0.91464052],\n",
    "        [ 0.35606786,  0.68149792,  0.37211451,  0.2493357 ,  0.66608051],\n",
    "        [ 0.71459267,  0.68722356,  0.20916865,  0.98338451,  0.28154909]],\n",
    "\n",
    "       [[ 0.83752622,  0.12378486,  0.77380373,  0.43270332,  0.26392168],\n",
    "        [ 0.02528723,  0.5352501 ,  0.35521185,  0.05175587,  0.64898055],\n",
    "        [ 0.52616383,  0.94453068,  0.17055731,  0.15094225,  0.63495276]]])\n",
    "```\n",
    "*The values do not need to be the same. Remember that you are creating random numbers.*"
   ]
  },
  {
   "cell_type": "code",
   "execution_count": 19,
   "metadata": {},
   "outputs": [
    {
     "data": {
      "text/plain": [
       "array([[[-6.19644195e-01,  2.65319588e-01,  1.16806717e+00,\n",
       "         -2.82559461e-01,  1.10095441e+00],\n",
       "        [-5.27941100e-01, -1.87888027e-01, -1.14164978e+00,\n",
       "          1.78390548e+00, -4.94847527e-01],\n",
       "        [-1.76876114e-01,  1.43863491e-03,  1.70954810e+00,\n",
       "         -3.42712984e-01,  9.44906003e-01]],\n",
       "\n",
       "       [[-1.63767804e+00, -3.61629344e-01,  3.38208533e-01,\n",
       "          1.21419212e+00, -1.76009155e-01],\n",
       "        [-5.23090478e-03, -6.52055137e-01, -1.50630675e+00,\n",
       "          1.06698448e+00, -1.78755880e+00],\n",
       "        [-1.41288514e+00,  5.12696029e-01,  3.67101297e-01,\n",
       "         -3.07581296e-01,  1.21902461e+00]]])"
      ]
     },
     "execution_count": 19,
     "metadata": {},
     "output_type": "execute_result"
    }
   ],
   "source": [
    "# Method 1\n",
    "a = np.random.randn(2,3,5)\n",
    "a"
   ]
  },
  {
   "cell_type": "code",
   "execution_count": 20,
   "metadata": {},
   "outputs": [
    {
     "data": {
      "text/plain": [
       "array([[[ 0.84278745,  0.57248959,  1.43896156, -0.34390575,\n",
       "         -0.64068137],\n",
       "        [ 0.44946667,  0.02198102,  0.90208257,  0.226544  ,\n",
       "          2.16377103],\n",
       "        [-0.77714847, -0.21260589, -0.83308982, -1.37621415,\n",
       "         -0.19699542]],\n",
       "\n",
       "       [[-0.4950736 , -1.33856104,  0.03949754,  0.85416874,\n",
       "         -0.53634928],\n",
       "        [-0.69911646, -0.53236934,  0.74052034, -0.68360759,\n",
       "         -0.79348026],\n",
       "        [ 1.02297947, -3.55248246,  0.56613186, -0.45291095,\n",
       "         -1.33627383]]])"
      ]
     },
     "execution_count": 20,
     "metadata": {},
     "output_type": "execute_result"
    }
   ],
   "source": [
    "# Method 2\n",
    "np.random.normal(0,1,30).reshape(2,3,5)"
   ]
  },
  {
   "cell_type": "code",
   "execution_count": 21,
   "metadata": {},
   "outputs": [
    {
     "data": {
      "text/plain": [
       "array([[[0.80371119, 0.17192012, 0.4524633 , 0.69680815, 0.92983126],\n",
       "        [0.52172632, 0.26400418, 0.29991108, 0.89141795, 0.88570675],\n",
       "        [0.71996176, 0.57925843, 0.7898913 , 0.10382316, 0.87608728]],\n",
       "\n",
       "       [[0.85399218, 0.96865607, 0.44759697, 0.1239952 , 0.68299285],\n",
       "        [0.85189461, 0.5834298 , 0.13893964, 0.42284202, 0.96012336],\n",
       "        [0.48525116, 0.61303427, 0.09261401, 0.56582174, 0.29918493]]])"
      ]
     },
     "execution_count": 21,
     "metadata": {},
     "output_type": "execute_result"
    }
   ],
   "source": [
    "# Method 3\n",
    "np.random.random(30).reshape(2,3,5)"
   ]
  },
  {
   "cell_type": "markdown",
   "metadata": {},
   "source": [
    "#### 4. Print *a*.\n"
   ]
  },
  {
   "cell_type": "code",
   "execution_count": 22,
   "metadata": {},
   "outputs": [
    {
     "name": "stdout",
     "output_type": "stream",
     "text": [
      "[[[-6.19644195e-01  2.65319588e-01  1.16806717e+00 -2.82559461e-01\n",
      "    1.10095441e+00]\n",
      "  [-5.27941100e-01 -1.87888027e-01 -1.14164978e+00  1.78390548e+00\n",
      "   -4.94847527e-01]\n",
      "  [-1.76876114e-01  1.43863491e-03  1.70954810e+00 -3.42712984e-01\n",
      "    9.44906003e-01]]\n",
      "\n",
      " [[-1.63767804e+00 -3.61629344e-01  3.38208533e-01  1.21419212e+00\n",
      "   -1.76009155e-01]\n",
      "  [-5.23090478e-03 -6.52055137e-01 -1.50630675e+00  1.06698448e+00\n",
      "   -1.78755880e+00]\n",
      "  [-1.41288514e+00  5.12696029e-01  3.67101297e-01 -3.07581296e-01\n",
      "    1.21902461e+00]]]\n"
     ]
    }
   ],
   "source": [
    "# your code here\n",
    "print(a)"
   ]
  },
  {
   "cell_type": "markdown",
   "metadata": {},
   "source": [
    "#### 5. Create a 5x2x3 3-dimensional array with all values equaling 1. Assign the array to variable *b*.\n",
    "\n",
    "The outcome should look like:\n",
    "```python\n",
    "[[[ 1.  1.  1.]\n",
    "  [ 1.  1.  1.]]\n",
    "\n",
    " [[ 1.  1.  1.]\n",
    "  [ 1.  1.  1.]]\n",
    "\n",
    " [[ 1.  1.  1.]\n",
    "  [ 1.  1.  1.]]\n",
    "\n",
    " [[ 1.  1.  1.]\n",
    "  [ 1.  1.  1.]]\n",
    "\n",
    " [[ 1.  1.  1.]\n",
    "  [ 1.  1.  1.]]]\n",
    "```"
   ]
  },
  {
   "cell_type": "code",
   "execution_count": 25,
   "metadata": {},
   "outputs": [],
   "source": [
    "# your code here\n",
    "b = np.ones(30).reshape(5,2,3)"
   ]
  },
  {
   "cell_type": "markdown",
   "metadata": {},
   "source": [
    "#### 6. Print *b*.\n"
   ]
  },
  {
   "cell_type": "code",
   "execution_count": 26,
   "metadata": {},
   "outputs": [
    {
     "name": "stdout",
     "output_type": "stream",
     "text": [
      "[[[1. 1. 1.]\n",
      "  [1. 1. 1.]]\n",
      "\n",
      " [[1. 1. 1.]\n",
      "  [1. 1. 1.]]\n",
      "\n",
      " [[1. 1. 1.]\n",
      "  [1. 1. 1.]]\n",
      "\n",
      " [[1. 1. 1.]\n",
      "  [1. 1. 1.]]\n",
      "\n",
      " [[1. 1. 1.]\n",
      "  [1. 1. 1.]]]\n"
     ]
    }
   ],
   "source": [
    "# your code here\n",
    "print(b)"
   ]
  },
  {
   "cell_type": "markdown",
   "metadata": {},
   "source": [
    "#### 7. Do *a* and *b* have the same size? How do you prove that in Python code?"
   ]
  },
  {
   "cell_type": "code",
   "execution_count": 27,
   "metadata": {},
   "outputs": [
    {
     "data": {
      "text/plain": [
       "False"
      ]
     },
     "execution_count": 27,
     "metadata": {},
     "output_type": "execute_result"
    }
   ],
   "source": [
    "# your code here\n",
    "np.array_equal(a,b)"
   ]
  },
  {
   "cell_type": "markdown",
   "metadata": {},
   "source": [
    "They are not teh same size. We check it with the np.array_equal function."
   ]
  },
  {
   "cell_type": "markdown",
   "metadata": {},
   "source": [
    "#### 8. Are you able to add *a* and *b*? Why or why not?\n"
   ]
  },
  {
   "cell_type": "code",
   "execution_count": 28,
   "metadata": {},
   "outputs": [
    {
     "ename": "ValueError",
     "evalue": "operands could not be broadcast together with shapes (2,3,5) (5,2,3) ",
     "output_type": "error",
     "traceback": [
      "\u001b[0;31m---------------------------------------------------------------------------\u001b[0m",
      "\u001b[0;31mValueError\u001b[0m                                Traceback (most recent call last)",
      "\u001b[0;32m<ipython-input-28-f54bdd812bd2>\u001b[0m in \u001b[0;36m<module>\u001b[0;34m\u001b[0m\n\u001b[1;32m      1\u001b[0m \u001b[0;31m# your answer here\u001b[0m\u001b[0;34m\u001b[0m\u001b[0;34m\u001b[0m\u001b[0;34m\u001b[0m\u001b[0m\n\u001b[0;32m----> 2\u001b[0;31m \u001b[0ma\u001b[0m\u001b[0;34m+\u001b[0m\u001b[0mb\u001b[0m\u001b[0;34m\u001b[0m\u001b[0;34m\u001b[0m\u001b[0m\n\u001b[0m",
      "\u001b[0;31mValueError\u001b[0m: operands could not be broadcast together with shapes (2,3,5) (5,2,3) "
     ]
    }
   ],
   "source": [
    "# your answer here\n",
    "a+b"
   ]
  },
  {
   "cell_type": "markdown",
   "metadata": {},
   "source": [
    "We cannot add them because they are not the same shape"
   ]
  },
  {
   "cell_type": "markdown",
   "metadata": {},
   "source": [
    "#### 9. Transpose *b* so that it has the same structure of *a* (i.e. become a 2x3x5 array). Assign the transposed array to variable *c*.\n",
    "\n",
    "**Hint**: search for `np.transpose`"
   ]
  },
  {
   "cell_type": "code",
   "execution_count": 43,
   "metadata": {},
   "outputs": [
    {
     "name": "stdout",
     "output_type": "stream",
     "text": [
      "[[[1. 1. 1. 1. 1.]\n",
      "  [1. 1. 1. 1. 1.]\n",
      "  [1. 1. 1. 1. 1.]]\n",
      "\n",
      " [[1. 1. 1. 1. 1.]\n",
      "  [1. 1. 1. 1. 1.]\n",
      "  [1. 1. 1. 1. 1.]]]\n"
     ]
    }
   ],
   "source": [
    "# your code here\n",
    "c = np.transpose(b, axes=[1,2,0])\n",
    "print(c)"
   ]
  },
  {
   "cell_type": "markdown",
   "metadata": {},
   "source": [
    "#### 10. Try to add *a* and *c*. Now it should work. Assign the sum to variable *d*. But why does it work now?"
   ]
  },
  {
   "cell_type": "code",
   "execution_count": 50,
   "metadata": {},
   "outputs": [
    {
     "name": "stdout",
     "output_type": "stream",
     "text": [
      "[[[ 0.3803558   1.26531959  2.16806717  0.71744054  2.10095441]\n",
      "  [ 0.4720589   0.81211197 -0.14164978  2.78390548  0.50515247]\n",
      "  [ 0.82312389  1.00143863  2.7095481   0.65728702  1.944906  ]]\n",
      "\n",
      " [[-0.63767804  0.63837066  1.33820853  2.21419212  0.82399084]\n",
      "  [ 0.9947691   0.34794486 -0.50630675  2.06698448 -0.7875588 ]\n",
      "  [-0.41288514  1.51269603  1.3671013   0.6924187   2.21902461]]]\n"
     ]
    }
   ],
   "source": [
    "# your code/answer here\n",
    "d = a+c\n",
    "print(d)"
   ]
  },
  {
   "cell_type": "markdown",
   "metadata": {},
   "source": [
    "#### 11. Print *a* and *d*. Notice the difference and relation of the two array in terms of the values? Explain."
   ]
  },
  {
   "cell_type": "code",
   "execution_count": 51,
   "metadata": {},
   "outputs": [
    {
     "name": "stdout",
     "output_type": "stream",
     "text": [
      "[[[-6.19644195e-01  2.65319588e-01  1.16806717e+00 -2.82559461e-01\n",
      "    1.10095441e+00]\n",
      "  [-5.27941100e-01 -1.87888027e-01 -1.14164978e+00  1.78390548e+00\n",
      "   -4.94847527e-01]\n",
      "  [-1.76876114e-01  1.43863491e-03  1.70954810e+00 -3.42712984e-01\n",
      "    9.44906003e-01]]\n",
      "\n",
      " [[-1.63767804e+00 -3.61629344e-01  3.38208533e-01  1.21419212e+00\n",
      "   -1.76009155e-01]\n",
      "  [-5.23090478e-03 -6.52055137e-01 -1.50630675e+00  1.06698448e+00\n",
      "   -1.78755880e+00]\n",
      "  [-1.41288514e+00  5.12696029e-01  3.67101297e-01 -3.07581296e-01\n",
      "    1.21902461e+00]]]\n",
      "[[[ 0.3803558   1.26531959  2.16806717  0.71744054  2.10095441]\n",
      "  [ 0.4720589   0.81211197 -0.14164978  2.78390548  0.50515247]\n",
      "  [ 0.82312389  1.00143863  2.7095481   0.65728702  1.944906  ]]\n",
      "\n",
      " [[-0.63767804  0.63837066  1.33820853  2.21419212  0.82399084]\n",
      "  [ 0.9947691   0.34794486 -0.50630675  2.06698448 -0.7875588 ]\n",
      "  [-0.41288514  1.51269603  1.3671013   0.6924187   2.21902461]]]\n"
     ]
    }
   ],
   "source": [
    "# your code/answer here\n",
    "print(a)\n",
    "\n",
    "\n",
    "print(d)"
   ]
  },
  {
   "cell_type": "markdown",
   "metadata": {},
   "source": [
    "The fourth array of numbers is the second +1."
   ]
  },
  {
   "cell_type": "markdown",
   "metadata": {},
   "source": [
    "#### 12. Multiply *a* and *c*. Assign the result to *e*."
   ]
  },
  {
   "cell_type": "code",
   "execution_count": 52,
   "metadata": {},
   "outputs": [],
   "source": [
    "# your code here\n",
    "e = a * c"
   ]
  },
  {
   "cell_type": "markdown",
   "metadata": {},
   "source": [
    "#### 13. Does *e* equal to *a*? Why or why not?\n"
   ]
  },
  {
   "cell_type": "code",
   "execution_count": 61,
   "metadata": {},
   "outputs": [
    {
     "name": "stdout",
     "output_type": "stream",
     "text": [
      "[[[-6.19644195e-01  2.65319588e-01  1.16806717e+00 -2.82559461e-01\n",
      "    1.10095441e+00]\n",
      "  [-5.27941100e-01 -1.87888027e-01 -1.14164978e+00  1.78390548e+00\n",
      "   -4.94847527e-01]\n",
      "  [-1.76876114e-01  1.43863491e-03  1.70954810e+00 -3.42712984e-01\n",
      "    9.44906003e-01]]\n",
      "\n",
      " [[-1.63767804e+00 -3.61629344e-01  3.38208533e-01  1.21419212e+00\n",
      "   -1.76009155e-01]\n",
      "  [-5.23090478e-03 -6.52055137e-01 -1.50630675e+00  1.06698448e+00\n",
      "   -1.78755880e+00]\n",
      "  [-1.41288514e+00  5.12696029e-01  3.67101297e-01 -3.07581296e-01\n",
      "    1.21902461e+00]]]\n",
      "[[[-6.19644195e-01  2.65319588e-01  1.16806717e+00 -2.82559461e-01\n",
      "    1.10095441e+00]\n",
      "  [-5.27941100e-01 -1.87888027e-01 -1.14164978e+00  1.78390548e+00\n",
      "   -4.94847527e-01]\n",
      "  [-1.76876114e-01  1.43863491e-03  1.70954810e+00 -3.42712984e-01\n",
      "    9.44906003e-01]]\n",
      "\n",
      " [[-1.63767804e+00 -3.61629344e-01  3.38208533e-01  1.21419212e+00\n",
      "   -1.76009155e-01]\n",
      "  [-5.23090478e-03 -6.52055137e-01 -1.50630675e+00  1.06698448e+00\n",
      "   -1.78755880e+00]\n",
      "  [-1.41288514e+00  5.12696029e-01  3.67101297e-01 -3.07581296e-01\n",
      "    1.21902461e+00]]]\n"
     ]
    }
   ],
   "source": [
    "# your code/answer here\n",
    "print(e)\n",
    "\n",
    "\n",
    "print(a)"
   ]
  },
  {
   "cell_type": "markdown",
   "metadata": {},
   "source": [
    "Yes, e is equal to a because we multiplied the matrix a by a matrix full of ones, therefore, it remains the same."
   ]
  },
  {
   "cell_type": "markdown",
   "metadata": {},
   "source": [
    "#### 14. Identify the max, min, and mean values in *d*. Assign those values to variables *d_max*, *d_min* and *d_mean*."
   ]
  },
  {
   "cell_type": "code",
   "execution_count": 64,
   "metadata": {},
   "outputs": [],
   "source": [
    "# your code here\n",
    "d_max = d.max()\n",
    "d_min = d.min()\n",
    "d_mean = d.mean()"
   ]
  },
  {
   "cell_type": "markdown",
   "metadata": {},
   "source": [
    "#### 15. Now we want to label the values in *d*. First create an empty array *f* with the same shape (i.e. 2x3x5) as *d* using `np.empty`.\n"
   ]
  },
  {
   "cell_type": "code",
   "execution_count": 71,
   "metadata": {},
   "outputs": [
    {
     "name": "stdout",
     "output_type": "stream",
     "text": [
      "[[[6.19644195e-01 2.65319588e-01 1.16806717e+00 2.82559461e-01\n",
      "   1.10095441e+00]\n",
      "  [5.27941100e-01 1.87888027e-01 1.14164978e+00 1.78390548e+00\n",
      "   4.94847527e-01]\n",
      "  [1.76876114e-01 1.43863491e-03 1.70954810e+00 3.42712984e-01\n",
      "   9.44906003e-01]]\n",
      "\n",
      " [[1.63767804e+00 3.61629344e-01 3.38208533e-01 1.21419212e+00\n",
      "   1.76009155e-01]\n",
      "  [5.23090478e-03 6.52055137e-01 1.50630675e+00 1.06698448e+00\n",
      "   1.78755880e+00]\n",
      "  [1.41288514e+00 5.12696029e-01 3.67101297e-01 3.07581296e-01\n",
      "   1.21902461e+00]]]\n"
     ]
    }
   ],
   "source": [
    "# your code here\n",
    "f = np.empty((2,3,5))\n",
    "print(f)"
   ]
  },
  {
   "cell_type": "markdown",
   "metadata": {},
   "source": [
    "#### 16. Populate the values in *f*. \n",
    "\n",
    "For each value in *d*, if it's larger than *d_min* but smaller than *d_mean*, assign 25 to the corresponding value in *f*. If a value in *d* is larger than *d_mean* but smaller than *d_max*, assign 75 to the corresponding value in *f*. If a value equals to *d_mean*, assign 50 to the corresponding value in *f*. Assign 0 to the corresponding value(s) in *f* for *d_min* in *d*. Assign 100 to the corresponding value(s) in *f* for *d_max* in *d*. In the end, f should have only the following values: 0, 25, 50, 75, and 100.\n",
    "\n",
    "**Note**: you don't have to use Numpy in this question."
   ]
  },
  {
   "cell_type": "code",
   "execution_count": 76,
   "metadata": {},
   "outputs": [
    {
     "data": {
      "text/plain": [
       "2"
      ]
     },
     "execution_count": 76,
     "metadata": {},
     "output_type": "execute_result"
    }
   ],
   "source": [
    "d.shape[0]"
   ]
  },
  {
   "cell_type": "code",
   "execution_count": 77,
   "metadata": {},
   "outputs": [
    {
     "name": "stdout",
     "output_type": "stream",
     "text": [
      "[[[ 25.  75.  75.  25.  75.]\n",
      "  [ 25.  25.  25. 100.  25.]\n",
      "  [ 25.  25.  75.  25.  75.]]\n",
      "\n",
      " [[ 25.  25.  75.  75.  25.]\n",
      "  [ 25.  25.  25.  75.   0.]\n",
      "  [ 25.  75.  75.  25.  75.]]]\n"
     ]
    }
   ],
   "source": [
    "# your code here\n",
    "for i in range(d.shape[0]):\n",
    "    for j in range(d.shape[1]):\n",
    "        for k in range(d.shape[2]):\n",
    "            if d[i][j][k] > d_min and d[i][j][k] < d_mean:\n",
    "                f[i][j][k] = 25\n",
    "            elif d[i][j][k] == d_mean:\n",
    "                f[i][j][k] = 50\n",
    "            elif d[i][j][k] > d_mean and d[i][j][k] < d_max:\n",
    "                f[i][j][k] = 75\n",
    "            elif d[i][j][k] == d_max:\n",
    "                f[i][j][k] = 100\n",
    "            elif d[i][j][k] == d_min:\n",
    "                f[i][j][k] = 0\n",
    "print(f)"
   ]
  },
  {
   "cell_type": "markdown",
   "metadata": {},
   "source": [
    "#### 17. Print *d* and *f*. Do you have your expected *f*?\n",
    "For instance, if your *d* is:\n",
    "```python\n",
    "[[[1.85836099, 1.67064465, 1.62576044, 1.40243961, 1.88454931],\n",
    "[1.75354326, 1.69403643, 1.36729252, 1.61415071, 1.12104981],\n",
    "[1.72201435, 1.1862918 , 1.87078449, 1.7726778 , 1.88180042]],\n",
    "[[1.44747908, 1.31673383, 1.02000951, 1.52218947, 1.97066381],\n",
    "[1.79129243, 1.74983003, 1.96028037, 1.85166831, 1.65450881],\n",
    "[1.18068344, 1.9587381 , 1.00656599, 1.93402165, 1.73514584]]]\n",
    "```\n",
    "Your *f* should be:\n",
    "```python\n",
    "[[[ 75.,  75.,  75.,  25.,  75.],\n",
    "[ 75.,  75.,  25.,  25.,  25.],\n",
    "[ 75.,  25.,  75.,  75.,  75.]],\n",
    "[[ 25.,  25.,  25.,  25., 100.],\n",
    "[ 75.,  75.,  75.,  75.,  75.],\n",
    "[ 25.,  75.,   0.,  75.,  75.]]]\n",
    "```"
   ]
  },
  {
   "cell_type": "code",
   "execution_count": 78,
   "metadata": {},
   "outputs": [
    {
     "name": "stdout",
     "output_type": "stream",
     "text": [
      "[[[ 0.3803558   1.26531959  2.16806717  0.71744054  2.10095441]\n",
      "  [ 0.4720589   0.81211197 -0.14164978  2.78390548  0.50515247]\n",
      "  [ 0.82312389  1.00143863  2.7095481   0.65728702  1.944906  ]]\n",
      "\n",
      " [[-0.63767804  0.63837066  1.33820853  2.21419212  0.82399084]\n",
      "  [ 0.9947691   0.34794486 -0.50630675  2.06698448 -0.7875588 ]\n",
      "  [-0.41288514  1.51269603  1.3671013   0.6924187   2.21902461]]]\n",
      "[[[ 25.  75.  75.  25.  75.]\n",
      "  [ 25.  25.  25. 100.  25.]\n",
      "  [ 25.  25.  75.  25.  75.]]\n",
      "\n",
      " [[ 25.  25.  75.  75.  25.]\n",
      "  [ 25.  25.  25.  75.   0.]\n",
      "  [ 25.  75.  75.  25.  75.]]]\n"
     ]
    }
   ],
   "source": [
    "# your code here\n",
    "\n",
    "print(d)\n",
    "\n",
    "print(f)"
   ]
  },
  {
   "cell_type": "markdown",
   "metadata": {},
   "source": [
    "#### 18. Bonus question: instead of using numbers (i.e. 0, 25, 50, 75, and 100), use string values  (\"A\", \"B\", \"C\", \"D\", and \"E\") to label the array elements. For the example above, the expected result is:\n",
    "\n",
    "```python\n",
    "[[[ 'D',  'D',  'D',  'B',  'D'],\n",
    "[ 'D',  'D',  'B',  'B',  'B'],\n",
    "[ 'D',  'B',  'D',  'D',  'D']],\n",
    "[[ 'B',  'B',  'B',  'B',  'E'],\n",
    "[ 'D',  'D',  'D',  'D',  'D'],\n",
    "[ 'B',  'D',   'A',  'D', 'D']]]\n",
    "```\n",
    "**Note**: you don't have to use Numpy in this question."
   ]
  },
  {
   "cell_type": "code",
   "execution_count": 88,
   "metadata": {},
   "outputs": [
    {
     "name": "stdout",
     "output_type": "stream",
     "text": [
      "[[[ 25.  75.  75.  25.  75.]\n",
      "  [ 25.  25.  25. 100.  25.]\n",
      "  [ 25.  25.  75.  25.  75.]]\n",
      "\n",
      " [[ 25.  25.  75.  75.  25.]\n",
      "  [ 25.  25.  25.  75.   0.]\n",
      "  [ 25.  75.  75.  25.  75.]]]\n"
     ]
    }
   ],
   "source": [
    "# your code here\n",
    "\n",
    "for i in range(d.shape[0]):\n",
    "    for j in range(d.shape[1]):\n",
    "        for k in range(d.shape[2]):\n",
    "            if d[i][j][k] > d_min and d[i][j][k] < d_mean:\n",
    "                f[i][j][k] == 'B'\n",
    "            elif d[i][j][k] == d_mean:\n",
    "                f[i][j][k] == 'C'\n",
    "            elif d[i][j][k] > d_mean and d[i][j][k] < d_max:\n",
    "                f[i][j][k] == 'D'\n",
    "            elif d[i][j][k] == d_max:\n",
    "                f[i][j][k] == 'E'\n",
    "            elif d[i][j][k] == d_min:\n",
    "                f[i][j][k] == 'A'\n",
    "print(f)"
   ]
  },
  {
   "cell_type": "code",
   "execution_count": null,
   "metadata": {},
   "outputs": [],
   "source": []
  }
 ],
 "metadata": {
  "kernelspec": {
   "display_name": "Python 3",
   "language": "python",
   "name": "python3"
  },
  "language_info": {
   "codemirror_mode": {
    "name": "ipython",
    "version": 3
   },
   "file_extension": ".py",
   "mimetype": "text/x-python",
   "name": "python",
   "nbconvert_exporter": "python",
   "pygments_lexer": "ipython3",
   "version": "3.8.5"
  }
 },
 "nbformat": 4,
 "nbformat_minor": 2
}
