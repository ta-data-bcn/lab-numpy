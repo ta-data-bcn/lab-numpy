{
 "cells": [
  {
   "cell_type": "markdown",
   "metadata": {},
   "source": [
    "# Intrduction to NumPy\n",
    "\n",
    "\n",
    "#### 1. Import NumPy under the name np."
   ]
  },
  {
   "cell_type": "code",
   "execution_count": 1,
   "metadata": {},
   "outputs": [],
   "source": [
    "# your code here\n",
    "import numpy as np"
   ]
  },
  {
   "cell_type": "markdown",
   "metadata": {},
   "source": [
    "#### 2. Print your NumPy version."
   ]
  },
  {
   "cell_type": "code",
   "execution_count": 2,
   "metadata": {},
   "outputs": [
    {
     "data": {
      "text/plain": [
       "'1.19.2'"
      ]
     },
     "execution_count": 2,
     "metadata": {},
     "output_type": "execute_result"
    }
   ],
   "source": [
    "# your code here\n",
    "np.__version__"
   ]
  },
  {
   "cell_type": "markdown",
   "metadata": {},
   "source": [
    "#### 3. Generate a 2x3x5 3-dimensional array with random values. Assign the array to variable *a*.\n",
    "**Challenge**: there are at least three easy ways that use numpy to generate random arrays. How many ways can you find?\n",
    "**Hint**: look for `np.random` and search for functions you want to use.\n",
    "\n",
    "The outcomes should look like:\n",
    "```python\n",
    "array([[[ 0.00453782,  0.47251152,  0.65513617,  0.89370211,  0.91464052],\n",
    "        [ 0.35606786,  0.68149792,  0.37211451,  0.2493357 ,  0.66608051],\n",
    "        [ 0.71459267,  0.68722356,  0.20916865,  0.98338451,  0.28154909]],\n",
    "\n",
    "       [[ 0.83752622,  0.12378486,  0.77380373,  0.43270332,  0.26392168],\n",
    "        [ 0.02528723,  0.5352501 ,  0.35521185,  0.05175587,  0.64898055],\n",
    "        [ 0.52616383,  0.94453068,  0.17055731,  0.15094225,  0.63495276]]])\n",
    "```\n",
    "*The values do not need to be the same. Remember that you are creating random numbers.*"
   ]
  },
  {
   "cell_type": "code",
   "execution_count": 30,
   "metadata": {},
   "outputs": [
    {
     "data": {
      "text/plain": [
       "array([[[0.19962335, 0.78417468, 0.15596515, 0.57699331, 0.3070615 ],\n",
       "        [0.84290943, 0.21171591, 0.07983985, 0.14196747, 0.88996545],\n",
       "        [0.49806363, 0.09630039, 0.2105138 , 0.300111  , 0.15695019]],\n",
       "\n",
       "       [[0.73569674, 0.4557445 , 0.57207236, 0.3277965 , 0.96865249],\n",
       "        [0.33513987, 0.91765684, 0.32504544, 0.03620884, 0.60777746],\n",
       "        [0.29250581, 0.02538538, 0.31843902, 0.74237248, 0.08010358]]])"
      ]
     },
     "execution_count": 30,
     "metadata": {},
     "output_type": "execute_result"
    }
   ],
   "source": [
    "# Method 1\n",
    "\n",
    "a = np.random.random((2,3,5))\n",
    "\n",
    "a"
   ]
  },
  {
   "cell_type": "code",
   "execution_count": 4,
   "metadata": {},
   "outputs": [
    {
     "data": {
      "text/plain": [
       "array([[0, 0, 1, 1, 1],\n",
       "       [0, 0, 0, 0, 0],\n",
       "       [0, 0, 1, 0, 1]])"
      ]
     },
     "execution_count": 4,
     "metadata": {},
     "output_type": "execute_result"
    }
   ],
   "source": [
    "# Method 2\n",
    "\n",
    "a = np.random.randint(2,size = [3,5])\n",
    "a"
   ]
  },
  {
   "cell_type": "code",
   "execution_count": 5,
   "metadata": {},
   "outputs": [
    {
     "data": {
      "text/plain": [
       "array([[[ 0.52653938,  0.46963654, -0.86305931,  0.71310635,\n",
       "          0.26319597],\n",
       "        [-0.21639855, -0.36911569,  0.87866217,  0.54814647,\n",
       "          0.57907085],\n",
       "        [-1.83392553,  0.19909957,  0.67978488,  0.77674008,\n",
       "         -0.68618026]],\n",
       "\n",
       "       [[ 0.85600071,  0.04678088,  0.34998239,  0.85953605,\n",
       "         -2.37150454],\n",
       "        [ 0.11212631, -0.21040419, -1.12352507,  0.32529685,\n",
       "          1.58885497],\n",
       "        [-0.9961724 ,  0.72126321,  1.38780094,  0.76259621,\n",
       "         -1.1213451 ]]])"
      ]
     },
     "execution_count": 5,
     "metadata": {},
     "output_type": "execute_result"
    }
   ],
   "source": [
    "# Method 3\n",
    "\n",
    "a = np.random.normal(0,1,(2,3,5))\n",
    "\n",
    "a"
   ]
  },
  {
   "cell_type": "markdown",
   "metadata": {},
   "source": [
    "#### 4. Print *a*.\n"
   ]
  },
  {
   "cell_type": "code",
   "execution_count": 6,
   "metadata": {},
   "outputs": [
    {
     "name": "stdout",
     "output_type": "stream",
     "text": [
      "[[[ 0.52653938  0.46963654 -0.86305931  0.71310635  0.26319597]\n",
      "  [-0.21639855 -0.36911569  0.87866217  0.54814647  0.57907085]\n",
      "  [-1.83392553  0.19909957  0.67978488  0.77674008 -0.68618026]]\n",
      "\n",
      " [[ 0.85600071  0.04678088  0.34998239  0.85953605 -2.37150454]\n",
      "  [ 0.11212631 -0.21040419 -1.12352507  0.32529685  1.58885497]\n",
      "  [-0.9961724   0.72126321  1.38780094  0.76259621 -1.1213451 ]]]\n"
     ]
    }
   ],
   "source": [
    "# your code here\n",
    "\n",
    "print(a)"
   ]
  },
  {
   "cell_type": "markdown",
   "metadata": {},
   "source": [
    "#### 5. Create a 5x3x2 3-dimensional array with all values equaling 1. Assign the array to variable *b*.\n",
    "\n",
    "The outcome should look like:\n",
    "```python\n",
    "[[[ 1.  1.  1.]\n",
    "  [ 1.  1.  1.]]\n",
    "\n",
    " [[ 1.  1.  1.]\n",
    "  [ 1.  1.  1.]]\n",
    "\n",
    " [[ 1.  1.  1.]\n",
    "  [ 1.  1.  1.]]\n",
    "\n",
    " [[ 1.  1.  1.]\n",
    "  [ 1.  1.  1.]]\n",
    "\n",
    " [[ 1.  1.  1.]\n",
    "  [ 1.  1.  1.]]]\n",
    "```"
   ]
  },
  {
   "cell_type": "code",
   "execution_count": 32,
   "metadata": {},
   "outputs": [],
   "source": [
    "# your code here\n",
    "\n",
    "s = (5,2,3)\n",
    "b = np.ones(s)\n"
   ]
  },
  {
   "cell_type": "markdown",
   "metadata": {},
   "source": [
    "#### 6. Print *b*.\n"
   ]
  },
  {
   "cell_type": "code",
   "execution_count": 8,
   "metadata": {},
   "outputs": [
    {
     "name": "stdout",
     "output_type": "stream",
     "text": [
      "[[[1. 1. 1.]\n",
      "  [1. 1. 1.]]\n",
      "\n",
      " [[1. 1. 1.]\n",
      "  [1. 1. 1.]]\n",
      "\n",
      " [[1. 1. 1.]\n",
      "  [1. 1. 1.]]\n",
      "\n",
      " [[1. 1. 1.]\n",
      "  [1. 1. 1.]]\n",
      "\n",
      " [[1. 1. 1.]\n",
      "  [1. 1. 1.]]]\n"
     ]
    }
   ],
   "source": [
    "# your code here\n",
    "\n",
    "print(b)"
   ]
  },
  {
   "cell_type": "markdown",
   "metadata": {},
   "source": [
    "#### 7. Do *a* and *b* have the same size? How do you prove that in Python code?"
   ]
  },
  {
   "cell_type": "code",
   "execution_count": 33,
   "metadata": {},
   "outputs": [
    {
     "name": "stdout",
     "output_type": "stream",
     "text": [
      "30\n",
      "30\n",
      "True\n"
     ]
    }
   ],
   "source": [
    "# your code here\n",
    "\n",
    "print(a.size)\n",
    "print(b.size)\n",
    "\n",
    "print(a.size == b.size)"
   ]
  },
  {
   "cell_type": "markdown",
   "metadata": {},
   "source": [
    "#### 8. Are you able to add *a* and *b*? Why or why not?\n"
   ]
  },
  {
   "cell_type": "code",
   "execution_count": 34,
   "metadata": {},
   "outputs": [
    {
     "ename": "ValueError",
     "evalue": "operands could not be broadcast together with shapes (2,3,5) (5,2,3) ",
     "output_type": "error",
     "traceback": [
      "\u001b[1;31m---------------------------------------------------------------------------\u001b[0m",
      "\u001b[1;31mValueError\u001b[0m                                Traceback (most recent call last)",
      "\u001b[1;32m<ipython-input-34-0689f4287e4e>\u001b[0m in \u001b[0;36m<module>\u001b[1;34m\u001b[0m\n\u001b[0;32m      1\u001b[0m \u001b[1;31m# your answer here\u001b[0m\u001b[1;33m\u001b[0m\u001b[1;33m\u001b[0m\u001b[1;33m\u001b[0m\u001b[0m\n\u001b[0;32m      2\u001b[0m \u001b[1;33m\u001b[0m\u001b[0m\n\u001b[1;32m----> 3\u001b[1;33m \u001b[0mprint\u001b[0m\u001b[1;33m(\u001b[0m\u001b[0mnp\u001b[0m\u001b[1;33m.\u001b[0m\u001b[0madd\u001b[0m\u001b[1;33m(\u001b[0m\u001b[0ma\u001b[0m\u001b[1;33m,\u001b[0m \u001b[0mb\u001b[0m\u001b[1;33m)\u001b[0m\u001b[1;33m)\u001b[0m\u001b[1;33m\u001b[0m\u001b[1;33m\u001b[0m\u001b[0m\n\u001b[0m\u001b[0;32m      4\u001b[0m \u001b[1;33m\u001b[0m\u001b[0m\n\u001b[0;32m      5\u001b[0m \u001b[1;33m\u001b[0m\u001b[0m\n",
      "\u001b[1;31mValueError\u001b[0m: operands could not be broadcast together with shapes (2,3,5) (5,2,3) "
     ]
    }
   ],
   "source": [
    "# your answer here\n",
    "\n",
    "print(np.add(a, b))\n",
    "\n",
    "\n",
    "\n",
    "# We can't add a and b because this dimensions are not equal"
   ]
  },
  {
   "cell_type": "markdown",
   "metadata": {},
   "source": [
    "#### 9. Transpose *b* so that it has the same structure of *a* (i.e. become a 2x3x5 array). Assign the transposed array to variable *c*.\n",
    "\n",
    "**Hint**: search for `np.transpose`"
   ]
  },
  {
   "cell_type": "code",
   "execution_count": 35,
   "metadata": {},
   "outputs": [
    {
     "name": "stdout",
     "output_type": "stream",
     "text": [
      "[[[0.19962335 0.78417468 0.15596515 0.57699331 0.3070615 ]\n",
      "  [0.84290943 0.21171591 0.07983985 0.14196747 0.88996545]\n",
      "  [0.49806363 0.09630039 0.2105138  0.300111   0.15695019]]\n",
      "\n",
      " [[0.73569674 0.4557445  0.57207236 0.3277965  0.96865249]\n",
      "  [0.33513987 0.91765684 0.32504544 0.03620884 0.60777746]\n",
      "  [0.29250581 0.02538538 0.31843902 0.74237248 0.08010358]]]\n",
      "[[[0.19962335 0.78417468 0.15596515 0.57699331 0.3070615 ]\n",
      "  [0.84290943 0.21171591 0.07983985 0.14196747 0.88996545]\n",
      "  [0.49806363 0.09630039 0.2105138  0.300111   0.15695019]]\n",
      "\n",
      " [[0.73569674 0.4557445  0.57207236 0.3277965  0.96865249]\n",
      "  [0.33513987 0.91765684 0.32504544 0.03620884 0.60777746]\n",
      "  [0.29250581 0.02538538 0.31843902 0.74237248 0.08010358]]]\n"
     ]
    }
   ],
   "source": [
    "# your code here\n",
    "print(a)\n",
    "\n",
    "c = np.reshape(a ,(2, 3, 5))\n",
    "print(c)"
   ]
  },
  {
   "cell_type": "markdown",
   "metadata": {},
   "source": [
    "#### 10. Try to add *a* and *c*. Now it should work. Assign the sum to variable *d*. But why does it work now?"
   ]
  },
  {
   "cell_type": "code",
   "execution_count": 36,
   "metadata": {},
   "outputs": [
    {
     "name": "stdout",
     "output_type": "stream",
     "text": [
      "[[[0.39924669 1.56834936 0.31193031 1.15398663 0.61412299]\n",
      "  [1.68581886 0.42343182 0.15967969 0.28393493 1.77993089]\n",
      "  [0.99612726 0.19260079 0.4210276  0.600222   0.31390039]]\n",
      "\n",
      " [[1.47139349 0.91148901 1.14414472 0.65559301 1.93730498]\n",
      "  [0.67027973 1.83531369 0.65009088 0.07241768 1.21555492]\n",
      "  [0.58501163 0.05077076 0.63687805 1.48474495 0.16020716]]]\n"
     ]
    }
   ],
   "source": [
    "# your code/answer here\n",
    "d = np.add(a, c)\n",
    "\n",
    "print(d)\n",
    "\n",
    "# We can add a and c because this dimensions are the same dimensions"
   ]
  },
  {
   "cell_type": "markdown",
   "metadata": {},
   "source": [
    "#### 11. Print *a* and *d*. Notice the difference and relation of the two array in terms of the values? Explain."
   ]
  },
  {
   "cell_type": "code",
   "execution_count": 37,
   "metadata": {},
   "outputs": [
    {
     "name": "stdout",
     "output_type": "stream",
     "text": [
      "[[[0.19962335 0.78417468 0.15596515 0.57699331 0.3070615 ]\n",
      "  [0.84290943 0.21171591 0.07983985 0.14196747 0.88996545]\n",
      "  [0.49806363 0.09630039 0.2105138  0.300111   0.15695019]]\n",
      "\n",
      " [[0.73569674 0.4557445  0.57207236 0.3277965  0.96865249]\n",
      "  [0.33513987 0.91765684 0.32504544 0.03620884 0.60777746]\n",
      "  [0.29250581 0.02538538 0.31843902 0.74237248 0.08010358]]]\n",
      "\n",
      "\n",
      "[[[0.39924669 1.56834936 0.31193031 1.15398663 0.61412299]\n",
      "  [1.68581886 0.42343182 0.15967969 0.28393493 1.77993089]\n",
      "  [0.99612726 0.19260079 0.4210276  0.600222   0.31390039]]\n",
      "\n",
      " [[1.47139349 0.91148901 1.14414472 0.65559301 1.93730498]\n",
      "  [0.67027973 1.83531369 0.65009088 0.07241768 1.21555492]\n",
      "  [0.58501163 0.05077076 0.63687805 1.48474495 0.16020716]]]\n"
     ]
    }
   ],
   "source": [
    "# your code/answer here\n",
    "\n",
    "print(a)\n",
    "print(\"\\n\")\n",
    "print(d)\n",
    "\n",
    "# D is d = np.add(a,c), all values of d are the sum between values a and c\n"
   ]
  },
  {
   "cell_type": "markdown",
   "metadata": {},
   "source": [
    "#### 12. Multiply *a* and *c*. Assign the result to *e*."
   ]
  },
  {
   "cell_type": "code",
   "execution_count": 38,
   "metadata": {},
   "outputs": [
    {
     "data": {
      "text/plain": [
       "array([[[3.98494799e-02, 6.14929928e-01, 2.43251294e-02, 3.32921284e-01,\n",
       "         9.42867618e-02],\n",
       "        [7.10496307e-01, 4.48236265e-02, 6.37440098e-03, 2.01547614e-02,\n",
       "         7.92038496e-01],\n",
       "        [2.48067379e-01, 9.27376583e-03, 4.43160594e-02, 9.00666121e-02,\n",
       "         2.46333636e-02]],\n",
       "\n",
       "       [[5.41249699e-01, 2.07703052e-01, 3.27266784e-01, 1.07450548e-01,\n",
       "         9.38287643e-01],\n",
       "        [1.12318730e-01, 8.42094084e-01, 1.05654540e-01, 1.31107993e-03,\n",
       "         3.69393442e-01],\n",
       "        [8.55596511e-02, 6.44417592e-04, 1.01403412e-01, 5.51116895e-01,\n",
       "         6.41658387e-03]]])"
      ]
     },
     "execution_count": 38,
     "metadata": {},
     "output_type": "execute_result"
    }
   ],
   "source": [
    "# your code here\n",
    "e = a*c\n",
    "e"
   ]
  },
  {
   "cell_type": "markdown",
   "metadata": {},
   "source": [
    "#### 13. Does *e* equal to *a*? Why or why not?\n"
   ]
  },
  {
   "cell_type": "code",
   "execution_count": 39,
   "metadata": {},
   "outputs": [
    {
     "name": "stdout",
     "output_type": "stream",
     "text": [
      "[[[0.19962335 0.78417468 0.15596515 0.57699331 0.3070615 ]\n",
      "  [0.84290943 0.21171591 0.07983985 0.14196747 0.88996545]\n",
      "  [0.49806363 0.09630039 0.2105138  0.300111   0.15695019]]\n",
      "\n",
      " [[0.73569674 0.4557445  0.57207236 0.3277965  0.96865249]\n",
      "  [0.33513987 0.91765684 0.32504544 0.03620884 0.60777746]\n",
      "  [0.29250581 0.02538538 0.31843902 0.74237248 0.08010358]]]\n",
      "\n",
      "\n",
      "[[[3.98494799e-02 6.14929928e-01 2.43251294e-02 3.32921284e-01\n",
      "   9.42867618e-02]\n",
      "  [7.10496307e-01 4.48236265e-02 6.37440098e-03 2.01547614e-02\n",
      "   7.92038496e-01]\n",
      "  [2.48067379e-01 9.27376583e-03 4.43160594e-02 9.00666121e-02\n",
      "   2.46333636e-02]]\n",
      "\n",
      " [[5.41249699e-01 2.07703052e-01 3.27266784e-01 1.07450548e-01\n",
      "   9.38287643e-01]\n",
      "  [1.12318730e-01 8.42094084e-01 1.05654540e-01 1.31107993e-03\n",
      "   3.69393442e-01]\n",
      "  [8.55596511e-02 6.44417592e-04 1.01403412e-01 5.51116895e-01\n",
      "   6.41658387e-03]]]\n"
     ]
    }
   ],
   "source": [
    "# your code/answer here\n",
    "\n",
    "print(a)\n",
    "print(\"\\n\")\n",
    "print(e)\n",
    "\n",
    "# Not the same because e is each value of a multiply by each value of c. EX: e[0][0] = a[0][0]*c[0][0]"
   ]
  },
  {
   "cell_type": "markdown",
   "metadata": {},
   "source": [
    "#### 14. Identify the max, min, and mean values in *d*. Assign those values to variables *d_max*, *d_min* and *d_mean*."
   ]
  },
  {
   "cell_type": "code",
   "execution_count": 40,
   "metadata": {},
   "outputs": [
    {
     "name": "stdout",
     "output_type": "stream",
     "text": [
      "1.9373049761951173\n",
      "0.050770762912316414\n",
      "0.8128501621586789\n"
     ]
    }
   ],
   "source": [
    "# your code here\n",
    "d_max = d.max()\n",
    "d_min = d.min()\n",
    "d_mean = d.mean()\n",
    "\n",
    "print(d_max)\n",
    "print(d_min)\n",
    "print(d_mean)"
   ]
  },
  {
   "cell_type": "markdown",
   "metadata": {},
   "source": [
    "#### 15. Now we want to label the values in *d*. First create an empty array *f* with the same shape (i.e. 2x3x5) as *d* using `np.empty`.\n"
   ]
  },
  {
   "cell_type": "code",
   "execution_count": 52,
   "metadata": {},
   "outputs": [
    {
     "name": "stdout",
     "output_type": "stream",
     "text": [
      "[[[0.39924669 1.56834936 0.31193031 1.15398663 0.61412299]\n",
      "  [1.68581886 0.42343182 0.15967969 0.28393493 1.77993089]\n",
      "  [0.99612726 0.19260079 0.4210276  0.600222   0.31390039]]\n",
      "\n",
      " [[1.47139349 0.91148901 1.14414472 0.65559301 1.93730498]\n",
      "  [0.67027973 1.83531369 0.65009088 0.07241768 1.21555492]\n",
      "  [0.58501163 0.05077076 0.63687805 1.48474495 0.16020716]]]\n"
     ]
    }
   ],
   "source": [
    "# your code here\n",
    "\n",
    "f = np.empty((2,3,5))\n",
    "f = d\n",
    "\n",
    "print(f)\n"
   ]
  },
  {
   "cell_type": "markdown",
   "metadata": {},
   "source": [
    "#### 16. Populate the values in *f*. \n",
    "\n",
    "For each value in *d*, if it's larger than *d_min* but smaller than *d_mean*, assign 25 to the corresponding value in *f*. If a value in *d* is larger than *d_mean* but smaller than *d_max*, assign 75 to the corresponding value in *f*. If a value equals to *d_mean*, assign 50 to the corresponding value in *f*. Assign 0 to the corresponding value(s) in *f* for *d_min* in *d*. Assign 100 to the corresponding value(s) in *f* for *d_max* in *d*. In the end, f should have only the following values: 0, 25, 50, 75, and 100.\n",
    "\n",
    "**Note**: you don't have to use Numpy in this question."
   ]
  },
  {
   "cell_type": "code",
   "execution_count": 54,
   "metadata": {},
   "outputs": [
    {
     "name": "stdout",
     "output_type": "stream",
     "text": [
      "[[[2.50000000e+01 7.50000000e+01 2.50000000e+01 1.15398663e+00\n",
      "   6.14122990e-01]\n",
      "  [7.50000000e+01 2.50000000e+01 2.50000000e+01 2.83934932e-01\n",
      "   1.77993089e+00]\n",
      "  [9.96127260e-01 1.92600787e-01 4.21027597e-01 6.00221999e-01\n",
      "   3.13900390e-01]]\n",
      "\n",
      " [[1.47139349e+00 9.11489007e-01 1.14414472e+00 6.55593009e-01\n",
      "   1.93730498e+00]\n",
      "  [6.70279732e-01 1.83531369e+00 6.50090885e-01 7.24176754e-02\n",
      "   1.21555492e+00]\n",
      "  [5.85011628e-01 5.07707629e-02 6.36878049e-01 1.48474495e+00\n",
      "   1.60207164e-01]]]\n"
     ]
    }
   ],
   "source": [
    "# your code here\n",
    "\n",
    "for x in range(0,len(f)-1):\n",
    "    for y in range(0,len(f)):\n",
    "        for z in range(0,f.ndim):\n",
    "            if f[x][y][z] > d_min and f[x][y][z] < d_mean:\n",
    "                f[x][y][z] = 25\n",
    "\n",
    "            elif f[x][y][z] > d_mean and f[x][y][z] < d_max:\n",
    "\n",
    "                f[x][y][z] = 75\n",
    "            elif f[x][y][z] == d_mean:\n",
    "\n",
    "                f[x][y][z] = 50\n",
    "            elif f[x][y][z] == d_min:\n",
    "\n",
    "                f[x][y][z] = 0\n",
    "            elif f[x][y][z] == d_max:\n",
    "\n",
    "                f[x][y][z] = 100\n",
    "\n",
    "print(f)\n",
    " "
   ]
  },
  {
   "cell_type": "markdown",
   "metadata": {},
   "source": [
    "#### 17. Print *d* and *f*. Do you have your expected *f*?\n",
    "For instance, if your *d* is:\n",
    "```python\n",
    "[[[1.85836099, 1.67064465, 1.62576044, 1.40243961, 1.88454931],\n",
    "[1.75354326, 1.69403643, 1.36729252, 1.61415071, 1.12104981],\n",
    "[1.72201435, 1.1862918 , 1.87078449, 1.7726778 , 1.88180042]],\n",
    "[[1.44747908, 1.31673383, 1.02000951, 1.52218947, 1.97066381],\n",
    "[1.79129243, 1.74983003, 1.96028037, 1.85166831, 1.65450881],\n",
    "[1.18068344, 1.9587381 , 1.00656599, 1.93402165, 1.73514584]]]\n",
    "```\n",
    "Your *f* should be:\n",
    "```python\n",
    "[[[ 75.,  75.,  75.,  25.,  75.],\n",
    "[ 75.,  75.,  25.,  25.,  25.],\n",
    "[ 75.,  25.,  75.,  75.,  75.]],\n",
    "[[ 25.,  25.,  25.,  25., 100.],\n",
    "[ 75.,  75.,  75.,  75.,  75.],\n",
    "[ 25.,  75.,   0.,  75.,  75.]]]\n",
    "```"
   ]
  },
  {
   "cell_type": "code",
   "execution_count": 57,
   "metadata": {},
   "outputs": [
    {
     "name": "stdout",
     "output_type": "stream",
     "text": [
      "[[[2.50000000e+01 7.50000000e+01 2.50000000e+01 1.15398663e+00\n",
      "   6.14122990e-01]\n",
      "  [7.50000000e+01 2.50000000e+01 2.50000000e+01 2.83934932e-01\n",
      "   1.77993089e+00]\n",
      "  [9.96127260e-01 1.92600787e-01 4.21027597e-01 6.00221999e-01\n",
      "   3.13900390e-01]]\n",
      "\n",
      " [[1.47139349e+00 9.11489007e-01 1.14414472e+00 6.55593009e-01\n",
      "   1.93730498e+00]\n",
      "  [6.70279732e-01 1.83531369e+00 6.50090885e-01 7.24176754e-02\n",
      "   1.21555492e+00]\n",
      "  [5.85011628e-01 5.07707629e-02 6.36878049e-01 1.48474495e+00\n",
      "   1.60207164e-01]]]\n",
      "[[[2.50000000e+01 7.50000000e+01 2.50000000e+01 1.15398663e+00\n",
      "   6.14122990e-01]\n",
      "  [7.50000000e+01 2.50000000e+01 2.50000000e+01 2.83934932e-01\n",
      "   1.77993089e+00]\n",
      "  [9.96127260e-01 1.92600787e-01 4.21027597e-01 6.00221999e-01\n",
      "   3.13900390e-01]]\n",
      "\n",
      " [[1.47139349e+00 9.11489007e-01 1.14414472e+00 6.55593009e-01\n",
      "   1.93730498e+00]\n",
      "  [6.70279732e-01 1.83531369e+00 6.50090885e-01 7.24176754e-02\n",
      "   1.21555492e+00]\n",
      "  [5.85011628e-01 5.07707629e-02 6.36878049e-01 1.48474495e+00\n",
      "   1.60207164e-01]]]\n"
     ]
    }
   ],
   "source": [
    "# your code here\n",
    "\n",
    "print(d)\n",
    "print(f)"
   ]
  },
  {
   "cell_type": "markdown",
   "metadata": {},
   "source": [
    "#### 18. Bonus question: instead of using numbers (i.e. 0, 25, 50, 75, and 100), use string values  (\"A\", \"B\", \"C\", \"D\", and \"E\") to label the array elements. For the example above, the expected result is:\n",
    "\n",
    "```python\n",
    "[[[ 'D',  'D',  'D',  'B',  'D'],\n",
    "[ 'D',  'D',  'B',  'B',  'B'],\n",
    "[ 'D',  'B',  'D',  'D',  'D']],\n",
    "[[ 'B',  'B',  'B',  'B',  'E'],\n",
    "[ 'D',  'D',  'D',  'D',  'D'],\n",
    "[ 'B',  'D',   'A',  'D', 'D']]]\n",
    "```\n",
    "**Note**: you don't have to use Numpy in this question."
   ]
  },
  {
   "cell_type": "code",
   "execution_count": null,
   "metadata": {},
   "outputs": [],
   "source": [
    "# your code here"
   ]
  }
 ],
 "metadata": {
  "kernelspec": {
   "display_name": "Python 3",
   "language": "python",
   "name": "python3"
  },
  "language_info": {
   "codemirror_mode": {
    "name": "ipython",
    "version": 3
   },
   "file_extension": ".py",
   "mimetype": "text/x-python",
   "name": "python",
   "nbconvert_exporter": "python",
   "pygments_lexer": "ipython3",
   "version": "3.8.5"
  },
  "toc": {
   "base_numbering": 1,
   "nav_menu": {},
   "number_sections": true,
   "sideBar": true,
   "skip_h1_title": false,
   "title_cell": "Table of Contents",
   "title_sidebar": "Contents",
   "toc_cell": false,
   "toc_position": {},
   "toc_section_display": true,
   "toc_window_display": false
  },
  "varInspector": {
   "cols": {
    "lenName": 16,
    "lenType": 16,
    "lenVar": 40
   },
   "kernels_config": {
    "python": {
     "delete_cmd_postfix": "",
     "delete_cmd_prefix": "del ",
     "library": "var_list.py",
     "varRefreshCmd": "print(var_dic_list())"
    },
    "r": {
     "delete_cmd_postfix": ") ",
     "delete_cmd_prefix": "rm(",
     "library": "var_list.r",
     "varRefreshCmd": "cat(var_dic_list()) "
    }
   },
   "types_to_exclude": [
    "module",
    "function",
    "builtin_function_or_method",
    "instance",
    "_Feature"
   ],
   "window_display": false
  }
 },
 "nbformat": 4,
 "nbformat_minor": 2
}
