{
 "cells": [
  {
   "cell_type": "markdown",
   "metadata": {},
   "source": [
    "# Intrduction to NumPy\n",
    "\n",
    "\n",
    "#### 1. Import NumPy under the name np."
   ]
  },
  {
   "cell_type": "code",
   "execution_count": 15,
   "metadata": {},
   "outputs": [],
   "source": [
    "# your code here\n",
    "\n",
    "import numpy as np"
   ]
  },
  {
   "cell_type": "markdown",
   "metadata": {},
   "source": [
    "#### 2. Print your NumPy version."
   ]
  },
  {
   "cell_type": "code",
   "execution_count": 16,
   "metadata": {},
   "outputs": [
    {
     "data": {
      "text/plain": [
       "'1.16.2'"
      ]
     },
     "execution_count": 16,
     "metadata": {},
     "output_type": "execute_result"
    }
   ],
   "source": [
    "# your code here\n",
    "\n",
    "np.version.version"
   ]
  },
  {
   "cell_type": "markdown",
   "metadata": {},
   "source": [
    "#### 3. Generate a 2x3x5 3-dimensional array with random values. Assign the array to variable *a*.\n",
    "**Challenge**: there are at least three easy ways that use numpy to generate random arrays. How many ways can you find?"
   ]
  },
  {
   "cell_type": "code",
   "execution_count": 17,
   "metadata": {},
   "outputs": [],
   "source": [
    "# Method 1\n",
    "\n",
    "a = np.random.random((2,3,5))"
   ]
  },
  {
   "cell_type": "code",
   "execution_count": 18,
   "metadata": {},
   "outputs": [
    {
     "data": {
      "text/plain": [
       "array([[[0.37468235, 0.3844793 , 0.1135758 , 0.09103963, 0.42057735],\n",
       "        [0.95107416, 0.34946336, 0.17876578, 0.44616435, 0.43359658],\n",
       "        [0.65125938, 0.70153506, 0.44389239, 0.22902788, 0.60793923]],\n",
       "\n",
       "       [[0.99708051, 0.42822843, 0.4059071 , 0.03772803, 0.86329225],\n",
       "        [0.74484357, 0.84255779, 0.54490398, 0.04638982, 0.11239557],\n",
       "        [0.19212843, 0.30056696, 0.24106997, 0.32969254, 0.36072727]]])"
      ]
     },
     "execution_count": 18,
     "metadata": {},
     "output_type": "execute_result"
    }
   ],
   "source": [
    "# Method 2\n",
    "np.empty((2,3,5))"
   ]
  },
  {
   "cell_type": "code",
   "execution_count": 26,
   "metadata": {},
   "outputs": [],
   "source": [
    "# Method 3\n",
    "\n",
    "a = np.random.sample((2,3,5))"
   ]
  },
  {
   "cell_type": "markdown",
   "metadata": {},
   "source": [
    "#### 4. Print *a*.\n"
   ]
  },
  {
   "cell_type": "code",
   "execution_count": 27,
   "metadata": {},
   "outputs": [
    {
     "name": "stdout",
     "output_type": "stream",
     "text": [
      "[[[0.97508777 0.93273605 0.7194271  0.47281006 0.21003907]\n",
      "  [0.92096734 0.45171038 0.63363435 0.71926338 0.26320639]\n",
      "  [0.40327408 0.61376587 0.09522739 0.3183408  0.79817657]]\n",
      "\n",
      " [[0.55330621 0.14566134 0.32853497 0.65219597 0.45521249]\n",
      "  [0.47900709 0.61570579 0.85560176 0.69515902 0.93825235]\n",
      "  [0.66818376 0.52574226 0.55480791 0.30130773 0.40366254]]]\n"
     ]
    }
   ],
   "source": [
    "# your code here\n",
    "\n",
    "print(a)"
   ]
  },
  {
   "cell_type": "markdown",
   "metadata": {},
   "source": [
    "#### 5. Create a 5x2x3 3-dimensional array with all values equaling 1. Assign the array to variable *b*."
   ]
  },
  {
   "cell_type": "code",
   "execution_count": 28,
   "metadata": {},
   "outputs": [],
   "source": [
    "# your code here\n",
    "\n",
    "b = np.ones((5,2,3))\n",
    "\n"
   ]
  },
  {
   "cell_type": "markdown",
   "metadata": {},
   "source": [
    "#### 6. Print *b*.\n"
   ]
  },
  {
   "cell_type": "code",
   "execution_count": 29,
   "metadata": {},
   "outputs": [
    {
     "name": "stdout",
     "output_type": "stream",
     "text": [
      "[[[1. 1. 1.]\n",
      "  [1. 1. 1.]]\n",
      "\n",
      " [[1. 1. 1.]\n",
      "  [1. 1. 1.]]\n",
      "\n",
      " [[1. 1. 1.]\n",
      "  [1. 1. 1.]]\n",
      "\n",
      " [[1. 1. 1.]\n",
      "  [1. 1. 1.]]\n",
      "\n",
      " [[1. 1. 1.]\n",
      "  [1. 1. 1.]]]\n"
     ]
    }
   ],
   "source": [
    "# your code here\n",
    "print(b)"
   ]
  },
  {
   "cell_type": "markdown",
   "metadata": {},
   "source": [
    "#### 7. Do *a* and *b* have the same size? How do you prove that in Python code?"
   ]
  },
  {
   "cell_type": "code",
   "execution_count": 30,
   "metadata": {},
   "outputs": [
    {
     "name": "stdout",
     "output_type": "stream",
     "text": [
      "True\n"
     ]
    }
   ],
   "source": [
    "# your code here\n",
    "\n",
    "if b.size == a.size:\n",
    "    print(True)\n",
    "else:\n",
    "    print(False)"
   ]
  },
  {
   "cell_type": "markdown",
   "metadata": {},
   "source": [
    "#### 8. Are you able to add *a* and *b*? Why or why not?\n"
   ]
  },
  {
   "cell_type": "code",
   "execution_count": 32,
   "metadata": {},
   "outputs": [
    {
     "ename": "ValueError",
     "evalue": "operands could not be broadcast together with shapes (2,3,5) (5,2,3) ",
     "output_type": "error",
     "traceback": [
      "\u001b[0;31m---------------------------------------------------------------------------\u001b[0m",
      "\u001b[0;31mValueError\u001b[0m                                Traceback (most recent call last)",
      "\u001b[0;32m<ipython-input-32-a164f5ed1887>\u001b[0m in \u001b[0;36m<module>\u001b[0;34m\u001b[0m\n\u001b[1;32m      1\u001b[0m \u001b[0;31m# your answer here\u001b[0m\u001b[0;34m\u001b[0m\u001b[0;34m\u001b[0m\u001b[0;34m\u001b[0m\u001b[0m\n\u001b[1;32m      2\u001b[0m \u001b[0;34m\u001b[0m\u001b[0m\n\u001b[0;32m----> 3\u001b[0;31m \u001b[0mnp\u001b[0m\u001b[0;34m.\u001b[0m\u001b[0madd\u001b[0m\u001b[0;34m(\u001b[0m\u001b[0ma\u001b[0m\u001b[0;34m,\u001b[0m\u001b[0mb\u001b[0m\u001b[0;34m)\u001b[0m\u001b[0;34m\u001b[0m\u001b[0;34m\u001b[0m\u001b[0m\n\u001b[0m\u001b[1;32m      4\u001b[0m \u001b[0;34m\u001b[0m\u001b[0m\n\u001b[1;32m      5\u001b[0m \u001b[0;31m#Dimensions are not fit to arithmetically operate with them\u001b[0m\u001b[0;34m\u001b[0m\u001b[0;34m\u001b[0m\u001b[0;34m\u001b[0m\u001b[0m\n",
      "\u001b[0;31mValueError\u001b[0m: operands could not be broadcast together with shapes (2,3,5) (5,2,3) "
     ]
    }
   ],
   "source": [
    "# your answer here\n",
    "\n",
    "np.add(a,b)\n",
    "\n",
    "#Dimensions are not fit to arithmetically operate with them"
   ]
  },
  {
   "cell_type": "markdown",
   "metadata": {},
   "source": [
    "#### 9. Transpose *b* so that it has the same structure of *a* (i.e. become a 2x3x5 array). Assign the transposed array to variable *c*."
   ]
  },
  {
   "cell_type": "code",
   "execution_count": 33,
   "metadata": {},
   "outputs": [
    {
     "data": {
      "text/plain": [
       "(2, 3, 5)"
      ]
     },
     "execution_count": 33,
     "metadata": {},
     "output_type": "execute_result"
    }
   ],
   "source": [
    "# your code here\n",
    "\n",
    "c = b.reshape((2,3,5))\n",
    "\n",
    "c.shape"
   ]
  },
  {
   "cell_type": "markdown",
   "metadata": {},
   "source": [
    "#### 10. Try to add *a* and *c*. Now it should work. Assign the sum to variable *d*. But why does it work now?"
   ]
  },
  {
   "cell_type": "code",
   "execution_count": 36,
   "metadata": {},
   "outputs": [],
   "source": [
    "# your code/answer here\n",
    "\n",
    "d = np.add(a,c)\n",
    "\n",
    "# a and c have same structure, so we can operate with the arrays now."
   ]
  },
  {
   "cell_type": "markdown",
   "metadata": {},
   "source": [
    "#### 11. Print *a* and *d*. Notice the difference and relation of the two array in terms of the values? Explain."
   ]
  },
  {
   "cell_type": "code",
   "execution_count": 45,
   "metadata": {},
   "outputs": [
    {
     "name": "stdout",
     "output_type": "stream",
     "text": [
      "[[[0.97508777 0.93273605 0.7194271  0.47281006 0.21003907]\n",
      "  [0.92096734 0.45171038 0.63363435 0.71926338 0.26320639]\n",
      "  [0.40327408 0.61376587 0.09522739 0.3183408  0.79817657]]\n",
      "\n",
      " [[0.55330621 0.14566134 0.32853497 0.65219597 0.45521249]\n",
      "  [0.47900709 0.61570579 0.85560176 0.69515902 0.93825235]\n",
      "  [0.66818376 0.52574226 0.55480791 0.30130773 0.40366254]]] \n",
      "\n",
      "[[[1.97508777 1.93273605 1.7194271  1.47281006 1.21003907]\n",
      "  [1.92096734 1.45171038 1.63363435 1.71926338 1.26320639]\n",
      "  [1.40327408 1.61376587 1.09522739 1.3183408  1.79817657]]\n",
      "\n",
      " [[1.55330621 1.14566134 1.32853497 1.65219597 1.45521249]\n",
      "  [1.47900709 1.61570579 1.85560176 1.69515902 1.93825235]\n",
      "  [1.66818376 1.52574226 1.55480791 1.30130773 1.40366254]]]\n"
     ]
    }
   ],
   "source": [
    "# your code/answer here\n",
    "\n",
    "print(a, '\\n')\n",
    "print(d)\n",
    "\n"
   ]
  },
  {
   "cell_type": "markdown",
   "metadata": {},
   "source": [
    "#### 12. Multiply *a* and *c*. Assign the result to *e*."
   ]
  },
  {
   "cell_type": "code",
   "execution_count": 38,
   "metadata": {},
   "outputs": [
    {
     "name": "stdout",
     "output_type": "stream",
     "text": [
      "[[[0.97508777 0.93273605 0.7194271  0.47281006 0.21003907]\n",
      "  [0.92096734 0.45171038 0.63363435 0.71926338 0.26320639]\n",
      "  [0.40327408 0.61376587 0.09522739 0.3183408  0.79817657]]\n",
      "\n",
      " [[0.55330621 0.14566134 0.32853497 0.65219597 0.45521249]\n",
      "  [0.47900709 0.61570579 0.85560176 0.69515902 0.93825235]\n",
      "  [0.66818376 0.52574226 0.55480791 0.30130773 0.40366254]]]\n"
     ]
    }
   ],
   "source": [
    "# your code here\n",
    "\n",
    "e = np.multiply(a,c)\n",
    "print(e)"
   ]
  },
  {
   "cell_type": "markdown",
   "metadata": {},
   "source": [
    "#### 13. Does *e* equal to *a*? Why or why not?\n"
   ]
  },
  {
   "cell_type": "code",
   "execution_count": 39,
   "metadata": {},
   "outputs": [
    {
     "name": "stdout",
     "output_type": "stream",
     "text": [
      "[[[ True  True  True  True  True]\n",
      "  [ True  True  True  True  True]\n",
      "  [ True  True  True  True  True]]\n",
      "\n",
      " [[ True  True  True  True  True]\n",
      "  [ True  True  True  True  True]\n",
      "  [ True  True  True  True  True]]]\n"
     ]
    }
   ],
   "source": [
    "# your code/answer here\n",
    "\n",
    "print(a == e)\n",
    "\n",
    "# e is just the multiplication of a times c, which is a transposed matrix of 1`s, so multiplicating with a compatible array by 1, returns the same number."
   ]
  },
  {
   "cell_type": "markdown",
   "metadata": {},
   "source": [
    "#### 14. Identify the max, min, and mean values in *d*. Assign those values to variables *d_max*, *d_min* and *d_mean*."
   ]
  },
  {
   "cell_type": "code",
   "execution_count": 40,
   "metadata": {},
   "outputs": [],
   "source": [
    "# your code here\n",
    "\n",
    "d_max = np.max(d)\n",
    "\n",
    "d_min = np.min(d)\n",
    "\n",
    "d_mean = np.mean(d)"
   ]
  },
  {
   "cell_type": "markdown",
   "metadata": {},
   "source": [
    "#### 15. Now we want to label the values in *d*. First create an empty array *f* with the same shape (i.e. 2x3x5) as *d* using `np.empty`.\n"
   ]
  },
  {
   "cell_type": "code",
   "execution_count": 41,
   "metadata": {},
   "outputs": [
    {
     "name": "stdout",
     "output_type": "stream",
     "text": [
      "[[[0.97508777 0.93273605 0.7194271  0.47281006 0.21003907]\n",
      "  [0.92096734 0.45171038 0.63363435 0.71926338 0.26320639]\n",
      "  [0.40327408 0.61376587 0.09522739 0.3183408  0.79817657]]\n",
      "\n",
      " [[0.55330621 0.14566134 0.32853497 0.65219597 0.45521249]\n",
      "  [0.47900709 0.61570579 0.85560176 0.69515902 0.93825235]\n",
      "  [0.66818376 0.52574226 0.55480791 0.30130773 0.40366254]]]\n"
     ]
    }
   ],
   "source": [
    "# your code here\n",
    "\n",
    "f = np.empty((2,3,5))\n",
    "\n",
    "print(f)"
   ]
  },
  {
   "cell_type": "markdown",
   "metadata": {},
   "source": [
    "#### 16. Populate the values in *f*. \n",
    "\n",
    "For each value in *d*, if it's larger than *d_min* but smaller than *d_mean*, assign 25 to the corresponding value in *f*. If a value in *d* is larger than *d_mean* but smaller than *d_max*, assign 75 to the corresponding value in *f*. If a value equals to *d_mean*, assign 50 to the corresponding value in *f*. Assign 0 to the corresponding value(s) in *f* for *d_min* in *d*. Assign 100 to the corresponding value(s) in *f* for *d_max* in *d*. In the end, f should have only the following values: 0, 25, 50, 75, and 100.\n",
    "\n",
    "**Note**: you don't have to use Numpy in this question."
   ]
  },
  {
   "cell_type": "code",
   "execution_count": 42,
   "metadata": {},
   "outputs": [],
   "source": [
    "# your code here\n",
    "\n",
    "for i in range(2):\n",
    "    for x in range(3):\n",
    "        for z in range(5):        \n",
    "                if d[i][x][z] < d_mean and d[i][x][z] > d_min :\n",
    "                    f[i][x][z] = 25\n",
    "                elif d[i][x][z] > d_mean and d[i][x][z] < d_max:\n",
    "                    f[i][x][z] = 75\n",
    "                elif d[i][x][z] == d_mean:\n",
    "                    f[i][x][z] = 50\n",
    "                elif d[i][x][z] == d_min:\n",
    "                    f[i][x][z] = 0\n",
    "                else:\n",
    "                    f[i][x][z] = 100"
   ]
  },
  {
   "cell_type": "markdown",
   "metadata": {},
   "source": [
    "#### 17. Print *d* and *f*. Do you have your expected *f*?\n",
    "For instance, if your *d* is:\n",
    "```python\n",
    "[[[1.85836099, 1.67064465, 1.62576044, 1.40243961, 1.88454931],\n",
    "[1.75354326, 1.69403643, 1.36729252, 1.61415071, 1.12104981],\n",
    "[1.72201435, 1.1862918 , 1.87078449, 1.7726778 , 1.88180042]],\n",
    "[[1.44747908, 1.31673383, 1.02000951, 1.52218947, 1.97066381],\n",
    "[1.79129243, 1.74983003, 1.96028037, 1.85166831, 1.65450881],\n",
    "[1.18068344, 1.9587381 , 1.00656599, 1.93402165, 1.73514584]]]\n",
    "```\n",
    "Your *f* should be:\n",
    "```python\n",
    "[[[ 75.,  75.,  75.,  25.,  75.],\n",
    "[ 75.,  75.,  25.,  25.,  25.],\n",
    "[ 75.,  25.,  75.,  75.,  75.]],\n",
    "[[ 25.,  25.,  25.,  25., 100.],\n",
    "[ 75.,  75.,  75.,  75.,  75.],\n",
    "[ 25.,  75.,   0.,  75.,  75.]]]\n",
    "```"
   ]
  },
  {
   "cell_type": "code",
   "execution_count": 43,
   "metadata": {},
   "outputs": [
    {
     "name": "stdout",
     "output_type": "stream",
     "text": [
      "[[[1.97508777 1.93273605 1.7194271  1.47281006 1.21003907]\n",
      "  [1.92096734 1.45171038 1.63363435 1.71926338 1.26320639]\n",
      "  [1.40327408 1.61376587 1.09522739 1.3183408  1.79817657]]\n",
      "\n",
      " [[1.55330621 1.14566134 1.32853497 1.65219597 1.45521249]\n",
      "  [1.47900709 1.61570579 1.85560176 1.69515902 1.93825235]\n",
      "  [1.66818376 1.52574226 1.55480791 1.30130773 1.40366254]]] \n",
      " \n",
      "\n",
      "[[[100.  75.  75.  25.  25.]\n",
      "  [ 75.  25.  75.  75.  25.]\n",
      "  [ 25.  75.   0.  25.  75.]]\n",
      "\n",
      " [[ 25.  25.  25.  75.  25.]\n",
      "  [ 25.  75.  75.  75.  75.]\n",
      "  [ 75.  25.  25.  25.  25.]]]\n"
     ]
    }
   ],
   "source": [
    "# your code here\n",
    "\n",
    "print(d, '\\n \\n')\n",
    "\n",
    "print(f)"
   ]
  },
  {
   "cell_type": "markdown",
   "metadata": {},
   "source": [
    "#### 18. Bonus question: instead of using numbers (i.e. 0, 25, 50, 75, and 100), use string values  (\"A\", \"B\", \"C\", \"D\", and \"E\") to label the array elements. For the example above, the expected result is:\n",
    "\n",
    "```python\n",
    "[[[ 'D',  'D',  'D',  'B',  'D'],\n",
    "[ 'D',  'D',  'B',  'B',  'B'],\n",
    "[ 'D',  'B',  'D',  'D',  'D']],\n",
    "[[ 'B',  'B',  'B',  'B',  'E'],\n",
    "[ 'D',  'D',  'D',  'D',  'D'],\n",
    "[ 'B',  'D',   'A',  'D', 'D']]]\n",
    "```\n",
    "**Note**: you don't have to use Numpy in this question."
   ]
  },
  {
   "cell_type": "code",
   "execution_count": 44,
   "metadata": {},
   "outputs": [
    {
     "name": "stdout",
     "output_type": "stream",
     "text": [
      "[[['E' 'D' 'D' 'B' 'B']\n",
      "  ['D' 'B' 'D' 'D' 'B']\n",
      "  ['B' 'D' 'A' 'B' 'D']]\n",
      "\n",
      " [['B' 'B' 'B' 'D' 'B']\n",
      "  ['B' 'D' 'D' 'D' 'D']\n",
      "  ['D' 'B' 'B' 'B' 'B']]]\n"
     ]
    }
   ],
   "source": [
    "# your code here\n",
    "\n",
    "f_1 = f.astype(str)\n",
    "\n",
    "f_1[f_1 == \"0.0\"] = \"A\"\n",
    "f_1[f_1 == \"25.0\"] = \"B\"\n",
    "f_1[f_1 == \"50.0\"] = \"C\"\n",
    "f_1[f_1 == \"75.0\"] = \"D\"\n",
    "f_1[f_1 == \"100.0\"] = \"E\"\n",
    "\n",
    "print(f_1)"
   ]
  }
 ],
 "metadata": {
  "kernelspec": {
   "display_name": "Python 3",
   "language": "python",
   "name": "python3"
  },
  "language_info": {
   "codemirror_mode": {
    "name": "ipython",
    "version": 3
   },
   "file_extension": ".py",
   "mimetype": "text/x-python",
   "name": "python",
   "nbconvert_exporter": "python",
   "pygments_lexer": "ipython3",
   "version": "3.7.3"
  }
 },
 "nbformat": 4,
 "nbformat_minor": 2
}
