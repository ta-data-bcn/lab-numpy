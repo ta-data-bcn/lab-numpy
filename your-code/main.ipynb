{
 "cells": [
  {
   "cell_type": "markdown",
   "metadata": {},
   "source": [
    "# Intrduction to NumPy\n",
    "\n",
    "\n",
    "#### 1. Import NumPy under the name np."
   ]
  },
  {
   "cell_type": "code",
   "execution_count": 3,
   "metadata": {},
   "outputs": [],
   "source": [
    "import numpy as np"
   ]
  },
  {
   "cell_type": "markdown",
   "metadata": {},
   "source": [
    "#### 2. Print your NumPy version."
   ]
  },
  {
   "cell_type": "code",
   "execution_count": 4,
   "metadata": {},
   "outputs": [
    {
     "name": "stdout",
     "output_type": "stream",
     "text": [
      "1.19.0\n"
     ]
    }
   ],
   "source": [
    "print(np.__version__)"
   ]
  },
  {
   "cell_type": "markdown",
   "metadata": {},
   "source": [
    "#### 3. Generate a 2x3x5 3-dimensional array with random values. Assign the array to variable *a*.\n",
    "**Challenge**: there are at least three easy ways that use numpy to generate random arrays. How many ways can you find?"
   ]
  },
  {
   "cell_type": "code",
   "execution_count": 57,
   "metadata": {},
   "outputs": [
    {
     "data": {
      "text/plain": [
       "array([[[ 0,  1,  2,  3,  4],\n",
       "        [ 5,  6,  7,  8,  9],\n",
       "        [10, 11, 12, 13, 14]],\n",
       "\n",
       "       [[15, 16, 17, 18, 19],\n",
       "        [20, 21, 22, 23, 24],\n",
       "        [25, 26, 27, 28, 29]]])"
      ]
     },
     "execution_count": 57,
     "metadata": {},
     "output_type": "execute_result"
    }
   ],
   "source": [
    "#method 1\n",
    "np.arange(30).reshape(2,3,5)\n"
   ]
  },
  {
   "cell_type": "code",
   "execution_count": 118,
   "metadata": {},
   "outputs": [
    {
     "name": "stdout",
     "output_type": "stream",
     "text": [
      "[[[0.21968831 0.91364297 0.92279822 0.82312022 0.28846073]\n",
      "  [0.26154106 0.86851675 0.49943315 0.08558321 0.9523251 ]\n",
      "  [0.43892515 0.13081557 0.13036624 0.45159001 0.38090385]]\n",
      "\n",
      " [[0.07554189 0.1622255  0.64220871 0.72100973 0.12301643]\n",
      "  [0.78482136 0.11779701 0.03732474 0.68221656 0.60178862]\n",
      "  [0.52600409 0.65737693 0.22362341 0.01551051 0.55918249]]]\n"
     ]
    }
   ],
   "source": [
    "#method 2\n",
    "a=np.random.random((2,3,5))\n",
    "print(a)"
   ]
  },
  {
   "cell_type": "code",
   "execution_count": 128,
   "metadata": {},
   "outputs": [
    {
     "data": {
      "text/plain": [
       "array([[[0.21968831, 0.91364297, 0.92279822, 0.82312022, 0.28846073],\n",
       "        [0.26154106, 0.86851675, 0.49943315, 0.08558321, 0.9523251 ],\n",
       "        [0.43892515, 0.13081557, 0.13036624, 0.45159001, 0.38090385]],\n",
       "\n",
       "       [[0.07554189, 0.1622255 , 0.64220871, 0.72100973, 0.12301643],\n",
       "        [0.78482136, 0.11779701, 0.03732474, 0.68221656, 0.60178862],\n",
       "        [0.52600409, 0.65737693, 0.22362341, 0.01551051, 0.55918249]]])"
      ]
     },
     "execution_count": 128,
     "metadata": {},
     "output_type": "execute_result"
    }
   ],
   "source": [
    "#method 3\n",
    "np.empty ((2,3,5)) "
   ]
  },
  {
   "cell_type": "code",
   "execution_count": 71,
   "metadata": {},
   "outputs": [
    {
     "data": {
      "text/plain": [
       "array([[[999, 882, 345, 985, 327],\n",
       "        [893, 223, 512, 753, 446],\n",
       "        [  7, 206, 340, 257, 615]],\n",
       "\n",
       "       [[671, 998, 859, 872, 562],\n",
       "        [414, 359, 286,  41, 499],\n",
       "        [370,  53, 645, 220, 778]]])"
      ]
     },
     "execution_count": 71,
     "metadata": {},
     "output_type": "execute_result"
    }
   ],
   "source": [
    "#method 4\n",
    "lst1=[random.randint(0,1000) for i in range(5)]\n",
    "lst2=[random.randint(0,1000) for i in range(5)]\n",
    "lst3=[random.randint(0,1000) for i in range(5)]\n",
    "\n",
    "lst4=[random.randint(0,1000) for i in range(5)]\n",
    "lst5=[random.randint(0,1000) for i in range(5)]\n",
    "lst6=[random.randint(0,1000) for i in range(5)]\n",
    "\n",
    "lst_lst1=[[lst1,lst2,lst3],[lst4,lst5,lst6]]\n",
    "np.array(lst_lst1)\n"
   ]
  },
  {
   "cell_type": "markdown",
   "metadata": {},
   "source": [
    "#### 4. Print *a*.\n"
   ]
  },
  {
   "cell_type": "code",
   "execution_count": 119,
   "metadata": {},
   "outputs": [
    {
     "name": "stdout",
     "output_type": "stream",
     "text": [
      "[[[0.21968831 0.91364297 0.92279822 0.82312022 0.28846073]\n",
      "  [0.26154106 0.86851675 0.49943315 0.08558321 0.9523251 ]\n",
      "  [0.43892515 0.13081557 0.13036624 0.45159001 0.38090385]]\n",
      "\n",
      " [[0.07554189 0.1622255  0.64220871 0.72100973 0.12301643]\n",
      "  [0.78482136 0.11779701 0.03732474 0.68221656 0.60178862]\n",
      "  [0.52600409 0.65737693 0.22362341 0.01551051 0.55918249]]]\n"
     ]
    }
   ],
   "source": [
    "print(a)"
   ]
  },
  {
   "cell_type": "markdown",
   "metadata": {},
   "source": [
    "#### 5. Create a 5x2x3 3-dimensional array with all values equaling 1. Assign the array to variable *b*."
   ]
  },
  {
   "cell_type": "code",
   "execution_count": 72,
   "metadata": {},
   "outputs": [],
   "source": [
    "b=np.ones((5,2,3))"
   ]
  },
  {
   "cell_type": "markdown",
   "metadata": {},
   "source": [
    "#### 6. Print *b*.\n"
   ]
  },
  {
   "cell_type": "code",
   "execution_count": 73,
   "metadata": {},
   "outputs": [
    {
     "name": "stdout",
     "output_type": "stream",
     "text": [
      "[[[1. 1. 1.]\n",
      "  [1. 1. 1.]]\n",
      "\n",
      " [[1. 1. 1.]\n",
      "  [1. 1. 1.]]\n",
      "\n",
      " [[1. 1. 1.]\n",
      "  [1. 1. 1.]]\n",
      "\n",
      " [[1. 1. 1.]\n",
      "  [1. 1. 1.]]\n",
      "\n",
      " [[1. 1. 1.]\n",
      "  [1. 1. 1.]]]\n"
     ]
    }
   ],
   "source": [
    "print(b)"
   ]
  },
  {
   "cell_type": "markdown",
   "metadata": {},
   "source": [
    "#### 7. Do *a* and *b* have the same size? How do you prove that in Python code?"
   ]
  },
  {
   "cell_type": "code",
   "execution_count": 120,
   "metadata": {},
   "outputs": [
    {
     "data": {
      "text/plain": [
       "True"
      ]
     },
     "execution_count": 120,
     "metadata": {},
     "output_type": "execute_result"
    }
   ],
   "source": [
    "a.size==b.size"
   ]
  },
  {
   "cell_type": "markdown",
   "metadata": {},
   "source": [
    "#### 8. Are you able to add *a* and *b*? Why or why not?\n"
   ]
  },
  {
   "cell_type": "code",
   "execution_count": 92,
   "metadata": {},
   "outputs": [],
   "source": [
    "#a and b cannot be added because their dimensions are not the same"
   ]
  },
  {
   "cell_type": "markdown",
   "metadata": {},
   "source": [
    "#### 9. Transpose *b* so that it has the same structure of *a* (i.e. become a 2x3x5 array). Assign the transposed array to variable *c*."
   ]
  },
  {
   "cell_type": "code",
   "execution_count": 90,
   "metadata": {},
   "outputs": [
    {
     "name": "stdout",
     "output_type": "stream",
     "text": [
      "[[[1. 1. 1. 1. 1.]\n",
      "  [1. 1. 1. 1. 1.]\n",
      "  [1. 1. 1. 1. 1.]]\n",
      "\n",
      " [[1. 1. 1. 1. 1.]\n",
      "  [1. 1. 1. 1. 1.]\n",
      "  [1. 1. 1. 1. 1.]]]\n"
     ]
    }
   ],
   "source": [
    "#I don't think you can transpose a 5x2x3 array into 2x3x5 since the tranpose would be 3x2x5 so I reshaped the array.\n",
    "#I don't know if that is what we had to do or not...\n",
    "c=np.reshape(b,(2,3,5))\n",
    "print(c)"
   ]
  },
  {
   "cell_type": "markdown",
   "metadata": {},
   "source": [
    "#### 10. Try to add *a* and *c*. Now it should work. Assign the sum to variable *d*. But why does it work now?"
   ]
  },
  {
   "cell_type": "code",
   "execution_count": 121,
   "metadata": {},
   "outputs": [],
   "source": [
    "d=np.add(a,c)"
   ]
  },
  {
   "cell_type": "markdown",
   "metadata": {},
   "source": [
    "#### 11. Print *a* and *d*. Notice the difference and relation of the two array in terms of the values? Explain."
   ]
  },
  {
   "cell_type": "code",
   "execution_count": 122,
   "metadata": {},
   "outputs": [
    {
     "name": "stdout",
     "output_type": "stream",
     "text": [
      "This is a:\n",
      "\n",
      " [[[0.21968831 0.91364297 0.92279822 0.82312022 0.28846073]\n",
      "  [0.26154106 0.86851675 0.49943315 0.08558321 0.9523251 ]\n",
      "  [0.43892515 0.13081557 0.13036624 0.45159001 0.38090385]]\n",
      "\n",
      " [[0.07554189 0.1622255  0.64220871 0.72100973 0.12301643]\n",
      "  [0.78482136 0.11779701 0.03732474 0.68221656 0.60178862]\n",
      "  [0.52600409 0.65737693 0.22362341 0.01551051 0.55918249]]] \n",
      "\n",
      "\n",
      "This is d:\n",
      "\n",
      " [[[1.21968831 1.91364297 1.92279822 1.82312022 1.28846073]\n",
      "  [1.26154106 1.86851675 1.49943315 1.08558321 1.9523251 ]\n",
      "  [1.43892515 1.13081557 1.13036624 1.45159001 1.38090385]]\n",
      "\n",
      " [[1.07554189 1.1622255  1.64220871 1.72100973 1.12301643]\n",
      "  [1.78482136 1.11779701 1.03732474 1.68221656 1.60178862]\n",
      "  [1.52600409 1.65737693 1.22362341 1.01551051 1.55918249]]]\n"
     ]
    }
   ],
   "source": [
    "print(\"This is a:\\n\\n\",a,\"\\n\\n\")\n",
    "print(\"This is d:\\n\\n\",d)\n",
    "\n",
    "# each value from the array a has been added to the value in the same position in the array c, \n",
    "# since the array c's were all ones, array d is array a with each value increased by 1"
   ]
  },
  {
   "cell_type": "markdown",
   "metadata": {},
   "source": [
    "#### 12. Multiply *a* and *c*. Assign the result to *e*."
   ]
  },
  {
   "cell_type": "code",
   "execution_count": 123,
   "metadata": {},
   "outputs": [
    {
     "name": "stdout",
     "output_type": "stream",
     "text": [
      "[[[0.21968831 0.91364297 0.92279822 0.82312022 0.28846073]\n",
      "  [0.26154106 0.86851675 0.49943315 0.08558321 0.9523251 ]\n",
      "  [0.43892515 0.13081557 0.13036624 0.45159001 0.38090385]]\n",
      "\n",
      " [[0.07554189 0.1622255  0.64220871 0.72100973 0.12301643]\n",
      "  [0.78482136 0.11779701 0.03732474 0.68221656 0.60178862]\n",
      "  [0.52600409 0.65737693 0.22362341 0.01551051 0.55918249]]]\n"
     ]
    }
   ],
   "source": [
    "e=np.multiply(a,c)\n",
    "print(e)"
   ]
  },
  {
   "cell_type": "markdown",
   "metadata": {},
   "source": [
    "#### 13. Does *e* equal to *a*? Why or why not?\n"
   ]
  },
  {
   "cell_type": "code",
   "execution_count": 124,
   "metadata": {},
   "outputs": [
    {
     "data": {
      "text/plain": [
       "array([[[ True,  True,  True,  True,  True],\n",
       "        [ True,  True,  True,  True,  True],\n",
       "        [ True,  True,  True,  True,  True]],\n",
       "\n",
       "       [[ True,  True,  True,  True,  True],\n",
       "        [ True,  True,  True,  True,  True],\n",
       "        [ True,  True,  True,  True,  True]]])"
      ]
     },
     "execution_count": 124,
     "metadata": {},
     "output_type": "execute_result"
    }
   ],
   "source": [
    "#it does since the array c's values are all 1 and any value multiplied by 1 is 1, hence if a*c==a and a*c==e, a==e\n",
    "a==e"
   ]
  },
  {
   "cell_type": "markdown",
   "metadata": {},
   "source": [
    "#### 14. Identify the max, min, and mean values in *d*. Assign those values to variables *d_max*, *d_min* and *d_mean*."
   ]
  },
  {
   "cell_type": "code",
   "execution_count": 125,
   "metadata": {},
   "outputs": [],
   "source": [
    "d_max=np.max(d)\n",
    "d_min=np.min(d)\n",
    "d_mean=np.mean(d)"
   ]
  },
  {
   "cell_type": "markdown",
   "metadata": {},
   "source": [
    "#### 15. Now we want to label the values in *d*. First create an empty array *f* with the same shape (i.e. 2x3x5) as *d* using `np.empty`.\n"
   ]
  },
  {
   "cell_type": "code",
   "execution_count": 127,
   "metadata": {},
   "outputs": [
    {
     "data": {
      "text/plain": [
       "array([[[0.21968831, 0.91364297, 0.92279822, 0.82312022, 0.28846073],\n",
       "        [0.26154106, 0.86851675, 0.49943315, 0.08558321, 0.9523251 ],\n",
       "        [0.43892515, 0.13081557, 0.13036624, 0.45159001, 0.38090385]],\n",
       "\n",
       "       [[0.07554189, 0.1622255 , 0.64220871, 0.72100973, 0.12301643],\n",
       "        [0.78482136, 0.11779701, 0.03732474, 0.68221656, 0.60178862],\n",
       "        [0.52600409, 0.65737693, 0.22362341, 0.01551051, 0.55918249]]])"
      ]
     },
     "execution_count": 127,
     "metadata": {},
     "output_type": "execute_result"
    }
   ],
   "source": [
    "np.empty((2,3,5))"
   ]
  },
  {
   "cell_type": "markdown",
   "metadata": {},
   "source": [
    "#### 16. Populate the values in *f*. \n",
    "\n",
    "For each value in *d*, if it's larger than *d_min* but smaller than *d_mean*, assign 25 to the corresponding value in *f*. If a value in *d* is larger than *d_mean* but smaller than *d_max*, assign 75 to the corresponding value in *f*. If a value equals to *d_mean*, assign 50 to the corresponding value in *f*. Assign 0 to the corresponding value(s) in *f* for *d_min* in *d*. Assign 100 to the corresponding value(s) in *f* for *d_max* in *d*. In the end, f should have only the following values: 0, 25, 50, 75, and 100.\n",
    "\n",
    "**Note**: you don't have to use Numpy in this question."
   ]
  },
  {
   "cell_type": "code",
   "execution_count": 156,
   "metadata": {},
   "outputs": [
    {
     "name": "stdout",
     "output_type": "stream",
     "text": [
      "[[[1.21968831 1.91364297 1.92279822 1.82312022 1.28846073]\n",
      "  [1.26154106 1.86851675 1.49943315 1.08558321 1.9523251 ]\n",
      "  [1.43892515 1.13081557 1.13036624 1.45159001 1.38090385]]\n",
      "\n",
      " [[1.07554189 1.1622255  1.64220871 1.72100973 1.12301643]\n",
      "  [1.78482136 1.11779701 1.03732474 1.68221656 1.60178862]\n",
      "  [1.52600409 1.65737693 1.22362341 1.01551051 1.55918249]]]\n"
     ]
    }
   ],
   "source": [
    "# for each d value do the following\n",
    "# d_min<value<d_mean -> 25\n",
    "# d_max>value>d_mean -> 75\n",
    "# d_mean==value -> 50\n",
    "# d_min value -> 0\n",
    "# d_max value ->100\n",
    "d1=d.copy()\n",
    "\n",
    "for subarray in d1:\n",
    "    for line in subarray:\n",
    "        for item in line:\n",
    "            if item<d_mean and item>d_min:\n",
    "                item=25\n",
    "               \n",
    "            elif item>d_mean and item<d_max:\n",
    "                item=75\n",
    "               \n",
    "            elif item==d_mean:\n",
    "                item=50\n",
    "               \n",
    "            elif item==d_min:\n",
    "                item=0\n",
    "                \n",
    "            elif item==d_max:\n",
    "                item=100\n",
    "                \n",
    "print(d1)"
   ]
  },
  {
   "cell_type": "markdown",
   "metadata": {},
   "source": [
    "#### 17. Print *d* and *f*. Do you have your expected *f*?\n",
    "For instance, if your *d* is:\n",
    "```python\n",
    "[[[1.85836099, 1.67064465, 1.62576044, 1.40243961, 1.88454931],\n",
    "[1.75354326, 1.69403643, 1.36729252, 1.61415071, 1.12104981],\n",
    "[1.72201435, 1.1862918 , 1.87078449, 1.7726778 , 1.88180042]],\n",
    "[[1.44747908, 1.31673383, 1.02000951, 1.52218947, 1.97066381],\n",
    "[1.79129243, 1.74983003, 1.96028037, 1.85166831, 1.65450881],\n",
    "[1.18068344, 1.9587381 , 1.00656599, 1.93402165, 1.73514584]]]\n",
    "```\n",
    "Your *f* should be:\n",
    "```python\n",
    "[[[ 75.,  75.,  75.,  25.,  75.],\n",
    "[ 75.,  75.,  25.,  25.,  25.],\n",
    "[ 75.,  25.,  75.,  75.,  75.]],\n",
    "[[ 25.,  25.,  25.,  25., 100.],\n",
    "[ 75.,  75.,  75.,  75.,  75.],\n",
    "[ 25.,  75.,   0.,  75.,  75.]]]\n",
    "```"
   ]
  },
  {
   "cell_type": "code",
   "execution_count": null,
   "metadata": {},
   "outputs": [],
   "source": [
    "# your code here"
   ]
  },
  {
   "cell_type": "markdown",
   "metadata": {},
   "source": [
    "#### 18. Bonus question: instead of using numbers (i.e. 0, 25, 50, 75, and 100), use string values  (\"A\", \"B\", \"C\", \"D\", and \"E\") to label the array elements. For the example above, the expected result is:\n",
    "\n",
    "```python\n",
    "[[[ 'D',  'D',  'D',  'B',  'D'],\n",
    "[ 'D',  'D',  'B',  'B',  'B'],\n",
    "[ 'D',  'B',  'D',  'D',  'D']],\n",
    "[[ 'B',  'B',  'B',  'B',  'E'],\n",
    "[ 'D',  'D',  'D',  'D',  'D'],\n",
    "[ 'B',  'D',   'A',  'D', 'D']]]\n",
    "```\n",
    "**Note**: you don't have to use Numpy in this question."
   ]
  },
  {
   "cell_type": "code",
   "execution_count": null,
   "metadata": {},
   "outputs": [],
   "source": [
    "# your code here"
   ]
  }
 ],
 "metadata": {
  "kernelspec": {
   "display_name": "Python 3",
   "language": "python",
   "name": "python3"
  },
  "language_info": {
   "codemirror_mode": {
    "name": "ipython",
    "version": 3
   },
   "file_extension": ".py",
   "mimetype": "text/x-python",
   "name": "python",
   "nbconvert_exporter": "python",
   "pygments_lexer": "ipython3",
   "version": "3.8.3"
  }
 },
 "nbformat": 4,
 "nbformat_minor": 2
}
