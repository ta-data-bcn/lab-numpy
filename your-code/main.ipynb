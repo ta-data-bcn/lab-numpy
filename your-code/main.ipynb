{
 "cells": [
  {
   "cell_type": "markdown",
   "metadata": {},
   "source": [
    "# Intrduction to NumPy\n",
    "\n",
    "\n",
    "#### 1. Import NumPy under the name np."
   ]
  },
  {
   "cell_type": "code",
   "execution_count": 1,
   "metadata": {},
   "outputs": [],
   "source": [
    "import numpy as np"
   ]
  },
  {
   "cell_type": "markdown",
   "metadata": {},
   "source": [
    "#### 2. Print your NumPy version."
   ]
  },
  {
   "cell_type": "code",
   "execution_count": 6,
   "metadata": {},
   "outputs": [
    {
     "data": {
      "text/plain": [
       "'1.19.0'"
      ]
     },
     "execution_count": 6,
     "metadata": {},
     "output_type": "execute_result"
    }
   ],
   "source": [
    "np.version.version"
   ]
  },
  {
   "cell_type": "markdown",
   "metadata": {},
   "source": [
    "#### 3. Generate a 2x3x5 3-dimensional array with random values. Assign the array to variable *a*.\n",
    "**Challenge**: there are at least three easy ways that use numpy to generate random arrays. How many ways can you find?"
   ]
  },
  {
   "cell_type": "code",
   "execution_count": 10,
   "metadata": {},
   "outputs": [
    {
     "data": {
      "text/plain": [
       "array([[[0.45102516, 0.6764185 , 0.56162704, 0.58991137, 0.44354656],\n",
       "        [0.80686826, 0.70120548, 0.38720094, 0.90112251, 0.38964757],\n",
       "        [0.74428595, 0.44587924, 0.18909716, 0.01856238, 0.12210288]],\n",
       "\n",
       "       [[0.63009531, 0.8948382 , 0.86315658, 0.08070014, 0.90399403],\n",
       "        [0.8477482 , 0.62829121, 0.28969094, 0.09096325, 0.80657089],\n",
       "        [0.02296826, 0.07186049, 0.25605738, 0.16531714, 0.95673622]]])"
      ]
     },
     "execution_count": 10,
     "metadata": {},
     "output_type": "execute_result"
    }
   ],
   "source": [
    "a = np.random.random((2,3,5))\n",
    "a"
   ]
  },
  {
   "cell_type": "code",
   "execution_count": 13,
   "metadata": {},
   "outputs": [
    {
     "data": {
      "text/plain": [
       "array([[[0.55696097, 0.34469427, 0.43567641, 0.024499  , 0.9865689 ],\n",
       "        [0.61993135, 0.6507693 , 0.88529045, 0.7960181 , 0.44670024],\n",
       "        [0.40537772, 0.43908107, 0.78798242, 0.21150719, 0.2428266 ]],\n",
       "\n",
       "       [[0.56983096, 0.4535136 , 0.44586654, 0.01273433, 0.78034572],\n",
       "        [0.50255739, 0.50097933, 0.28807327, 0.62151329, 0.22624908],\n",
       "        [0.26774204, 0.83541955, 0.7973165 , 0.23152403, 0.22517868]]])"
      ]
     },
     "execution_count": 13,
     "metadata": {},
     "output_type": "execute_result"
    }
   ],
   "source": [
    "a = np.random.rand(2,3,5)\n",
    "a"
   ]
  },
  {
   "cell_type": "code",
   "execution_count": 17,
   "metadata": {},
   "outputs": [
    {
     "data": {
      "text/plain": [
       "array([[[0.99351959, 0.76086841, 0.20307946, 0.44080265, 0.4750642 ],\n",
       "        [0.99929042, 0.89662315, 0.84197168, 0.5614333 , 0.04514685],\n",
       "        [0.47451478, 0.94031925, 0.31575549, 0.38882677, 0.66372249]],\n",
       "\n",
       "       [[0.61069382, 0.75182428, 0.30777795, 0.76620049, 0.08860773],\n",
       "        [0.84445479, 0.58522239, 0.11600064, 0.41001364, 0.80550574],\n",
       "        [0.57619194, 0.01715515, 0.73995731, 0.13790588, 0.27552303]]])"
      ]
     },
     "execution_count": 17,
     "metadata": {},
     "output_type": "execute_result"
    }
   ],
   "source": [
    "a = np.random.random_sample((2,3,5))\n",
    "a"
   ]
  },
  {
   "cell_type": "markdown",
   "metadata": {},
   "source": [
    "#### 4. Print *a*.\n"
   ]
  },
  {
   "cell_type": "code",
   "execution_count": 18,
   "metadata": {},
   "outputs": [
    {
     "name": "stdout",
     "output_type": "stream",
     "text": [
      "[[[0.99351959 0.76086841 0.20307946 0.44080265 0.4750642 ]\n",
      "  [0.99929042 0.89662315 0.84197168 0.5614333  0.04514685]\n",
      "  [0.47451478 0.94031925 0.31575549 0.38882677 0.66372249]]\n",
      "\n",
      " [[0.61069382 0.75182428 0.30777795 0.76620049 0.08860773]\n",
      "  [0.84445479 0.58522239 0.11600064 0.41001364 0.80550574]\n",
      "  [0.57619194 0.01715515 0.73995731 0.13790588 0.27552303]]]\n"
     ]
    }
   ],
   "source": [
    "print(a)"
   ]
  },
  {
   "cell_type": "markdown",
   "metadata": {},
   "source": [
    "#### 5. Create a 5x2x3 3-dimensional array with all values equaling 1. Assign the array to variable *b*."
   ]
  },
  {
   "cell_type": "code",
   "execution_count": 19,
   "metadata": {},
   "outputs": [],
   "source": [
    "b = np.ones((5,2,3))"
   ]
  },
  {
   "cell_type": "markdown",
   "metadata": {},
   "source": [
    "#### 6. Print *b*.\n"
   ]
  },
  {
   "cell_type": "code",
   "execution_count": 20,
   "metadata": {},
   "outputs": [
    {
     "name": "stdout",
     "output_type": "stream",
     "text": [
      "[[[1. 1. 1.]\n",
      "  [1. 1. 1.]]\n",
      "\n",
      " [[1. 1. 1.]\n",
      "  [1. 1. 1.]]\n",
      "\n",
      " [[1. 1. 1.]\n",
      "  [1. 1. 1.]]\n",
      "\n",
      " [[1. 1. 1.]\n",
      "  [1. 1. 1.]]\n",
      "\n",
      " [[1. 1. 1.]\n",
      "  [1. 1. 1.]]]\n"
     ]
    }
   ],
   "source": [
    "print(b)"
   ]
  },
  {
   "cell_type": "markdown",
   "metadata": {},
   "source": [
    "#### 7. Do *a* and *b* have the same size? How do you prove that in Python code?"
   ]
  },
  {
   "cell_type": "code",
   "execution_count": 35,
   "metadata": {},
   "outputs": [
    {
     "data": {
      "text/plain": [
       "False"
      ]
     },
     "execution_count": 35,
     "metadata": {},
     "output_type": "execute_result"
    }
   ],
   "source": [
    "a.shape == b.shape"
   ]
  },
  {
   "cell_type": "code",
   "execution_count": 36,
   "metadata": {},
   "outputs": [
    {
     "data": {
      "text/plain": [
       "True"
      ]
     },
     "execution_count": 36,
     "metadata": {},
     "output_type": "execute_result"
    }
   ],
   "source": [
    "a.size==b.size"
   ]
  },
  {
   "cell_type": "markdown",
   "metadata": {},
   "source": [
    "#### 8. Are you able to add *a* and *b*? Why or why not?\n"
   ]
  },
  {
   "cell_type": "code",
   "execution_count": 27,
   "metadata": {},
   "outputs": [],
   "source": [
    "# Not possible because they don't have the same shape"
   ]
  },
  {
   "cell_type": "markdown",
   "metadata": {},
   "source": [
    "#### 9. Transpose *b* so that it has the same structure of *a* (i.e. become a 2x3x5 array). Assign the transposed array to variable *c*."
   ]
  },
  {
   "cell_type": "code",
   "execution_count": 47,
   "metadata": {},
   "outputs": [
    {
     "data": {
      "text/plain": [
       "(2, 3, 5)"
      ]
     },
     "execution_count": 47,
     "metadata": {},
     "output_type": "execute_result"
    }
   ],
   "source": [
    "# c = np.transpose(b, [1,2,0])\n",
    "c = np.resize(b, (2,3,5))\n",
    "c.shape"
   ]
  },
  {
   "cell_type": "markdown",
   "metadata": {},
   "source": [
    "#### 10. Try to add *a* and *c*. Now it should work. Assign the sum to variable *d*. But why does it work now?"
   ]
  },
  {
   "cell_type": "code",
   "execution_count": 48,
   "metadata": {},
   "outputs": [
    {
     "data": {
      "text/plain": [
       "array([[[1.99351959, 1.76086841, 1.20307946, 1.44080265, 1.4750642 ],\n",
       "        [1.99929042, 1.89662315, 1.84197168, 1.5614333 , 1.04514685],\n",
       "        [1.47451478, 1.94031925, 1.31575549, 1.38882677, 1.66372249]],\n",
       "\n",
       "       [[1.61069382, 1.75182428, 1.30777795, 1.76620049, 1.08860773],\n",
       "        [1.84445479, 1.58522239, 1.11600064, 1.41001364, 1.80550574],\n",
       "        [1.57619194, 1.01715515, 1.73995731, 1.13790588, 1.27552303]]])"
      ]
     },
     "execution_count": 48,
     "metadata": {},
     "output_type": "execute_result"
    }
   ],
   "source": [
    "d = np.add(a, c)\n",
    "d"
   ]
  },
  {
   "cell_type": "markdown",
   "metadata": {},
   "source": [
    "#### 11. Print *a* and *d*. Notice the difference and relation of the two array in terms of the values? Explain."
   ]
  },
  {
   "cell_type": "code",
   "execution_count": 52,
   "metadata": {},
   "outputs": [
    {
     "name": "stdout",
     "output_type": "stream",
     "text": [
      "[[[0.99351959 0.76086841 0.20307946 0.44080265 0.4750642 ]\n",
      "  [0.99929042 0.89662315 0.84197168 0.5614333  0.04514685]\n",
      "  [0.47451478 0.94031925 0.31575549 0.38882677 0.66372249]]\n",
      "\n",
      " [[0.61069382 0.75182428 0.30777795 0.76620049 0.08860773]\n",
      "  [0.84445479 0.58522239 0.11600064 0.41001364 0.80550574]\n",
      "  [0.57619194 0.01715515 0.73995731 0.13790588 0.27552303]]]\n",
      "[[[1.99351959 1.76086841 1.20307946 1.44080265 1.4750642 ]\n",
      "  [1.99929042 1.89662315 1.84197168 1.5614333  1.04514685]\n",
      "  [1.47451478 1.94031925 1.31575549 1.38882677 1.66372249]]\n",
      "\n",
      " [[1.61069382 1.75182428 1.30777795 1.76620049 1.08860773]\n",
      "  [1.84445479 1.58522239 1.11600064 1.41001364 1.80550574]\n",
      "  [1.57619194 1.01715515 1.73995731 1.13790588 1.27552303]]]\n"
     ]
    }
   ],
   "source": [
    "print(a)\n",
    "print(d)\n",
    "\n",
    "# 1 was added to all the values of a"
   ]
  },
  {
   "cell_type": "markdown",
   "metadata": {},
   "source": [
    "#### 12. Multiply *a* and *c*. Assign the result to *e*."
   ]
  },
  {
   "cell_type": "code",
   "execution_count": 53,
   "metadata": {},
   "outputs": [
    {
     "data": {
      "text/plain": [
       "array([[[0.99351959, 0.76086841, 0.20307946, 0.44080265, 0.4750642 ],\n",
       "        [0.99929042, 0.89662315, 0.84197168, 0.5614333 , 0.04514685],\n",
       "        [0.47451478, 0.94031925, 0.31575549, 0.38882677, 0.66372249]],\n",
       "\n",
       "       [[0.61069382, 0.75182428, 0.30777795, 0.76620049, 0.08860773],\n",
       "        [0.84445479, 0.58522239, 0.11600064, 0.41001364, 0.80550574],\n",
       "        [0.57619194, 0.01715515, 0.73995731, 0.13790588, 0.27552303]]])"
      ]
     },
     "execution_count": 53,
     "metadata": {},
     "output_type": "execute_result"
    }
   ],
   "source": [
    "e = a*c\n",
    "e"
   ]
  },
  {
   "cell_type": "markdown",
   "metadata": {},
   "source": [
    "#### 13. Does *e* equal to *a*? Why or why not?\n"
   ]
  },
  {
   "cell_type": "code",
   "execution_count": 54,
   "metadata": {},
   "outputs": [
    {
     "data": {
      "text/plain": [
       "array([[[ True,  True,  True,  True,  True],\n",
       "        [ True,  True,  True,  True,  True],\n",
       "        [ True,  True,  True,  True,  True]],\n",
       "\n",
       "       [[ True,  True,  True,  True,  True],\n",
       "        [ True,  True,  True,  True,  True],\n",
       "        [ True,  True,  True,  True,  True]]])"
      ]
     },
     "execution_count": 54,
     "metadata": {},
     "output_type": "execute_result"
    }
   ],
   "source": [
    "a==e\n",
    "\n",
    "# yes, e equal to a"
   ]
  },
  {
   "cell_type": "markdown",
   "metadata": {},
   "source": [
    "#### 14. Identify the max, min, and mean values in *d*. Assign those values to variables *d_max*, *d_min* and *d_mean*."
   ]
  },
  {
   "cell_type": "code",
   "execution_count": 58,
   "metadata": {},
   "outputs": [
    {
     "name": "stdout",
     "output_type": "stream",
     "text": [
      "d max is:  1.9992904211101108\n",
      "d min is:  1.017155154196597\n",
      "d mean is:  1.534465776460846\n"
     ]
    }
   ],
   "source": [
    "d_max = d.max()\n",
    "print('d max is: ',d_max)\n",
    "\n",
    "d_min = d.min()\n",
    "print('d min is: ', d_min)\n",
    "\n",
    "d_mean = d.mean()\n",
    "print('d mean is: ',d_mean)"
   ]
  },
  {
   "cell_type": "markdown",
   "metadata": {},
   "source": [
    "#### 15. Now we want to label the values in *d*. First create an empty array *f* with the same shape (i.e. 2x3x5) as *d* using `np.empty`.\n"
   ]
  },
  {
   "cell_type": "code",
   "execution_count": 60,
   "metadata": {},
   "outputs": [],
   "source": [
    "f = np.empty((2,3,5))"
   ]
  },
  {
   "cell_type": "markdown",
   "metadata": {},
   "source": [
    "#### 16. Populate the values in *f*. \n",
    "\n",
    "For each value in *d*, if it's larger than *d_min* but smaller than *d_mean*, assign 25 to the corresponding value in *f*. If a value in *d* is larger than *d_mean* but smaller than *d_max*, assign 75 to the corresponding value in *f*. If a value equals to *d_mean*, assign 50 to the corresponding value in *f*. Assign 0 to the corresponding value(s) in *f* for *d_min* in *d*. Assign 100 to the corresponding value(s) in *f* for *d_max* in *d*. In the end, f should have only the following values: 0, 25, 50, 75, and 100.\n",
    "\n",
    "**Note**: you don't have to use Numpy in this question."
   ]
  },
  {
   "cell_type": "code",
   "execution_count": 62,
   "metadata": {},
   "outputs": [
    {
     "name": "stdout",
     "output_type": "stream",
     "text": [
      "[[[1.99351959 1.76086841 1.20307946 1.44080265 1.4750642 ]\n",
      "  [1.99929042 1.89662315 1.84197168 1.5614333  1.04514685]\n",
      "  [1.47451478 1.94031925 1.31575549 1.38882677 1.66372249]]\n",
      "\n",
      " [[1.61069382 1.75182428 1.30777795 1.76620049 1.08860773]\n",
      "  [1.84445479 1.58522239 1.11600064 1.41001364 1.80550574]\n",
      "  [1.57619194 1.01715515 1.73995731 1.13790588 1.27552303]]]\n",
      "[[[ 75.  75.  25.  25.  25.]\n",
      "  [100.  75.  75.  75.  25.]\n",
      "  [ 25.  75.  25.  25.  75.]]\n",
      "\n",
      " [[ 75.  75.  25.  75.  25.]\n",
      "  [ 75.  75.  25.  25.  75.]\n",
      "  [ 75.   0.  75.  25.  25.]]]\n"
     ]
    }
   ],
   "source": [
    "for i in range(len(d)):\n",
    "    for j in range(len(d[i])):\n",
    "        for k in range(len(d[i][j])):\n",
    "            if d[i][j][k] > d_min and d[i][j][k] < d_mean:\n",
    "                f[i][j][k]=25\n",
    "            elif d[i][j][k] > d_mean and d[i][j][k] < d_max:\n",
    "                f[i][j][k]=75\n",
    "            elif d[i][j][k] == d_mean:\n",
    "                f[i][j][k]=50\n",
    "            elif d[i][j][k] == d_min:\n",
    "                f[i][j][k]=0\n",
    "            elif d[i][j][k] == d_max:\n",
    "                f[i][j][k]=100\n",
    "                "
   ]
  },
  {
   "cell_type": "markdown",
   "metadata": {},
   "source": [
    "#### 17. Print *d* and *f*. Do you have your expected *f*?\n",
    "For instance, if your *d* is:\n",
    "```python\n",
    "[[[1.85836099, 1.67064465, 1.62576044, 1.40243961, 1.88454931],\n",
    "[1.75354326, 1.69403643, 1.36729252, 1.61415071, 1.12104981],\n",
    "[1.72201435, 1.1862918 , 1.87078449, 1.7726778 , 1.88180042]],\n",
    "[[1.44747908, 1.31673383, 1.02000951, 1.52218947, 1.97066381],\n",
    "[1.79129243, 1.74983003, 1.96028037, 1.85166831, 1.65450881],\n",
    "[1.18068344, 1.9587381 , 1.00656599, 1.93402165, 1.73514584]]]\n",
    "```\n",
    "Your *f* should be:\n",
    "```python\n",
    "[[[ 75.,  75.,  75.,  25.,  75.],\n",
    "[ 75.,  75.,  25.,  25.,  25.],\n",
    "[ 75.,  25.,  75.,  75.,  75.]],\n",
    "[[ 25.,  25.,  25.,  25., 100.],\n",
    "[ 75.,  75.,  75.,  75.,  75.],\n",
    "[ 25.,  75.,   0.,  75.,  75.]]]\n",
    "```"
   ]
  },
  {
   "cell_type": "code",
   "execution_count": 63,
   "metadata": {},
   "outputs": [
    {
     "name": "stdout",
     "output_type": "stream",
     "text": [
      "[[[1.99351959 1.76086841 1.20307946 1.44080265 1.4750642 ]\n",
      "  [1.99929042 1.89662315 1.84197168 1.5614333  1.04514685]\n",
      "  [1.47451478 1.94031925 1.31575549 1.38882677 1.66372249]]\n",
      "\n",
      " [[1.61069382 1.75182428 1.30777795 1.76620049 1.08860773]\n",
      "  [1.84445479 1.58522239 1.11600064 1.41001364 1.80550574]\n",
      "  [1.57619194 1.01715515 1.73995731 1.13790588 1.27552303]]]\n",
      "[[[ 75.  75.  25.  25.  25.]\n",
      "  [100.  75.  75.  75.  25.]\n",
      "  [ 25.  75.  25.  25.  75.]]\n",
      "\n",
      " [[ 75.  75.  25.  75.  25.]\n",
      "  [ 75.  75.  25.  25.  75.]\n",
      "  [ 75.   0.  75.  25.  25.]]]\n"
     ]
    }
   ],
   "source": [
    "print(d)\n",
    "print(f)"
   ]
  },
  {
   "cell_type": "markdown",
   "metadata": {},
   "source": [
    "#### 18. Bonus question: instead of using numbers (i.e. 0, 25, 50, 75, and 100), use string values  (\"A\", \"B\", \"C\", \"D\", and \"E\") to label the array elements. For the example above, the expected result is:\n",
    "\n",
    "```python\n",
    "[[[ 'D',  'D',  'D',  'B',  'D'],\n",
    "[ 'D',  'D',  'B',  'B',  'B'],\n",
    "[ 'D',  'B',  'D',  'D',  'D']],\n",
    "[[ 'B',  'B',  'B',  'B',  'E'],\n",
    "[ 'D',  'D',  'D',  'D',  'D'],\n",
    "[ 'B',  'D',   'A',  'D', 'D']]]\n",
    "```\n",
    "**Note**: you don't have to use Numpy in this question."
   ]
  },
  {
   "cell_type": "code",
   "execution_count": 65,
   "metadata": {},
   "outputs": [],
   "source": [
    "f = np.empty((2,3,5),dtype=str)\n",
    "\n",
    "for i in range(len(d)):\n",
    "    for j in range(len(d[i])):\n",
    "        for k in range(len(d[i][j])):\n",
    "            if d[i][j][k] > d_min and d[i][j][k] < d_mean:\n",
    "                f[i][j][k]='B'\n",
    "            elif d[i][j][k] > d_mean and d[i][j][k] < d_max:\n",
    "                f[i][j][k]='D'\n",
    "            elif d[i][j][k] == d_mean:\n",
    "                f[i][j][k]='C'\n",
    "            elif d[i][j][k] == d_min:\n",
    "                f[i][j][k]='A'\n",
    "            elif d[i][j][k] == d_max:\n",
    "                f[i][j][k]='E'\n",
    "                "
   ]
  },
  {
   "cell_type": "code",
   "execution_count": 66,
   "metadata": {},
   "outputs": [
    {
     "name": "stdout",
     "output_type": "stream",
     "text": [
      "[[['D' 'D' 'B' 'B' 'B']\n",
      "  ['E' 'D' 'D' 'D' 'B']\n",
      "  ['B' 'D' 'B' 'B' 'D']]\n",
      "\n",
      " [['D' 'D' 'B' 'D' 'B']\n",
      "  ['D' 'D' 'B' 'B' 'D']\n",
      "  ['D' 'A' 'D' 'B' 'B']]]\n"
     ]
    }
   ],
   "source": [
    "print(f)"
   ]
  },
  {
   "cell_type": "code",
   "execution_count": null,
   "metadata": {},
   "outputs": [],
   "source": []
  }
 ],
 "metadata": {
  "kernelspec": {
   "display_name": "Python 3",
   "language": "python",
   "name": "python3"
  },
  "language_info": {
   "codemirror_mode": {
    "name": "ipython",
    "version": 3
   },
   "file_extension": ".py",
   "mimetype": "text/x-python",
   "name": "python",
   "nbconvert_exporter": "python",
   "pygments_lexer": "ipython3",
   "version": "3.8.3"
  }
 },
 "nbformat": 4,
 "nbformat_minor": 2
}
