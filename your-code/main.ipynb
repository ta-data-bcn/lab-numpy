{
 "cells": [
  {
   "cell_type": "markdown",
   "metadata": {},
   "source": [
    "# Intrduction to NumPy\n",
    "\n",
    "\n",
    "#### 1. Import NumPy under the name np."
   ]
  },
  {
   "cell_type": "code",
   "execution_count": 1,
   "metadata": {},
   "outputs": [],
   "source": [
    "# your code here\n",
    "import numpy as np"
   ]
  },
  {
   "cell_type": "markdown",
   "metadata": {},
   "source": [
    "#### 2. Print your NumPy version."
   ]
  },
  {
   "cell_type": "code",
   "execution_count": 2,
   "metadata": {},
   "outputs": [
    {
     "name": "stdout",
     "output_type": "stream",
     "text": [
      "1.19.0\n"
     ]
    }
   ],
   "source": [
    "# your code here\n",
    "print(np.__version__)"
   ]
  },
  {
   "cell_type": "markdown",
   "metadata": {},
   "source": [
    "#### 3. Generate a 2x3x5 3-dimensional array with random values. Assign the array to variable *a*.\n",
    "**Challenge**: there are at least three easy ways that use numpy to generate random arrays. How many ways can you find?"
   ]
  },
  {
   "cell_type": "code",
   "execution_count": 3,
   "metadata": {},
   "outputs": [
    {
     "data": {
      "text/plain": [
       "array([[[0.42423674, 0.63363896, 0.20344718, 0.66768463, 0.52406894],\n",
       "        [0.93461002, 0.70024795, 0.66776424, 0.71417159, 0.8913774 ],\n",
       "        [0.44152882, 0.46141081, 0.35201071, 0.00464252, 0.55589564]],\n",
       "\n",
       "       [[0.20739232, 0.43310741, 0.249544  , 0.93183127, 0.54340251],\n",
       "        [0.31799376, 0.14494529, 0.15778573, 0.31532602, 0.59350691],\n",
       "        [0.68305034, 0.84575771, 0.81684292, 0.0462558 , 0.93921765]]])"
      ]
     },
     "execution_count": 3,
     "metadata": {},
     "output_type": "execute_result"
    }
   ],
   "source": [
    "# Method 1\n",
    "a = np.random.rand(2,3,5)\n",
    "a"
   ]
  },
  {
   "cell_type": "code",
   "execution_count": 4,
   "metadata": {},
   "outputs": [
    {
     "data": {
      "text/plain": [
       "array([[[0.11152362, 0.38441278, 0.45103505, 0.8607694 , 0.0183596 ],\n",
       "        [0.60959063, 0.38108325, 0.20738411, 0.53894821, 0.42685273],\n",
       "        [0.08453987, 0.05199226, 0.66513275, 0.56044463, 0.91799183]],\n",
       "\n",
       "       [[0.48600888, 0.79715015, 0.4325312 , 0.44501293, 0.00834365],\n",
       "        [0.66328553, 0.40507284, 0.88744255, 0.8600723 , 0.7890683 ],\n",
       "        [0.99450059, 0.48975288, 0.49532363, 0.20268425, 0.75860407]]])"
      ]
     },
     "execution_count": 4,
     "metadata": {},
     "output_type": "execute_result"
    }
   ],
   "source": [
    "# Method 2\n",
    "a = np.random.random((2,3,5))\n",
    "a"
   ]
  },
  {
   "cell_type": "code",
   "execution_count": 5,
   "metadata": {},
   "outputs": [
    {
     "data": {
      "text/plain": [
       "array([[[0.44738764, 0.81392053, 0.60143934, 0.70925245, 0.49830157],\n",
       "        [0.06190062, 0.40463346, 0.94963724, 0.66841437, 0.97481466],\n",
       "        [0.49046232, 0.79339258, 0.01276761, 0.32984055, 0.2129567 ]],\n",
       "\n",
       "       [[0.16296268, 0.94664729, 0.3297169 , 0.65812832, 0.24512821],\n",
       "        [0.16022905, 0.45069721, 0.9944483 , 0.05349281, 0.40078324],\n",
       "        [0.02169307, 0.11703309, 0.21401619, 0.37563923, 0.32708178]]])"
      ]
     },
     "execution_count": 5,
     "metadata": {},
     "output_type": "execute_result"
    }
   ],
   "source": [
    "# Method 3\n",
    "a = np.random.uniform(0,1,(2,3,5))\n",
    "a"
   ]
  },
  {
   "cell_type": "markdown",
   "metadata": {},
   "source": [
    "#### 4. Print *a*.\n"
   ]
  },
  {
   "cell_type": "code",
   "execution_count": 6,
   "metadata": {},
   "outputs": [
    {
     "name": "stdout",
     "output_type": "stream",
     "text": [
      "[[[0.44738764 0.81392053 0.60143934 0.70925245 0.49830157]\n",
      "  [0.06190062 0.40463346 0.94963724 0.66841437 0.97481466]\n",
      "  [0.49046232 0.79339258 0.01276761 0.32984055 0.2129567 ]]\n",
      "\n",
      " [[0.16296268 0.94664729 0.3297169  0.65812832 0.24512821]\n",
      "  [0.16022905 0.45069721 0.9944483  0.05349281 0.40078324]\n",
      "  [0.02169307 0.11703309 0.21401619 0.37563923 0.32708178]]]\n"
     ]
    }
   ],
   "source": [
    "# your code here\n",
    "print(a)"
   ]
  },
  {
   "cell_type": "markdown",
   "metadata": {},
   "source": [
    "#### 5. Create a 5x2x3 3-dimensional array with all values equaling 1. Assign the array to variable *b*."
   ]
  },
  {
   "cell_type": "code",
   "execution_count": 7,
   "metadata": {},
   "outputs": [],
   "source": [
    "# your code here\n",
    "b = np.array(5*[3*[2*[1]]])"
   ]
  },
  {
   "cell_type": "markdown",
   "metadata": {},
   "source": [
    "#### 6. Print *b*.\n"
   ]
  },
  {
   "cell_type": "code",
   "execution_count": 8,
   "metadata": {},
   "outputs": [
    {
     "name": "stdout",
     "output_type": "stream",
     "text": [
      "[[[1 1]\n",
      "  [1 1]\n",
      "  [1 1]]\n",
      "\n",
      " [[1 1]\n",
      "  [1 1]\n",
      "  [1 1]]\n",
      "\n",
      " [[1 1]\n",
      "  [1 1]\n",
      "  [1 1]]\n",
      "\n",
      " [[1 1]\n",
      "  [1 1]\n",
      "  [1 1]]\n",
      "\n",
      " [[1 1]\n",
      "  [1 1]\n",
      "  [1 1]]]\n"
     ]
    }
   ],
   "source": [
    "# your code here\n",
    "print(b)"
   ]
  },
  {
   "cell_type": "markdown",
   "metadata": {},
   "source": [
    "#### 7. Do *a* and *b* have the same size? How do you prove that in Python code?"
   ]
  },
  {
   "cell_type": "code",
   "execution_count": 9,
   "metadata": {},
   "outputs": [
    {
     "name": "stdout",
     "output_type": "stream",
     "text": [
      "True\n"
     ]
    }
   ],
   "source": [
    "# your code here\n",
    "print(b.size == a.size)"
   ]
  },
  {
   "cell_type": "markdown",
   "metadata": {},
   "source": [
    "#### 8. Are you able to add *a* and *b*? Why or why not?\n"
   ]
  },
  {
   "cell_type": "code",
   "execution_count": 10,
   "metadata": {},
   "outputs": [
    {
     "ename": "ValueError",
     "evalue": "operands could not be broadcast together with shapes (2,3,5) (5,3,2) ",
     "output_type": "error",
     "traceback": [
      "\u001b[0;31m---------------------------------------------------------------------------\u001b[0m",
      "\u001b[0;31mValueError\u001b[0m                                Traceback (most recent call last)",
      "\u001b[0;32m<ipython-input-10-67b426b579fc>\u001b[0m in \u001b[0;36m<module>\u001b[0;34m\u001b[0m\n\u001b[1;32m      1\u001b[0m \u001b[0;31m# your answer here\u001b[0m\u001b[0;34m\u001b[0m\u001b[0;34m\u001b[0m\u001b[0;34m\u001b[0m\u001b[0m\n\u001b[1;32m      2\u001b[0m \u001b[0;31m#It is not possible because they do not have the same shape\u001b[0m\u001b[0;34m\u001b[0m\u001b[0;34m\u001b[0m\u001b[0;34m\u001b[0m\u001b[0m\n\u001b[0;32m----> 3\u001b[0;31m \u001b[0ma\u001b[0m \u001b[0;34m+\u001b[0m \u001b[0mb\u001b[0m\u001b[0;34m\u001b[0m\u001b[0;34m\u001b[0m\u001b[0m\n\u001b[0m",
      "\u001b[0;31mValueError\u001b[0m: operands could not be broadcast together with shapes (2,3,5) (5,3,2) "
     ]
    }
   ],
   "source": [
    "# your answer here\n",
    "#It is not possible because they do not have the same shape\n",
    "a + b"
   ]
  },
  {
   "cell_type": "markdown",
   "metadata": {},
   "source": [
    "#### 9. Transpose *b* so that it has the same structure of *a* (i.e. become a 2x3x5 array). Assign the transposed array to variable *c*."
   ]
  },
  {
   "cell_type": "code",
   "execution_count": 11,
   "metadata": {},
   "outputs": [
    {
     "name": "stdout",
     "output_type": "stream",
     "text": [
      "[[[1 1 1 1 1]\n",
      "  [1 1 1 1 1]\n",
      "  [1 1 1 1 1]]\n",
      "\n",
      " [[1 1 1 1 1]\n",
      "  [1 1 1 1 1]\n",
      "  [1 1 1 1 1]]]\n"
     ]
    }
   ],
   "source": [
    "# your code here\n",
    "c = b.T\n",
    "print(c)"
   ]
  },
  {
   "cell_type": "markdown",
   "metadata": {},
   "source": [
    "#### 10. Try to add *a* and *c*. Now it should work. Assign the sum to variable *d*. But why does it work now?"
   ]
  },
  {
   "cell_type": "code",
   "execution_count": 12,
   "metadata": {},
   "outputs": [
    {
     "name": "stdout",
     "output_type": "stream",
     "text": [
      "[[[1.44738764 1.81392053 1.60143934 1.70925245 1.49830157]\n",
      "  [1.06190062 1.40463346 1.94963724 1.66841437 1.97481466]\n",
      "  [1.49046232 1.79339258 1.01276761 1.32984055 1.2129567 ]]\n",
      "\n",
      " [[1.16296268 1.94664729 1.3297169  1.65812832 1.24512821]\n",
      "  [1.16022905 1.45069721 1.9944483  1.05349281 1.40078324]\n",
      "  [1.02169307 1.11703309 1.21401619 1.37563923 1.32708178]]]\n"
     ]
    }
   ],
   "source": [
    "# your code/answer here\n",
    "#It now works because a and c have the same shape\n",
    "d = a + c\n",
    "print(d)"
   ]
  },
  {
   "cell_type": "markdown",
   "metadata": {},
   "source": [
    "#### 11. Print *a* and *d*. Notice the difference and relation of the two array in terms of the values? Explain."
   ]
  },
  {
   "cell_type": "code",
   "execution_count": 13,
   "metadata": {},
   "outputs": [
    {
     "name": "stdout",
     "output_type": "stream",
     "text": [
      "[[[0.44738764 0.81392053 0.60143934 0.70925245 0.49830157]\n",
      "  [0.06190062 0.40463346 0.94963724 0.66841437 0.97481466]\n",
      "  [0.49046232 0.79339258 0.01276761 0.32984055 0.2129567 ]]\n",
      "\n",
      " [[0.16296268 0.94664729 0.3297169  0.65812832 0.24512821]\n",
      "  [0.16022905 0.45069721 0.9944483  0.05349281 0.40078324]\n",
      "  [0.02169307 0.11703309 0.21401619 0.37563923 0.32708178]]]\n",
      "[[[1.44738764 1.81392053 1.60143934 1.70925245 1.49830157]\n",
      "  [1.06190062 1.40463346 1.94963724 1.66841437 1.97481466]\n",
      "  [1.49046232 1.79339258 1.01276761 1.32984055 1.2129567 ]]\n",
      "\n",
      " [[1.16296268 1.94664729 1.3297169  1.65812832 1.24512821]\n",
      "  [1.16022905 1.45069721 1.9944483  1.05349281 1.40078324]\n",
      "  [1.02169307 1.11703309 1.21401619 1.37563923 1.32708178]]]\n"
     ]
    }
   ],
   "source": [
    "# your code/answer here\n",
    "# Values in d correspond to values in a + 1. It is normal because c is an array of 1's.\n",
    "print(a)\n",
    "print(d)"
   ]
  },
  {
   "cell_type": "markdown",
   "metadata": {},
   "source": [
    "#### 12. Multiply *a* and *c*. Assign the result to *e*."
   ]
  },
  {
   "cell_type": "code",
   "execution_count": 14,
   "metadata": {},
   "outputs": [
    {
     "name": "stdout",
     "output_type": "stream",
     "text": [
      "[[[0.44738764 0.81392053 0.60143934 0.70925245 0.49830157]\n",
      "  [0.06190062 0.40463346 0.94963724 0.66841437 0.97481466]\n",
      "  [0.49046232 0.79339258 0.01276761 0.32984055 0.2129567 ]]\n",
      "\n",
      " [[0.16296268 0.94664729 0.3297169  0.65812832 0.24512821]\n",
      "  [0.16022905 0.45069721 0.9944483  0.05349281 0.40078324]\n",
      "  [0.02169307 0.11703309 0.21401619 0.37563923 0.32708178]]]\n"
     ]
    }
   ],
   "source": [
    "# your code here\n",
    "e = a*c\n",
    "print(e)"
   ]
  },
  {
   "cell_type": "markdown",
   "metadata": {},
   "source": [
    "#### 13. Does *e* equal to *a*? Why or why not?\n"
   ]
  },
  {
   "cell_type": "code",
   "execution_count": 15,
   "metadata": {},
   "outputs": [
    {
     "data": {
      "text/plain": [
       "True"
      ]
     },
     "execution_count": 15,
     "metadata": {},
     "output_type": "execute_result"
    }
   ],
   "source": [
    "# your code/answer here\n",
    "#Yes because a has been multiplied by an array of 1's and with its same dimensions\n",
    "np.array_equal(a,e)"
   ]
  },
  {
   "cell_type": "markdown",
   "metadata": {},
   "source": [
    "#### 14. Identify the max, min, and mean values in *d*. Assign those values to variables *d_max*, *d_min* and *d_mean*."
   ]
  },
  {
   "cell_type": "code",
   "execution_count": 16,
   "metadata": {},
   "outputs": [
    {
     "name": "stdout",
     "output_type": "stream",
     "text": [
      "1.994448300036208 1.0127676102141203 1.4475606350055925\n"
     ]
    }
   ],
   "source": [
    "# your code here\n",
    "d_max = np.max(d)\n",
    "d_min = np.min(d)\n",
    "d_mean = np.mean(d)\n",
    "print(d_max,d_min,d_mean)"
   ]
  },
  {
   "cell_type": "markdown",
   "metadata": {},
   "source": [
    "#### 15. Now we want to label the values in *d*. First create an empty array *f* with the same shape (i.e. 2x3x5) as *d* using `np.empty`.\n"
   ]
  },
  {
   "cell_type": "code",
   "execution_count": 17,
   "metadata": {},
   "outputs": [
    {
     "name": "stdout",
     "output_type": "stream",
     "text": [
      "[[[0.44738764 0.81392053 0.60143934 0.70925245 0.49830157]\n",
      "  [0.06190062 0.40463346 0.94963724 0.66841437 0.97481466]\n",
      "  [0.49046232 0.79339258 0.01276761 0.32984055 0.2129567 ]]\n",
      "\n",
      " [[0.16296268 0.94664729 0.3297169  0.65812832 0.24512821]\n",
      "  [0.16022905 0.45069721 0.9944483  0.05349281 0.40078324]\n",
      "  [0.02169307 0.11703309 0.21401619 0.37563923 0.32708178]]]\n"
     ]
    }
   ],
   "source": [
    "# your code here\n",
    "f = np.empty((2,3,5))\n",
    "print(f)"
   ]
  },
  {
   "cell_type": "markdown",
   "metadata": {},
   "source": [
    "#### 16. Populate the values in *f*. \n",
    "\n",
    "For each value in *d*, if it's larger than *d_min* but smaller than *d_mean*, assign 25 to the corresponding value in *f*. If a value in *d* is larger than *d_mean* but smaller than *d_max*, assign 75 to the corresponding value in *f*. If a value equals to *d_mean*, assign 50 to the corresponding value in *f*. Assign 0 to the corresponding value(s) in *f* for *d_min* in *d*. Assign 100 to the corresponding value(s) in *f* for *d_max* in *d*. In the end, f should have only the following values: 0, 25, 50, 75, and 100.\n",
    "\n",
    "**Note**: you don't have to use Numpy in this question."
   ]
  },
  {
   "cell_type": "code",
   "execution_count": 26,
   "metadata": {},
   "outputs": [],
   "source": [
    "# your code here\n",
    "for i in range(len(d)):\n",
    "    for j in range(len(d[i])):\n",
    "        for k in range(len(d[i,j])):\n",
    "            if d[i,j,k] > d_min and d[i,j,k] < d_mean:\n",
    "                f[i,j,k] = 25\n",
    "            elif d[i,j,k] > d_mean and d[i,j,k] < d_max:\n",
    "                f[i,j,k] = 75\n",
    "            elif d[i,j,k] == d_min:\n",
    "                f[i,j,k] = 0\n",
    "            elif d[i,j,k] == d_mean:\n",
    "                f[i,j,k] = 50\n",
    "            elif d[i,j,k] == d_max:\n",
    "                f[i,j,k] = 100"
   ]
  },
  {
   "cell_type": "markdown",
   "metadata": {},
   "source": [
    "#### 17. Print *d* and *f*. Do you have your expected *f*?\n",
    "For instance, if your *d* is:\n",
    "```python\n",
    "[[[1.85836099, 1.67064465, 1.62576044, 1.40243961, 1.88454931],\n",
    "[1.75354326, 1.69403643, 1.36729252, 1.61415071, 1.12104981],\n",
    "[1.72201435, 1.1862918 , 1.87078449, 1.7726778 , 1.88180042]],\n",
    "[[1.44747908, 1.31673383, 1.02000951, 1.52218947, 1.97066381],\n",
    "[1.79129243, 1.74983003, 1.96028037, 1.85166831, 1.65450881],\n",
    "[1.18068344, 1.9587381 , 1.00656599, 1.93402165, 1.73514584]]]\n",
    "```\n",
    "Your *f* should be:\n",
    "```python\n",
    "[[[ 75.,  75.,  75.,  25.,  75.],\n",
    "[ 75.,  75.,  25.,  25.,  25.],\n",
    "[ 75.,  25.,  75.,  75.,  75.]],\n",
    "[[ 25.,  25.,  25.,  25., 100.],\n",
    "[ 75.,  75.,  75.,  75.,  75.],\n",
    "[ 25.,  75.,   0.,  75.,  75.]]]\n",
    "```"
   ]
  },
  {
   "cell_type": "code",
   "execution_count": 28,
   "metadata": {},
   "outputs": [
    {
     "name": "stdout",
     "output_type": "stream",
     "text": [
      "[[[1.44738764 1.81392053 1.60143934 1.70925245 1.49830157]\n",
      "  [1.06190062 1.40463346 1.94963724 1.66841437 1.97481466]\n",
      "  [1.49046232 1.79339258 1.01276761 1.32984055 1.2129567 ]]\n",
      "\n",
      " [[1.16296268 1.94664729 1.3297169  1.65812832 1.24512821]\n",
      "  [1.16022905 1.45069721 1.9944483  1.05349281 1.40078324]\n",
      "  [1.02169307 1.11703309 1.21401619 1.37563923 1.32708178]]]\n",
      "1.0127676102141203\n",
      "1.4475606350055925\n",
      "1.994448300036208\n",
      "[[[ 25.  75.  75.  75.  75.]\n",
      "  [ 25.  25.  75.  75.  75.]\n",
      "  [ 75.  75.   0.  25.  25.]]\n",
      "\n",
      " [[ 25.  75.  25.  75.  25.]\n",
      "  [ 25.  75. 100.  25.  25.]\n",
      "  [ 25.  25.  25.  25.  25.]]]\n"
     ]
    }
   ],
   "source": [
    "# your code here\n",
    "print(d)\n",
    "print(d_min)\n",
    "print(d_mean)\n",
    "print(d_max)\n",
    "print(f)"
   ]
  },
  {
   "cell_type": "markdown",
   "metadata": {},
   "source": [
    "#### 18. Bonus question: instead of using numbers (i.e. 0, 25, 50, 75, and 100), use string values  (\"A\", \"B\", \"C\", \"D\", and \"E\") to label the array elements. For the example above, the expected result is:\n",
    "\n",
    "```python\n",
    "[[[ 'D',  'D',  'D',  'B',  'D'],\n",
    "[ 'D',  'D',  'B',  'B',  'B'],\n",
    "[ 'D',  'B',  'D',  'D',  'D']],\n",
    "[[ 'B',  'B',  'B',  'B',  'E'],\n",
    "[ 'D',  'D',  'D',  'D',  'D'],\n",
    "[ 'B',  'D',   'A',  'D', 'D']]]\n",
    "```\n",
    "**Note**: you don't have to use Numpy in this question."
   ]
  },
  {
   "cell_type": "code",
   "execution_count": 51,
   "metadata": {},
   "outputs": [
    {
     "name": "stdout",
     "output_type": "stream",
     "text": [
      "[[['B', 'D', 'D', 'D', 'D'], ['B', 'B', 'D', 'D', 'D'], ['D', 'D', 'A', 'B', 'B']], [['B', 'D', 'B', 'D', 'B'], ['B', 'D', 'E', 'B', 'B'], ['B', 'B', 'B', 'B', 'B']]]\n"
     ]
    }
   ],
   "source": [
    "# your code here\n",
    "f_list = f.tolist()\n",
    "num_to_letter = lambda x: \"A\" if x==0 else \"B\" if x==25 else \"C\" if x==50 else \"D\" if x==75 else \"E\"\n",
    "for i in range(len(f_list)):\n",
    "    for j in range(len(f_list[i])):\n",
    "        for k in range(len(f_list[i][j])):\n",
    "            f_list[i][j][k] = num_to_letter(f_list[i][j][k])\n",
    "print(f_list)"
   ]
  },
  {
   "cell_type": "code",
   "execution_count": null,
   "metadata": {},
   "outputs": [],
   "source": []
  }
 ],
 "metadata": {
  "kernelspec": {
   "display_name": "Python 3",
   "language": "python",
   "name": "python3"
  },
  "language_info": {
   "codemirror_mode": {
    "name": "ipython",
    "version": 3
   },
   "file_extension": ".py",
   "mimetype": "text/x-python",
   "name": "python",
   "nbconvert_exporter": "python",
   "pygments_lexer": "ipython3",
   "version": "3.7.7"
  }
 },
 "nbformat": 4,
 "nbformat_minor": 2
}
