{
 "cells": [
  {
   "cell_type": "markdown",
   "metadata": {},
   "source": [
    "# Intrduction to NumPy\n",
    "\n",
    "\n",
    "#### 1. Import NumPy under the name np."
   ]
  },
  {
   "cell_type": "code",
   "execution_count": 1,
   "metadata": {},
   "outputs": [],
   "source": [
    "import numpy as np"
   ]
  },
  {
   "cell_type": "markdown",
   "metadata": {},
   "source": [
    "#### 2. Print your NumPy version."
   ]
  },
  {
   "cell_type": "code",
   "execution_count": 2,
   "metadata": {},
   "outputs": [
    {
     "name": "stdout",
     "output_type": "stream",
     "text": [
      "1.18.1\n"
     ]
    }
   ],
   "source": [
    "print(np.version.version)"
   ]
  },
  {
   "cell_type": "markdown",
   "metadata": {},
   "source": [
    "#### 3. Generate a 2x3x5 3-dimensional array with random values. Assign the array to variable *a*.\n",
    "**Challenge**: there are at least three easy ways that use numpy to generate random arrays. How many ways can you find?"
   ]
  },
  {
   "cell_type": "code",
   "execution_count": 3,
   "metadata": {},
   "outputs": [
    {
     "name": "stdout",
     "output_type": "stream",
     "text": [
      "[[[0.87475591 0.72103524 0.38206671 0.37976014 0.92019407]\n",
      "  [0.20022657 0.25640193 0.94466874 0.8660674  0.96763534]\n",
      "  [0.89521405 0.63809614 0.95201441 0.55627288 0.73068785]]\n",
      "\n",
      " [[0.77935142 0.89561133 0.32619037 0.09993251 0.88592547]\n",
      "  [0.86256714 0.23022149 0.77244173 0.02663717 0.6967951 ]\n",
      "  [0.74889143 0.21840895 0.94870505 0.83165414 0.40543773]]]\n"
     ]
    }
   ],
   "source": [
    "# Method 1\n",
    "\n",
    "a = np.random.rand(2,3,5)\n",
    "print(a)"
   ]
  },
  {
   "cell_type": "code",
   "execution_count": 4,
   "metadata": {},
   "outputs": [
    {
     "name": "stdout",
     "output_type": "stream",
     "text": [
      "[[[62 77 23 12  5]\n",
      "  [62 96 26 29 47]\n",
      "  [41 41 41 17 52]]\n",
      "\n",
      " [[94  5 11 52 14]\n",
      "  [79 10 59  2 70]\n",
      "  [79 33 69 99 83]]]\n"
     ]
    }
   ],
   "source": [
    "# Method 2\n",
    "\n",
    "a = np.random.randint(100, size = (2,3,5))\n",
    "print(a)"
   ]
  },
  {
   "cell_type": "code",
   "execution_count": 5,
   "metadata": {},
   "outputs": [],
   "source": [
    "# Method 3\n",
    "import random\n",
    "a = np.array([[[random.randint(0,100) for x in range(5)] for y in range(3)] for z in range(2)])"
   ]
  },
  {
   "cell_type": "markdown",
   "metadata": {},
   "source": [
    "#### 4. Print *a*.\n"
   ]
  },
  {
   "cell_type": "code",
   "execution_count": 6,
   "metadata": {},
   "outputs": [
    {
     "name": "stdout",
     "output_type": "stream",
     "text": [
      "[[[86 72 67 43 22]\n",
      "  [22 22 26  7 86]\n",
      "  [73  8 90 63 29]]\n",
      "\n",
      " [[38 67 32 11 40]\n",
      "  [78 96 85 73 59]\n",
      "  [ 1 98  8 45 56]]]\n"
     ]
    }
   ],
   "source": [
    "print(a)"
   ]
  },
  {
   "cell_type": "markdown",
   "metadata": {},
   "source": [
    "#### 5. Create a 5x2x3 3-dimensional array with all values equaling 1. Assign the array to variable *b*."
   ]
  },
  {
   "cell_type": "code",
   "execution_count": 7,
   "metadata": {},
   "outputs": [],
   "source": [
    "b = np.array([[[1 for x in range(3)] for y in range(2)] for z in range(5)])"
   ]
  },
  {
   "cell_type": "markdown",
   "metadata": {},
   "source": [
    "#### 6. Print *b*.\n"
   ]
  },
  {
   "cell_type": "code",
   "execution_count": 8,
   "metadata": {},
   "outputs": [
    {
     "name": "stdout",
     "output_type": "stream",
     "text": [
      "[[[1 1 1]\n",
      "  [1 1 1]]\n",
      "\n",
      " [[1 1 1]\n",
      "  [1 1 1]]\n",
      "\n",
      " [[1 1 1]\n",
      "  [1 1 1]]\n",
      "\n",
      " [[1 1 1]\n",
      "  [1 1 1]]\n",
      "\n",
      " [[1 1 1]\n",
      "  [1 1 1]]]\n"
     ]
    }
   ],
   "source": [
    "print(b)"
   ]
  },
  {
   "cell_type": "markdown",
   "metadata": {},
   "source": [
    "#### 7. Do *a* and *b* have the same size? How do you prove that in Python code?"
   ]
  },
  {
   "cell_type": "code",
   "execution_count": 9,
   "metadata": {},
   "outputs": [
    {
     "name": "stdout",
     "output_type": "stream",
     "text": [
      "(2, 3, 5)\n",
      "(5, 2, 3)\n",
      "\n",
      "\n",
      "30\n",
      "30\n",
      "True\n"
     ]
    }
   ],
   "source": [
    "print(a.shape)\n",
    "print(b.shape)\n",
    "print('\\n')\n",
    "print(a.size)\n",
    "print(b.size)\n",
    "\n",
    "if a.size == b.size:\n",
    "    print(True)\n",
    "else:\n",
    "    print(False)"
   ]
  },
  {
   "cell_type": "markdown",
   "metadata": {},
   "source": [
    "#### 8. Are you able to add *a* and *b*? Why or why not?\n"
   ]
  },
  {
   "cell_type": "code",
   "execution_count": 10,
   "metadata": {},
   "outputs": [
    {
     "ename": "ValueError",
     "evalue": "operands could not be broadcast together with shapes (2,3,5) (5,2,3) ",
     "output_type": "error",
     "traceback": [
      "\u001b[1;31m---------------------------------------------------------------------------\u001b[0m",
      "\u001b[1;31mValueError\u001b[0m                                Traceback (most recent call last)",
      "\u001b[1;32m<ipython-input-10-15328d5f3ad6>\u001b[0m in \u001b[0;36m<module>\u001b[1;34m\u001b[0m\n\u001b[1;32m----> 1\u001b[1;33m \u001b[0mc\u001b[0m \u001b[1;33m=\u001b[0m \u001b[0ma\u001b[0m \u001b[1;33m+\u001b[0m \u001b[0mb\u001b[0m\u001b[1;33m\u001b[0m\u001b[1;33m\u001b[0m\u001b[0m\n\u001b[0m\u001b[0;32m      2\u001b[0m \u001b[1;33m\u001b[0m\u001b[0m\n\u001b[0;32m      3\u001b[0m \u001b[1;31m# They have different shape\u001b[0m\u001b[1;33m\u001b[0m\u001b[1;33m\u001b[0m\u001b[1;33m\u001b[0m\u001b[0m\n",
      "\u001b[1;31mValueError\u001b[0m: operands could not be broadcast together with shapes (2,3,5) (5,2,3) "
     ]
    }
   ],
   "source": [
    "c = a + b\n",
    "\n",
    "# They have different shape"
   ]
  },
  {
   "cell_type": "markdown",
   "metadata": {},
   "source": [
    "#### 9. Transpose *b* so that it has the same structure of *a* (i.e. become a 2x3x5 array). Assign the transposed array to variable *c*."
   ]
  },
  {
   "cell_type": "code",
   "execution_count": 11,
   "metadata": {},
   "outputs": [
    {
     "name": "stdout",
     "output_type": "stream",
     "text": [
      "(2, 3, 5)\n"
     ]
    }
   ],
   "source": [
    "# your code here\n",
    "\n",
    "c = b.transpose(1,2,0)\n",
    "print(c.shape)"
   ]
  },
  {
   "cell_type": "markdown",
   "metadata": {},
   "source": [
    "#### 10. Try to add *a* and *c*. Now it should work. Assign the sum to variable *d*. But why does it work now?"
   ]
  },
  {
   "cell_type": "code",
   "execution_count": 12,
   "metadata": {},
   "outputs": [],
   "source": [
    "# your code/answer here\n",
    "#they have now the same shape\n",
    "d = a + c"
   ]
  },
  {
   "cell_type": "markdown",
   "metadata": {},
   "source": [
    "#### 11. Print *a* and *d*. Notice the difference and relation of the two array in terms of the values? Explain."
   ]
  },
  {
   "cell_type": "code",
   "execution_count": 13,
   "metadata": {},
   "outputs": [
    {
     "name": "stdout",
     "output_type": "stream",
     "text": [
      "[[[86 72 67 43 22]\n",
      "  [22 22 26  7 86]\n",
      "  [73  8 90 63 29]]\n",
      "\n",
      " [[38 67 32 11 40]\n",
      "  [78 96 85 73 59]\n",
      "  [ 1 98  8 45 56]]]\n",
      "\n",
      "\n",
      "[[[87 73 68 44 23]\n",
      "  [23 23 27  8 87]\n",
      "  [74  9 91 64 30]]\n",
      "\n",
      " [[39 68 33 12 41]\n",
      "  [79 97 86 74 60]\n",
      "  [ 2 99  9 46 57]]]\n"
     ]
    }
   ],
   "source": [
    "print(a)\n",
    "print('\\n')\n",
    "print(d)\n",
    "\n",
    "# The values have been added together related to the position of the array."
   ]
  },
  {
   "cell_type": "markdown",
   "metadata": {},
   "source": [
    "#### 12. Multiply *a* and *c*. Assign the result to *e*."
   ]
  },
  {
   "cell_type": "code",
   "execution_count": 14,
   "metadata": {},
   "outputs": [],
   "source": [
    "e = a * c"
   ]
  },
  {
   "cell_type": "markdown",
   "metadata": {},
   "source": [
    "#### 13. Does *e* equal to *a*? Why or why not?\n"
   ]
  },
  {
   "cell_type": "code",
   "execution_count": 15,
   "metadata": {},
   "outputs": [
    {
     "name": "stdout",
     "output_type": "stream",
     "text": [
      "True\n"
     ]
    }
   ],
   "source": [
    "if np.all(e == a):\n",
    "    print(True)\n",
    "else:\n",
    "    print(False)\n",
    "    \n",
    "    \n",
    "# Because c's elements are all 1 therefore do not change a when multiplied."
   ]
  },
  {
   "cell_type": "markdown",
   "metadata": {},
   "source": [
    "#### 14. Identify the max, min, and mean values in *d*. Assign those values to variables *d_max*, *d_min* and *d_mean*."
   ]
  },
  {
   "cell_type": "code",
   "execution_count": 16,
   "metadata": {},
   "outputs": [
    {
     "name": "stdout",
     "output_type": "stream",
     "text": [
      "99\n",
      "2\n",
      "51.1\n"
     ]
    }
   ],
   "source": [
    "d_max = np.max(d)\n",
    "d_min = np.min(d)\n",
    "d_mean = np.mean(d)\n",
    "\n",
    "print(d_max)\n",
    "print(d_min)\n",
    "print(d_mean)"
   ]
  },
  {
   "cell_type": "markdown",
   "metadata": {},
   "source": [
    "#### 15. Now we want to label the values in *d*. First create an empty array *f* with the same shape (i.e. 2x3x5) as *d* using `np.empty`.\n"
   ]
  },
  {
   "cell_type": "code",
   "execution_count": 17,
   "metadata": {},
   "outputs": [
    {
     "name": "stdout",
     "output_type": "stream",
     "text": [
      "[[[0.87475591 0.72103524 0.38206671 0.37976014 0.92019407]\n",
      "  [0.20022657 0.25640193 0.94466874 0.8660674  0.96763534]\n",
      "  [0.89521405 0.63809614 0.95201441 0.55627288 0.73068785]]\n",
      "\n",
      " [[0.77935142 0.89561133 0.32619037 0.09993251 0.88592547]\n",
      "  [0.86256714 0.23022149 0.77244173 0.02663717 0.6967951 ]\n",
      "  [0.74889143 0.21840895 0.94870505 0.83165414 0.40543773]]]\n"
     ]
    }
   ],
   "source": [
    "f = np.empty((2,3,5))\n",
    "print(f)"
   ]
  },
  {
   "cell_type": "markdown",
   "metadata": {},
   "source": [
    "#### 16. Populate the values in *f*. \n",
    "\n",
    "For each value in *d*, if it's larger than *d_min* but smaller than *d_mean*, assign 25 to the corresponding value in *f*. If a value in *d* is larger than *d_mean* but smaller than *d_max*, assign 75 to the corresponding value in *f*. If a value equals to *d_mean*, assign 50 to the corresponding value in *f*. Assign 0 to the corresponding value(s) in *f* for *d_min* in *d*. Assign 100 to the corresponding value(s) in *f* for *d_max* in *d*. In the end, f should have only the following values: 0, 25, 50, 75, and 100.\n",
    "\n",
    "**Note**: you don't have to use Numpy in this question."
   ]
  },
  {
   "cell_type": "code",
   "execution_count": 18,
   "metadata": {},
   "outputs": [],
   "source": [
    "for x in range(2):\n",
    "    for y in range(3):\n",
    "        for z in range(5):\n",
    "            if (d[x,y,z] > d_min) & (d[x,y,z] < d_mean):\n",
    "                f[x,y,z] = 25\n",
    "            elif (d[x,y,z] > d_mean) & (d[x,y,z] < d_max):\n",
    "                f[x,y,z] = 75\n",
    "            elif d[x,y,z] == d_mean:\n",
    "                f[x,y,z] = 50\n",
    "            elif d[x,y,z] == d_min:\n",
    "                f[x,y,z] = 0\n",
    "            else:\n",
    "                f[x,y,z] = 100       "
   ]
  },
  {
   "cell_type": "markdown",
   "metadata": {},
   "source": [
    "#### 17. Print *d* and *f*. Do you have your expected *f*?\n",
    "For instance, if your *d* is:\n",
    "```python\n",
    "[[[1.85836099, 1.67064465, 1.62576044, 1.40243961, 1.88454931],\n",
    "[1.75354326, 1.69403643, 1.36729252, 1.61415071, 1.12104981],\n",
    "[1.72201435, 1.1862918 , 1.87078449, 1.7726778 , 1.88180042]],\n",
    "[[1.44747908, 1.31673383, 1.02000951, 1.52218947, 1.97066381],\n",
    "[1.79129243, 1.74983003, 1.96028037, 1.85166831, 1.65450881],\n",
    "[1.18068344, 1.9587381 , 1.00656599, 1.93402165, 1.73514584]]]\n",
    "```\n",
    "Your *f* should be:\n",
    "```python\n",
    "[[[ 75.,  75.,  75.,  25.,  75.],\n",
    "[ 75.,  75.,  25.,  25.,  25.],\n",
    "[ 75.,  25.,  75.,  75.,  75.]],\n",
    "[[ 25.,  25.,  25.,  25., 100.],\n",
    "[ 75.,  75.,  75.,  75.,  75.],\n",
    "[ 25.,  75.,   0.,  75.,  75.]]]\n",
    "```"
   ]
  },
  {
   "cell_type": "code",
   "execution_count": 19,
   "metadata": {},
   "outputs": [
    {
     "name": "stdout",
     "output_type": "stream",
     "text": [
      "[[[87 73 68 44 23]\n",
      "  [23 23 27  8 87]\n",
      "  [74  9 91 64 30]]\n",
      "\n",
      " [[39 68 33 12 41]\n",
      "  [79 97 86 74 60]\n",
      "  [ 2 99  9 46 57]]]\n",
      "99\n",
      "2\n",
      "51.1\n",
      "[[[ 75.  75.  75.  25.  25.]\n",
      "  [ 25.  25.  25.  25.  75.]\n",
      "  [ 75.  25.  75.  75.  25.]]\n",
      "\n",
      " [[ 25.  75.  25.  25.  25.]\n",
      "  [ 75.  75.  75.  75.  75.]\n",
      "  [  0. 100.  25.  25.  75.]]]\n"
     ]
    }
   ],
   "source": [
    "print(d)\n",
    "print(d_max)\n",
    "print(d_min)\n",
    "print(d_mean)\n",
    "print(f)"
   ]
  },
  {
   "cell_type": "markdown",
   "metadata": {},
   "source": [
    "#### 18. Bonus question: instead of using numbers (i.e. 0, 25, 50, 75, and 100), use string values  (\"A\", \"B\", \"C\", \"D\", and \"E\") to label the array elements. For the example above, the expected result is:\n",
    "\n",
    "```python\n",
    "[[[ 'D',  'D',  'D',  'B',  'D'],\n",
    "[ 'D',  'D',  'B',  'B',  'B'],\n",
    "[ 'D',  'B',  'D',  'D',  'D']],\n",
    "[[ 'B',  'B',  'B',  'B',  'E'],\n",
    "[ 'D',  'D',  'D',  'D',  'D'],\n",
    "[ 'B',  'D',   'A',  'D', 'D']]]\n",
    "```\n",
    "**Note**: you don't have to use Numpy in this question."
   ]
  },
  {
   "cell_type": "code",
   "execution_count": 20,
   "metadata": {},
   "outputs": [
    {
     "name": "stdout",
     "output_type": "stream",
     "text": [
      "[[['D' 'D' 'D' 'B' 'B']\n",
      "  ['B' 'B' 'B' 'B' 'D']\n",
      "  ['D' 'B' 'D' 'D' 'B']]\n",
      "\n",
      " [['B' 'D' 'B' 'B' 'B']\n",
      "  ['D' 'D' 'D' 'D' 'D']\n",
      "  ['A' 'E' 'B' 'B' 'D']]]\n"
     ]
    }
   ],
   "source": [
    "f = f.astype(str)\n",
    "\n",
    "for x in range(2):\n",
    "    for y in range(3):\n",
    "        for z in range(5):\n",
    "            if (d[x,y,z] > d_min) & (d[x,y,z] < d_mean):\n",
    "                f[x,y,z] = 'B'\n",
    "            elif (d[x,y,z] > d_mean) & (d[x,y,z] < d_max):\n",
    "                f[x,y,z] = 'D'\n",
    "            elif d[x,y,z] == d_mean:\n",
    "                f[x,y,z] = 'C'\n",
    "            elif d[x,y,z] == d_min:\n",
    "                f[x,y,z] = 'A'\n",
    "            else:\n",
    "                f[x,y,z] = 'E' \n",
    "  \n",
    "print(f)"
   ]
  },
  {
   "cell_type": "code",
   "execution_count": null,
   "metadata": {},
   "outputs": [],
   "source": []
  }
 ],
 "metadata": {
  "kernelspec": {
   "display_name": "Python 3",
   "language": "python",
   "name": "python3"
  },
  "language_info": {
   "codemirror_mode": {
    "name": "ipython",
    "version": 3
   },
   "file_extension": ".py",
   "mimetype": "text/x-python",
   "name": "python",
   "nbconvert_exporter": "python",
   "pygments_lexer": "ipython3",
   "version": "3.7.6"
  }
 },
 "nbformat": 4,
 "nbformat_minor": 2
}
