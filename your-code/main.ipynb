{
 "cells": [
  {
   "cell_type": "markdown",
   "metadata": {},
   "source": [
    "# Intrduction to NumPy\n",
    "\n",
    "\n",
    "#### 1. Import NumPy under the name np."
   ]
  },
  {
   "cell_type": "code",
   "execution_count": 2,
   "metadata": {},
   "outputs": [],
   "source": [
    "import numpy as np"
   ]
  },
  {
   "cell_type": "markdown",
   "metadata": {},
   "source": [
    "#### 2. Print your NumPy version."
   ]
  },
  {
   "cell_type": "code",
   "execution_count": 3,
   "metadata": {},
   "outputs": [
    {
     "name": "stdout",
     "output_type": "stream",
     "text": [
      "1.19.0\n"
     ]
    }
   ],
   "source": [
    "print(np.__version__)"
   ]
  },
  {
   "cell_type": "markdown",
   "metadata": {},
   "source": [
    "#### 3. Generate a 2x3x5 3-dimensional array with random values. Assign the array to variable *a*.\n",
    "**Challenge**: there are at least three easy ways that use numpy to generate random arrays. How many ways can you find?"
   ]
  },
  {
   "cell_type": "code",
   "execution_count": 4,
   "metadata": {},
   "outputs": [
    {
     "name": "stdout",
     "output_type": "stream",
     "text": [
      "[[[0.32843649 0.41789927 0.04495479 0.26268676 0.43522475]\n",
      "  [0.29321974 0.5420729  0.45800489 0.47138743 0.83351768]\n",
      "  [0.78797577 0.67454366 0.60788662 0.06672879 0.83702371]]\n",
      "\n",
      " [[0.88534729 0.33322871 0.3451252  0.94060531 0.52101398]\n",
      "  [0.53694657 0.36071507 0.84938314 0.03285442 0.77403317]\n",
      "  [0.06186967 0.83122591 0.77076745 0.80451666 0.33639008]]]\n"
     ]
    }
   ],
   "source": [
    "a = np.random.random((2, 3, 5))\n",
    "print(a)"
   ]
  },
  {
   "cell_type": "code",
   "execution_count": 5,
   "metadata": {},
   "outputs": [
    {
     "name": "stdout",
     "output_type": "stream",
     "text": [
      "[[[0.87552871 0.96438757 0.78135966 0.12631038 0.26994216]\n",
      "  [0.5890581  0.20053021 0.36789714 0.25110356 0.13841496]\n",
      "  [0.9716296  0.48774696 0.52049868 0.17273577 0.21569029]]\n",
      "\n",
      " [[0.28404856 0.76419385 0.60209815 0.04482457 0.9893436 ]\n",
      "  [0.28614915 0.04774238 0.08236161 0.74257131 0.45664456]\n",
      "  [0.70835503 0.12721174 0.72403618 0.46207066 0.29286502]]]\n"
     ]
    }
   ],
   "source": [
    "import random\n",
    "lst1 = []\n",
    "lst2 = []\n",
    "lst3 = []\n",
    "lst4 = []\n",
    "lst5 = []\n",
    "lst6 = []\n",
    "lst_of_lst = []\n",
    "\n",
    "for i in range(0,5):\n",
    "    n = random.random()\n",
    "    lst1.append(n)\n",
    "    \n",
    "for j in range(0,5):\n",
    "    m = random.random()\n",
    "    lst2.append(m)\n",
    "    \n",
    "for k in range(0,5):\n",
    "    l = random.random()\n",
    "    lst3.append(l)\n",
    "\n",
    "for h in range(0,5):\n",
    "    o = random.random()\n",
    "    lst4.append(o)    \n",
    "    \n",
    "for g in range(0,5):\n",
    "    p = random.random()\n",
    "    lst5.append(p)\n",
    "    \n",
    "for f in range(0,5):\n",
    "    q = random.random()\n",
    "    lst6.append(q)    \n",
    "    \n",
    "    \n",
    "lst_of_lst.append(lst1)\n",
    "lst_of_lst.append(lst2)\n",
    "lst_of_lst.append(lst3)\n",
    "lst_of_lst.append(lst4)\n",
    "lst_of_lst.append(lst5)\n",
    "lst_of_lst.append(lst6)\n",
    "\n",
    "a2 = np.array(lst_of_lst)\n",
    "a2 = a2.reshape(2, 3, 5)\n",
    "print(a2)"
   ]
  },
  {
   "cell_type": "code",
   "execution_count": 6,
   "metadata": {},
   "outputs": [
    {
     "name": "stdout",
     "output_type": "stream",
     "text": [
      "[[[0.41820324 0.65732267 0.38382854 0.45689479 0.47954041]\n",
      "  [0.14606996 0.31156216 0.97889433 0.36689566 0.86540471]\n",
      "  [0.25088875 0.14142137 0.91775569 0.80416887 0.87822894]]\n",
      "\n",
      " [[0.22147107 0.14880864 0.72826251 0.18790398 0.60734704]\n",
      "  [0.12456835 0.26725803 0.89042848 0.52372486 0.61424578]\n",
      "  [0.56205174 0.34103485 0.48395447 0.23140151 0.06012938]]]\n"
     ]
    }
   ],
   "source": [
    "from numpy import random\n",
    "a3 = random.rand(30)\n",
    "a3 = a3.reshape(2, 3, 5)\n",
    "print(a3)"
   ]
  },
  {
   "cell_type": "markdown",
   "metadata": {},
   "source": [
    "#### 4. Print *a*.\n"
   ]
  },
  {
   "cell_type": "code",
   "execution_count": 7,
   "metadata": {},
   "outputs": [
    {
     "name": "stdout",
     "output_type": "stream",
     "text": [
      "[[[0.32843649 0.41789927 0.04495479 0.26268676 0.43522475]\n",
      "  [0.29321974 0.5420729  0.45800489 0.47138743 0.83351768]\n",
      "  [0.78797577 0.67454366 0.60788662 0.06672879 0.83702371]]\n",
      "\n",
      " [[0.88534729 0.33322871 0.3451252  0.94060531 0.52101398]\n",
      "  [0.53694657 0.36071507 0.84938314 0.03285442 0.77403317]\n",
      "  [0.06186967 0.83122591 0.77076745 0.80451666 0.33639008]]]\n"
     ]
    }
   ],
   "source": [
    "print(a)"
   ]
  },
  {
   "cell_type": "markdown",
   "metadata": {},
   "source": [
    "#### 5. Create a 5x2x3 3-dimensional array with all values equaling 1. Assign the array to variable *b*."
   ]
  },
  {
   "cell_type": "code",
   "execution_count": 8,
   "metadata": {
    "scrolled": true
   },
   "outputs": [],
   "source": [
    "b = [1]*30\n",
    "b = np.array(b)\n",
    "b = b.reshape(5, 3, 2)"
   ]
  },
  {
   "cell_type": "markdown",
   "metadata": {},
   "source": [
    "#### 6. Print *b*.\n"
   ]
  },
  {
   "cell_type": "code",
   "execution_count": 9,
   "metadata": {},
   "outputs": [
    {
     "name": "stdout",
     "output_type": "stream",
     "text": [
      "[[[1 1]\n",
      "  [1 1]\n",
      "  [1 1]]\n",
      "\n",
      " [[1 1]\n",
      "  [1 1]\n",
      "  [1 1]]\n",
      "\n",
      " [[1 1]\n",
      "  [1 1]\n",
      "  [1 1]]\n",
      "\n",
      " [[1 1]\n",
      "  [1 1]\n",
      "  [1 1]]\n",
      "\n",
      " [[1 1]\n",
      "  [1 1]\n",
      "  [1 1]]]\n"
     ]
    }
   ],
   "source": [
    "print(b)"
   ]
  },
  {
   "cell_type": "markdown",
   "metadata": {},
   "source": [
    "#### 7. Do *a* and *b* have the same size? How do you prove that in Python code?"
   ]
  },
  {
   "cell_type": "code",
   "execution_count": 10,
   "metadata": {},
   "outputs": [
    {
     "name": "stdout",
     "output_type": "stream",
     "text": [
      "30\n",
      "30\n"
     ]
    }
   ],
   "source": [
    "size_a = a.size\n",
    "size_b = b.size\n",
    "print(size_a)\n",
    "print(size_b) #yes they have the same size 2x3x5=30"
   ]
  },
  {
   "cell_type": "markdown",
   "metadata": {},
   "source": [
    "#### 8. Are you able to add *a* and *b*? Why or why not?\n"
   ]
  },
  {
   "cell_type": "code",
   "execution_count": 11,
   "metadata": {},
   "outputs": [
    {
     "ename": "ValueError",
     "evalue": "all the input array dimensions for the concatenation axis must match exactly, but along dimension 2, the array at index 0 has size 5 and the array at index 1 has size 2",
     "output_type": "error",
     "traceback": [
      "\u001b[1;31m---------------------------------------------------------------------------\u001b[0m",
      "\u001b[1;31mValueError\u001b[0m                                Traceback (most recent call last)",
      "\u001b[1;32m<ipython-input-11-ccb3645ecf04>\u001b[0m in \u001b[0;36m<module>\u001b[1;34m\u001b[0m\n\u001b[1;32m----> 1\u001b[1;33m \u001b[0madd_a_b\u001b[0m \u001b[1;33m=\u001b[0m \u001b[0mnp\u001b[0m\u001b[1;33m.\u001b[0m\u001b[0mconcatenate\u001b[0m\u001b[1;33m(\u001b[0m\u001b[1;33m(\u001b[0m\u001b[0ma\u001b[0m\u001b[1;33m,\u001b[0m \u001b[0mb\u001b[0m\u001b[1;33m)\u001b[0m\u001b[1;33m)\u001b[0m\u001b[1;33m\u001b[0m\u001b[1;33m\u001b[0m\u001b[0m\n\u001b[0m\u001b[0;32m      2\u001b[0m \u001b[0mprint\u001b[0m\u001b[1;33m(\u001b[0m\u001b[0madd_a_b\u001b[0m\u001b[1;33m)\u001b[0m\u001b[1;33m\u001b[0m\u001b[1;33m\u001b[0m\u001b[0m\n\u001b[0;32m      3\u001b[0m \u001b[1;31m#you cannot add them because they don't have the same dimensions\u001b[0m\u001b[1;33m\u001b[0m\u001b[1;33m\u001b[0m\u001b[1;33m\u001b[0m\u001b[0m\n",
      "\u001b[1;32m<__array_function__ internals>\u001b[0m in \u001b[0;36mconcatenate\u001b[1;34m(*args, **kwargs)\u001b[0m\n",
      "\u001b[1;31mValueError\u001b[0m: all the input array dimensions for the concatenation axis must match exactly, but along dimension 2, the array at index 0 has size 5 and the array at index 1 has size 2"
     ]
    }
   ],
   "source": [
    "add_a_b = np.concatenate((a, b))\n",
    "print(add_a_b)\n",
    "#you cannot add them because they don't have the same dimensions"
   ]
  },
  {
   "cell_type": "markdown",
   "metadata": {},
   "source": [
    "#### 9. Transpose *b* so that it has the same structure of *a* (i.e. become a 2x3x5 array). Assign the transposed array to variable *c*."
   ]
  },
  {
   "cell_type": "code",
   "execution_count": 12,
   "metadata": {},
   "outputs": [
    {
     "name": "stdout",
     "output_type": "stream",
     "text": [
      "[[[1 1 1 1 1]\n",
      "  [1 1 1 1 1]\n",
      "  [1 1 1 1 1]]\n",
      "\n",
      " [[1 1 1 1 1]\n",
      "  [1 1 1 1 1]\n",
      "  [1 1 1 1 1]]]\n"
     ]
    }
   ],
   "source": [
    "c = b.reshape(2, 3, 5)\n",
    "print(c)"
   ]
  },
  {
   "cell_type": "markdown",
   "metadata": {},
   "source": [
    "#### 10. Try to add *a* and *c*. Now it should work. Assign the sum to variable *d*. But why does it work now?"
   ]
  },
  {
   "cell_type": "code",
   "execution_count": 13,
   "metadata": {},
   "outputs": [
    {
     "name": "stdout",
     "output_type": "stream",
     "text": [
      "[[[1.32843649 1.41789927 1.04495479 1.26268676 1.43522475]\n",
      "  [1.29321974 1.5420729  1.45800489 1.47138743 1.83351768]\n",
      "  [1.78797577 1.67454366 1.60788662 1.06672879 1.83702371]]\n",
      "\n",
      " [[1.88534729 1.33322871 1.3451252  1.94060531 1.52101398]\n",
      "  [1.53694657 1.36071507 1.84938314 1.03285442 1.77403317]\n",
      "  [1.06186967 1.83122591 1.77076745 1.80451666 1.33639008]]]\n"
     ]
    }
   ],
   "source": [
    "d = a + c\n",
    "print(d)"
   ]
  },
  {
   "cell_type": "markdown",
   "metadata": {},
   "source": [
    "#### 11. Print *a* and *d*. Notice the difference and relation of the two array in terms of the values? Explain."
   ]
  },
  {
   "cell_type": "code",
   "execution_count": 14,
   "metadata": {},
   "outputs": [
    {
     "name": "stdout",
     "output_type": "stream",
     "text": [
      "[[[0.32843649 0.41789927 0.04495479 0.26268676 0.43522475]\n",
      "  [0.29321974 0.5420729  0.45800489 0.47138743 0.83351768]\n",
      "  [0.78797577 0.67454366 0.60788662 0.06672879 0.83702371]]\n",
      "\n",
      " [[0.88534729 0.33322871 0.3451252  0.94060531 0.52101398]\n",
      "  [0.53694657 0.36071507 0.84938314 0.03285442 0.77403317]\n",
      "  [0.06186967 0.83122591 0.77076745 0.80451666 0.33639008]]]\n",
      "[[[1.32843649 1.41789927 1.04495479 1.26268676 1.43522475]\n",
      "  [1.29321974 1.5420729  1.45800489 1.47138743 1.83351768]\n",
      "  [1.78797577 1.67454366 1.60788662 1.06672879 1.83702371]]\n",
      "\n",
      " [[1.88534729 1.33322871 1.3451252  1.94060531 1.52101398]\n",
      "  [1.53694657 1.36071507 1.84938314 1.03285442 1.77403317]\n",
      "  [1.06186967 1.83122591 1.77076745 1.80451666 1.33639008]]]\n"
     ]
    }
   ],
   "source": [
    "print(a)\n",
    "\n",
    "print(d)\n",
    "#values in d = i + 1 for i in a"
   ]
  },
  {
   "cell_type": "markdown",
   "metadata": {},
   "source": [
    "#### 12. Multiply *a* and *c*. Assign the result to *e*."
   ]
  },
  {
   "cell_type": "code",
   "execution_count": 15,
   "metadata": {},
   "outputs": [
    {
     "name": "stdout",
     "output_type": "stream",
     "text": [
      "[[[0.32843649 0.41789927 0.04495479 0.26268676 0.43522475]\n",
      "  [0.29321974 0.5420729  0.45800489 0.47138743 0.83351768]\n",
      "  [0.78797577 0.67454366 0.60788662 0.06672879 0.83702371]]\n",
      "\n",
      " [[0.88534729 0.33322871 0.3451252  0.94060531 0.52101398]\n",
      "  [0.53694657 0.36071507 0.84938314 0.03285442 0.77403317]\n",
      "  [0.06186967 0.83122591 0.77076745 0.80451666 0.33639008]]]\n"
     ]
    }
   ],
   "source": [
    "e = a * c\n",
    "print(e)"
   ]
  },
  {
   "cell_type": "markdown",
   "metadata": {},
   "source": [
    "#### 13. Does *e* equal to *a*? Why or why not?\n"
   ]
  },
  {
   "cell_type": "code",
   "execution_count": 16,
   "metadata": {},
   "outputs": [
    {
     "name": "stdout",
     "output_type": "stream",
     "text": [
      "[[[0.32843649 0.41789927 0.04495479 0.26268676 0.43522475]\n",
      "  [0.29321974 0.5420729  0.45800489 0.47138743 0.83351768]\n",
      "  [0.78797577 0.67454366 0.60788662 0.06672879 0.83702371]]\n",
      "\n",
      " [[0.88534729 0.33322871 0.3451252  0.94060531 0.52101398]\n",
      "  [0.53694657 0.36071507 0.84938314 0.03285442 0.77403317]\n",
      "  [0.06186967 0.83122591 0.77076745 0.80451666 0.33639008]]]\n",
      "[[[0.32843649 0.41789927 0.04495479 0.26268676 0.43522475]\n",
      "  [0.29321974 0.5420729  0.45800489 0.47138743 0.83351768]\n",
      "  [0.78797577 0.67454366 0.60788662 0.06672879 0.83702371]]\n",
      "\n",
      " [[0.88534729 0.33322871 0.3451252  0.94060531 0.52101398]\n",
      "  [0.53694657 0.36071507 0.84938314 0.03285442 0.77403317]\n",
      "  [0.06186967 0.83122591 0.77076745 0.80451666 0.33639008]]]\n"
     ]
    }
   ],
   "source": [
    "print(a)\n",
    "print(e)\n",
    "#they are equal because x * 1 = x"
   ]
  },
  {
   "cell_type": "markdown",
   "metadata": {},
   "source": [
    "#### 14. Identify the max, min, and mean values in *d*. Assign those values to variables *d_max*, *d_min* and *d_mean*."
   ]
  },
  {
   "cell_type": "code",
   "execution_count": 17,
   "metadata": {},
   "outputs": [
    {
     "name": "stdout",
     "output_type": "stream",
     "text": [
      "1.9406053058225117\n",
      "1.0328544152992585\n",
      "1.5148528623573214\n"
     ]
    }
   ],
   "source": [
    "d_max = np.amax(d)\n",
    "d_min = np.amin(d)\n",
    "d_mean = np.mean(d)\n",
    "print(d_max)\n",
    "print(d_min)\n",
    "print(d_mean)"
   ]
  },
  {
   "cell_type": "markdown",
   "metadata": {},
   "source": [
    "#### 15. Now we want to label the values in *d*. First create an empty array *f* with the same shape (i.e. 2x3x5) as *d* using `np.empty`.\n"
   ]
  },
  {
   "cell_type": "code",
   "execution_count": 18,
   "metadata": {},
   "outputs": [
    {
     "name": "stdout",
     "output_type": "stream",
     "text": [
      "[[[0.32843649 0.41789927 0.04495479 0.26268676 0.43522475]\n",
      "  [0.29321974 0.5420729  0.45800489 0.47138743 0.83351768]\n",
      "  [0.78797577 0.67454366 0.60788662 0.06672879 0.83702371]]\n",
      "\n",
      " [[0.88534729 0.33322871 0.3451252  0.94060531 0.52101398]\n",
      "  [0.53694657 0.36071507 0.84938314 0.03285442 0.77403317]\n",
      "  [0.06186967 0.83122591 0.77076745 0.80451666 0.33639008]]]\n"
     ]
    }
   ],
   "source": [
    "f = np.empty((2, 3, 5))\n",
    "print(f)"
   ]
  },
  {
   "cell_type": "markdown",
   "metadata": {},
   "source": [
    "#### 16. Populate the values in *f*. \n",
    "\n",
    "For each value in *d*, if it's larger than *d_min* but smaller than *d_mean*, assign 25 to the corresponding value in *f*. If a value in *d* is larger than *d_mean* but smaller than *d_max*, assign 75 to the corresponding value in *f*. If a value equals to *d_mean*, assign 50 to the corresponding value in *f*. Assign 0 to the corresponding value(s) in *f* for *d_min* in *d*. Assign 100 to the corresponding value(s) in *f* for *d_max* in *d*. In the end, f should have only the following values: 0, 25, 50, 75, and 100.\n",
    "\n",
    "**Note**: you don't have to use Numpy in this question."
   ]
  },
  {
   "cell_type": "code",
   "execution_count": 19,
   "metadata": {},
   "outputs": [
    {
     "name": "stdout",
     "output_type": "stream",
     "text": [
      "[[[ 25.  25.  25.  25.  25.]\n",
      "  [ 25.  75.  25.  25.  75.]\n",
      "  [ 75.  75.  75.  25.  75.]]\n",
      "\n",
      " [[ 75.  25.  25. 100.  75.]\n",
      "  [ 75.  25.  75.   0.  75.]\n",
      "  [ 25.  75.  75.  75.  25.]]]\n"
     ]
    }
   ],
   "source": [
    "c25 = ((d > d_min) & (d < d_mean))\n",
    "c75 = ((d > d_mean) & (d < d_max))\n",
    "f[c75] = 75\n",
    "f[c25] = 25\n",
    "f[d==d_mean] = 50\n",
    "f[d==d_min] = 0\n",
    "f[d==d_max] = 100\n",
    "\n",
    "print(f)\n",
    "#possible 2nd way: \n",
    "#np.where((d > d_min) & (d < d_mean), 25, f) \n",
    "#np.where((d > d_mean) & (d < d_max), 75, f)\n",
    "#np.where(d == d_mean, 50, f)\n",
    "#np.where(d == d_min, 0, f)\n",
    "#np.where(d == d_max, 100, f)"
   ]
  },
  {
   "cell_type": "markdown",
   "metadata": {},
   "source": [
    "#### 17. Print *d* and *f*. Do you have your expected *f*?\n",
    "For instance, if your *d* is:\n",
    "```python\n",
    "[[[1.85836099, 1.67064465, 1.62576044, 1.40243961, 1.88454931],\n",
    "[1.75354326, 1.69403643, 1.36729252, 1.61415071, 1.12104981],\n",
    "[1.72201435, 1.1862918 , 1.87078449, 1.7726778 , 1.88180042]],\n",
    "[[1.44747908, 1.31673383, 1.02000951, 1.52218947, 1.97066381],\n",
    "[1.79129243, 1.74983003, 1.96028037, 1.85166831, 1.65450881],\n",
    "[1.18068344, 1.9587381 , 1.00656599, 1.93402165, 1.73514584]]]\n",
    "```\n",
    "Your *f* should be:\n",
    "```python\n",
    "[[[ 75.,  75.,  75.,  25.,  75.],\n",
    "[ 75.,  75.,  25.,  25.,  25.],\n",
    "[ 75.,  25.,  75.,  75.,  75.]],\n",
    "[[ 25.,  25.,  25.,  25., 100.],\n",
    "[ 75.,  75.,  75.,  75.,  75.],\n",
    "[ 25.,  75.,   0.,  75.,  75.]]]\n",
    "```"
   ]
  },
  {
   "cell_type": "code",
   "execution_count": 20,
   "metadata": {},
   "outputs": [
    {
     "name": "stdout",
     "output_type": "stream",
     "text": [
      "[[[ 25.  25.  25.  25.  25.]\n",
      "  [ 25.  75.  25.  25.  75.]\n",
      "  [ 75.  75.  75.  25.  75.]]\n",
      "\n",
      " [[ 75.  25.  25. 100.  75.]\n",
      "  [ 75.  25.  75.   0.  75.]\n",
      "  [ 25.  75.  75.  75.  25.]]]\n",
      "[[[1.32843649 1.41789927 1.04495479 1.26268676 1.43522475]\n",
      "  [1.29321974 1.5420729  1.45800489 1.47138743 1.83351768]\n",
      "  [1.78797577 1.67454366 1.60788662 1.06672879 1.83702371]]\n",
      "\n",
      " [[1.88534729 1.33322871 1.3451252  1.94060531 1.52101398]\n",
      "  [1.53694657 1.36071507 1.84938314 1.03285442 1.77403317]\n",
      "  [1.06186967 1.83122591 1.77076745 1.80451666 1.33639008]]]\n"
     ]
    }
   ],
   "source": [
    "print(f)\n",
    "print(d)"
   ]
  },
  {
   "cell_type": "markdown",
   "metadata": {},
   "source": [
    "#### 18. Bonus question: instead of using numbers (i.e. 0, 25, 50, 75, and 100), use string values  (\"A\", \"B\", \"C\", \"D\", and \"E\") to label the array elements. For the example above, the expected result is:\n",
    "\n",
    "```python\n",
    "[[[ 'D',  'D',  'D',  'B',  'D'],\n",
    "[ 'D',  'D',  'B',  'B',  'B'],\n",
    "[ 'D',  'B',  'D',  'D',  'D']],\n",
    "[[ 'B',  'B',  'B',  'B',  'E'],\n",
    "[ 'D',  'D',  'D',  'D',  'D'],\n",
    "[ 'B',  'D',   'A',  'D', 'D']]]\n",
    "```\n",
    "**Note**: you don't have to use Numpy in this question."
   ]
  },
  {
   "cell_type": "code",
   "execution_count": 29,
   "metadata": {},
   "outputs": [
    {
     "ename": "ValueError",
     "evalue": "could not convert string to float: 'A'",
     "output_type": "error",
     "traceback": [
      "\u001b[1;31m---------------------------------------------------------------------------\u001b[0m",
      "\u001b[1;31mValueError\u001b[0m                                Traceback (most recent call last)",
      "\u001b[1;32m<ipython-input-29-7f8eb1964f53>\u001b[0m in \u001b[0;36m<module>\u001b[1;34m\u001b[0m\n\u001b[1;32m----> 1\u001b[1;33m \u001b[0mf\u001b[0m\u001b[1;33m[\u001b[0m\u001b[0mf\u001b[0m\u001b[1;33m==\u001b[0m\u001b[1;36m0\u001b[0m\u001b[1;33m]\u001b[0m \u001b[1;33m=\u001b[0m \u001b[1;34m\"A\"\u001b[0m\u001b[1;33m\u001b[0m\u001b[1;33m\u001b[0m\u001b[0m\n\u001b[0m\u001b[0;32m      2\u001b[0m \u001b[0mprint\u001b[0m\u001b[1;33m(\u001b[0m\u001b[0mf\u001b[0m\u001b[1;33m)\u001b[0m\u001b[1;33m\u001b[0m\u001b[1;33m\u001b[0m\u001b[0m\n",
      "\u001b[1;31mValueError\u001b[0m: could not convert string to float: 'A'"
     ]
    }
   ],
   "source": [
    "f = f.astype(int)\n",
    "f[f==0] = \"A\"\n",
    "print(f)"
   ]
  },
  {
   "cell_type": "code",
   "execution_count": null,
   "metadata": {},
   "outputs": [],
   "source": [
    "f = f.astype(int)"
   ]
  }
 ],
 "metadata": {
  "kernelspec": {
   "display_name": "Python 3",
   "language": "python",
   "name": "python3"
  },
  "language_info": {
   "codemirror_mode": {
    "name": "ipython",
    "version": 3
   },
   "file_extension": ".py",
   "mimetype": "text/x-python",
   "name": "python",
   "nbconvert_exporter": "python",
   "pygments_lexer": "ipython3",
   "version": "3.8.3"
  }
 },
 "nbformat": 4,
 "nbformat_minor": 2
}
