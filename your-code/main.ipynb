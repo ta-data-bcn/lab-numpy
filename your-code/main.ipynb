{
 "cells": [
  {
   "cell_type": "markdown",
   "metadata": {},
   "source": [
    "# Intrduction to NumPy\n",
    "\n",
    "\n",
    "#### 1. Import NumPy under the name np."
   ]
  },
  {
   "cell_type": "code",
   "execution_count": 3,
   "metadata": {},
   "outputs": [],
   "source": [
    "# your code here\n",
    "import numpy as np\n",
    "import random"
   ]
  },
  {
   "cell_type": "markdown",
   "metadata": {},
   "source": [
    "#### 2. Print your NumPy version."
   ]
  },
  {
   "cell_type": "code",
   "execution_count": 4,
   "metadata": {},
   "outputs": [
    {
     "name": "stdout",
     "output_type": "stream",
     "text": [
      "The numpy version is 1.16.4\n"
     ]
    }
   ],
   "source": [
    "# your code here\n",
    "\n",
    "print(f\"The numpy version is {np.version.version}\")"
   ]
  },
  {
   "cell_type": "markdown",
   "metadata": {},
   "source": [
    "#### 3. Generate a 2x3x5 3-dimensional array with random values. Assign the array to variable *a*.\n",
    "**Challenge**: there are at least three easy ways that use numpy to generate random arrays. How many ways can you find?"
   ]
  },
  {
   "cell_type": "code",
   "execution_count": 5,
   "metadata": {},
   "outputs": [
    {
     "name": "stdout",
     "output_type": "stream",
     "text": [
      "[[[0.56355079 0.52534166 0.12081598 0.8922226  0.70075728]\n",
      "  [0.10048432 0.46901402 0.71182287 0.90195189 0.71939029]\n",
      "  [0.1706124  0.48147676 0.97990371 0.15121863 0.59877778]]\n",
      "\n",
      " [[0.17784176 0.43156033 0.82324071 0.88715266 0.59445227]\n",
      "  [0.9663798  0.48169162 0.75317558 0.39263626 0.14090073]\n",
      "  [0.06377226 0.81116231 0.81471322 0.36562796 0.54940338]]]\n",
      "<class 'numpy.ndarray'>\n"
     ]
    }
   ],
   "source": [
    "# Method 1\n",
    "#Random values in a given shape.\n",
    "\n",
    "#Create an array of the given shape and populate it with random samples from a uniform distribution over [0, 1).\n",
    "\n",
    "a = np.random.rand(2,3,5)\n",
    "print(a)\n",
    "print(type(a))"
   ]
  },
  {
   "cell_type": "code",
   "execution_count": 6,
   "metadata": {},
   "outputs": [
    {
     "name": "stdout",
     "output_type": "stream",
     "text": [
      "[[[18 38 24 23 41]\n",
      "  [54 97 48 18 19]\n",
      "  [18 67 84 22 10]]\n",
      "\n",
      " [[83 16 96 25 85]\n",
      "  [94 73 79 89 48]\n",
      "  [50 41 57 18 18]]]\n",
      "<class 'numpy.ndarray'>\n"
     ]
    }
   ],
   "source": [
    "# Method 2\n",
    "\n",
    "#In this case I am using the method called randint that creates random values that are integer and within the range\n",
    "# that we specify (in this case, 100)\n",
    "\n",
    "a= np.random.randint(100, size=(2,3,5))\n",
    "print(a)\n",
    "print(type(a))"
   ]
  },
  {
   "cell_type": "code",
   "execution_count": 7,
   "metadata": {},
   "outputs": [
    {
     "name": "stdout",
     "output_type": "stream",
     "text": [
      "[[[0.2175783  0.37343332 0.50361469 0.53339323 0.68725052]\n",
      "  [0.04101453 0.22899716 0.08015319 0.46200159 0.04073512]\n",
      "  [0.36230085 0.75883062 0.05201812 0.12008159 0.88340683]]\n",
      "\n",
      " [[0.15177425 0.01895114 0.53892926 0.73583256 0.83295799]\n",
      "  [0.73886981 0.23760328 0.4489864  0.47447599 0.31084658]\n",
      "  [0.22845696 0.17683625 0.36416187 0.35837631 0.0612464 ]]]\n",
      "<class 'numpy.ndarray'>\n"
     ]
    }
   ],
   "source": [
    "# Method 3\n",
    "\n",
    "a = np.random.random_sample((2,3,5))\n",
    "print(a)\n",
    "print(type(a))"
   ]
  },
  {
   "cell_type": "markdown",
   "metadata": {},
   "source": [
    "#### 4. Print *a*.\n"
   ]
  },
  {
   "cell_type": "code",
   "execution_count": 8,
   "metadata": {},
   "outputs": [
    {
     "name": "stdout",
     "output_type": "stream",
     "text": [
      "[[[0.2175783  0.37343332 0.50361469 0.53339323 0.68725052]\n",
      "  [0.04101453 0.22899716 0.08015319 0.46200159 0.04073512]\n",
      "  [0.36230085 0.75883062 0.05201812 0.12008159 0.88340683]]\n",
      "\n",
      " [[0.15177425 0.01895114 0.53892926 0.73583256 0.83295799]\n",
      "  [0.73886981 0.23760328 0.4489864  0.47447599 0.31084658]\n",
      "  [0.22845696 0.17683625 0.36416187 0.35837631 0.0612464 ]]]\n"
     ]
    }
   ],
   "source": [
    "# your code here\n",
    "print(a)\n"
   ]
  },
  {
   "cell_type": "markdown",
   "metadata": {},
   "source": [
    "#### 5. Create a 5x2x3 3-dimensional array with all values equaling 1. Assign the array to variable *b*."
   ]
  },
  {
   "cell_type": "code",
   "execution_count": 9,
   "metadata": {},
   "outputs": [],
   "source": [
    "# your code here\n",
    "b = np.ones((5,2,3))"
   ]
  },
  {
   "cell_type": "markdown",
   "metadata": {},
   "source": [
    "#### 6. Print *b*.\n"
   ]
  },
  {
   "cell_type": "code",
   "execution_count": 10,
   "metadata": {},
   "outputs": [
    {
     "name": "stdout",
     "output_type": "stream",
     "text": [
      "[[[1. 1. 1.]\n",
      "  [1. 1. 1.]]\n",
      "\n",
      " [[1. 1. 1.]\n",
      "  [1. 1. 1.]]\n",
      "\n",
      " [[1. 1. 1.]\n",
      "  [1. 1. 1.]]\n",
      "\n",
      " [[1. 1. 1.]\n",
      "  [1. 1. 1.]]\n",
      "\n",
      " [[1. 1. 1.]\n",
      "  [1. 1. 1.]]]\n"
     ]
    }
   ],
   "source": [
    "# your code here\n",
    "print(b)"
   ]
  },
  {
   "cell_type": "markdown",
   "metadata": {},
   "source": [
    "#### 7. Do *a* and *b* have the same size? How do you prove that in Python code?"
   ]
  },
  {
   "cell_type": "code",
   "execution_count": 11,
   "metadata": {},
   "outputs": [
    {
     "name": "stdout",
     "output_type": "stream",
     "text": [
      "(2, 3, 5)\n",
      "(5, 2, 3)\n"
     ]
    }
   ],
   "source": [
    "# your code here\n",
    "print(a.shape)\n",
    "print(b.shape)\n",
    "\n",
    "#No, they don't have the same size\n",
    "\n",
    "# Matrix a has 2 x 3 x 5 and matrix b has 5x2x3"
   ]
  },
  {
   "cell_type": "markdown",
   "metadata": {},
   "source": [
    "#### 8. Are you able to add *a* and *b*? Why or why not?\n"
   ]
  },
  {
   "cell_type": "code",
   "execution_count": 12,
   "metadata": {},
   "outputs": [
    {
     "ename": "ValueError",
     "evalue": "operands could not be broadcast together with shapes (2,3,5) (5,2,3) ",
     "output_type": "error",
     "traceback": [
      "\u001b[0;31m---------------------------------------------------------------------------\u001b[0m",
      "\u001b[0;31mValueError\u001b[0m                                Traceback (most recent call last)",
      "\u001b[0;32m<ipython-input-12-ab0eba7e1a3a>\u001b[0m in \u001b[0;36m<module>\u001b[0;34m\u001b[0m\n\u001b[1;32m      1\u001b[0m \u001b[0;31m# your answer here\u001b[0m\u001b[0;34m\u001b[0m\u001b[0;34m\u001b[0m\u001b[0;34m\u001b[0m\u001b[0m\n\u001b[1;32m      2\u001b[0m \u001b[0;34m\u001b[0m\u001b[0m\n\u001b[0;32m----> 3\u001b[0;31m \u001b[0mc\u001b[0m\u001b[0;34m=\u001b[0m \u001b[0mnp\u001b[0m\u001b[0;34m.\u001b[0m\u001b[0madd\u001b[0m\u001b[0;34m(\u001b[0m\u001b[0ma\u001b[0m\u001b[0;34m,\u001b[0m\u001b[0mb\u001b[0m\u001b[0;34m)\u001b[0m\u001b[0;34m\u001b[0m\u001b[0;34m\u001b[0m\u001b[0m\n\u001b[0m\u001b[1;32m      4\u001b[0m \u001b[0;34m\u001b[0m\u001b[0m\n\u001b[1;32m      5\u001b[0m \u001b[0;31m#It can't be done due to different shapes of a and b\u001b[0m\u001b[0;34m\u001b[0m\u001b[0;34m\u001b[0m\u001b[0;34m\u001b[0m\u001b[0m\n",
      "\u001b[0;31mValueError\u001b[0m: operands could not be broadcast together with shapes (2,3,5) (5,2,3) "
     ]
    }
   ],
   "source": [
    "# your answer here\n",
    "\n",
    "c= np.add(a,b)\n",
    "\n",
    "#It can't be done due to different shapes of a and b "
   ]
  },
  {
   "cell_type": "markdown",
   "metadata": {},
   "source": [
    "#### 9. Transpose *b* so that it has the same structure of *a* (i.e. become a 2x3x5 array). Assign the transposed array to variable *c*."
   ]
  },
  {
   "cell_type": "code",
   "execution_count": 14,
   "metadata": {},
   "outputs": [
    {
     "name": "stdout",
     "output_type": "stream",
     "text": [
      "(2, 3, 5)\n"
     ]
    }
   ],
   "source": [
    "# your code here\n",
    "\n",
    "c = b.transpose((1,2,0))\n",
    "\n",
    "#print(c)\n",
    "print(np.shape(c))\n",
    "\n",
    "# the axes 0,1,2 are equal to sheets, rows, and columns, meaning as z y x. In this case we have two sheets (z=2),\n",
    "# 3 rows (y=3) and 5 columns (x=5). "
   ]
  },
  {
   "cell_type": "markdown",
   "metadata": {},
   "source": [
    "#### 10. Try to add *a* and *c*. Now it should work. Assign the sum to variable *d*. But why does it work now?"
   ]
  },
  {
   "cell_type": "code",
   "execution_count": 15,
   "metadata": {},
   "outputs": [],
   "source": [
    "# your code/answer here\n",
    "\n",
    "d = np.add(a,c)"
   ]
  },
  {
   "cell_type": "markdown",
   "metadata": {},
   "source": [
    "#### 11. Print *a* and *d*. Notice the difference and relation of the two array in terms of the values? Explain."
   ]
  },
  {
   "cell_type": "code",
   "execution_count": 16,
   "metadata": {},
   "outputs": [
    {
     "name": "stdout",
     "output_type": "stream",
     "text": [
      "[[[0.2175783  0.37343332 0.50361469 0.53339323 0.68725052]\n",
      "  [0.04101453 0.22899716 0.08015319 0.46200159 0.04073512]\n",
      "  [0.36230085 0.75883062 0.05201812 0.12008159 0.88340683]]\n",
      "\n",
      " [[0.15177425 0.01895114 0.53892926 0.73583256 0.83295799]\n",
      "  [0.73886981 0.23760328 0.4489864  0.47447599 0.31084658]\n",
      "  [0.22845696 0.17683625 0.36416187 0.35837631 0.0612464 ]]]\n",
      "\n",
      "[[[1.2175783  1.37343332 1.50361469 1.53339323 1.68725052]\n",
      "  [1.04101453 1.22899716 1.08015319 1.46200159 1.04073512]\n",
      "  [1.36230085 1.75883062 1.05201812 1.12008159 1.88340683]]\n",
      "\n",
      " [[1.15177425 1.01895114 1.53892926 1.73583256 1.83295799]\n",
      "  [1.73886981 1.23760328 1.4489864  1.47447599 1.31084658]\n",
      "  [1.22845696 1.17683625 1.36416187 1.35837631 1.0612464 ]]]\n"
     ]
    }
   ],
   "source": [
    "# your code/answer here\n",
    "\n",
    "print(a)\n",
    "print(\"\")\n",
    "print(d)\n",
    "\n",
    "#We have added a to c, and c is a matrix 2x3x5 filled in with ones. That means that when we add the two of them \n",
    "#we are summing the cell 1,1,1 of a (0.34) to the cell 1,1,1 of c that is 1. meaning that the new d cell 1,1,1 will\n",
    "#be equal to 1,34."
   ]
  },
  {
   "cell_type": "markdown",
   "metadata": {},
   "source": [
    "#### 12. Multiply *a* and *c*. Assign the result to *e*."
   ]
  },
  {
   "cell_type": "code",
   "execution_count": 17,
   "metadata": {},
   "outputs": [
    {
     "name": "stdout",
     "output_type": "stream",
     "text": [
      "[[[0.2175783  0.37343332 0.50361469 0.53339323 0.68725052]\n",
      "  [0.04101453 0.22899716 0.08015319 0.46200159 0.04073512]\n",
      "  [0.36230085 0.75883062 0.05201812 0.12008159 0.88340683]]\n",
      "\n",
      " [[0.15177425 0.01895114 0.53892926 0.73583256 0.83295799]\n",
      "  [0.73886981 0.23760328 0.4489864  0.47447599 0.31084658]\n",
      "  [0.22845696 0.17683625 0.36416187 0.35837631 0.0612464 ]]]\n"
     ]
    }
   ],
   "source": [
    "# your code here\n",
    "e = np.multiply(a,c)\n",
    "print(e)"
   ]
  },
  {
   "cell_type": "markdown",
   "metadata": {},
   "source": [
    "#### 13. Does *e* equal to *a*? Why or why not?\n"
   ]
  },
  {
   "cell_type": "code",
   "execution_count": 18,
   "metadata": {},
   "outputs": [
    {
     "name": "stdout",
     "output_type": "stream",
     "text": [
      "[[[0.2175783  0.37343332 0.50361469 0.53339323 0.68725052]\n",
      "  [0.04101453 0.22899716 0.08015319 0.46200159 0.04073512]\n",
      "  [0.36230085 0.75883062 0.05201812 0.12008159 0.88340683]]\n",
      "\n",
      " [[0.15177425 0.01895114 0.53892926 0.73583256 0.83295799]\n",
      "  [0.73886981 0.23760328 0.4489864  0.47447599 0.31084658]\n",
      "  [0.22845696 0.17683625 0.36416187 0.35837631 0.0612464 ]]]\n"
     ]
    },
    {
     "data": {
      "text/plain": [
       "True"
      ]
     },
     "execution_count": 18,
     "metadata": {},
     "output_type": "execute_result"
    }
   ],
   "source": [
    "# your code/answer here\n",
    "print(a)\n",
    "np.array_equal(e,a)\n",
    "\n",
    "# Yes, they are equal, because we are multiplying a that is a random matrix of values between 0,1 to c that is a matrix \n",
    "#filled in with ones. In this case, the numpy multiply function multiplies element-wise the two matrixes. \n",
    "# this is why e is equal to a. "
   ]
  },
  {
   "cell_type": "markdown",
   "metadata": {},
   "source": [
    "#### 14. Identify the max, min, and mean values in *d*. Assign those values to variables *d_max*, *d_min* and *d_mean*."
   ]
  },
  {
   "cell_type": "code",
   "execution_count": 19,
   "metadata": {},
   "outputs": [
    {
     "name": "stdout",
     "output_type": "stream",
     "text": [
      "1.883406831625527\n",
      "1.018951136435773\n",
      "1.3674371569512003\n"
     ]
    }
   ],
   "source": [
    "# your code here\n",
    "\n",
    "d_max= np.max(d)\n",
    "d_min= np.min(d)\n",
    "d_mean= np.mean(d)\n",
    "print(d_max)\n",
    "print(d_min)\n",
    "print(d_mean)"
   ]
  },
  {
   "cell_type": "markdown",
   "metadata": {},
   "source": [
    "#### 15. Now we want to label the values in *d*. First create an empty array *f* with the same shape (i.e. 2x3x5) as *d* using `np.empty`.\n"
   ]
  },
  {
   "cell_type": "code",
   "execution_count": 20,
   "metadata": {},
   "outputs": [
    {
     "name": "stdout",
     "output_type": "stream",
     "text": [
      "[[[0.2175783  0.37343332 0.50361469 0.53339323 0.68725052]\n",
      "  [0.04101453 0.22899716 0.08015319 0.46200159 0.04073512]\n",
      "  [0.36230085 0.75883062 0.05201812 0.12008159 0.88340683]]\n",
      "\n",
      " [[0.15177425 0.01895114 0.53892926 0.73583256 0.83295799]\n",
      "  [0.73886981 0.23760328 0.4489864  0.47447599 0.31084658]\n",
      "  [0.22845696 0.17683625 0.36416187 0.35837631 0.0612464 ]]]\n"
     ]
    }
   ],
   "source": [
    "# your code here\n",
    "f = np.empty((2,3,5))\n",
    "print(f)"
   ]
  },
  {
   "cell_type": "markdown",
   "metadata": {},
   "source": [
    "#### 16. Populate the values in *f*. \n",
    "\n",
    "For each value in *d*, if it's larger than *d_min* but smaller than *d_mean*, assign 25 to the corresponding value in *f*. If a value in *d* is larger than *d_mean* but smaller than *d_max*, assign 75 to the corresponding value in *f*. If a value equals to *d_mean*, assign 50 to the corresponding value in *f*. Assign 0 to the corresponding value(s) in *f* for *d_min* in *d*. Assign 100 to the corresponding value(s) in *f* for *d_max* in *d*. In the end, f should have only the following values: 0, 25, 50, 75, and 100.\n",
    "\n",
    "**Note**: you don't have to use Numpy in this question."
   ]
  },
  {
   "cell_type": "code",
   "execution_count": 21,
   "metadata": {},
   "outputs": [],
   "source": [
    "# your code here\n",
    "\n",
    "\n",
    "#%timeit list([((i,j,k), X[i,j,k]) for i in range(X.shape[0]) for j in range(X.shape[1]) for k in range(X.shape[2])])\n",
    "for x in range (d.shape[0]):\n",
    "    for y in range (d.shape[1]): \n",
    "        for z in range(d.shape[2]): \n",
    "            if d[x,y,z] > d_min and d[x,y,z] <d_mean: \n",
    "            \n",
    "                f[x,y,z] = 25\n",
    "                \n",
    "            elif d[x,y,z] > d_mean and d[x,y,z] <d_max: \n",
    "                f[x,y,z] = 75\n",
    "            elif d[x,y,z] == d_mean: \n",
    "                f[x,y,z] = 50\n",
    "            elif d[x,y,z] == d_min: \n",
    "                f[x,y,z] = 0\n",
    "            elif d[x,y,z] == d_max:\n",
    "                f[x,y,z] =100\n",
    "\n"
   ]
  },
  {
   "cell_type": "markdown",
   "metadata": {},
   "source": [
    "#### 17. Print *d* and *f*. Do you have your expected *f*?\n",
    "For instance, if your *d* is:\n",
    "```python\n",
    "[[[1.85836099, 1.67064465, 1.62576044, 1.40243961, 1.88454931],\n",
    "[1.75354326, 1.69403643, 1.36729252, 1.61415071, 1.12104981],\n",
    "[1.72201435, 1.1862918 , 1.87078449, 1.7726778 , 1.88180042]],\n",
    "[[1.44747908, 1.31673383, 1.02000951, 1.52218947, 1.97066381],\n",
    "[1.79129243, 1.74983003, 1.96028037, 1.85166831, 1.65450881],\n",
    "[1.18068344, 1.9587381 , 1.00656599, 1.93402165, 1.73514584]]]\n",
    "```\n",
    "Your *f* should be:\n",
    "```python\n",
    "[[[ 75.,  75.,  75.,  25.,  75.],\n",
    "[ 75.,  75.,  25.,  25.,  25.],\n",
    "[ 75.,  25.,  75.,  75.,  75.]],\n",
    "[[ 25.,  25.,  25.,  25., 100.],\n",
    "[ 75.,  75.,  75.,  75.,  75.],\n",
    "[ 25.,  75.,   0.,  75.,  75.]]]\n",
    "```"
   ]
  },
  {
   "cell_type": "code",
   "execution_count": 22,
   "metadata": {},
   "outputs": [
    {
     "name": "stdout",
     "output_type": "stream",
     "text": [
      "[[[ 25.  75.  75.  75.  75.]\n",
      "  [ 25.  25.  25.  75.  25.]\n",
      "  [ 25.  75.  25.  25. 100.]]\n",
      "\n",
      " [[ 25.   0.  75.  75.  75.]\n",
      "  [ 75.  25.  75.  75.  25.]\n",
      "  [ 25.  25.  25.  25.  25.]]]\n",
      "Yes, I have my expected f matrix\n"
     ]
    }
   ],
   "source": [
    "# your code here\n",
    "print(f)\n",
    "\n",
    "print(\"Yes, I have my expected f matrix\")\n",
    "\n",
    "#print(d_min)\n",
    "#print(d_max)\n",
    "#print(d_mean)\n",
    "#print(d)"
   ]
  },
  {
   "cell_type": "markdown",
   "metadata": {},
   "source": [
    "#### 18. Bonus question: instead of using numbers (i.e. 0, 25, 50, 75, and 100), use string values  (\"A\", \"B\", \"C\", \"D\", and \"E\") to label the array elements. For the example above, the expected result is:\n",
    "\n",
    "```python\n",
    "[[[ 'D',  'D',  'D',  'B',  'D'],\n",
    "[ 'D',  'D',  'B',  'B',  'B'],\n",
    "[ 'D',  'B',  'D',  'D',  'D']],\n",
    "[[ 'B',  'B',  'B',  'B',  'E'],\n",
    "[ 'D',  'D',  'D',  'D',  'D'],\n",
    "[ 'B',  'D',   'A',  'D', 'D']]]\n",
    "```\n",
    "**Note**: you don't have to use Numpy in this question."
   ]
  },
  {
   "cell_type": "code",
   "execution_count": 24,
   "metadata": {},
   "outputs": [
    {
     "name": "stdout",
     "output_type": "stream",
     "text": [
      "[[['B' 'D' 'D' 'D' 'D']\n",
      "  ['B' 'B' 'B' 'D' 'B']\n",
      "  ['B' 'D' 'B' 'B' 'E']]\n",
      "\n",
      " [['B' 'A' 'D' 'D' 'D']\n",
      "  ['D' 'B' 'D' 'D' 'B']\n",
      "  ['B' 'B' 'B' 'B' 'B']]]\n"
     ]
    }
   ],
   "source": [
    "# your code here\n",
    "#f_list=[ [[random.random() for x in range(2) ] for y in range(3)] for z in range(5)]\n",
    "#print(f_list)\n",
    " \n",
    "f_char = np.chararray((2,3,5), unicode=True)\n",
    "\n",
    "#f_char[:] = ' '\n",
    "#print(f_char)\n",
    "\n",
    "#f_char = np.empty((2,3,5), dtype=str)\n",
    "\n",
    "for x in range (d.shape[0]):\n",
    "    for y in range (d.shape[1]): \n",
    "        for z in range(d.shape[2]): \n",
    "            if d[x,y,z] > d_min and d[x,y,z] <d_mean: \n",
    "            \n",
    "                f_char[x,y,z] = 'B'\n",
    "            elif d[x,y,z] > d_mean and d[x,y,z] <d_max: \n",
    "                f_char[x,y,z] = 'D'\n",
    "            elif d[x,y,z] == d_mean: \n",
    "                f_char[x,y,z] = 'C'\n",
    "            elif d[x,y,z] == d_min: \n",
    "                f_char[x,y,z] ='A'\n",
    "            elif d[x,y,z] == d_max:\n",
    "                f_char[x,y,z] ='E'\n",
    "\n",
    "                \"\"\"\n",
    "\n",
    "for x in range (d.shape[0]):\n",
    "    for y in range (d.shape[1]): \n",
    "        for z in range(d.shape[2]): \n",
    "            \n",
    "            if d[x,y,z] > d_min and d[x,y,z] <d_mean: \n",
    "            \n",
    "                f_list[x][y][z] = 'B'\n",
    "                \n",
    "            elif d[x,y,z] > d_mean and d[x,y,z] <d_max: \n",
    "                f_list[x][y][z] = 'D'\n",
    "                \n",
    "            elif d[x,y,z] == d_mean: \n",
    "                f_list[x][y][z] = 'C'\n",
    "                \n",
    "            elif d[x,y,z] == d_min: \n",
    "                f_list[x][y][z] = 'A'\n",
    "                \n",
    "            elif d[x,y,z] == d_max:\n",
    "                f_list[x][y][z] ='E'\n",
    "\"\"\"\n",
    "                \n",
    "print(f_char)"
   ]
  }
 ],
 "metadata": {
  "kernelspec": {
   "display_name": "Python 3",
   "language": "python",
   "name": "python3"
  },
  "language_info": {
   "codemirror_mode": {
    "name": "ipython",
    "version": 3
   },
   "file_extension": ".py",
   "mimetype": "text/x-python",
   "name": "python",
   "nbconvert_exporter": "python",
   "pygments_lexer": "ipython3",
   "version": "3.7.3"
  }
 },
 "nbformat": 4,
 "nbformat_minor": 2
}
