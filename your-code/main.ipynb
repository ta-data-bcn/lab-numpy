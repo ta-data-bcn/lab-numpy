{
 "cells": [
  {
   "cell_type": "markdown",
   "metadata": {},
   "source": [
    "# Intrduction to NumPy\n",
    "\n",
    "\n",
    "#### 1. Import NumPy under the name np."
   ]
  },
  {
   "cell_type": "code",
   "execution_count": 1,
   "metadata": {},
   "outputs": [],
   "source": [
    "# your code here\n",
    "import numpy as np"
   ]
  },
  {
   "cell_type": "markdown",
   "metadata": {},
   "source": [
    "#### 2. Print your NumPy version."
   ]
  },
  {
   "cell_type": "code",
   "execution_count": 2,
   "metadata": {},
   "outputs": [
    {
     "name": "stdout",
     "output_type": "stream",
     "text": [
      "1.19.2\n"
     ]
    }
   ],
   "source": [
    "print(np.__version__)"
   ]
  },
  {
   "cell_type": "markdown",
   "metadata": {},
   "source": [
    "#### 3. Generate a 2x3x5 3-dimensional array with random values. Assign the array to variable *a*.\n",
    "**Challenge**: there are at least three easy ways that use numpy to generate random arrays. How many ways can you find?\n",
    "**Hint**: look for `np.random` and search for functions you want to use.\n",
    "\n",
    "The outcomes should look like:\n",
    "```python\n",
    "array([[[ 0.00453782,  0.47251152,  0.65513617,  0.89370211,  0.91464052],\n",
    "        [ 0.35606786,  0.68149792,  0.37211451,  0.2493357 ,  0.66608051],\n",
    "        [ 0.71459267,  0.68722356,  0.20916865,  0.98338451,  0.28154909]],\n",
    "\n",
    "       [[ 0.83752622,  0.12378486,  0.77380373,  0.43270332,  0.26392168],\n",
    "        [ 0.02528723,  0.5352501 ,  0.35521185,  0.05175587,  0.64898055],\n",
    "        [ 0.52616383,  0.94453068,  0.17055731,  0.15094225,  0.63495276]]])\n",
    "```\n",
    "*The values do not need to be the same. Remember that you are creating random numbers.*"
   ]
  },
  {
   "cell_type": "code",
   "execution_count": 3,
   "metadata": {},
   "outputs": [
    {
     "data": {
      "text/plain": [
       "array([[[0.59735292, 0.06758606, 0.57916952, 0.08680541, 0.41786761],\n",
       "        [0.99617864, 0.63545283, 0.44116977, 0.43102571, 0.95045008],\n",
       "        [0.69378403, 0.03210624, 0.6218702 , 0.0842987 , 0.17864598]],\n",
       "\n",
       "       [[0.11641942, 0.38693505, 0.0368644 , 0.14136846, 0.50315352],\n",
       "        [0.02570823, 0.36604934, 0.9928516 , 0.94508152, 0.18476886],\n",
       "        [0.01936635, 0.28391116, 0.35974657, 0.33959483, 0.38835753]]])"
      ]
     },
     "execution_count": 3,
     "metadata": {},
     "output_type": "execute_result"
    }
   ],
   "source": [
    "np.random.random(size = (2,3,5))"
   ]
  },
  {
   "cell_type": "code",
   "execution_count": 4,
   "metadata": {},
   "outputs": [
    {
     "data": {
      "text/plain": [
       "array([[[0.37394745, 0.39988356, 0.70653473, 0.66850391, 0.9615947 ],\n",
       "        [0.77754223, 0.38309217, 0.74832414, 0.5202367 , 0.30648778],\n",
       "        [0.47056198, 0.83030678, 0.89943946, 0.10784582, 0.06737406]],\n",
       "\n",
       "       [[0.9468471 , 0.0102136 , 0.74075401, 0.92968526, 0.1019869 ],\n",
       "        [0.2423726 , 0.67262968, 0.90632254, 0.7195443 , 0.35144318],\n",
       "        [0.48424931, 0.85549801, 0.38435837, 0.23736645, 0.13448258]]])"
      ]
     },
     "execution_count": 4,
     "metadata": {},
     "output_type": "execute_result"
    }
   ],
   "source": [
    "np.random.rand(2,3,5)"
   ]
  },
  {
   "cell_type": "code",
   "execution_count": 5,
   "metadata": {},
   "outputs": [
    {
     "data": {
      "text/plain": [
       "array([[[0.28185926, 0.79446628, 0.72978997, 0.8217152 , 0.59337252],\n",
       "        [0.07009645, 0.42264596, 0.84450552, 0.62779039, 0.00989864],\n",
       "        [0.98861226, 0.46110904, 0.85978959, 0.01751597, 0.50083197]],\n",
       "\n",
       "       [[0.75612837, 0.80939968, 0.62165573, 0.52257696, 0.84384548],\n",
       "        [0.23006114, 0.14064958, 0.51484158, 0.68766439, 0.44737325],\n",
       "        [0.5440294 , 0.0924318 , 0.17684061, 0.47278924, 0.00795762]]])"
      ]
     },
     "execution_count": 5,
     "metadata": {},
     "output_type": "execute_result"
    }
   ],
   "source": [
    "np.random.rand(2,3,5)"
   ]
  },
  {
   "cell_type": "markdown",
   "metadata": {},
   "source": [
    "#### 4. Print *a*.\n"
   ]
  },
  {
   "cell_type": "code",
   "execution_count": 6,
   "metadata": {},
   "outputs": [
    {
     "name": "stdout",
     "output_type": "stream",
     "text": [
      "[[[0.99428439 0.55029412 0.85116612 0.35455142 0.36052048]\n",
      "  [0.98711882 0.33621617 0.14024759 0.9520209  0.56192887]\n",
      "  [0.50558128 0.81498364 0.68257089 0.79283975 0.585851  ]]\n",
      "\n",
      " [[0.94583409 0.78496935 0.65137686 0.48171637 0.33953227]\n",
      "  [0.03756035 0.78207508 0.43914859 0.7696495  0.90827717]\n",
      "  [0.98374978 0.0586469  0.45704703 0.43390727 0.39034568]]]\n"
     ]
    }
   ],
   "source": [
    "a = np.random.random(size = (2,3,5))\n",
    "\n",
    "print(a)"
   ]
  },
  {
   "cell_type": "markdown",
   "metadata": {},
   "source": [
    "#### 5. Create a 5x2x3 3-dimensional array with all values equaling 1. Assign the array to variable *b*.\n",
    "\n",
    "The outcome should look like:\n",
    "```python\n",
    "[[[ 1.  1.  1.]\n",
    "  [ 1.  1.  1.]]\n",
    "\n",
    " [[ 1.  1.  1.]\n",
    "  [ 1.  1.  1.]]\n",
    "\n",
    " [[ 1.  1.  1.]\n",
    "  [ 1.  1.  1.]]\n",
    "\n",
    " [[ 1.  1.  1.]\n",
    "  [ 1.  1.  1.]]\n",
    "\n",
    " [[ 1.  1.  1.]\n",
    "  [ 1.  1.  1.]]]\n",
    "```"
   ]
  },
  {
   "cell_type": "code",
   "execution_count": 7,
   "metadata": {},
   "outputs": [
    {
     "data": {
      "text/plain": [
       "array([[[1., 1., 1.],\n",
       "        [1., 1., 1.]],\n",
       "\n",
       "       [[1., 1., 1.],\n",
       "        [1., 1., 1.]],\n",
       "\n",
       "       [[1., 1., 1.],\n",
       "        [1., 1., 1.]],\n",
       "\n",
       "       [[1., 1., 1.],\n",
       "        [1., 1., 1.]],\n",
       "\n",
       "       [[1., 1., 1.],\n",
       "        [1., 1., 1.]]])"
      ]
     },
     "execution_count": 7,
     "metadata": {},
     "output_type": "execute_result"
    }
   ],
   "source": [
    "np.ones((5, 2, 3))"
   ]
  },
  {
   "cell_type": "markdown",
   "metadata": {},
   "source": [
    "#### 6. Print *b*.\n"
   ]
  },
  {
   "cell_type": "code",
   "execution_count": 8,
   "metadata": {},
   "outputs": [
    {
     "name": "stdout",
     "output_type": "stream",
     "text": [
      "[[[1. 1. 1.]\n",
      "  [1. 1. 1.]]\n",
      "\n",
      " [[1. 1. 1.]\n",
      "  [1. 1. 1.]]\n",
      "\n",
      " [[1. 1. 1.]\n",
      "  [1. 1. 1.]]\n",
      "\n",
      " [[1. 1. 1.]\n",
      "  [1. 1. 1.]]\n",
      "\n",
      " [[1. 1. 1.]\n",
      "  [1. 1. 1.]]]\n"
     ]
    }
   ],
   "source": [
    "b = np.ones((5, 2, 3))\n",
    "\n",
    "print(b)"
   ]
  },
  {
   "cell_type": "markdown",
   "metadata": {},
   "source": [
    "#### 7. Do *a* and *b* have the same size? How do you prove that in Python code?"
   ]
  },
  {
   "cell_type": "code",
   "execution_count": 9,
   "metadata": {},
   "outputs": [
    {
     "name": "stdout",
     "output_type": "stream",
     "text": [
      "a and b have different sizes\n"
     ]
    }
   ],
   "source": [
    "if a.shape == b.shape:\n",
    "    print (\"Both variable have the same size\")\n",
    "else:\n",
    "    print(\"a and b have different sizes\")\n",
    "\n"
   ]
  },
  {
   "cell_type": "markdown",
   "metadata": {},
   "source": [
    "#### 8. Are you able to add *a* and *b*? Why or why not?\n"
   ]
  },
  {
   "cell_type": "code",
   "execution_count": 10,
   "metadata": {},
   "outputs": [
    {
     "ename": "ValueError",
     "evalue": "operands could not be broadcast together with shapes (2,3,5) (5,2,3) ",
     "output_type": "error",
     "traceback": [
      "\u001b[0;31m---------------------------------------------------------------------------\u001b[0m",
      "\u001b[0;31mValueError\u001b[0m                                Traceback (most recent call last)",
      "\u001b[0;32m<ipython-input-10-0e536fffa253>\u001b[0m in \u001b[0;36m<module>\u001b[0;34m\u001b[0m\n\u001b[0;32m----> 1\u001b[0;31m \u001b[0mnp\u001b[0m\u001b[0;34m.\u001b[0m\u001b[0madd\u001b[0m\u001b[0;34m(\u001b[0m\u001b[0ma\u001b[0m\u001b[0;34m,\u001b[0m\u001b[0mb\u001b[0m\u001b[0;34m)\u001b[0m\u001b[0;34m\u001b[0m\u001b[0;34m\u001b[0m\u001b[0m\n\u001b[0m\u001b[1;32m      2\u001b[0m \u001b[0;34m\u001b[0m\u001b[0m\n\u001b[1;32m      3\u001b[0m \u001b[0;31m#We cannot add one array to another because they have different shapes.\u001b[0m\u001b[0;34m\u001b[0m\u001b[0;34m\u001b[0m\u001b[0;34m\u001b[0m\u001b[0m\n",
      "\u001b[0;31mValueError\u001b[0m: operands could not be broadcast together with shapes (2,3,5) (5,2,3) "
     ]
    }
   ],
   "source": [
    "np.add(a,b)\n",
    "\n",
    "#We cannot add one array to another because they have different shapes."
   ]
  },
  {
   "cell_type": "markdown",
   "metadata": {},
   "source": [
    "#### 9. Transpose *b* so that it has the same structure of *a* (i.e. become a 2x3x5 array). Assign the transposed array to variable *c*.\n",
    "\n",
    "**Hint**: search for `np.transpose`"
   ]
  },
  {
   "cell_type": "code",
   "execution_count": 11,
   "metadata": {},
   "outputs": [
    {
     "data": {
      "text/plain": [
       "array([[[1., 1., 1., 1., 1.],\n",
       "        [1., 1., 1., 1., 1.],\n",
       "        [1., 1., 1., 1., 1.]],\n",
       "\n",
       "       [[1., 1., 1., 1., 1.],\n",
       "        [1., 1., 1., 1., 1.],\n",
       "        [1., 1., 1., 1., 1.]]])"
      ]
     },
     "execution_count": 11,
     "metadata": {},
     "output_type": "execute_result"
    }
   ],
   "source": [
    "b.shape\n",
    "\n",
    "c=b.reshape(2,3,5)\n",
    "\n",
    "c.shape\n",
    "\n",
    "c\n",
    "#c = np.transpose(b) \n",
    "#print (c)\n",
    "#c.shape"
   ]
  },
  {
   "cell_type": "markdown",
   "metadata": {},
   "source": [
    "#### 10. Try to add *a* and *c*. Now it should work. Assign the sum to variable *d*. But why does it work now?"
   ]
  },
  {
   "cell_type": "code",
   "execution_count": 12,
   "metadata": {},
   "outputs": [
    {
     "data": {
      "text/plain": [
       "array([[[1.99428439, 1.55029412, 1.85116612, 1.35455142, 1.36052048],\n",
       "        [1.98711882, 1.33621617, 1.14024759, 1.9520209 , 1.56192887],\n",
       "        [1.50558128, 1.81498364, 1.68257089, 1.79283975, 1.585851  ]],\n",
       "\n",
       "       [[1.94583409, 1.78496935, 1.65137686, 1.48171637, 1.33953227],\n",
       "        [1.03756035, 1.78207508, 1.43914859, 1.7696495 , 1.90827717],\n",
       "        [1.98374978, 1.0586469 , 1.45704703, 1.43390727, 1.39034568]]])"
      ]
     },
     "execution_count": 12,
     "metadata": {},
     "output_type": "execute_result"
    }
   ],
   "source": [
    "d = np.add(c,a)\n",
    "d\n",
    "\n",
    "#Now that we reshaped b, both a and c have same shapes so we can add them."
   ]
  },
  {
   "cell_type": "markdown",
   "metadata": {},
   "source": [
    "#### 11. Print *a* and *d*. Notice the difference and relation of the two array in terms of the values? Explain."
   ]
  },
  {
   "cell_type": "code",
   "execution_count": 13,
   "metadata": {},
   "outputs": [
    {
     "name": "stdout",
     "output_type": "stream",
     "text": [
      "[[[0.99428439 0.55029412 0.85116612 0.35455142 0.36052048]\n",
      "  [0.98711882 0.33621617 0.14024759 0.9520209  0.56192887]\n",
      "  [0.50558128 0.81498364 0.68257089 0.79283975 0.585851  ]]\n",
      "\n",
      " [[0.94583409 0.78496935 0.65137686 0.48171637 0.33953227]\n",
      "  [0.03756035 0.78207508 0.43914859 0.7696495  0.90827717]\n",
      "  [0.98374978 0.0586469  0.45704703 0.43390727 0.39034568]]]\n",
      "------\n",
      "[[[1.99428439 1.55029412 1.85116612 1.35455142 1.36052048]\n",
      "  [1.98711882 1.33621617 1.14024759 1.9520209  1.56192887]\n",
      "  [1.50558128 1.81498364 1.68257089 1.79283975 1.585851  ]]\n",
      "\n",
      " [[1.94583409 1.78496935 1.65137686 1.48171637 1.33953227]\n",
      "  [1.03756035 1.78207508 1.43914859 1.7696495  1.90827717]\n",
      "  [1.98374978 1.0586469  1.45704703 1.43390727 1.39034568]]]\n"
     ]
    }
   ],
   "source": [
    "print(a)\n",
    "print(\"------\")\n",
    "print(d)"
   ]
  },
  {
   "cell_type": "markdown",
   "metadata": {},
   "source": [
    "#### 12. Multiply *a* and *c*. Assign the result to *e*."
   ]
  },
  {
   "cell_type": "code",
   "execution_count": 14,
   "metadata": {},
   "outputs": [
    {
     "data": {
      "text/plain": [
       "array([[[0.99428439, 0.55029412, 0.85116612, 0.35455142, 0.36052048],\n",
       "        [0.98711882, 0.33621617, 0.14024759, 0.9520209 , 0.56192887],\n",
       "        [0.50558128, 0.81498364, 0.68257089, 0.79283975, 0.585851  ]],\n",
       "\n",
       "       [[0.94583409, 0.78496935, 0.65137686, 0.48171637, 0.33953227],\n",
       "        [0.03756035, 0.78207508, 0.43914859, 0.7696495 , 0.90827717],\n",
       "        [0.98374978, 0.0586469 , 0.45704703, 0.43390727, 0.39034568]]])"
      ]
     },
     "execution_count": 14,
     "metadata": {},
     "output_type": "execute_result"
    }
   ],
   "source": [
    "# your code here\n",
    "\n",
    "e= np.multiply(a,c)\n",
    "\n",
    "e"
   ]
  },
  {
   "cell_type": "markdown",
   "metadata": {},
   "source": [
    "#### 13. Does *e* equal to *a*? Why or why not?\n"
   ]
  },
  {
   "cell_type": "code",
   "execution_count": 15,
   "metadata": {},
   "outputs": [
    {
     "data": {
      "text/plain": [
       "True"
      ]
     },
     "execution_count": 15,
     "metadata": {},
     "output_type": "execute_result"
    }
   ],
   "source": [
    "np.array_equal(a, e)\n",
    "\n",
    "# \"e\" equals to \"a\" because \"e\" is the product of \"a\" and \"c\". And since \"c\" has only values of 1 for each index, \"e\" and \"a\" are equals."
   ]
  },
  {
   "cell_type": "markdown",
   "metadata": {},
   "source": [
    "#### 14. Identify the max, min, and mean values in *d*. Assign those values to variables *d_max*, *d_min* and *d_mean*."
   ]
  },
  {
   "cell_type": "code",
   "execution_count": 16,
   "metadata": {},
   "outputs": [
    {
     "name": "stdout",
     "output_type": "stream",
     "text": [
      "The maximum value in d is:  1.9942843861693385\n",
      "The minimum value in d is:  1.0375603460009442\n",
      "The mean value of d is:  1.597800390453078\n"
     ]
    }
   ],
   "source": [
    "d_max = np.max(d)\n",
    "print(\"The maximum value in d is: \", d_max)\n",
    "d_min = np.min(d)\n",
    "print(\"The minimum value in d is: \", d_min)\n",
    "d_mean = np.mean(d)\n",
    "print(\"The mean value of d is: \", d_mean)\n",
    "\n"
   ]
  },
  {
   "cell_type": "markdown",
   "metadata": {},
   "source": [
    "#### 15. Now we want to label the values in *d*. First create an empty array *f* with the same shape (i.e. 2x3x5) as *d* using `np.empty`.\n"
   ]
  },
  {
   "cell_type": "code",
   "execution_count": 17,
   "metadata": {},
   "outputs": [],
   "source": [
    "# your code here\n",
    "f = np.empty((2,3,5))\n"
   ]
  },
  {
   "cell_type": "markdown",
   "metadata": {},
   "source": [
    "#### 16. Populate the values in *f*. \n",
    "\n",
    "For each value in *d*, if it's larger than *d_min* but smaller than *d_mean*, assign 25 to the corresponding value in *f*. If a value in *d* is larger than *d_mean* but smaller than *d_max*, assign 75 to the corresponding value in *f*. If a value equals to *d_mean*, assign 50 to the corresponding value in *f*. Assign 0 to the corresponding value(s) in *f* for *d_min* in *d*. Assign 100 to the corresponding value(s) in *f* for *d_max* in *d*. In the end, f should have only the following values: 0, 25, 50, 75, and 100.\n",
    "\n",
    "**Note**: you don't have to use Numpy in this question."
   ]
  },
  {
   "cell_type": "code",
   "execution_count": 18,
   "metadata": {},
   "outputs": [
    {
     "name": "stdout",
     "output_type": "stream",
     "text": [
      "[[[100  25  75  25  25]\n",
      "  [ 75  25  25  75  25]\n",
      "  [ 25  75  75  75  25]]\n",
      "\n",
      " [[ 75  75  75  25  25]\n",
      "  [  0  75  25  75  75]\n",
      "  [ 75  25  25  25  25]]]\n"
     ]
    }
   ],
   "source": [
    "f = 25 * (d > d_min) * (d < d_mean) + 75 * (d < d_max) * (d > d_mean) + 0 * (d == d_min) + 100 * (d == d_max) + 50 * (d == d_mean)\n",
    "print(f)\n"
   ]
  },
  {
   "cell_type": "markdown",
   "metadata": {},
   "source": [
    "#### 17. Print *d* and *f*. Do you have your expected *f*?\n",
    "For instance, if your *d* is:\n",
    "```python\n",
    "[[[1.85836099, 1.67064465, 1.62576044, 1.40243961, 1.88454931],\n",
    "[1.75354326, 1.69403643, 1.36729252, 1.61415071, 1.12104981],\n",
    "[1.72201435, 1.1862918 , 1.87078449, 1.7726778 , 1.88180042]],\n",
    "[[1.44747908, 1.31673383, 1.02000951, 1.52218947, 1.97066381],\n",
    "[1.79129243, 1.74983003, 1.96028037, 1.85166831, 1.65450881],\n",
    "[1.18068344, 1.9587381 , 1.00656599, 1.93402165, 1.73514584]]]\n",
    "```\n",
    "Your *f* should be:\n",
    "```python\n",
    "[[[ 75.,  75.,  75.,  25.,  75.],\n",
    "[ 75.,  75.,  25.,  25.,  25.],\n",
    "[ 75.,  25.,  75.,  75.,  75.]],\n",
    "[[ 25.,  25.,  25.,  25., 100.],\n",
    "[ 75.,  75.,  75.,  75.,  75.],\n",
    "[ 25.,  75.,   0.,  75.,  75.]]]\n",
    "```"
   ]
  },
  {
   "cell_type": "code",
   "execution_count": 19,
   "metadata": {},
   "outputs": [
    {
     "name": "stdout",
     "output_type": "stream",
     "text": [
      "[[[1.99428439 1.55029412 1.85116612 1.35455142 1.36052048]\n",
      "  [1.98711882 1.33621617 1.14024759 1.9520209  1.56192887]\n",
      "  [1.50558128 1.81498364 1.68257089 1.79283975 1.585851  ]]\n",
      "\n",
      " [[1.94583409 1.78496935 1.65137686 1.48171637 1.33953227]\n",
      "  [1.03756035 1.78207508 1.43914859 1.7696495  1.90827717]\n",
      "  [1.98374978 1.0586469  1.45704703 1.43390727 1.39034568]]]\n",
      "----------------------\n",
      "[[[100  25  75  25  25]\n",
      "  [ 75  25  25  75  25]\n",
      "  [ 25  75  75  75  25]]\n",
      "\n",
      " [[ 75  75  75  25  25]\n",
      "  [  0  75  25  75  75]\n",
      "  [ 75  25  25  25  25]]]\n"
     ]
    }
   ],
   "source": [
    "print(d)\n",
    "print(\"----------------------\")\n",
    "print(f)"
   ]
  },
  {
   "cell_type": "markdown",
   "metadata": {},
   "source": [
    "#### 18. Bonus question: instead of using numbers (i.e. 0, 25, 50, 75, and 100), use string values  (\"A\", \"B\", \"C\", \"D\", and \"E\") to label the array elements. For the example above, the expected result is:\n",
    "\n",
    "```python\n",
    "[[[ 'D',  'D',  'D',  'B',  'D'],\n",
    "[ 'D',  'D',  'B',  'B',  'B'],\n",
    "[ 'D',  'B',  'D',  'D',  'D']],\n",
    "[[ 'B',  'B',  'B',  'B',  'E'],\n",
    "[ 'D',  'D',  'D',  'D',  'D'],\n",
    "[ 'B',  'D',   'A',  'D', 'D']]]\n",
    "```\n",
    "**Note**: you don't have to use Numpy in this question."
   ]
  },
  {
   "cell_type": "code",
   "execution_count": null,
   "metadata": {},
   "outputs": [],
   "source": [
    "# your code here"
   ]
  }
 ],
 "metadata": {
  "kernelspec": {
   "display_name": "Python 3",
   "language": "python",
   "name": "python3"
  },
  "language_info": {
   "codemirror_mode": {
    "name": "ipython",
    "version": 3
   },
   "file_extension": ".py",
   "mimetype": "text/x-python",
   "name": "python",
   "nbconvert_exporter": "python",
   "pygments_lexer": "ipython3",
   "version": "3.8.5"
  }
 },
 "nbformat": 4,
 "nbformat_minor": 2
}
