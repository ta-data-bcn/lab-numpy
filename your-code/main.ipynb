{
 "cells": [
  {
   "cell_type": "markdown",
   "metadata": {},
   "source": [
    "# Intrduction to NumPy\n",
    "\n",
    "\n",
    "#### 1. Import NumPy under the name np."
   ]
  },
  {
   "cell_type": "code",
   "execution_count": 2,
   "metadata": {},
   "outputs": [],
   "source": [
    "import numpy as np"
   ]
  },
  {
   "cell_type": "markdown",
   "metadata": {},
   "source": [
    "#### 2. Print your NumPy version."
   ]
  },
  {
   "cell_type": "code",
   "execution_count": 6,
   "metadata": {},
   "outputs": [
    {
     "name": "stdout",
     "output_type": "stream",
     "text": [
      "1.19.0\n"
     ]
    }
   ],
   "source": [
    "np_version = print(np.__version__)"
   ]
  },
  {
   "cell_type": "markdown",
   "metadata": {},
   "source": [
    "#### 3. Generate a 2x3x5 3-dimensional array with random values. Assign the array to variable *a*.\n",
    "**Challenge**: there are at least three easy ways that use numpy to generate random arrays. How many ways can you find?"
   ]
  },
  {
   "cell_type": "code",
   "execution_count": 32,
   "metadata": {},
   "outputs": [
    {
     "data": {
      "text/plain": [
       "3"
      ]
     },
     "execution_count": 32,
     "metadata": {},
     "output_type": "execute_result"
    }
   ],
   "source": [
    "# Method 1\n",
    "\"\"\"This created a random list of two groups of two 3-dimensional lists with 5 columns\"\"\"\n",
    "a= np.random.random((2,3,5))\n",
    "a.ndim\n"
   ]
  },
  {
   "cell_type": "code",
   "execution_count": 35,
   "metadata": {},
   "outputs": [
    {
     "data": {
      "text/plain": [
       "3"
      ]
     },
     "execution_count": 35,
     "metadata": {},
     "output_type": "execute_result"
    }
   ],
   "source": [
    "# Method 2\n",
    "\n",
    "\"\"\"By using the randint we can select a random number between two integers and then select the shape\"\"\"\n",
    "a = np.random.randint(5,50,(2,3,5))\n",
    "a\n",
    "a.ndim"
   ]
  },
  {
   "cell_type": "code",
   "execution_count": 40,
   "metadata": {},
   "outputs": [
    {
     "data": {
      "text/plain": [
       "3"
      ]
     },
     "execution_count": 40,
     "metadata": {},
     "output_type": "execute_result"
    }
   ],
   "source": [
    "# Method 3\n",
    "\"\"\"This method creates a random matrix of float numbers and reshapes it into a 2 3 dimensional 5 column array\"\"\"\n",
    "a = np.random.rand(30).reshape(2,3,5)  \n",
    "a.ndim"
   ]
  },
  {
   "cell_type": "markdown",
   "metadata": {},
   "source": [
    "#### 4. Print *a*.\n"
   ]
  },
  {
   "cell_type": "code",
   "execution_count": 38,
   "metadata": {},
   "outputs": [
    {
     "name": "stdout",
     "output_type": "stream",
     "text": [
      "[[[0.79708427 0.81320964 0.64158891 0.95900034 0.01478775]\n",
      "  [0.61129186 0.36067081 0.32485572 0.7261816  0.47131421]\n",
      "  [0.50010735 0.23392815 0.794935   0.78736982 0.60420975]]\n",
      "\n",
      " [[0.70252923 0.95811149 0.79877154 0.45677712 0.56170485]\n",
      "  [0.35138884 0.64467772 0.42781976 0.82006743 0.14543153]\n",
      "  [0.67513473 0.91157225 0.64812304 0.2511772  0.0395953 ]]]\n"
     ]
    }
   ],
   "source": [
    "print(a)\n"
   ]
  },
  {
   "cell_type": "markdown",
   "metadata": {},
   "source": [
    "#### 5. Create a 5x2x3 3-dimensional array with all values equaling 1. Assign the array to variable *b*."
   ]
  },
  {
   "cell_type": "code",
   "execution_count": 52,
   "metadata": {},
   "outputs": [
    {
     "name": "stdout",
     "output_type": "stream",
     "text": [
      "[[[1. 1. 1.]\n",
      "  [1. 1. 1.]]\n",
      "\n",
      " [[1. 1. 1.]\n",
      "  [1. 1. 1.]]\n",
      "\n",
      " [[1. 1. 1.]\n",
      "  [1. 1. 1.]]\n",
      "\n",
      " [[1. 1. 1.]\n",
      "  [1. 1. 1.]]\n",
      "\n",
      " [[1. 1. 1.]\n",
      "  [1. 1. 1.]]]\n"
     ]
    },
    {
     "data": {
      "text/plain": [
       "3"
      ]
     },
     "execution_count": 52,
     "metadata": {},
     "output_type": "execute_result"
    }
   ],
   "source": [
    "\"\"\"This creates a full array of two 3-dimensional lists with columns \n",
    "np.full() method fills in a list of (x,y,z) groups,rows and columns with (w) number\"\"\"\n",
    "\"\"\"The method np.ones creates a matrix filled with float type 1s\"\"\"\n",
    "b = np.ones((5,2,3))\n",
    "print(b)\n",
    "b = np.full((5,2,3),(1))\n",
    "\n",
    "b.ndim"
   ]
  },
  {
   "cell_type": "markdown",
   "metadata": {},
   "source": [
    "#### 6. Print *b*.\n"
   ]
  },
  {
   "cell_type": "code",
   "execution_count": 50,
   "metadata": {},
   "outputs": [
    {
     "name": "stdout",
     "output_type": "stream",
     "text": [
      "[[[1 1 1]\n",
      "  [1 1 1]]\n",
      "\n",
      " [[1 1 1]\n",
      "  [1 1 1]]\n",
      "\n",
      " [[1 1 1]\n",
      "  [1 1 1]]\n",
      "\n",
      " [[1 1 1]\n",
      "  [1 1 1]]\n",
      "\n",
      " [[1 1 1]\n",
      "  [1 1 1]]]\n"
     ]
    }
   ],
   "source": [
    "print(b)"
   ]
  },
  {
   "cell_type": "markdown",
   "metadata": {},
   "source": [
    "#### 7. Do *a* and *b* have the same size? How do you prove that in Python code?"
   ]
  },
  {
   "cell_type": "code",
   "execution_count": 54,
   "metadata": {},
   "outputs": [
    {
     "name": "stdout",
     "output_type": "stream",
     "text": [
      "The size of array a is 30\n",
      "The size of array b is 30\n"
     ]
    }
   ],
   "source": [
    "#Calculating size of a \n",
    "size_a = print(\"The size of array a is\",a.size)\n",
    "#Calculating size of b\n",
    "size_b = print(\"The size of array b is\",b.size)"
   ]
  },
  {
   "cell_type": "markdown",
   "metadata": {},
   "source": [
    "#### 8. Are you able to add *a* and *b*? Why or why not?\n"
   ]
  },
  {
   "cell_type": "code",
   "execution_count": 57,
   "metadata": {},
   "outputs": [
    {
     "name": "stdout",
     "output_type": "stream",
     "text": [
      "(2, 3, 5)\n",
      "(5, 2, 3)\n"
     ]
    }
   ],
   "source": [
    "\"add_arrays = a + b\"\n",
    "\n",
    "#You can't add these two arrays because the arrays are shaped differently\n",
    "print(a.shape)\n",
    "print(b.shape)\n",
    "\n",
    "\"Array a has 3 rows and 5 columns whereas array b has 2 rows and 3 columns\""
   ]
  },
  {
   "cell_type": "markdown",
   "metadata": {},
   "source": [
    "#### 9. Transpose *b* so that it has the same structure of *a* (i.e. become a 2x3x5 array). Assign the transposed array to variable *c*."
   ]
  },
  {
   "cell_type": "code",
   "execution_count": 66,
   "metadata": {},
   "outputs": [
    {
     "data": {
      "text/plain": [
       "array([[[1, 1, 1, 1, 1],\n",
       "        [1, 1, 1, 1, 1],\n",
       "        [1, 1, 1, 1, 1]],\n",
       "\n",
       "       [[1, 1, 1, 1, 1],\n",
       "        [1, 1, 1, 1, 1],\n",
       "        [1, 1, 1, 1, 1]]])"
      ]
     },
     "execution_count": 66,
     "metadata": {},
     "output_type": "execute_result"
    }
   ],
   "source": [
    "c = b.reshape(2,3,5)\n",
    "c"
   ]
  },
  {
   "cell_type": "markdown",
   "metadata": {},
   "source": [
    "#### 10. Try to add *a* and *c*. Now it should work. Assign the sum to variable *d*. But why does it work now?"
   ]
  },
  {
   "cell_type": "code",
   "execution_count": 67,
   "metadata": {},
   "outputs": [
    {
     "data": {
      "text/plain": [
       "array([[[1.74008527, 1.88659995, 1.25745812, 1.72591603, 1.31664712],\n",
       "        [1.93775364, 1.40541509, 1.5364375 , 1.7708263 , 1.78951992],\n",
       "        [1.79085283, 1.10592725, 1.83424614, 1.2120466 , 1.87020324]],\n",
       "\n",
       "       [[1.79489272, 1.24617393, 1.16036919, 1.53403898, 1.07436013],\n",
       "        [1.60056173, 1.10975221, 1.67496149, 1.90810298, 1.52008868],\n",
       "        [1.4224789 , 1.14696622, 1.90790966, 1.45584167, 1.64826232]]])"
      ]
     },
     "execution_count": 67,
     "metadata": {},
     "output_type": "execute_result"
    }
   ],
   "source": [
    "d = a + c\n",
    "d\n",
    "\n",
    "#Now it works because we have reshaped b into a matrix with shape 2,3,5"
   ]
  },
  {
   "cell_type": "markdown",
   "metadata": {},
   "source": [
    "#### 11. Print *a* and *d*. Notice the difference and relation of the two array in terms of the values? Explain."
   ]
  },
  {
   "cell_type": "code",
   "execution_count": 64,
   "metadata": {},
   "outputs": [
    {
     "name": "stdout",
     "output_type": "stream",
     "text": [
      "[[[0.74008527 0.88659995 0.25745812 0.72591603 0.31664712]\n",
      "  [0.93775364 0.40541509 0.5364375  0.7708263  0.78951992]\n",
      "  [0.79085283 0.10592725 0.83424614 0.2120466  0.87020324]]\n",
      "\n",
      " [[0.79489272 0.24617393 0.16036919 0.53403898 0.07436013]\n",
      "  [0.60056173 0.10975221 0.67496149 0.90810298 0.52008868]\n",
      "  [0.4224789  0.14696622 0.90790966 0.45584167 0.64826232]]]\n",
      "[[[1.74008527 1.88659995 1.25745812 1.72591603 1.31664712]\n",
      "  [1.93775364 1.40541509 1.5364375  1.7708263  1.78951992]\n",
      "  [1.79085283 1.10592725 1.83424614 1.2120466  1.87020324]]\n",
      "\n",
      " [[1.79489272 1.24617393 1.16036919 1.53403898 1.07436013]\n",
      "  [1.60056173 1.10975221 1.67496149 1.90810298 1.52008868]\n",
      "  [1.4224789  1.14696622 1.90790966 1.45584167 1.64826232]]]\n"
     ]
    }
   ],
   "source": [
    "print(a)\n",
    "print(d)\n",
    "\n",
    "# Since array b was just filled with 1s, array d is just the same as array a but adding 1 to each of elements z in array a"
   ]
  },
  {
   "cell_type": "markdown",
   "metadata": {},
   "source": [
    "#### 12. Multiply *a* and *c*. Assign the result to *e*."
   ]
  },
  {
   "cell_type": "code",
   "execution_count": 68,
   "metadata": {},
   "outputs": [
    {
     "data": {
      "text/plain": [
       "array([[[0.74008527, 0.88659995, 0.25745812, 0.72591603, 0.31664712],\n",
       "        [0.93775364, 0.40541509, 0.5364375 , 0.7708263 , 0.78951992],\n",
       "        [0.79085283, 0.10592725, 0.83424614, 0.2120466 , 0.87020324]],\n",
       "\n",
       "       [[0.79489272, 0.24617393, 0.16036919, 0.53403898, 0.07436013],\n",
       "        [0.60056173, 0.10975221, 0.67496149, 0.90810298, 0.52008868],\n",
       "        [0.4224789 , 0.14696622, 0.90790966, 0.45584167, 0.64826232]]])"
      ]
     },
     "execution_count": 68,
     "metadata": {},
     "output_type": "execute_result"
    }
   ],
   "source": [
    "e = a*c\n",
    "e"
   ]
  },
  {
   "cell_type": "markdown",
   "metadata": {},
   "source": [
    "#### 13. Does *e* equal to *a*? Why or why not?\n"
   ]
  },
  {
   "cell_type": "code",
   "execution_count": 72,
   "metadata": {},
   "outputs": [
    {
     "name": "stdout",
     "output_type": "stream",
     "text": [
      "True\n"
     ]
    },
    {
     "data": {
      "text/plain": [
       "'They are equal because array c is filled with 1s therefore, \\n1 * x is always going to be x, therefore, all the elements are equal'"
      ]
     },
     "execution_count": 72,
     "metadata": {},
     "output_type": "execute_result"
    }
   ],
   "source": [
    "if a.all() == e.all():\n",
    "    print(True)\n",
    "    \n",
    "\"\"\"They are equal because array c is filled with 1s therefore, \n",
    "1 * x is always going to be x, therefore, all the elements are equal\"\"\"\n"
   ]
  },
  {
   "cell_type": "markdown",
   "metadata": {},
   "source": [
    "#### 14. Identify the max, min, and mean values in *d*. Assign those values to variables *d_max*, *d_min* and *d_mean*."
   ]
  },
  {
   "cell_type": "code",
   "execution_count": 76,
   "metadata": {},
   "outputs": [
    {
     "data": {
      "text/plain": [
       "('The max in d is',\n",
       " 1.9377536446136325,\n",
       " 'The minimum value in d is',\n",
       " 1.0743601330728247,\n",
       " 'The mean of all values in d is',\n",
       " 1.5461565276095013)"
      ]
     },
     "execution_count": 76,
     "metadata": {},
     "output_type": "execute_result"
    }
   ],
   "source": [
    "d_max = d.max()\n",
    "d_min = d.min()\n",
    "d_mean = d.mean()\n",
    "\n",
    "result= (\"The max in d is\",d_max, \"The minimum value in d is\", d_min, \"The mean of all values in d is\",d_mean)\n",
    "result"
   ]
  },
  {
   "cell_type": "markdown",
   "metadata": {},
   "source": [
    "#### 15. Now we want to label the values in *d*. First create an empty array *f* with the same shape (i.e. 2x3x5) as *d* using `np.empty`.\n"
   ]
  },
  {
   "cell_type": "code",
   "execution_count": 145,
   "metadata": {},
   "outputs": [
    {
     "data": {
      "text/plain": [
       "array([[['', '', '', '', ''],\n",
       "        ['', '', '', '', ''],\n",
       "        ['', '', '', '', '']],\n",
       "\n",
       "       [['', '', '', '', ''],\n",
       "        ['', '', '', '', ''],\n",
       "        ['', '', '', '', '']]], dtype='<U1')"
      ]
     },
     "execution_count": 145,
     "metadata": {},
     "output_type": "execute_result"
    }
   ],
   "source": [
    "f = np.empty((2,3,5), dtype=\"str\")\n",
    "\n",
    "\"\"\"empty, unlike zeros, does not set the array values to zero, \n",
    "and may therefore be marginally faster. On the other hand, \n",
    "it requires the user to manually set all the values in the array, and should be used with caution.\"\"\"\n",
    "\n",
    "f"
   ]
  },
  {
   "cell_type": "markdown",
   "metadata": {},
   "source": [
    "#### 16. Populate the values in *f*. \n",
    "\n",
    "For each value in *d*, if it's larger than *d_min* but smaller than *d_mean*, assign 25 to the corresponding value in *f*. If a value in *d* is larger than *d_mean* but smaller than *d_max*, assign 75 to the corresponding value in *f*. If a value equals to *d_mean*, assign 50 to the corresponding value in *f*. Assign 0 to the corresponding value(s) in *f* for *d_min* in *d*. Assign 100 to the corresponding value(s) in *f* for *d_max* in *d*. In the end, f should have only the following values: 0, 25, 50, 75, and 100.\n",
    "\n",
    "**Note**: you don't have to use Numpy in this question."
   ]
  },
  {
   "cell_type": "code",
   "execution_count": 146,
   "metadata": {},
   "outputs": [
    {
     "name": "stdout",
     "output_type": "stream",
     "text": [
      "[[['75' '75' '25' '75' '25']\n",
      "  ['100' '25' '25' '75' '75']\n",
      "  ['75' '25' '75' '25' '75']]\n",
      "\n",
      " [['75' '25' '25' '25' '0']\n",
      "  ['75' '25' '75' '75' '25']\n",
      "  ['25' '25' '75' '25' '75']]]\n"
     ]
    }
   ],
   "source": [
    "\"\"\"if any d[x,y,z] is > d_min and < d_mean then f[x,y,z] =25\n",
    "if any d[x,y,z] is > d_mean and < d_max then f[x,y,z] = 75\n",
    "if any d[x,y,z] is = d_mean then f[x,y,z] = 50\n",
    "if any d[x,y,z] is = d_min then f[x,y,z] = 0\n",
    "if any d[x,y,z] is = d_max then f[x,y,z] = 100\"\"\"\n",
    "\n",
    "\"\"\"for x in d:\n",
    "    for y in x:\n",
    "        for z in y:\n",
    "            if z > d_min and z < d_mean:\n",
    "                f[x,y,z]= 25\n",
    "print(f)\"\"\"\n",
    "  \n",
    "#Is there a way to not make it using np where? Could I concatenate this arguments?\n",
    "f = np.where((d > d_min) & (d < d_mean), 25, f)\n",
    "f = np.where((d > d_mean) & (d < d_max), 75, f)\n",
    "f = np.where((d == d_mean), 50, f)\n",
    "f = np.where((d == d_min), 0, f)\n",
    "f = np.where((d == d_max), 100, f)\n",
    "\n",
    "print(f)"
   ]
  },
  {
   "cell_type": "markdown",
   "metadata": {},
   "source": [
    "#### 17. Print *d* and *f*. Do you have your expected *f*?\n",
    "For instance, if your *d* is:\n",
    "```python\n",
    "[[[1.85836099, 1.67064465, 1.62576044, 1.40243961, 1.88454931],\n",
    "[1.75354326, 1.69403643, 1.36729252, 1.61415071, 1.12104981],\n",
    "[1.72201435, 1.1862918 , 1.87078449, 1.7726778 , 1.88180042]],\n",
    "[[1.44747908, 1.31673383, 1.02000951, 1.52218947, 1.97066381],\n",
    "[1.79129243, 1.74983003, 1.96028037, 1.85166831, 1.65450881],\n",
    "[1.18068344, 1.9587381 , 1.00656599, 1.93402165, 1.73514584]]]\n",
    "```\n",
    "Your *f* should be:\n",
    "```python\n",
    "[[[ 75.,  75.,  75.,  25.,  75.],\n",
    "[ 75.,  75.,  25.,  25.,  25.],\n",
    "[ 75.,  25.,  75.,  75.,  75.]],\n",
    "[[ 25.,  25.,  25.,  25., 100.],\n",
    "[ 75.,  75.,  75.,  75.,  75.],\n",
    "[ 25.,  75.,   0.,  75.,  75.]]]\n",
    "```"
   ]
  },
  {
   "cell_type": "code",
   "execution_count": 147,
   "metadata": {},
   "outputs": [
    {
     "name": "stdout",
     "output_type": "stream",
     "text": [
      "[[[1.74008527 1.88659995 1.25745812 1.72591603 1.31664712]\n",
      "  [1.93775364 1.40541509 1.5364375  1.7708263  1.78951992]\n",
      "  [1.79085283 1.10592725 1.83424614 1.2120466  1.87020324]]\n",
      "\n",
      " [[1.79489272 1.24617393 1.16036919 1.53403898 1.07436013]\n",
      "  [1.60056173 1.10975221 1.67496149 1.90810298 1.52008868]\n",
      "  [1.4224789  1.14696622 1.90790966 1.45584167 1.64826232]]]\n",
      "[[['75' '75' '25' '75' '25']\n",
      "  ['100' '25' '25' '75' '75']\n",
      "  ['75' '25' '75' '25' '75']]\n",
      "\n",
      " [['75' '25' '25' '25' '0']\n",
      "  ['75' '25' '75' '75' '25']\n",
      "  ['25' '25' '75' '25' '75']]]\n"
     ]
    }
   ],
   "source": [
    "print(d)\n",
    "print(f)\n",
    "\n",
    "\"I expected it to be numbers, but since the data type I selected for f is string, the numbers are just strings.\"\n",
    "\n"
   ]
  },
  {
   "cell_type": "markdown",
   "metadata": {},
   "source": [
    "#### 18. Bonus question: instead of using numbers (i.e. 0, 25, 50, 75, and 100), use string values  (\"A\", \"B\", \"C\", \"D\", and \"E\") to label the array elements. For the example above, the expected result is:\n",
    "\n",
    "```python\n",
    "[[[ 'D',  'D',  'D',  'B',  'D'],\n",
    "[ 'D',  'D',  'B',  'B',  'B'],\n",
    "[ 'D',  'B',  'D',  'D',  'D']],\n",
    "[[ 'B',  'B',  'B',  'B',  'E'],\n",
    "[ 'D',  'D',  'D',  'D',  'D'],\n",
    "[ 'B',  'D',   'A',  'D', 'D']]]\n",
    "```\n",
    "**Note**: you don't have to use Numpy in this question."
   ]
  },
  {
   "cell_type": "code",
   "execution_count": 152,
   "metadata": {},
   "outputs": [
    {
     "data": {
      "text/plain": [
       "array([[['B', 'B', 'A', 'B', 'A'],\n",
       "        ['E', 'A', 'A', 'B', 'B'],\n",
       "        ['B', 'A', 'B', 'A', 'B']],\n",
       "\n",
       "       [['B', 'A', 'A', 'A', 'D'],\n",
       "        ['B', 'A', 'B', 'B', 'A'],\n",
       "        ['A', 'A', 'B', 'A', 'B']]], dtype='<U3')"
      ]
     },
     "execution_count": 152,
     "metadata": {},
     "output_type": "execute_result"
    }
   ],
   "source": [
    "\"\"\"f = np.where((d > d_min) & (d < d_mean), \"E\", f)\n",
    "f = np.where((d > d_mean) & (d < d_max), \"D\", f)\n",
    "f = np.where((d == d_mean), \"C\", f)\n",
    "f = np.where((d == d_min), \"B\", f)\n",
    "f = np.where((d == d_max), \"A\", f)\"\"\"\n",
    "\n",
    "for n in f:\n",
    "    for y in n:\n",
    "        for z in y:\n",
    "            if z == \"0\" :\n",
    "                z = \"A\"\n",
    "            elif z == \"25\" :\n",
    "                z = \"B\"\n",
    "            elif z == \"50\" :\n",
    "                z = \"C\"\n",
    "            elif z == \"75\" :\n",
    "                z = \"D\"\n",
    "            elif z == \"100\" :\n",
    "                z = \"E\"\n",
    "            else: \n",
    "                z = \"False\"\n",
    "f\n"
   ]
  },
  {
   "cell_type": "code",
   "execution_count": null,
   "metadata": {},
   "outputs": [],
   "source": []
  }
 ],
 "metadata": {
  "kernelspec": {
   "display_name": "Python 3",
   "language": "python",
   "name": "python3"
  },
  "language_info": {
   "codemirror_mode": {
    "name": "ipython",
    "version": 3
   },
   "file_extension": ".py",
   "mimetype": "text/x-python",
   "name": "python",
   "nbconvert_exporter": "python",
   "pygments_lexer": "ipython3",
   "version": "3.8.2"
  }
 },
 "nbformat": 4,
 "nbformat_minor": 2
}
