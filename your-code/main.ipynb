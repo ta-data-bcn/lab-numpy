{
 "cells": [
  {
   "cell_type": "markdown",
   "metadata": {},
   "source": [
    "# Intrduction to NumPy\n",
    "\n",
    "\n",
    "#### 1. Import NumPy under the name np."
   ]
  },
  {
   "cell_type": "code",
   "execution_count": 1,
   "metadata": {},
   "outputs": [],
   "source": [
    "# your code here\n",
    "import numpy as np"
   ]
  },
  {
   "cell_type": "markdown",
   "metadata": {},
   "source": [
    "#### 2. Print your NumPy version."
   ]
  },
  {
   "cell_type": "code",
   "execution_count": 2,
   "metadata": {},
   "outputs": [
    {
     "data": {
      "text/plain": [
       "'1.18.5'"
      ]
     },
     "execution_count": 2,
     "metadata": {},
     "output_type": "execute_result"
    }
   ],
   "source": [
    "# your code here\n",
    "np.version.version"
   ]
  },
  {
   "cell_type": "markdown",
   "metadata": {},
   "source": [
    "#### 3. Generate a 2x3x5 3-dimensional array with random values. Assign the array to variable *a*.\n",
    "**Challenge**: there are at least three easy ways that use numpy to generate random arrays. How many ways can you find?\n",
    "**Hint**: look for `np.random` and search for functions you want to use.\n",
    "\n",
    "The outcomes should look like:\n",
    "```python\n",
    "array([[[ 0.00453782,  0.47251152,  0.65513617,  0.89370211,  0.91464052],\n",
    "        [ 0.35606786,  0.68149792,  0.37211451,  0.2493357 ,  0.66608051],\n",
    "        [ 0.71459267,  0.68722356,  0.20916865,  0.98338451,  0.28154909]],\n",
    "\n",
    "       [[ 0.83752622,  0.12378486,  0.77380373,  0.43270332,  0.26392168],\n",
    "        [ 0.02528723,  0.5352501 ,  0.35521185,  0.05175587,  0.64898055],\n",
    "        [ 0.52616383,  0.94453068,  0.17055731,  0.15094225,  0.63495276]]])\n",
    "```\n",
    "*The values do not need to be the same. Remember that you are creating random numbers.*"
   ]
  },
  {
   "cell_type": "code",
   "execution_count": 3,
   "metadata": {},
   "outputs": [],
   "source": [
    "# Method 1\n",
    "np.random.seed(8)\n",
    "a = np.random.random([2,3,5])"
   ]
  },
  {
   "cell_type": "code",
   "execution_count": 4,
   "metadata": {},
   "outputs": [
    {
     "data": {
      "text/plain": [
       "array([[[3, 4, 1, 9, 5],\n",
       "        [8, 3, 8, 0, 5],\n",
       "        [1, 3, 9, 2, 2]],\n",
       "\n",
       "       [[6, 8, 9, 3, 4],\n",
       "        [5, 5, 7, 9, 2],\n",
       "        [6, 9, 5, 1, 6]]])"
      ]
     },
     "execution_count": 4,
     "metadata": {},
     "output_type": "execute_result"
    }
   ],
   "source": [
    "# Method 2\n",
    "np.random.seed(8)\n",
    "np.random.randint(0, 10, [2, 3, 5])"
   ]
  },
  {
   "cell_type": "code",
   "execution_count": 5,
   "metadata": {},
   "outputs": [
    {
     "data": {
      "text/plain": [
       "array([[[ 2.36481887,  6.36513093, -5.78788124, -3.54539813,\n",
       "         -7.1859663 ],\n",
       "        [11.63933721,  8.91134467, 10.81822514,  5.17931056,\n",
       "          5.90568439],\n",
       "        [-2.73370859,  9.66545444, -2.4933072 , -0.65614188,\n",
       "          0.48656572]],\n",
       "\n",
       "       [[-1.16646109,  5.43819244,  1.07684402,  1.73735589,\n",
       "          1.16545506],\n",
       "        [ 7.38747428, -0.42781119,  1.30300715,  3.69620568,\n",
       "         -4.58396042],\n",
       "        [ 0.0658362 ,  4.141873  ,  6.66456195,  2.64673243,\n",
       "         -0.69133571]]])"
      ]
     },
     "execution_count": 5,
     "metadata": {},
     "output_type": "execute_result"
    }
   ],
   "source": [
    "# Method 3\n",
    "np.random.seed(8)\n",
    "np.random.normal(2, 4, [2, 3, 5])"
   ]
  },
  {
   "cell_type": "markdown",
   "metadata": {},
   "source": [
    "#### 4. Print *a*.\n"
   ]
  },
  {
   "cell_type": "code",
   "execution_count": 6,
   "metadata": {},
   "outputs": [
    {
     "data": {
      "text/plain": [
       "array([[[0.8734294 , 0.96854066, 0.86919454, 0.53085569, 0.23272833],\n",
       "        [0.0113988 , 0.43046882, 0.40235136, 0.52267467, 0.4783918 ],\n",
       "        [0.55535647, 0.54338602, 0.76089558, 0.71237457, 0.6196821 ]],\n",
       "\n",
       "       [[0.42609177, 0.28907503, 0.97385524, 0.33377405, 0.21880106],\n",
       "        [0.06580839, 0.98287055, 0.12785571, 0.32213079, 0.07094284],\n",
       "        [0.22476994, 0.39363491, 0.896145  , 0.34546161, 0.98474944]]])"
      ]
     },
     "execution_count": 6,
     "metadata": {},
     "output_type": "execute_result"
    }
   ],
   "source": [
    "# your code here\n",
    "a"
   ]
  },
  {
   "cell_type": "markdown",
   "metadata": {},
   "source": [
    "#### 5. Create a 5x2x3 3-dimensional array with all values equaling 1. Assign the array to variable *b*.\n",
    "\n",
    "The outcome should look like:\n",
    "```python\n",
    "[[[ 1.  1.  1.]\n",
    "  [ 1.  1.  1.]]\n",
    "\n",
    " [[ 1.  1.  1.]\n",
    "  [ 1.  1.  1.]]\n",
    "\n",
    " [[ 1.  1.  1.]\n",
    "  [ 1.  1.  1.]]\n",
    "\n",
    " [[ 1.  1.  1.]\n",
    "  [ 1.  1.  1.]]\n",
    "\n",
    " [[ 1.  1.  1.]\n",
    "  [ 1.  1.  1.]]]\n",
    "```"
   ]
  },
  {
   "cell_type": "code",
   "execution_count": 7,
   "metadata": {},
   "outputs": [],
   "source": [
    "# your code here\n",
    "b = np.ones([5, 2, 3])"
   ]
  },
  {
   "cell_type": "markdown",
   "metadata": {},
   "source": [
    "#### 6. Print *b*.\n"
   ]
  },
  {
   "cell_type": "code",
   "execution_count": 8,
   "metadata": {},
   "outputs": [
    {
     "data": {
      "text/plain": [
       "array([[[1., 1., 1.],\n",
       "        [1., 1., 1.]],\n",
       "\n",
       "       [[1., 1., 1.],\n",
       "        [1., 1., 1.]],\n",
       "\n",
       "       [[1., 1., 1.],\n",
       "        [1., 1., 1.]],\n",
       "\n",
       "       [[1., 1., 1.],\n",
       "        [1., 1., 1.]],\n",
       "\n",
       "       [[1., 1., 1.],\n",
       "        [1., 1., 1.]]])"
      ]
     },
     "execution_count": 8,
     "metadata": {},
     "output_type": "execute_result"
    }
   ],
   "source": [
    "# your code here\n",
    "b"
   ]
  },
  {
   "cell_type": "markdown",
   "metadata": {},
   "source": [
    "#### 7. Do *a* and *b* have the same size? How do you prove that in Python code?"
   ]
  },
  {
   "cell_type": "code",
   "execution_count": 9,
   "metadata": {},
   "outputs": [
    {
     "name": "stdout",
     "output_type": "stream",
     "text": [
      "A size is 30 and B size is 30.\n",
      "Their size is equal.\n"
     ]
    }
   ],
   "source": [
    "# your code here\n",
    "print(f\"A size is {a.size} and B size is {b.size}.\\nTheir size is equal.\")"
   ]
  },
  {
   "cell_type": "markdown",
   "metadata": {},
   "source": [
    "#### 8. Are you able to add *a* and *b*? Why or why not?\n"
   ]
  },
  {
   "cell_type": "code",
   "execution_count": 10,
   "metadata": {},
   "outputs": [
    {
     "name": "stdout",
     "output_type": "stream",
     "text": [
      "I can't add 'a' and 'b' because their shapes are different ([2,3,5] and [5,2,3] respectively) and returns a ValueError\n"
     ]
    }
   ],
   "source": [
    "# your answer here\n",
    "print(\"I can't add 'a' and 'b' because their shapes are different ([2,3,5] and [5,2,3] respectively) and returns a ValueError\")"
   ]
  },
  {
   "cell_type": "markdown",
   "metadata": {},
   "source": [
    "#### 9. Transpose *b* so that it has the same structure of *a* (i.e. become a 2x3x5 array). Assign the transposed array to variable *c*.\n",
    "\n",
    "**Hint**: search for `np.transpose`"
   ]
  },
  {
   "cell_type": "code",
   "execution_count": 11,
   "metadata": {
    "scrolled": false
   },
   "outputs": [],
   "source": [
    "# your code here\n",
    "c = b.reshape(2,3,5)"
   ]
  },
  {
   "cell_type": "markdown",
   "metadata": {},
   "source": [
    "#### 10. Try to add *a* and *c*. Now it should work. Assign the sum to variable *d*. But why does it work now?"
   ]
  },
  {
   "cell_type": "code",
   "execution_count": 12,
   "metadata": {},
   "outputs": [
    {
     "name": "stdout",
     "output_type": "stream",
     "text": [
      "It works because their shapes are equal.\n"
     ]
    },
    {
     "data": {
      "text/plain": [
       "array([[[1.8734294 , 1.96854066, 1.86919454, 1.53085569, 1.23272833],\n",
       "        [1.0113988 , 1.43046882, 1.40235136, 1.52267467, 1.4783918 ],\n",
       "        [1.55535647, 1.54338602, 1.76089558, 1.71237457, 1.6196821 ]],\n",
       "\n",
       "       [[1.42609177, 1.28907503, 1.97385524, 1.33377405, 1.21880106],\n",
       "        [1.06580839, 1.98287055, 1.12785571, 1.32213079, 1.07094284],\n",
       "        [1.22476994, 1.39363491, 1.896145  , 1.34546161, 1.98474944]]])"
      ]
     },
     "execution_count": 12,
     "metadata": {},
     "output_type": "execute_result"
    }
   ],
   "source": [
    "# your code/answer here\n",
    "d = a + c\n",
    "print(\"It works because their shapes are equal.\")\n",
    "d"
   ]
  },
  {
   "cell_type": "markdown",
   "metadata": {},
   "source": [
    "#### 11. Print *a* and *d*. Notice the difference and relation of the two array in terms of the values? Explain."
   ]
  },
  {
   "cell_type": "code",
   "execution_count": 13,
   "metadata": {},
   "outputs": [
    {
     "name": "stdout",
     "output_type": "stream",
     "text": [
      "[[[0.8734294  0.96854066 0.86919454 0.53085569 0.23272833]\n",
      "  [0.0113988  0.43046882 0.40235136 0.52267467 0.4783918 ]\n",
      "  [0.55535647 0.54338602 0.76089558 0.71237457 0.6196821 ]]\n",
      "\n",
      " [[0.42609177 0.28907503 0.97385524 0.33377405 0.21880106]\n",
      "  [0.06580839 0.98287055 0.12785571 0.32213079 0.07094284]\n",
      "  [0.22476994 0.39363491 0.896145   0.34546161 0.98474944]]]\n",
      "\n",
      "[[[1.8734294  1.96854066 1.86919454 1.53085569 1.23272833]\n",
      "  [1.0113988  1.43046882 1.40235136 1.52267467 1.4783918 ]\n",
      "  [1.55535647 1.54338602 1.76089558 1.71237457 1.6196821 ]]\n",
      "\n",
      " [[1.42609177 1.28907503 1.97385524 1.33377405 1.21880106]\n",
      "  [1.06580839 1.98287055 1.12785571 1.32213079 1.07094284]\n",
      "  [1.22476994 1.39363491 1.896145   1.34546161 1.98474944]]]\n",
      "\n",
      "All the numbers of 'd' are 1 more than the ones in 'a' due to the addition.\n"
     ]
    }
   ],
   "source": [
    "# your code/answer here\n",
    "print(f\"{a}\\n\\n{d}\\n\\nAll the numbers of 'd' are 1 more than the ones in 'a' due to the addition.\")"
   ]
  },
  {
   "cell_type": "markdown",
   "metadata": {},
   "source": [
    "#### 12. Multiply *a* and *c*. Assign the result to *e*."
   ]
  },
  {
   "cell_type": "code",
   "execution_count": 14,
   "metadata": {},
   "outputs": [],
   "source": [
    "# your code here\n",
    "e = a * c"
   ]
  },
  {
   "cell_type": "markdown",
   "metadata": {},
   "source": [
    "#### 13. Does *e* equal to *a*? Why or why not?\n"
   ]
  },
  {
   "cell_type": "code",
   "execution_count": 15,
   "metadata": {},
   "outputs": [
    {
     "name": "stdout",
     "output_type": "stream",
     "text": [
      "[[[0.8734294  0.96854066 0.86919454 0.53085569 0.23272833]\n",
      "  [0.0113988  0.43046882 0.40235136 0.52267467 0.4783918 ]\n",
      "  [0.55535647 0.54338602 0.76089558 0.71237457 0.6196821 ]]\n",
      "\n",
      " [[0.42609177 0.28907503 0.97385524 0.33377405 0.21880106]\n",
      "  [0.06580839 0.98287055 0.12785571 0.32213079 0.07094284]\n",
      "  [0.22476994 0.39363491 0.896145   0.34546161 0.98474944]]]\n",
      "\n",
      "[[[0.8734294  0.96854066 0.86919454 0.53085569 0.23272833]\n",
      "  [0.0113988  0.43046882 0.40235136 0.52267467 0.4783918 ]\n",
      "  [0.55535647 0.54338602 0.76089558 0.71237457 0.6196821 ]]\n",
      "\n",
      " [[0.42609177 0.28907503 0.97385524 0.33377405 0.21880106]\n",
      "  [0.06580839 0.98287055 0.12785571 0.32213079 0.07094284]\n",
      "  [0.22476994 0.39363491 0.896145   0.34546161 0.98474944]]]\n",
      "\n",
      " They're equal because all the numbers in 'c' are 1, so the product will be the same as 'a'.\n"
     ]
    }
   ],
   "source": [
    "# your code/answer here\n",
    "print(f\"{a}\\n\\n{e}\\n\\n They're equal because all the numbers in 'c' are 1, so the product will be the same as 'a'.\")"
   ]
  },
  {
   "cell_type": "markdown",
   "metadata": {},
   "source": [
    "#### 14. Identify the max, min, and mean values in *d*. Assign those values to variables *d_max*, *d_min* and *d_mean*."
   ]
  },
  {
   "cell_type": "code",
   "execution_count": 16,
   "metadata": {},
   "outputs": [
    {
     "name": "stdout",
     "output_type": "stream",
     "text": [
      "D_MAX: 1.9847494372852714\n",
      "D_MIN: 1.0113988042774298\n",
      "D_MEAN: 1.5055898383865285\n"
     ]
    }
   ],
   "source": [
    "# your code here\n",
    "d_max = np.max(d)\n",
    "print(f\"D_MAX: {d_max}\")\n",
    "d_min = np.min(d)\n",
    "print(f\"D_MIN: {d_min}\")\n",
    "d_mean = np.mean(d)\n",
    "print(f\"D_MEAN: {d_mean}\") "
   ]
  },
  {
   "cell_type": "markdown",
   "metadata": {},
   "source": [
    "#### 15. Now we want to label the values in *d*. First create an empty array *f* with the same shape (i.e. 2x3x5) as *d* using `np.empty`.\n"
   ]
  },
  {
   "cell_type": "code",
   "execution_count": 17,
   "metadata": {},
   "outputs": [
    {
     "data": {
      "text/plain": [
       "array([[[0.8734294 , 0.96854066, 0.86919454, 0.53085569, 0.23272833],\n",
       "        [0.0113988 , 0.43046882, 0.40235136, 0.52267467, 0.4783918 ],\n",
       "        [0.55535647, 0.54338602, 0.76089558, 0.71237457, 0.6196821 ]],\n",
       "\n",
       "       [[0.42609177, 0.28907503, 0.97385524, 0.33377405, 0.21880106],\n",
       "        [0.06580839, 0.98287055, 0.12785571, 0.32213079, 0.07094284],\n",
       "        [0.22476994, 0.39363491, 0.896145  , 0.34546161, 0.98474944]]])"
      ]
     },
     "execution_count": 17,
     "metadata": {},
     "output_type": "execute_result"
    }
   ],
   "source": [
    "# your code here\n",
    "f = np.empty([2,3,5])\n",
    "f"
   ]
  },
  {
   "cell_type": "markdown",
   "metadata": {},
   "source": [
    "#### 16. Populate the values in *f*. \n",
    "\n",
    "For each value in *d*, if it's larger than *d_min* but smaller than *d_mean*, assign 25 to the corresponding value in *f*. If a value in *d* is larger than *d_mean* but smaller than *d_max*, assign 75 to the corresponding value in *f*. If a value equals to *d_mean*, assign 50 to the corresponding value in *f*. Assign 0 to the corresponding value(s) in *f* for *d_min* in *d*. Assign 100 to the corresponding value(s) in *f* for *d_max* in *d*. In the end, f should have only the following values: 0, 25, 50, 75, and 100.\n",
    "\n",
    "**Note**: you don't have to use Numpy in this question."
   ]
  },
  {
   "cell_type": "code",
   "execution_count": 19,
   "metadata": {},
   "outputs": [],
   "source": [
    "# your code here\n",
    "for i, a in enumerate(d):\n",
    "    for j, b in enumerate(a):\n",
    "        for k, c in enumerate(b):\n",
    "            if (c > d_min) and (c < d_mean):\n",
    "                f[i][j][k] = 25\n",
    "            elif (c > d_mean) and (c < d_max):\n",
    "                f[i][j][k] = 75\n",
    "            elif c == d_mean:\n",
    "                f[i][j][k] = 50\n",
    "            elif c == d_min:\n",
    "                f[i][j][k] = 0\n",
    "            else:\n",
    "                f[i][j][k] = 100"
   ]
  },
  {
   "cell_type": "markdown",
   "metadata": {},
   "source": [
    "#### 17. Print *d* and *f*. Do you have your expected *f*?\n",
    "For instance, if your *d* is:\n",
    "```python\n",
    "[[[1.85836099, 1.67064465, 1.62576044, 1.40243961, 1.88454931],\n",
    "[1.75354326, 1.69403643, 1.36729252, 1.61415071, 1.12104981],\n",
    "[1.72201435, 1.1862918 , 1.87078449, 1.7726778 , 1.88180042]],\n",
    "[[1.44747908, 1.31673383, 1.02000951, 1.52218947, 1.97066381],\n",
    "[1.79129243, 1.74983003, 1.96028037, 1.85166831, 1.65450881],\n",
    "[1.18068344, 1.9587381 , 1.00656599, 1.93402165, 1.73514584]]]\n",
    "```\n",
    "Your *f* should be:\n",
    "```python\n",
    "[[[ 75.,  75.,  75.,  25.,  75.],\n",
    "[ 75.,  75.,  25.,  25.,  25.],\n",
    "[ 75.,  25.,  75.,  75.,  75.]],\n",
    "[[ 25.,  25.,  25.,  25., 100.],\n",
    "[ 75.,  75.,  75.,  75.,  75.],\n",
    "[ 25.,  75.,   0.,  75.,  75.]]]\n",
    "```"
   ]
  },
  {
   "cell_type": "code",
   "execution_count": 20,
   "metadata": {},
   "outputs": [
    {
     "name": "stdout",
     "output_type": "stream",
     "text": [
      "[[[1.8734294  1.96854066 1.86919454 1.53085569 1.23272833]\n",
      "  [1.0113988  1.43046882 1.40235136 1.52267467 1.4783918 ]\n",
      "  [1.55535647 1.54338602 1.76089558 1.71237457 1.6196821 ]]\n",
      "\n",
      " [[1.42609177 1.28907503 1.97385524 1.33377405 1.21880106]\n",
      "  [1.06580839 1.98287055 1.12785571 1.32213079 1.07094284]\n",
      "  [1.22476994 1.39363491 1.896145   1.34546161 1.98474944]]]\n",
      "\n",
      "[[[ 75.  75.  75.  75.  25.]\n",
      "  [  0.  25.  25.  75.  25.]\n",
      "  [ 75.  75.  75.  75.  75.]]\n",
      "\n",
      " [[ 25.  25.  75.  25.  25.]\n",
      "  [ 25.  75.  25.  25.  25.]\n",
      "  [ 25.  25.  75.  25. 100.]]]\n"
     ]
    }
   ],
   "source": [
    "# your code here\n",
    "print(f\"{d}\\n\\n{f}\")"
   ]
  },
  {
   "cell_type": "markdown",
   "metadata": {},
   "source": [
    "#### 18. Bonus question: instead of using numbers (i.e. 0, 25, 50, 75, and 100), use string values  (\"A\", \"B\", \"C\", \"D\", and \"E\") to label the array elements. For the example above, the expected result is:\n",
    "\n",
    "```python\n",
    "[[[ 'D',  'D',  'D',  'B',  'D'],\n",
    "[ 'D',  'D',  'B',  'B',  'B'],\n",
    "[ 'D',  'B',  'D',  'D',  'D']],\n",
    "[[ 'B',  'B',  'B',  'B',  'E'],\n",
    "[ 'D',  'D',  'D',  'D',  'D'],\n",
    "[ 'B',  'D',   'A',  'D', 'D']]]\n",
    "```\n",
    "**Note**: you don't have to use Numpy in this question."
   ]
  },
  {
   "cell_type": "code",
   "execution_count": 27,
   "metadata": {},
   "outputs": [
    {
     "name": "stdout",
     "output_type": "stream",
     "text": [
      "[[['75.0' '75.0' '75.0' '75.0' '25.0']\n",
      "  ['0.0' '25.0' '25.0' '75.0' '25.0']\n",
      "  ['75.0' '75.0' '75.0' '75.0' '75.0']]\n",
      "\n",
      " [['25.0' '25.0' '75.0' '25.0' '25.0']\n",
      "  ['25.0' '75.0' '25.0' '25.0' '25.0']\n",
      "  ['25.0' '25.0' '75.0' '25.0' '100.0']]]\n"
     ]
    }
   ],
   "source": [
    "print(f)"
   ]
  },
  {
   "cell_type": "code",
   "execution_count": 29,
   "metadata": {
    "scrolled": true
   },
   "outputs": [],
   "source": [
    "f = f.astype(str)"
   ]
  },
  {
   "cell_type": "code",
   "execution_count": 34,
   "metadata": {},
   "outputs": [
    {
     "name": "stdout",
     "output_type": "stream",
     "text": [
      "[[['D' 'D' 'D' 'D' 'B']\n",
      "  ['A' 'B' 'B' 'D' 'B']\n",
      "  ['D' 'D' 'D' 'D' 'D']]\n",
      "\n",
      " [['B' 'B' 'D' 'B' 'B']\n",
      "  ['B' 'D' 'B' 'B' 'B']\n",
      "  ['B' 'B' 'D' 'B' 'E']]]\n"
     ]
    }
   ],
   "source": [
    "# your code here\n",
    "for i, a in enumerate(d):\n",
    "    for j, b in enumerate(a):\n",
    "        for k, c in enumerate(b):\n",
    "            if (c > d_min) and (c < d_mean):\n",
    "                f[i][j][k] = \"B\"\n",
    "            elif (c > d_mean) and (c < d_max):\n",
    "                f[i][j][k] = \"D\"\n",
    "            elif c == d_mean:\n",
    "                f[i][j][k] = \"C\"\n",
    "            elif c == d_min:\n",
    "                f[i][j][k] = \"A\"\n",
    "            else:\n",
    "                f[i][j][k] = \"E\"\n",
    "print(f)"
   ]
  }
 ],
 "metadata": {
  "kernelspec": {
   "display_name": "Python 3",
   "language": "python",
   "name": "python3"
  },
  "language_info": {
   "codemirror_mode": {
    "name": "ipython",
    "version": 3
   },
   "file_extension": ".py",
   "mimetype": "text/x-python",
   "name": "python",
   "nbconvert_exporter": "python",
   "pygments_lexer": "ipython3",
   "version": "3.8.3"
  }
 },
 "nbformat": 4,
 "nbformat_minor": 2
}
