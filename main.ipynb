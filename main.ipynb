{
 "cells": [
  {
   "cell_type": "markdown",
   "metadata": {},
   "source": [
    "# Intrduction to NumPy\n",
    "\n",
    "\n",
    "#### 1. Import NumPy under the name np."
   ]
  },
  {
   "cell_type": "code",
   "execution_count": 2,
   "metadata": {},
   "outputs": [],
   "source": [
    "# your code here\n",
    "import numpy as np"
   ]
  },
  {
   "cell_type": "markdown",
   "metadata": {},
   "source": [
    "#### 2. Print your NumPy version."
   ]
  },
  {
   "cell_type": "code",
   "execution_count": 3,
   "metadata": {},
   "outputs": [
    {
     "name": "stdout",
     "output_type": "stream",
     "text": [
      "1.19.2\n"
     ]
    }
   ],
   "source": [
    "# your code here\n",
    "print(np.__version__)"
   ]
  },
  {
   "cell_type": "markdown",
   "metadata": {},
   "source": [
    "#### 3. Generate a 2x3x5 3-dimensional array with random values. Assign the array to variable *a*.\n",
    "**Challenge**: there are at least three easy ways that use numpy to generate random arrays. How many ways can you find?"
   ]
  },
  {
   "cell_type": "code",
   "execution_count": 20,
   "metadata": {},
   "outputs": [],
   "source": [
    "# Method 1\n",
    "a=np.random.random((2,3,5,))"
   ]
  },
  {
   "cell_type": "code",
   "execution_count": 34,
   "metadata": {},
   "outputs": [
    {
     "data": {
      "text/plain": [
       "array([[[3.44736653e-01, 9.40107482e-01, 5.82014180e-01, 8.78831984e-01,\n",
       "         8.44734445e-01],\n",
       "        [9.05392319e-01, 4.59880266e-01, 5.46346816e-01, 7.98603591e-01,\n",
       "         2.85718852e-01],\n",
       "        [4.90253523e-01, 5.99110308e-01, 1.55332756e-02, 5.93481408e-01,\n",
       "         4.33676349e-01]],\n",
       "\n",
       "       [[8.07360529e-01, 3.15244803e-01, 8.92888709e-01, 5.77857215e-01,\n",
       "         1.84010202e-01],\n",
       "        [7.87929234e-01, 6.12031177e-01, 5.39092721e-02, 4.20193680e-01,\n",
       "         6.79068837e-01],\n",
       "        [9.18601778e-01, 4.02024891e-04, 9.76759149e-01, 3.76580315e-01,\n",
       "         9.73783538e-01]]])"
      ]
     },
     "execution_count": 34,
     "metadata": {},
     "output_type": "execute_result"
    }
   ],
   "source": [
    "# Method 2\n",
    "np.random.rand(2,3,5,)"
   ]
  },
  {
   "cell_type": "code",
   "execution_count": 37,
   "metadata": {},
   "outputs": [
    {
     "data": {
      "text/plain": [
       "array([[3, 2, 2],\n",
       "       [2, 4, 3],\n",
       "       [4, 4, 2]])"
      ]
     },
     "execution_count": 37,
     "metadata": {},
     "output_type": "execute_result"
    }
   ],
   "source": [
    "# Method 3\n",
    "np.random.randint(2,5,(3,3))"
   ]
  },
  {
   "cell_type": "markdown",
   "metadata": {},
   "source": [
    "#### 4. Print *a*.\n"
   ]
  },
  {
   "cell_type": "code",
   "execution_count": 21,
   "metadata": {},
   "outputs": [
    {
     "data": {
      "text/plain": [
       "array([[[0.90781585, 0.93197207, 0.01395157, 0.23436209, 0.61677836],\n",
       "        [0.94901632, 0.95017612, 0.55665319, 0.91560635, 0.64156621],\n",
       "        [0.39000771, 0.48599067, 0.60431048, 0.54954792, 0.92618143]],\n",
       "\n",
       "       [[0.91873344, 0.39487561, 0.96326253, 0.17395567, 0.12632952],\n",
       "        [0.13507916, 0.50566217, 0.02152481, 0.94797021, 0.82711547],\n",
       "        [0.01501898, 0.17619626, 0.33206357, 0.13099684, 0.80949069]]])"
      ]
     },
     "execution_count": 21,
     "metadata": {},
     "output_type": "execute_result"
    }
   ],
   "source": [
    "# your code here\n",
    "a"
   ]
  },
  {
   "cell_type": "markdown",
   "metadata": {},
   "source": [
    "#### 5. Create a 5x2x3 3-dimensional array with all values equaling 1. Assign the array to variable *b*."
   ]
  },
  {
   "cell_type": "code",
   "execution_count": 19,
   "metadata": {},
   "outputs": [],
   "source": [
    "# your code here\n",
    "b=np.ones([5,2,3])"
   ]
  },
  {
   "cell_type": "markdown",
   "metadata": {},
   "source": [
    "#### 6. Print *b*.\n"
   ]
  },
  {
   "cell_type": "code",
   "execution_count": 22,
   "metadata": {},
   "outputs": [
    {
     "data": {
      "text/plain": [
       "array([[[1., 1., 1.],\n",
       "        [1., 1., 1.]],\n",
       "\n",
       "       [[1., 1., 1.],\n",
       "        [1., 1., 1.]],\n",
       "\n",
       "       [[1., 1., 1.],\n",
       "        [1., 1., 1.]],\n",
       "\n",
       "       [[1., 1., 1.],\n",
       "        [1., 1., 1.]],\n",
       "\n",
       "       [[1., 1., 1.],\n",
       "        [1., 1., 1.]]])"
      ]
     },
     "execution_count": 22,
     "metadata": {},
     "output_type": "execute_result"
    }
   ],
   "source": [
    "# your code here\n",
    "b"
   ]
  },
  {
   "cell_type": "markdown",
   "metadata": {},
   "source": [
    "#### 7. Do *a* and *b* have the same size? How do you prove that in Python code?"
   ]
  },
  {
   "cell_type": "code",
   "execution_count": 23,
   "metadata": {},
   "outputs": [
    {
     "data": {
      "text/plain": [
       "30"
      ]
     },
     "execution_count": 23,
     "metadata": {},
     "output_type": "execute_result"
    }
   ],
   "source": [
    "# your code here\n",
    "a.size"
   ]
  },
  {
   "cell_type": "code",
   "execution_count": 24,
   "metadata": {},
   "outputs": [
    {
     "data": {
      "text/plain": [
       "30"
      ]
     },
     "execution_count": 24,
     "metadata": {},
     "output_type": "execute_result"
    }
   ],
   "source": [
    "b.size\n",
    "#they have the same size"
   ]
  },
  {
   "cell_type": "markdown",
   "metadata": {},
   "source": [
    "#### 8. Are you able to add *a* and *b*? Why or why not?\n"
   ]
  },
  {
   "cell_type": "code",
   "execution_count": 26,
   "metadata": {},
   "outputs": [
    {
     "ename": "ValueError",
     "evalue": "operands could not be broadcast together with shapes (2,3,5) (5,2,3) ",
     "output_type": "error",
     "traceback": [
      "\u001b[0;31m---------------------------------------------------------------------------\u001b[0m",
      "\u001b[0;31mValueError\u001b[0m                                Traceback (most recent call last)",
      "\u001b[0;32m<ipython-input-26-23389a46624f>\u001b[0m in \u001b[0;36m<module>\u001b[0;34m\u001b[0m\n\u001b[1;32m      1\u001b[0m \u001b[0;31m# your answer here\u001b[0m\u001b[0;34m\u001b[0m\u001b[0;34m\u001b[0m\u001b[0;34m\u001b[0m\u001b[0m\n\u001b[0;32m----> 2\u001b[0;31m \u001b[0mnp\u001b[0m\u001b[0;34m.\u001b[0m\u001b[0marray\u001b[0m\u001b[0;34m(\u001b[0m\u001b[0ma\u001b[0m\u001b[0;34m)\u001b[0m\u001b[0;34m+\u001b[0m\u001b[0mnp\u001b[0m\u001b[0;34m.\u001b[0m\u001b[0marray\u001b[0m\u001b[0;34m(\u001b[0m\u001b[0mb\u001b[0m\u001b[0;34m)\u001b[0m\u001b[0;34m\u001b[0m\u001b[0;34m\u001b[0m\u001b[0m\n\u001b[0m",
      "\u001b[0;31mValueError\u001b[0m: operands could not be broadcast together with shapes (2,3,5) (5,2,3) "
     ]
    }
   ],
   "source": [
    "# your answer here\n",
    "np.array(a)+np.array(b)\n",
    "#operands could not be broadcast together with shapes (2,3,5) (5,2,3) "
   ]
  },
  {
   "cell_type": "markdown",
   "metadata": {},
   "source": [
    "#### 9. Transpose *b* so that it has the same structure of *a* (i.e. become a 2x3x5 array). Assign the transposed array to variable *c*."
   ]
  },
  {
   "cell_type": "code",
   "execution_count": 40,
   "metadata": {},
   "outputs": [
    {
     "data": {
      "text/plain": [
       "array([[1, 2, 3],\n",
       "       [4, 5, 6],\n",
       "       [7, 8, 9]])"
      ]
     },
     "execution_count": 40,
     "metadata": {},
     "output_type": "execute_result"
    }
   ],
   "source": [
    "np.arange(1,10).reshape(3,3)"
   ]
  },
  {
   "cell_type": "code",
   "execution_count": 41,
   "metadata": {},
   "outputs": [],
   "source": [
    "c=b.reshape(2,3,5)"
   ]
  },
  {
   "cell_type": "markdown",
   "metadata": {},
   "source": [
    "#### 10. Try to add *a* and *c*. Now it should work. Assign the sum to variable *d*. But why does it work now?"
   ]
  },
  {
   "cell_type": "code",
   "execution_count": 42,
   "metadata": {},
   "outputs": [],
   "source": [
    "# your code/answer here\n",
    "d=np.array(a)+np.array(c)\n",
    "#they have the same shape"
   ]
  },
  {
   "cell_type": "markdown",
   "metadata": {},
   "source": [
    "#### 11. Print *a* and *d*. Notice the difference and relation of the two array in terms of the values? Explain."
   ]
  },
  {
   "cell_type": "code",
   "execution_count": 45,
   "metadata": {},
   "outputs": [
    {
     "data": {
      "text/plain": [
       "array([[[1.90781585, 1.93197207, 1.01395157, 1.23436209, 1.61677836],\n",
       "        [1.94901632, 1.95017612, 1.55665319, 1.91560635, 1.64156621],\n",
       "        [1.39000771, 1.48599067, 1.60431048, 1.54954792, 1.92618143]],\n",
       "\n",
       "       [[1.91873344, 1.39487561, 1.96326253, 1.17395567, 1.12632952],\n",
       "        [1.13507916, 1.50566217, 1.02152481, 1.94797021, 1.82711547],\n",
       "        [1.01501898, 1.17619626, 1.33206357, 1.13099684, 1.80949069]]])"
      ]
     },
     "execution_count": 45,
     "metadata": {},
     "output_type": "execute_result"
    }
   ],
   "source": [
    "# your code/answer here\n",
    "d"
   ]
  },
  {
   "cell_type": "code",
   "execution_count": 48,
   "metadata": {},
   "outputs": [],
   "source": [
    "# d is a sum of a and c"
   ]
  },
  {
   "cell_type": "markdown",
   "metadata": {},
   "source": [
    "#### 12. Multiply *a* and *c*. Assign the result to *e*."
   ]
  },
  {
   "cell_type": "code",
   "execution_count": 49,
   "metadata": {},
   "outputs": [],
   "source": [
    "# your code here\n",
    "e=np.array(a)+np.array(c)"
   ]
  },
  {
   "cell_type": "markdown",
   "metadata": {},
   "source": [
    "#### 13. Does *e* equal to *a*? Why or why not?\n"
   ]
  },
  {
   "cell_type": "code",
   "execution_count": 50,
   "metadata": {},
   "outputs": [
    {
     "data": {
      "text/plain": [
       "(2, 3, 5)"
      ]
     },
     "execution_count": 50,
     "metadata": {},
     "output_type": "execute_result"
    }
   ],
   "source": [
    "# your code/answer here\n",
    "a.shape"
   ]
  },
  {
   "cell_type": "code",
   "execution_count": 51,
   "metadata": {},
   "outputs": [
    {
     "data": {
      "text/plain": [
       "(2, 3, 5)"
      ]
     },
     "execution_count": 51,
     "metadata": {},
     "output_type": "execute_result"
    }
   ],
   "source": [
    "e.shape"
   ]
  },
  {
   "cell_type": "code",
   "execution_count": 52,
   "metadata": {},
   "outputs": [
    {
     "data": {
      "text/plain": [
       "30"
      ]
     },
     "execution_count": 52,
     "metadata": {},
     "output_type": "execute_result"
    }
   ],
   "source": [
    "a.size"
   ]
  },
  {
   "cell_type": "code",
   "execution_count": 53,
   "metadata": {},
   "outputs": [
    {
     "data": {
      "text/plain": [
       "30"
      ]
     },
     "execution_count": 53,
     "metadata": {},
     "output_type": "execute_result"
    }
   ],
   "source": [
    "b.size"
   ]
  },
  {
   "cell_type": "code",
   "execution_count": 54,
   "metadata": {},
   "outputs": [
    {
     "name": "stdout",
     "output_type": "stream",
     "text": [
      "False\n"
     ]
    }
   ],
   "source": [
    "comparison = a==e\n",
    "equal_arrays = comparison.all()\n",
    "\n",
    "print(equal_arrays)\n",
    "#they are not equal"
   ]
  },
  {
   "cell_type": "markdown",
   "metadata": {},
   "source": [
    "#### 14. Identify the max, min, and mean values in *d*. Assign those values to variables *d_max*, *d_min* and *d_mean*."
   ]
  },
  {
   "cell_type": "code",
   "execution_count": 61,
   "metadata": {},
   "outputs": [
    {
     "data": {
      "text/plain": [
       "array([[[1.90781585, 1.93197207, 1.01395157, 1.23436209, 1.61677836],\n",
       "        [1.94901632, 1.95017612, 1.55665319, 1.91560635, 1.64156621],\n",
       "        [1.39000771, 1.48599067, 1.60431048, 1.54954792, 1.92618143]],\n",
       "\n",
       "       [[1.91873344, 1.39487561, 1.96326253, 1.17395567, 1.12632952],\n",
       "        [1.13507916, 1.50566217, 1.02152481, 1.94797021, 1.82711547],\n",
       "        [1.01501898, 1.17619626, 1.33206357, 1.13099684, 1.80949069]]])"
      ]
     },
     "execution_count": 61,
     "metadata": {},
     "output_type": "execute_result"
    }
   ],
   "source": [
    "d"
   ]
  },
  {
   "cell_type": "code",
   "execution_count": 57,
   "metadata": {},
   "outputs": [
    {
     "data": {
      "text/plain": [
       "1.013951572975597"
      ]
     },
     "execution_count": 57,
     "metadata": {},
     "output_type": "execute_result"
    }
   ],
   "source": [
    "d_min=d.min()\n",
    "d_min"
   ]
  },
  {
   "cell_type": "code",
   "execution_count": 82,
   "metadata": {},
   "outputs": [
    {
     "data": {
      "text/plain": [
       "1.963262528440712"
      ]
     },
     "execution_count": 82,
     "metadata": {},
     "output_type": "execute_result"
    }
   ],
   "source": [
    "# your code here\n",
    "d_max=d.max()\n",
    "d_max"
   ]
  },
  {
   "cell_type": "code",
   "execution_count": 58,
   "metadata": {},
   "outputs": [],
   "source": [
    "d_mean=d.mean()"
   ]
  },
  {
   "cell_type": "markdown",
   "metadata": {},
   "source": [
    "#### 15. Now we want to label the values in *d*. First create an empty array *f* with the same shape (i.e. 2x3x5) as *d* using `np.empty`.\n"
   ]
  },
  {
   "cell_type": "code",
   "execution_count": 72,
   "metadata": {},
   "outputs": [
    {
     "data": {
      "text/plain": [
       "array([[[1.90781585, 1.93197207, 1.01395157, 1.23436209, 1.61677836],\n",
       "        [1.94901632, 1.95017612, 1.55665319, 1.91560635, 1.64156621],\n",
       "        [1.39000771, 1.48599067, 1.60431048, 1.54954792, 1.92618143]],\n",
       "\n",
       "       [[1.91873344, 1.39487561, 1.96326253, 1.17395567, 1.12632952],\n",
       "        [1.13507916, 1.50566217, 1.02152481, 1.94797021, 1.82711547],\n",
       "        [1.01501898, 1.17619626, 1.33206357, 1.13099684, 1.80949069]]])"
      ]
     },
     "execution_count": 72,
     "metadata": {},
     "output_type": "execute_result"
    }
   ],
   "source": [
    "# your code here\n",
    "f=np.empty((2,3,5))\n",
    "f\n"
   ]
  },
  {
   "cell_type": "markdown",
   "metadata": {},
   "source": [
    "#### 16. Populate the values in *f*. \n",
    "\n",
    "For each value in *d*, if it's larger than *d_min* but smaller than *d_mean*, assign 25 to the corresponding value in *f*. If a value in *d* is larger than *d_mean* but smaller than *d_max*, assign 75 to the corresponding value in *f*. If a value equals to *d_mean*, assign 50 to the corresponding value in *f*. Assign 0 to the corresponding value(s) in *f* for *d_min* in *d*. Assign 100 to the corresponding value(s) in *f* for *d_max* in *d*. In the end, f should have only the following values: 0, 25, 50, 75, and 100.\n",
    "\n",
    "**Note**: you don't have to use Numpy in this question."
   ]
  },
  {
   "cell_type": "code",
   "execution_count": 78,
   "metadata": {},
   "outputs": [
    {
     "data": {
      "text/plain": [
       "array([[[1.90781585, 1.93197207, 1.01395157, 1.23436209, 1.61677836],\n",
       "        [1.94901632, 1.95017612, 1.55665319, 1.91560635, 1.64156621],\n",
       "        [1.39000771, 1.48599067, 1.60431048, 1.54954792, 1.92618143]],\n",
       "\n",
       "       [[1.91873344, 1.39487561, 1.96326253, 1.17395567, 1.12632952],\n",
       "        [1.13507916, 1.50566217, 1.02152481, 1.94797021, 1.82711547],\n",
       "        [1.01501898, 1.17619626, 1.33206357, 1.13099684, 1.80949069]]])"
      ]
     },
     "execution_count": 78,
     "metadata": {},
     "output_type": "execute_result"
    }
   ],
   "source": [
    "f[(f == d_mean)]=50\n",
    "f"
   ]
  },
  {
   "cell_type": "code",
   "execution_count": 83,
   "metadata": {},
   "outputs": [
    {
     "data": {
      "text/plain": [
       "array([[[  1.90781585,   1.93197207,   0.        ,   1.23436209,\n",
       "           1.61677836],\n",
       "        [  1.94901632,   1.95017612,   1.55665319,   1.91560635,\n",
       "           1.64156621],\n",
       "        [  1.39000771,   1.48599067,   1.60431048,   1.54954792,\n",
       "           1.92618143]],\n",
       "\n",
       "       [[  1.91873344,   1.39487561, 100.        ,   1.17395567,\n",
       "           1.12632952],\n",
       "        [  1.13507916,   1.50566217,   1.02152481,   1.94797021,\n",
       "           1.82711547],\n",
       "        [  1.01501898,   1.17619626,   1.33206357,   1.13099684,\n",
       "           1.80949069]]])"
      ]
     },
     "execution_count": 83,
     "metadata": {},
     "output_type": "execute_result"
    }
   ],
   "source": [
    "f[(f == d_max)]=100\n",
    "f"
   ]
  },
  {
   "cell_type": "code",
   "execution_count": 89,
   "metadata": {},
   "outputs": [
    {
     "data": {
      "text/plain": [
       "array([[[  1.90781585,   1.93197207,   0.        ,  25.        ,\n",
       "           1.61677836],\n",
       "        [  1.94901632,   1.95017612,   1.55665319,   1.91560635,\n",
       "           1.64156621],\n",
       "        [ 25.        ,  25.        ,   1.60431048,   1.54954792,\n",
       "           1.92618143]],\n",
       "\n",
       "       [[  1.91873344,  25.        , 100.        ,  25.        ,\n",
       "          25.        ],\n",
       "        [ 25.        ,  25.        ,  25.        ,   1.94797021,\n",
       "           1.82711547],\n",
       "        [ 25.        ,  25.        ,  25.        ,  25.        ,\n",
       "           1.80949069]]])"
      ]
     },
     "execution_count": 89,
     "metadata": {},
     "output_type": "execute_result"
    }
   ],
   "source": [
    "condition_25=((f>d_min) & (f < d_mean))\n",
    "f[condition_25]=25\n",
    "f"
   ]
  },
  {
   "cell_type": "code",
   "execution_count": 90,
   "metadata": {},
   "outputs": [
    {
     "data": {
      "text/plain": [
       "array([[[ 75.,  75.,   0.,  25.,  75.],\n",
       "        [ 75.,  75.,  75.,  75.,  75.],\n",
       "        [ 25.,  25.,  75.,  75.,  75.]],\n",
       "\n",
       "       [[ 75.,  25., 100.,  25.,  25.],\n",
       "        [ 25.,  25.,  25.,  75.,  75.],\n",
       "        [ 25.,  25.,  25.,  25.,  75.]]])"
      ]
     },
     "execution_count": 90,
     "metadata": {},
     "output_type": "execute_result"
    }
   ],
   "source": [
    "condition_75=((f>d_mean) & (f < d_max))\n",
    "f[condition_75]=75\n",
    "f"
   ]
  },
  {
   "cell_type": "code",
   "execution_count": 80,
   "metadata": {},
   "outputs": [
    {
     "data": {
      "text/plain": [
       "array([[[1.90781585, 1.93197207, 0.        , 1.23436209, 1.61677836],\n",
       "        [1.94901632, 1.95017612, 1.55665319, 1.91560635, 1.64156621],\n",
       "        [1.39000771, 1.48599067, 1.60431048, 1.54954792, 1.92618143]],\n",
       "\n",
       "       [[1.91873344, 1.39487561, 1.96326253, 1.17395567, 1.12632952],\n",
       "        [1.13507916, 1.50566217, 1.02152481, 1.94797021, 1.82711547],\n",
       "        [1.01501898, 1.17619626, 1.33206357, 1.13099684, 1.80949069]]])"
      ]
     },
     "execution_count": 80,
     "metadata": {},
     "output_type": "execute_result"
    }
   ],
   "source": [
    "f[(f == d_min)]=0\n",
    "f"
   ]
  },
  {
   "cell_type": "markdown",
   "metadata": {},
   "source": [
    "#### 17. Print *d* and *f*. Do you have your expected *f*?\n",
    "For instance, if your *d* is:\n",
    "```python\n",
    "[[[1.85836099, 1.67064465, 1.62576044, 1.40243961, 1.88454931],\n",
    "[1.75354326, 1.69403643, 1.36729252, 1.61415071, 1.12104981],\n",
    "[1.72201435, 1.1862918 , 1.87078449, 1.7726778 , 1.88180042]],\n",
    "[[1.44747908, 1.31673383, 1.02000951, 1.52218947, 1.97066381],\n",
    "[1.79129243, 1.74983003, 1.96028037, 1.85166831, 1.65450881],\n",
    "[1.18068344, 1.9587381 , 1.00656599, 1.93402165, 1.73514584]]]\n",
    "```\n",
    "Your *f* should be:\n",
    "```python\n",
    "[[[ 75.,  75.,  75.,  25.,  75.],\n",
    "[ 75.,  75.,  25.,  25.,  25.],\n",
    "[ 75.,  25.,  75.,  75.,  75.]],\n",
    "[[ 25.,  25.,  25.,  25., 100.],\n",
    "[ 75.,  75.,  75.,  75.,  75.],\n",
    "[ 25.,  75.,   0.,  75.,  75.]]]\n",
    "```"
   ]
  },
  {
   "cell_type": "code",
   "execution_count": 91,
   "metadata": {},
   "outputs": [
    {
     "data": {
      "text/plain": [
       "array([[[ 75.,  75.,   0.,  25.,  75.],\n",
       "        [ 75.,  75.,  75.,  75.,  75.],\n",
       "        [ 25.,  25.,  75.,  75.,  75.]],\n",
       "\n",
       "       [[ 75.,  25., 100.,  25.,  25.],\n",
       "        [ 25.,  25.,  25.,  75.,  75.],\n",
       "        [ 25.,  25.,  25.,  25.,  75.]]])"
      ]
     },
     "execution_count": 91,
     "metadata": {},
     "output_type": "execute_result"
    }
   ],
   "source": [
    "f"
   ]
  },
  {
   "cell_type": "code",
   "execution_count": 92,
   "metadata": {},
   "outputs": [
    {
     "data": {
      "text/plain": [
       "array([[[1.90781585, 1.93197207, 1.01395157, 1.23436209, 1.61677836],\n",
       "        [1.94901632, 1.95017612, 1.55665319, 1.91560635, 1.64156621],\n",
       "        [1.39000771, 1.48599067, 1.60431048, 1.54954792, 1.92618143]],\n",
       "\n",
       "       [[1.91873344, 1.39487561, 1.96326253, 1.17395567, 1.12632952],\n",
       "        [1.13507916, 1.50566217, 1.02152481, 1.94797021, 1.82711547],\n",
       "        [1.01501898, 1.17619626, 1.33206357, 1.13099684, 1.80949069]]])"
      ]
     },
     "execution_count": 92,
     "metadata": {},
     "output_type": "execute_result"
    }
   ],
   "source": [
    "# your code here\n",
    "d"
   ]
  },
  {
   "cell_type": "markdown",
   "metadata": {},
   "source": [
    "#### 18. Bonus question: instead of using numbers (i.e. 0, 25, 50, 75, and 100), use string values  (\"A\", \"B\", \"C\", \"D\", and \"E\") to label the array elements. For the example above, the expected result is:\n",
    "\n",
    "```python\n",
    "[[[ 'D',  'D',  'D',  'B',  'D'],\n",
    "[ 'D',  'D',  'B',  'B',  'B'],\n",
    "[ 'D',  'B',  'D',  'D',  'D']],\n",
    "[[ 'B',  'B',  'B',  'B',  'E'],\n",
    "[ 'D',  'D',  'D',  'D',  'D'],\n",
    "[ 'B',  'D',   'A',  'D', 'D']]]\n",
    "```\n",
    "**Note**: you don't have to use Numpy in this question."
   ]
  },
  {
   "cell_type": "code",
   "execution_count": null,
   "metadata": {},
   "outputs": [],
   "source": [
    "# your code here"
   ]
  }
 ],
 "metadata": {
  "kernelspec": {
   "display_name": "Python 3",
   "language": "python",
   "name": "python3"
  },
  "language_info": {
   "codemirror_mode": {
    "name": "ipython",
    "version": 3
   },
   "file_extension": ".py",
   "mimetype": "text/x-python",
   "name": "python",
   "nbconvert_exporter": "python",
   "pygments_lexer": "ipython3",
   "version": "3.8.6"
  }
 },
 "nbformat": 4,
 "nbformat_minor": 2
}
